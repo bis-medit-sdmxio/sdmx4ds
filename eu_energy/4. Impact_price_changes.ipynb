{
 "cells": [
  {
   "cell_type": "markdown",
   "id": "d6ba31df",
   "metadata": {},
   "source": [
    "# Impact of Energy Price Changes\n",
    "\n",
    "In this notebook, we analyse how shifts in energy prices influence consumption across sectors and countries using official SDMX data."
   ]
  },
  {
   "cell_type": "code",
   "execution_count": 1,
   "metadata": {},
   "outputs": [],
   "source": [
    "from utils import utils\n",
    "import json\n",
    "import plotly.express as px\n",
    "from math import e\n",
    "import pandas as pd\n",
    "\n",
    "\n",
    "with open('utils/sub_codelists.json', 'r') as f:\n",
    "    sub_codelists = json.load(f)"
   ]
  },
  {
   "cell_type": "markdown",
   "metadata": {},
   "source": [
    "For this analysis we need to use three datasets:\n",
    "- Energy balances for the consumption\n",
    "- Energy prices\n",
    "- ECB's Main Aggregates National Accounts for the gdp\n",
    "\n",
    "Eurostat only publishes energy prices for electricity and gas, separating between households and not-households. Therefore, we will focus our analysis there. In order to use the data, several arrangements are required."
   ]
  },
  {
   "cell_type": "code",
   "execution_count": 2,
   "metadata": {},
   "outputs": [],
   "source": [
    "nrg_bal_constraints = {\n",
    "    'freq': 'A',\n",
    "    'nrg_bal': ['FC_E','FC_OTH_HH_E'],\n",
    "    'siec': ['E7000','G3000'],\n",
    "    'unit': 'GWH',\n",
    "    'geo': sub_codelists['geo_eu_countries'],\n",
    "}\n",
    "\n",
    "#We are interested in: https://data.ecb.europa.eu/data/datasets/MNA/MNA.A.N.AT.W2.S1.S1.B.B1GQ._Z._Z._Z.EUR.V.N\n",
    "mna_constraints = {\n",
    "    \"FREQ\": \"A\",\n",
    "    \"ADJUSTMENT\": \"N\",\n",
    "    \"REF_AREA\":  sub_codelists['geo_eu_countries'],\n",
    "    \"COUNTERPART_AREA\": \"W2\",\n",
    "    \"REF_SECTOR\": \"S1\",\n",
    "    \"COUNTERPART_SECTOR\": \"S1\",\n",
    "    \"ACCOUNTING_ENTRY\": \"B\",\n",
    "    \"STO\": \"B1GQ\",\n",
    "    \"INSTR_ASSET\": \"_Z\",\n",
    "    \"ACTIVITY\": \"_Z\",\n",
    "    \"EXPENDITURE\": \"_Z\",\n",
    "    \"UNIT_MEASURE\": \"EUR\",\n",
    "    \"PRICES\": \"V\",\n",
    "    \"TRANSFORMATION\": \"N\"\n",
    "}\n",
    "\n",
    "#nrg_prices do not have values for CY, FI, MT. Therefore, we need to drop them from the geo list\n",
    "geo_list = [country for country in sub_codelists['geo_eu_countries'] if country not in ['CY', 'FI', 'MT']]\n",
    "\n",
    "nrg_prices_gas_constraints = {\n",
    "    'freq': 'S',\n",
    "    \"product\": '',\n",
    "    'nrg_cons': '',\n",
    "    'unit':'KWH',\n",
    "    'tax': ['I_TAX', 'X_TAX', 'X_VAT'],\n",
    "    'currency':'EUR',\n",
    "    'geo':geo_list\n",
    "}\n",
    "\n",
    "nrg_pices_electricity_constraints = {\n",
    "    'freq': 'S',\n",
    "    'product': '',\n",
    "    'nrg_cons': '',\n",
    "    'unit': 'KWH',\n",
    "    'tax': ['I_TAX', 'X_TAX', 'X_VAT'],\n",
    "    'currency':'EUR',\n",
    "    'geo':geo_list\n",
    "}\n",
    "\n",
    "gdp = utils.get_dataset_with_selection('MNA', mna_constraints, agency='ecb')\n",
    "nrg_bal = utils.get_dataset_with_selection('nrg_bal_s', nrg_bal_constraints, agency='estat')\n",
    "gas_prices_hh = utils.get_dataset_with_selection('nrg_pc_202', nrg_prices_gas_constraints, agency='estat')\n",
    "gas_prices_nhh = utils.get_dataset_with_selection('nrg_pc_203', nrg_prices_gas_constraints, agency='estat')\n",
    "electricity_prices_hh = utils.get_dataset_with_selection('nrg_pc_204', nrg_pices_electricity_constraints, agency='estat')\n",
    "electricity_prices_nhh = utils.get_dataset_with_selection('nrg_pc_205', nrg_pices_electricity_constraints, agency='estat')\n",
    "\n",
    "\n",
    "\n",
    "# Arranging the dgp dataframe\n",
    "gdp_df = gdp.data[[\"REF_AREA\", \"TIME_PERIOD\", \"OBS_VALUE\", \"UNIT_MULT\"]]\n",
    "gdp_df.loc[:, \"OBS_VALUE\"] = gdp_df[\"OBS_VALUE\"].astype(float) * (10 ** gdp_df[\"UNIT_MULT\"].astype(int))\n",
    "gdp_df = gdp_df[[\"REF_AREA\", \"TIME_PERIOD\", \"OBS_VALUE\"]]\n",
    "\n",
    "# Arranging the energy balances dataset, which we sued to get the consumption.\n",
    "nrg_bal_df = nrg_bal.data\n",
    "\n",
    "nrg_bal_df_hh = nrg_bal_df[nrg_bal_df[\"nrg_bal\"] == \"FC_OTH_HH_E\"]\n",
    "nrg_bal_df_hh = nrg_bal_df_hh.drop(columns=[\"nrg_bal\"])\n",
    "nrg_bal_df_hh.rename(columns={\"OBS_VALUE\": \"HH_VALUE\"}, inplace=True)\n",
    "\n",
    "nrg_bal_df_total = nrg_bal_df[nrg_bal_df[\"nrg_bal\"] == \"FC_E\"]\n",
    "nrg_bal_df_total = nrg_bal_df_total.drop(columns=[\"nrg_bal\"])\n",
    "nrg_bal_df_total.rename(columns={\"OBS_VALUE\": \"TOTAL_VALUE\"}, inplace=True)\n",
    "\n",
    "nrg_bal_df_nhh = pd.merge(nrg_bal_df_hh, nrg_bal_df_total, on=['siec', 'geo', 'TIME_PERIOD'])\n",
    "nrg_bal_df_nhh[\"NHH_VALUE\"] = nrg_bal_df_nhh[\"TOTAL_VALUE\"] - nrg_bal_df_nhh[\"HH_VALUE\"]\n",
    "nrg_bal_df_nhh = nrg_bal_df_nhh[['siec', 'geo', 'TIME_PERIOD', \"NHH_VALUE\"]]\n",
    "\n",
    "nrg_bal_df_hh.rename(columns={\"HH_VALUE\": \"OBS_VALUE\"}, inplace=True)\n",
    "nrg_bal_df_hh[\"nrg_bal\"] = \"FC_OTH_HH_E\"\n",
    "nrg_bal_df_nhh.rename(columns={\"NHH_VALUE\": \"OBS_VALUE\"}, inplace=True)\n",
    "nrg_bal_df_nhh[\"nrg_bal\"] = \"FC_NHH_E\"\n",
    "\n",
    "nrg_bal_df = pd.concat([nrg_bal_df_hh, nrg_bal_df_nhh], ignore_index=True)\n",
    "nrg_bal_df.rename(columns={\"OBS_VALUE\": \"GWh consumption\"}, inplace=True)\n",
    "\n",
    "# Arranging the energy prices dataframe\n",
    "gas_prices_hh_df = gas_prices_hh.data\n",
    "gas_prices_hh_df['nrg_bal'] = 'FC_OTH_HH_E'\n",
    "gas_prices_hh_df['siec'] = 'G3000'\n",
    "\n",
    "gas_prices_nhh_df = gas_prices_nhh.data\n",
    "gas_prices_nhh_df['nrg_bal'] = 'FC_NHH_E'\n",
    "gas_prices_nhh_df['siec'] = 'G3000'\n",
    "\n",
    "electricity_prices_hh_df = electricity_prices_hh.data\n",
    "electricity_prices_hh_df['nrg_bal'] = 'FC_OTH_HH_E'\n",
    "electricity_prices_hh_df['siec'] = 'E7000'\n",
    "\n",
    "electricity_prices_nhh_df = electricity_prices_nhh.data\n",
    "electricity_prices_nhh_df['nrg_bal'] = 'FC_NHH_E'\n",
    "electricity_prices_nhh_df['siec'] = 'E7000'\n",
    "\n",
    "energy_prices_df = pd.concat([gas_prices_hh_df, gas_prices_nhh_df, electricity_prices_hh_df, electricity_prices_nhh_df], ignore_index=True)\n",
    "\n",
    "energy_prices_df = energy_prices_df.drop(columns=['OBS_FLAG', 'CONF_STATUS'])\n",
    "energy_prices_df['TIME_PERIOD'] = energy_prices_df['TIME_PERIOD'].str[0:4].astype(int)\n",
    "energy_prices_df = energy_prices_df.groupby(['geo', 'TIME_PERIOD', 'nrg_bal', 'siec', 'tax'])['OBS_VALUE'].mean().reset_index()\n",
    "energy_prices_df = pd.pivot_table(energy_prices_df, values='OBS_VALUE', index=['geo', 'TIME_PERIOD', 'nrg_bal', 'siec'], columns=['tax'])\n",
    "energy_prices_df.reset_index(inplace=True)\n",
    "#We calculate the applied taxes to energy\n",
    "energy_prices_df['% tax'] = round((energy_prices_df['I_TAX'] - energy_prices_df['X_TAX']) / energy_prices_df['I_TAX'] * 100,2)\n",
    "energy_prices_df.rename(columns={\n",
    "    \"I_TAX\": \"EUR per Kwh Including tax\",\n",
    "    \"X_TAX\": \"EUR per Kwh Excluding tax\",\n",
    "    \"X_VAT\": \"EUR per Kwh Excluding VAT and other recoverable taxes\",\n",
    "    \"% tax\": \"Percentage of taxes applied to energy\"}, inplace=True)"
   ]
  },
  {
   "cell_type": "markdown",
   "metadata": {},
   "source": [
    "Let's first check the gas price by country"
   ]
  },
  {
   "cell_type": "code",
   "execution_count": 21,
   "metadata": {},
   "outputs": [
    {
     "data": {
      "application/vnd.plotly.v1+json": {
       "config": {
        "plotlyServerURL": "https://plot.ly"
       },
       "data": [
        {
         "hovertemplate": "geo=AT<br>TIME_PERIOD=%{x}<br>EUR per Kwh Excluding tax=%{y}<extra></extra>",
         "legendgroup": "AT",
         "line": {
          "color": "#636efa",
          "dash": "solid"
         },
         "marker": {
          "symbol": "circle"
         },
         "mode": "lines",
         "name": "AT",
         "orientation": "v",
         "showlegend": true,
         "type": "scatter",
         "x": {
          "bdata": "1wfZB9oH2wfcB90H3gffB+AH4QfiB+MH5AflB+YH5wfoBw==",
          "dtype": "i2"
         },
         "xaxis": "x",
         "y": {
          "bdata": "yjLEsS5uoz9QcLGiBtOgPyI3ww34/KA/KhiV1Alooj+laybfbHOjP/RsVn2utqI/M4rlllZDoj+sxacAGM+gPzYf14aKcZ4/5pE/GHjunT+8BRIUP8acPwMJih9j7po/wH0dOGdEmT99ZUceq/2hP2H7iN06vrM/j1N0JJf/sD9FJl5hgMKsPw==",
          "dtype": "f8"
         },
         "yaxis": "y"
        },
        {
         "hovertemplate": "geo=BE<br>TIME_PERIOD=%{x}<br>EUR per Kwh Excluding tax=%{y}<extra></extra>",
         "legendgroup": "BE",
         "line": {
          "color": "#EF553B",
          "dash": "solid"
         },
         "marker": {
          "symbol": "circle"
         },
         "mode": "lines",
         "name": "BE",
         "orientation": "v",
         "showlegend": true,
         "type": "scatter",
         "x": {
          "bdata": "1wfYB9kH2gfbB9wH3QfeB98H4AfhB+IH4wfkB+UH5gfnB+gH",
          "dtype": "i2"
         },
         "xaxis": "x",
         "y": {
          "bdata": "EB5tHLEWnz9Ra5p3nKKjP59U+3Q8ZqA/UzpY/+cwnz/GihpMw/ChP9tQMc7fhKI/VZGTHxCdoj/RAN4CCYqfP9WdFNNyjZw/yCk6kst/mD+vkTfTl7iYP+kmMQisHJo/D3cI9nKylz+QMXctIR+UP6k1zTtO0aE/CNl1Lgp+sj8/6Nms+lytP4d6/vWMgaY/",
          "dtype": "f8"
         },
         "yaxis": "y"
        },
        {
         "hovertemplate": "geo=BG<br>TIME_PERIOD=%{x}<br>EUR per Kwh Excluding tax=%{y}<extra></extra>",
         "legendgroup": "BG",
         "line": {
          "color": "#00cc96",
          "dash": "solid"
         },
         "marker": {
          "symbol": "circle"
         },
         "mode": "lines",
         "name": "BG",
         "orientation": "v",
         "showlegend": true,
         "type": "scatter",
         "x": {
          "bdata": "1wfYB9kH2gfbB9wH3QfeB98H4AfhB+IH4wfkB+UH5gfnB+gH",
          "dtype": "i2"
         },
         "xaxis": "x",
         "y": {
          "bdata": "rTQpBd1ekj/pHyXBRzuYPzdtEURUS5s/A8+9h0uOmz96AfbRqSufP3ZPHhZqTaM/24r9ZffkoT9hGoaPiCmhP7OTwVHy6pw/+RQA4xk0lD+q6sYG/i6WPxC0AkNWt5o/++jUlc/ynD+qnzcVqTCWPwxwbR9c4qM/oUW28/3UuD/3ULXwzx+tP8t8GgqyeKQ/",
          "dtype": "f8"
         },
         "yaxis": "y"
        },
        {
         "hovertemplate": "geo=CZ<br>TIME_PERIOD=%{x}<br>EUR per Kwh Excluding tax=%{y}<extra></extra>",
         "legendgroup": "CZ",
         "line": {
          "color": "#ab63fa",
          "dash": "solid"
         },
         "marker": {
          "symbol": "circle"
         },
         "mode": "lines",
         "name": "CZ",
         "orientation": "v",
         "showlegend": true,
         "type": "scatter",
         "x": {
          "bdata": "1wfYB9kH2gfbB9wH3QfeB98H4AfhB+IH4wfkB+UH5gfnB+gH",
          "dtype": "i2"
         },
         "xaxis": "x",
         "y": {
          "bdata": "5SfVPh2PmT/SNZNvtrmhPwNz9Pi9TZ8/0qkrn+V5oD/GpwAYz6ChP9L7xteeWaI/ejarPldboT9p44i1+BSgP54CYDyDhp4/gM8PI4RHmz9bfAqA8QyaP2iz6nO1FZs/0iLb+X5qnD+Hk3JhhaaYP5M6AU2EDZ8/AbnXXEiasj/+Hs9BqjuxP8VqBsvrm64/",
          "dtype": "f8"
         },
         "yaxis": "y"
        },
        {
         "hovertemplate": "geo=DE<br>TIME_PERIOD=%{x}<br>EUR per Kwh Excluding tax=%{y}<extra></extra>",
         "legendgroup": "DE",
         "line": {
          "color": "#FFA15A",
          "dash": "solid"
         },
         "marker": {
          "symbol": "circle"
         },
         "mode": "lines",
         "name": "DE",
         "orientation": "v",
         "showlegend": true,
         "type": "scatter",
         "x": {
          "bdata": "1wfYB9kH2gfbB9wH3QfeB98H4AfhB+IH4wfkB+UH5gfnB+gH",
          "dtype": "i2"
         },
         "xaxis": "x",
         "y": {
          "bdata": "Q8U4fxMKoT9ivrwA++ikP4v9ZffkYaE/dxj9ScfIoD8VsXWWRrmhP1lPFwoj6aE/6pWyDHGsoz924JwRpb2hP52lUW7ILKA/C//80Uo0mz9K6gQ0ETacP552+GuyRp0/3dqvKBI5mj9JwqvSAwyYP6QJ5pcHu6A/SqGV7zxasD/t1vHdqT+wP51qbgcn46o/",
          "dtype": "f8"
         },
         "yaxis": "y"
        },
        {
         "hovertemplate": "geo=DK<br>TIME_PERIOD=%{x}<br>EUR per Kwh Excluding tax=%{y}<extra></extra>",
         "legendgroup": "DK",
         "line": {
          "color": "#19d3f3",
          "dash": "solid"
         },
         "marker": {
          "symbol": "circle"
         },
         "mode": "lines",
         "name": "DK",
         "orientation": "v",
         "showlegend": true,
         "type": "scatter",
         "x": {
          "bdata": "1wfYB9kH2gfbB9wH3QfeB98H4AfhB+IH4wfkB+UH5gfnB+gH",
          "dtype": "i2"
         },
         "xaxis": "x",
         "y": {
          "bdata": "GD4ipkQSnT+kGYums5OhPx3r4jYawJs/guLHmLuWoD8KUFPL1vqiP+tRuB6F66E/RIts5/upoT+w5gDBHD2eP6aufJbnwZ0/u5unOuRmmD+FCDiEKjWbP9pyLsVVZZ8/E2HD0ytlmT8CE7h1N0+VP30KgPEMGqo/3R/vVSsTvj+Orz2zJECtP2fV52or9qc/",
          "dtype": "f8"
         },
         "yaxis": "y"
        },
        {
         "hovertemplate": "geo=EE<br>TIME_PERIOD=%{x}<br>EUR per Kwh Excluding tax=%{y}<extra></extra>",
         "legendgroup": "EE",
         "line": {
          "color": "#FF6692",
          "dash": "solid"
         },
         "marker": {
          "symbol": "circle"
         },
         "mode": "lines",
         "name": "EE",
         "orientation": "v",
         "showlegend": true,
         "type": "scatter",
         "x": {
          "bdata": "1wfYB9kH2gfbB9wH3QfeB98H4AfhB+IH4wfkB+UH5gfnB+gH",
          "dtype": "i2"
         },
         "xaxis": "x",
         "y": {
          "bdata": "GhcOhGQBkz/7IqEt51KcP3MMyF7v/pg/HSWvzjEgmz+CIatbPSedP0RRoE/kSaI/BW7dzVMdoj++GMqJdhWiPxBYObTIdp4/9S1zuiwmlj/qYP2fw3yZP/tcbcX+sps/asqMIeHGmT8p4DSc51yTP9WUGUPCjaM/OeEhS2TitT9zOzgZ1/ypP7EJQ/e/NqU/",
          "dtype": "f8"
         },
         "yaxis": "y"
        },
        {
         "hovertemplate": "geo=EL<br>TIME_PERIOD=%{x}<br>EUR per Kwh Excluding tax=%{y}<extra></extra>",
         "legendgroup": "EL",
         "line": {
          "color": "#B6E880",
          "dash": "solid"
         },
         "marker": {
          "symbol": "circle"
         },
         "mode": "lines",
         "name": "EL",
         "orientation": "v",
         "showlegend": true,
         "type": "scatter",
         "x": {
          "bdata": "3AfdB94H3wfgB+EH4gfjB+QH5QfmB+cH6Ac=",
          "dtype": "i2"
         },
         "xaxis": "x",
         "y": {
          "bdata": "W7bWFwltqT9K9DKK5ZamP+C+DpwzoqQ/8YXJVMGooD+At0CC4seYPxwzxWvAXJo/CD2bVZ+roT/szRJFk7eaP2U+DQVZPJI/5dAi2/l+oj9eonprYKu8P4QvTKYKRrE/YqbtX1lpoj8=",
          "dtype": "f8"
         },
         "yaxis": "y"
        },
        {
         "hovertemplate": "geo=ES<br>TIME_PERIOD=%{x}<br>EUR per Kwh Excluding tax=%{y}<extra></extra>",
         "legendgroup": "ES",
         "line": {
          "color": "#FF97FF",
          "dash": "solid"
         },
         "marker": {
          "symbol": "circle"
         },
         "mode": "lines",
         "name": "ES",
         "orientation": "v",
         "showlegend": true,
         "type": "scatter",
         "x": {
          "bdata": "1wfYB9kH2gfbB9wH3QfeB98H4AfhB+IH4wfkB+UH5gfnB+gH",
          "dtype": "i2"
         },
         "xaxis": "x",
         "y": {
          "bdata": "a5p3nKIjmT/zH9JvXweeP+fTUJDFI54/yHa+nxovnT83GsBbIEGhP6HbSxqjdaQ/4cRqBsvroz+xmsHy+qajP6/bjSsbw6E/UwWjkjoBnT/7gZhxQDicP334DLsC5J4/+ORhodY0nz/MpHNrv6KYP+hXIpafA6E/z2bV52ortj/L423mEkurP6JmyouN+6M/",
          "dtype": "f8"
         },
         "yaxis": "y"
        },
        {
         "hovertemplate": "geo=FR<br>TIME_PERIOD=%{x}<br>EUR per Kwh Excluding tax=%{y}<extra></extra>",
         "legendgroup": "FR",
         "line": {
          "color": "#FECB52",
          "dash": "solid"
         },
         "marker": {
          "symbol": "circle"
         },
         "mode": "lines",
         "name": "FR",
         "orientation": "v",
         "showlegend": true,
         "type": "scatter",
         "x": {
          "bdata": "1wfYB9kH2gfbB9wH3QfeB98H4AfhB+IH4wfkB+UH5gfnB+gH",
          "dtype": "i2"
         },
         "xaxis": "x",
         "y": {
          "bdata": "6/8c5ssLoD+TGARWDi2iP5OMnIU97aA/ZXCUvDrHoD+p3hrYKsGiP25MT1jiAaU/AhO4dTdPpT8STgte9BWkPxL8byU7NqI/Jjs2AvG6nj/Z8yIAJSucP9ms+lxtxZ4/91C18M8fnT+zVscED+aZP+rOzSxaOqQ/0fWBJdknsT8zPo8QY5WxP2qQBB5Ze6w/",
          "dtype": "f8"
         },
         "yaxis": "y"
        },
        {
         "hovertemplate": "geo=HR<br>TIME_PERIOD=%{x}<br>EUR per Kwh Excluding tax=%{y}<extra></extra>",
         "legendgroup": "HR",
         "line": {
          "color": "#636efa",
          "dash": "solid"
         },
         "marker": {
          "symbol": "circle"
         },
         "mode": "lines",
         "name": "HR",
         "orientation": "v",
         "showlegend": true,
         "type": "scatter",
         "x": {
          "bdata": "1wfYB9kH2gfbB9wH3QfeB98H4AfhB+IH4wfkB+UH5gfnB+gH",
          "dtype": "i2"
         },
         "xaxis": "x",
         "y": {
          "bdata": "F0hQ/Bhzlz87sva48SuXP8xdS8gHPZs/JsKGp1fKoj/o2az6XG2lPxKlvcEXJqc/c9ZYYFOYpT+8BRIUP8akP34dOGdEaaM/Io51cRsNoD9miGNd3EabP7ivA+eMKJ0/jZgopHH3mz8Q6bevA+ecP0j+YOC596A/wFsgQfFjsD9lO99PjZeuP9V46SYxCKw/",
          "dtype": "f8"
         },
         "yaxis": "y"
        },
        {
         "hovertemplate": "geo=HU<br>TIME_PERIOD=%{x}<br>EUR per Kwh Excluding tax=%{y}<extra></extra>",
         "legendgroup": "HU",
         "line": {
          "color": "#EF553B",
          "dash": "solid"
         },
         "marker": {
          "symbol": "circle"
         },
         "mode": "lines",
         "name": "HU",
         "orientation": "v",
         "showlegend": true,
         "type": "scatter",
         "x": {
          "bdata": "1wfYB9kH2gfbB9wH3QfeB98H4AfhB+IH4wfkB+UH5gfnB+gH",
          "dtype": "i2"
         },
         "xaxis": "x",
         "y": {
          "bdata": "6wQ0ETY8nT+nL3HRtoeiP3o2qz5XW6E/Hl2S8Kr0oD9PG+i0gU6jP++kmJZr5KU/HVpkO99PpT/67evAOSOiP+0NvjCZKqA/4VXpAQZcmj+lm8QgsHKYPzU5j53KfJo/HDIL2tElmT/HSzeJQWCVP58lDqsnOaI/17ko+GmbuD8Xi2GLHnq3PyV26/ju1K8/",
          "dtype": "f8"
         },
         "yaxis": "y"
        },
        {
         "hovertemplate": "geo=IE<br>TIME_PERIOD=%{x}<br>EUR per Kwh Excluding tax=%{y}<extra></extra>",
         "legendgroup": "IE",
         "line": {
          "color": "#00cc96",
          "dash": "solid"
         },
         "marker": {
          "symbol": "circle"
         },
         "mode": "lines",
         "name": "IE",
         "orientation": "v",
         "showlegend": true,
         "type": "scatter",
         "x": {
          "bdata": "1wfYB9kH2gfbB9wH3QfeB98H4AfhB+IH4wfkB+UH5gfnB+gH",
          "dtype": "i2"
         },
         "xaxis": "x",
         "y": {
          "bdata": "xEKtad5xoj9VMCqpE9CkP+AtkKD4MaI/LGUZ4lgXnz/tfD81XrqhP9sd8IQPw6I/PL1SliGOpT82zTtO0ZGkP21Wfa62YqM/l9sfZKjsoD8kKH6MuWuhP20PVQv//KE/CFVq9kAroD8yWkdVE0SdP+yGbYsyG6Q/KZZbWg2Jsz/ReY1donqzP3bIzXADPq8/",
          "dtype": "f8"
         },
         "yaxis": "y"
        },
        {
         "hovertemplate": "geo=IT<br>TIME_PERIOD=%{x}<br>EUR per Kwh Excluding tax=%{y}<extra></extra>",
         "legendgroup": "IT",
         "line": {
          "color": "#ab63fa",
          "dash": "solid"
         },
         "marker": {
          "symbol": "circle"
         },
         "mode": "lines",
         "name": "IT",
         "orientation": "v",
         "showlegend": true,
         "type": "scatter",
         "x": {
          "bdata": "1wfYB9kH2gfbB9wH3QfeB98H4AfhB+IH4wfkB+UH5gfnB+gH",
          "dtype": "i2"
         },
         "xaxis": "x",
         "y": {
          "bdata": "CD2bVZ+rnT9Vd1JMyzWiP4ddAXKvuaA/+xVFIkdNnj+EMnpb1uqgPxwQDuNbRaQ/pU5AE2HDoz8RW2dplBuiP+M2GsBbIKE/nzws1JrmnT87SHUnxbScP/pZPxAzDqA/DAIrhxbZnj8o7Q2+MJmaP+/k9jSb6qI/cRCxAv4tuj+rjMTH5iizP/1E40zSeqs/",
          "dtype": "f8"
         },
         "yaxis": "y"
        },
        {
         "hovertemplate": "geo=LT<br>TIME_PERIOD=%{x}<br>EUR per Kwh Excluding tax=%{y}<extra></extra>",
         "legendgroup": "LT",
         "line": {
          "color": "#FFA15A",
          "dash": "solid"
         },
         "marker": {
          "symbol": "circle"
         },
         "mode": "lines",
         "name": "LT",
         "orientation": "v",
         "showlegend": true,
         "type": "scatter",
         "x": {
          "bdata": "1wfYB9kH2gfbB9wH3QfeB98H4AfhB+IH4wfkB+UH5gfnB+gH",
          "dtype": "i2"
         },
         "xaxis": "x",
         "y": {
          "bdata": "FkhQ/Bhzlz9Sc+UqgAqiPwSwa1xKiZs/WBzO/GoOoD/mP6Tfvg6kPwR4CyQofqg/zTtO0ZFcpj8s1JrmHaekP57Nqs/VVpw/JsKGp1fKmj9OQBNhw9ObP8pUwaikTqA/vvbMkgA1lT+WsgxxrIuTP7snDwu1pqk/BC61y6Rzuz/lYaHWNO+wP5LLf0i/faU/",
          "dtype": "f8"
         },
         "yaxis": "y"
        },
        {
         "hovertemplate": "geo=LU<br>TIME_PERIOD=%{x}<br>EUR per Kwh Excluding tax=%{y}<extra></extra>",
         "legendgroup": "LU",
         "line": {
          "color": "#19d3f3",
          "dash": "solid"
         },
         "marker": {
          "symbol": "circle"
         },
         "mode": "lines",
         "name": "LU",
         "orientation": "v",
         "showlegend": true,
         "type": "scatter",
         "x": {
          "bdata": "1wfYB9kH2gfbB9wH3QfeB98H4AfhB+IH4wfkB+UH5gfnB+gH",
          "dtype": "i2"
         },
         "xaxis": "x",
         "y": {
          "bdata": "6gQ0ETY8nT/EQq1p3nGiP1XBqKROQKM/aLPqc7UVoz+QwvUoXI+mP1UwKqkT0Kg/j1N0JJf/qD+0WfW52oqlP/FjzF1LyKM/liGOdXEboT+B7gzV0bKgP61p3nGKjqA/SFtY9qI5oT8gIN3LPDegP0KMVUbiY6M/z2bV52ortj+WOC+Pt5m7Px+qFv75o7U/",
          "dtype": "f8"
         },
         "yaxis": "y"
        },
        {
         "hovertemplate": "geo=LV<br>TIME_PERIOD=%{x}<br>EUR per Kwh Excluding tax=%{y}<extra></extra>",
         "legendgroup": "LV",
         "line": {
          "color": "#FF6692",
          "dash": "solid"
         },
         "marker": {
          "symbol": "circle"
         },
         "mode": "lines",
         "name": "LV",
         "orientation": "v",
         "showlegend": true,
         "type": "scatter",
         "x": {
          "bdata": "1wfYB9kH2gfbB9wH3QfeB98H4AfhB+IH4wfkB+UH5gfnB+gH",
          "dtype": "i2"
         },
         "xaxis": "x",
         "y": {
          "bdata": "q5UJv9TPmz9IxJRIopehP6hSswdagaE/8RB7dRe+nT/CHD1+b9OfP3ZPHhZqTaM/k/sdigJ9oj8J4dHGEWuhP7iq7Lsi+J8/Vn2utmJ/mT/Vlc/yPLibPynMylip754/kA96Nqs+nz/0/dR46SaZPybkg57NqqM/ukkMAiuHvD+yne+nxku1P3ZPHhZqTas/",
          "dtype": "f8"
         },
         "yaxis": "y"
        },
        {
         "hovertemplate": "geo=NL<br>TIME_PERIOD=%{x}<br>EUR per Kwh Excluding tax=%{y}<extra></extra>",
         "legendgroup": "NL",
         "line": {
          "color": "#B6E880",
          "dash": "solid"
         },
         "marker": {
          "symbol": "circle"
         },
         "mode": "lines",
         "name": "NL",
         "orientation": "v",
         "showlegend": true,
         "type": "scatter",
         "x": {
          "bdata": "1wfYB9kH2gfbB9wH3QfeB98H4AfhB+IH4wfkB+UH5gfnB+gH",
          "dtype": "i2"
         },
         "xaxis": "x",
         "y": {
          "bdata": "T35AdMo5oD/K4Ch5dY6hP0jhehSuR6E/Kuj2ksZonT91yM1wAz6fP13+Q/rt66A/jzaOWItPoT+5cCAkC5igPxVXlX1XBJ8/hUIEHEKVmj8KndfYJaqXP+kBBlxql5k/fPKwUGualz9vEoPAyqGVP2Ht+rTQoKA/J/lS+ka1sj9apYCRLsKxPz3lq/cuuKk/",
          "dtype": "f8"
         },
         "yaxis": "y"
        },
        {
         "hovertemplate": "geo=PL<br>TIME_PERIOD=%{x}<br>EUR per Kwh Excluding tax=%{y}<extra></extra>",
         "legendgroup": "PL",
         "line": {
          "color": "#FF97FF",
          "dash": "solid"
         },
         "marker": {
          "symbol": "circle"
         },
         "mode": "lines",
         "name": "PL",
         "orientation": "v",
         "showlegend": true,
         "type": "scatter",
         "x": {
          "bdata": "1wfYB9kH2gfbB9wH3QfeB98H4AfhB+IH4wfkB+UH5gfnB+gH",
          "dtype": "i2"
         },
         "xaxis": "x",
         "y": {
          "bdata": "zV1LyAc9mz/icOZXc4CgP7Qp4DSc55w/bRyxFp8CoD9Z4gFlU66gP11txf6ye6I/Et+JWS+Goj9IbeLkfoeiP/TDCOHRxqE/uECC4seYmz/SXKeRlsqbPxBYObTIdp4/EarU7IFWoD8+BcB4Bg2dPxjhGas3S6Q/zczMzMzMtD/ipoQjB2q0P1pkO99Pja8/",
          "dtype": "f8"
         },
         "yaxis": "y"
        },
        {
         "hovertemplate": "geo=PT<br>TIME_PERIOD=%{x}<br>EUR per Kwh Excluding tax=%{y}<extra></extra>",
         "legendgroup": "PT",
         "line": {
          "color": "#FECB52",
          "dash": "solid"
         },
         "marker": {
          "symbol": "circle"
         },
         "mode": "lines",
         "name": "PT",
         "orientation": "v",
         "showlegend": true,
         "type": "scatter",
         "x": {
          "bdata": "1wfYB9kH2gfbB9wH3QfeB98H4AfhB+IH4wfkB+UH5gfnB+gH",
          "dtype": "i2"
         },
         "xaxis": "x",
         "y": {
          "bdata": "o8fvbfqznz+PGaiMf5+hP9JSeTvCaaE/fm/Tn/1IoT9/arx0kxikP2tlwi/186Y/NYC3QILipz+eDI6SV+eoP4Ar2bERiKc/EvxvJTs2oj8xRtkvYcqfP3pwd9Zuu6A/RZHIUZPzoD9QdcjNcAOeP9D4kk8lIqE/uddcSJpStT+S0JZzKa6yPxgmUwWjkqo/",
          "dtype": "f8"
         },
         "yaxis": "y"
        },
        {
         "hovertemplate": "geo=RO<br>TIME_PERIOD=%{x}<br>EUR per Kwh Excluding tax=%{y}<extra></extra>",
         "legendgroup": "RO",
         "line": {
          "color": "#636efa",
          "dash": "solid"
         },
         "marker": {
          "symbol": "circle"
         },
         "mode": "lines",
         "name": "RO",
         "orientation": "v",
         "showlegend": true,
         "type": "scatter",
         "x": {
          "bdata": "1wfYB9kH2gfbB9wH3QfeB98H4AfhB+IH4wfkB+UH5gfnB+gH",
          "dtype": "i2"
         },
         "xaxis": "x",
         "y": {
          "bdata": "6P7Xpp7ylT9ICdR1u3GVP5PLf0i/fY0/EMSMA8JhjD9Ygwoh+siQPwEDLrXLpJM/I7bO0ig3lD+U9gZfmEyVP8YB4TC+VZQ/UCFEHxmYkj9fBKBkhTWYP1v4549Wopk/0UcGpsDvnD9fKcsQx7qYP7+2OFhQ0qE/Hll73PiVuz/nPruA2FSqP/PcwOBZAKY/",
          "dtype": "f8"
         },
         "yaxis": "y"
        },
        {
         "hovertemplate": "geo=SE<br>TIME_PERIOD=%{x}<br>EUR per Kwh Excluding tax=%{y}<extra></extra>",
         "legendgroup": "SE",
         "line": {
          "color": "#EF553B",
          "dash": "solid"
         },
         "marker": {
          "symbol": "circle"
         },
         "mode": "lines",
         "name": "SE",
         "orientation": "v",
         "showlegend": true,
         "type": "scatter",
         "x": {
          "bdata": "1wfYB9kH2gfbB9wH3QfeB98H4AfhB+IH4wfkB+UH5gfnB+gH",
          "dtype": "i2"
         },
         "xaxis": "x",
         "y": {
          "bdata": "jCQFxwNVpD/QaEkLSJmoP+OItfgUAKM/Gi/dJAaBpT/+DkWBPpGnPxfUt8zpsqg/1JrmHafoqD9NofMau0SlP3KiXYWUn6Q/220Xmus0oj8BcfUnov2jP/pmmxvTE6Y/enB31m67oD9wdb+IeRWnP1TA7hJgCbI/fe2ZJQFqwj9fKoWitfG5P/QVpBmLprM/",
          "dtype": "f8"
         },
         "yaxis": "y"
        },
        {
         "hovertemplate": "geo=SI<br>TIME_PERIOD=%{x}<br>EUR per Kwh Excluding tax=%{y}<extra></extra>",
         "legendgroup": "SI",
         "line": {
          "color": "#00cc96",
          "dash": "solid"
         },
         "marker": {
          "symbol": "circle"
         },
         "mode": "lines",
         "name": "SI",
         "orientation": "v",
         "showlegend": true,
         "type": "scatter",
         "x": {
          "bdata": "1wfYB9kH2gfbB9wH3QfeB98H4AfhB+IH4wfkB+UH5gfnB+gH",
          "dtype": "i2"
         },
         "xaxis": "x",
         "y": {
          "bdata": "KqkT0ETYoD8g0m9fB86lP6VD5DUxYaU/H4XrUbgepT9LVliDCiGqP6mkTkATYas//7J78rBQpz9Pr5RliGOlP/W52or9ZaM/hlrTvOMUoT/oSC7/If2eP7wFEhQ/xqA/waikTkAToT8f9GxWfa6eP9lfdk8eFqI/gCbChqdXsj8RNjy9UpazPxgEVg4tsq0/",
          "dtype": "f8"
         },
         "yaxis": "y"
        },
        {
         "hovertemplate": "geo=SK<br>TIME_PERIOD=%{x}<br>EUR per Kwh Excluding tax=%{y}<extra></extra>",
         "legendgroup": "SK",
         "line": {
          "color": "#ab63fa",
          "dash": "solid"
         },
         "marker": {
          "symbol": "circle"
         },
         "mode": "lines",
         "name": "SK",
         "orientation": "v",
         "showlegend": true,
         "type": "scatter",
         "x": {
          "bdata": "1wfYB9kH2gfbB9wH3QfeB98H4AfhB+IH4wfkB+UH5gfnB+gH",
          "dtype": "i2"
         },
         "xaxis": "x",
         "y": {
          "bdata": "ilkvhnKinT9aox6i0R2kP11Q3zKny6I/UFPL1voioT+1iZP7HYqiPxIxJZLoZaQ/7MA5I0p7oz8v+grSjEWjP7rfoSjQJ6I/HjhnRGlvoD85I0p7gy+cPxjfKmLrLJ0/oNDYhKH7nz+COXr83qafPz4mB8ABw6E/B4TD+FYRsz/nqQ65GW64PxLfiVkvhrI/",
          "dtype": "f8"
         },
         "yaxis": "y"
        }
       ],
       "layout": {
        "legend": {
         "title": {
          "text": "geo"
         },
         "tracegroupgap": 0
        },
        "margin": {
         "t": 60
        },
        "template": {
         "data": {
          "bar": [
           {
            "error_x": {
             "color": "#2a3f5f"
            },
            "error_y": {
             "color": "#2a3f5f"
            },
            "marker": {
             "line": {
              "color": "#E5ECF6",
              "width": 0.5
             },
             "pattern": {
              "fillmode": "overlay",
              "size": 10,
              "solidity": 0.2
             }
            },
            "type": "bar"
           }
          ],
          "barpolar": [
           {
            "marker": {
             "line": {
              "color": "#E5ECF6",
              "width": 0.5
             },
             "pattern": {
              "fillmode": "overlay",
              "size": 10,
              "solidity": 0.2
             }
            },
            "type": "barpolar"
           }
          ],
          "carpet": [
           {
            "aaxis": {
             "endlinecolor": "#2a3f5f",
             "gridcolor": "white",
             "linecolor": "white",
             "minorgridcolor": "white",
             "startlinecolor": "#2a3f5f"
            },
            "baxis": {
             "endlinecolor": "#2a3f5f",
             "gridcolor": "white",
             "linecolor": "white",
             "minorgridcolor": "white",
             "startlinecolor": "#2a3f5f"
            },
            "type": "carpet"
           }
          ],
          "choropleth": [
           {
            "colorbar": {
             "outlinewidth": 0,
             "ticks": ""
            },
            "type": "choropleth"
           }
          ],
          "contour": [
           {
            "colorbar": {
             "outlinewidth": 0,
             "ticks": ""
            },
            "colorscale": [
             [
              0,
              "#0d0887"
             ],
             [
              0.1111111111111111,
              "#46039f"
             ],
             [
              0.2222222222222222,
              "#7201a8"
             ],
             [
              0.3333333333333333,
              "#9c179e"
             ],
             [
              0.4444444444444444,
              "#bd3786"
             ],
             [
              0.5555555555555556,
              "#d8576b"
             ],
             [
              0.6666666666666666,
              "#ed7953"
             ],
             [
              0.7777777777777778,
              "#fb9f3a"
             ],
             [
              0.8888888888888888,
              "#fdca26"
             ],
             [
              1,
              "#f0f921"
             ]
            ],
            "type": "contour"
           }
          ],
          "contourcarpet": [
           {
            "colorbar": {
             "outlinewidth": 0,
             "ticks": ""
            },
            "type": "contourcarpet"
           }
          ],
          "heatmap": [
           {
            "colorbar": {
             "outlinewidth": 0,
             "ticks": ""
            },
            "colorscale": [
             [
              0,
              "#0d0887"
             ],
             [
              0.1111111111111111,
              "#46039f"
             ],
             [
              0.2222222222222222,
              "#7201a8"
             ],
             [
              0.3333333333333333,
              "#9c179e"
             ],
             [
              0.4444444444444444,
              "#bd3786"
             ],
             [
              0.5555555555555556,
              "#d8576b"
             ],
             [
              0.6666666666666666,
              "#ed7953"
             ],
             [
              0.7777777777777778,
              "#fb9f3a"
             ],
             [
              0.8888888888888888,
              "#fdca26"
             ],
             [
              1,
              "#f0f921"
             ]
            ],
            "type": "heatmap"
           }
          ],
          "histogram": [
           {
            "marker": {
             "pattern": {
              "fillmode": "overlay",
              "size": 10,
              "solidity": 0.2
             }
            },
            "type": "histogram"
           }
          ],
          "histogram2d": [
           {
            "colorbar": {
             "outlinewidth": 0,
             "ticks": ""
            },
            "colorscale": [
             [
              0,
              "#0d0887"
             ],
             [
              0.1111111111111111,
              "#46039f"
             ],
             [
              0.2222222222222222,
              "#7201a8"
             ],
             [
              0.3333333333333333,
              "#9c179e"
             ],
             [
              0.4444444444444444,
              "#bd3786"
             ],
             [
              0.5555555555555556,
              "#d8576b"
             ],
             [
              0.6666666666666666,
              "#ed7953"
             ],
             [
              0.7777777777777778,
              "#fb9f3a"
             ],
             [
              0.8888888888888888,
              "#fdca26"
             ],
             [
              1,
              "#f0f921"
             ]
            ],
            "type": "histogram2d"
           }
          ],
          "histogram2dcontour": [
           {
            "colorbar": {
             "outlinewidth": 0,
             "ticks": ""
            },
            "colorscale": [
             [
              0,
              "#0d0887"
             ],
             [
              0.1111111111111111,
              "#46039f"
             ],
             [
              0.2222222222222222,
              "#7201a8"
             ],
             [
              0.3333333333333333,
              "#9c179e"
             ],
             [
              0.4444444444444444,
              "#bd3786"
             ],
             [
              0.5555555555555556,
              "#d8576b"
             ],
             [
              0.6666666666666666,
              "#ed7953"
             ],
             [
              0.7777777777777778,
              "#fb9f3a"
             ],
             [
              0.8888888888888888,
              "#fdca26"
             ],
             [
              1,
              "#f0f921"
             ]
            ],
            "type": "histogram2dcontour"
           }
          ],
          "mesh3d": [
           {
            "colorbar": {
             "outlinewidth": 0,
             "ticks": ""
            },
            "type": "mesh3d"
           }
          ],
          "parcoords": [
           {
            "line": {
             "colorbar": {
              "outlinewidth": 0,
              "ticks": ""
             }
            },
            "type": "parcoords"
           }
          ],
          "pie": [
           {
            "automargin": true,
            "type": "pie"
           }
          ],
          "scatter": [
           {
            "fillpattern": {
             "fillmode": "overlay",
             "size": 10,
             "solidity": 0.2
            },
            "type": "scatter"
           }
          ],
          "scatter3d": [
           {
            "line": {
             "colorbar": {
              "outlinewidth": 0,
              "ticks": ""
             }
            },
            "marker": {
             "colorbar": {
              "outlinewidth": 0,
              "ticks": ""
             }
            },
            "type": "scatter3d"
           }
          ],
          "scattercarpet": [
           {
            "marker": {
             "colorbar": {
              "outlinewidth": 0,
              "ticks": ""
             }
            },
            "type": "scattercarpet"
           }
          ],
          "scattergeo": [
           {
            "marker": {
             "colorbar": {
              "outlinewidth": 0,
              "ticks": ""
             }
            },
            "type": "scattergeo"
           }
          ],
          "scattergl": [
           {
            "marker": {
             "colorbar": {
              "outlinewidth": 0,
              "ticks": ""
             }
            },
            "type": "scattergl"
           }
          ],
          "scattermap": [
           {
            "marker": {
             "colorbar": {
              "outlinewidth": 0,
              "ticks": ""
             }
            },
            "type": "scattermap"
           }
          ],
          "scattermapbox": [
           {
            "marker": {
             "colorbar": {
              "outlinewidth": 0,
              "ticks": ""
             }
            },
            "type": "scattermapbox"
           }
          ],
          "scatterpolar": [
           {
            "marker": {
             "colorbar": {
              "outlinewidth": 0,
              "ticks": ""
             }
            },
            "type": "scatterpolar"
           }
          ],
          "scatterpolargl": [
           {
            "marker": {
             "colorbar": {
              "outlinewidth": 0,
              "ticks": ""
             }
            },
            "type": "scatterpolargl"
           }
          ],
          "scatterternary": [
           {
            "marker": {
             "colorbar": {
              "outlinewidth": 0,
              "ticks": ""
             }
            },
            "type": "scatterternary"
           }
          ],
          "surface": [
           {
            "colorbar": {
             "outlinewidth": 0,
             "ticks": ""
            },
            "colorscale": [
             [
              0,
              "#0d0887"
             ],
             [
              0.1111111111111111,
              "#46039f"
             ],
             [
              0.2222222222222222,
              "#7201a8"
             ],
             [
              0.3333333333333333,
              "#9c179e"
             ],
             [
              0.4444444444444444,
              "#bd3786"
             ],
             [
              0.5555555555555556,
              "#d8576b"
             ],
             [
              0.6666666666666666,
              "#ed7953"
             ],
             [
              0.7777777777777778,
              "#fb9f3a"
             ],
             [
              0.8888888888888888,
              "#fdca26"
             ],
             [
              1,
              "#f0f921"
             ]
            ],
            "type": "surface"
           }
          ],
          "table": [
           {
            "cells": {
             "fill": {
              "color": "#EBF0F8"
             },
             "line": {
              "color": "white"
             }
            },
            "header": {
             "fill": {
              "color": "#C8D4E3"
             },
             "line": {
              "color": "white"
             }
            },
            "type": "table"
           }
          ]
         },
         "layout": {
          "annotationdefaults": {
           "arrowcolor": "#2a3f5f",
           "arrowhead": 0,
           "arrowwidth": 1
          },
          "autotypenumbers": "strict",
          "coloraxis": {
           "colorbar": {
            "outlinewidth": 0,
            "ticks": ""
           }
          },
          "colorscale": {
           "diverging": [
            [
             0,
             "#8e0152"
            ],
            [
             0.1,
             "#c51b7d"
            ],
            [
             0.2,
             "#de77ae"
            ],
            [
             0.3,
             "#f1b6da"
            ],
            [
             0.4,
             "#fde0ef"
            ],
            [
             0.5,
             "#f7f7f7"
            ],
            [
             0.6,
             "#e6f5d0"
            ],
            [
             0.7,
             "#b8e186"
            ],
            [
             0.8,
             "#7fbc41"
            ],
            [
             0.9,
             "#4d9221"
            ],
            [
             1,
             "#276419"
            ]
           ],
           "sequential": [
            [
             0,
             "#0d0887"
            ],
            [
             0.1111111111111111,
             "#46039f"
            ],
            [
             0.2222222222222222,
             "#7201a8"
            ],
            [
             0.3333333333333333,
             "#9c179e"
            ],
            [
             0.4444444444444444,
             "#bd3786"
            ],
            [
             0.5555555555555556,
             "#d8576b"
            ],
            [
             0.6666666666666666,
             "#ed7953"
            ],
            [
             0.7777777777777778,
             "#fb9f3a"
            ],
            [
             0.8888888888888888,
             "#fdca26"
            ],
            [
             1,
             "#f0f921"
            ]
           ],
           "sequentialminus": [
            [
             0,
             "#0d0887"
            ],
            [
             0.1111111111111111,
             "#46039f"
            ],
            [
             0.2222222222222222,
             "#7201a8"
            ],
            [
             0.3333333333333333,
             "#9c179e"
            ],
            [
             0.4444444444444444,
             "#bd3786"
            ],
            [
             0.5555555555555556,
             "#d8576b"
            ],
            [
             0.6666666666666666,
             "#ed7953"
            ],
            [
             0.7777777777777778,
             "#fb9f3a"
            ],
            [
             0.8888888888888888,
             "#fdca26"
            ],
            [
             1,
             "#f0f921"
            ]
           ]
          },
          "colorway": [
           "#636efa",
           "#EF553B",
           "#00cc96",
           "#ab63fa",
           "#FFA15A",
           "#19d3f3",
           "#FF6692",
           "#B6E880",
           "#FF97FF",
           "#FECB52"
          ],
          "font": {
           "color": "#2a3f5f"
          },
          "geo": {
           "bgcolor": "white",
           "lakecolor": "white",
           "landcolor": "#E5ECF6",
           "showlakes": true,
           "showland": true,
           "subunitcolor": "white"
          },
          "hoverlabel": {
           "align": "left"
          },
          "hovermode": "closest",
          "mapbox": {
           "style": "light"
          },
          "paper_bgcolor": "white",
          "plot_bgcolor": "#E5ECF6",
          "polar": {
           "angularaxis": {
            "gridcolor": "white",
            "linecolor": "white",
            "ticks": ""
           },
           "bgcolor": "#E5ECF6",
           "radialaxis": {
            "gridcolor": "white",
            "linecolor": "white",
            "ticks": ""
           }
          },
          "scene": {
           "xaxis": {
            "backgroundcolor": "#E5ECF6",
            "gridcolor": "white",
            "gridwidth": 2,
            "linecolor": "white",
            "showbackground": true,
            "ticks": "",
            "zerolinecolor": "white"
           },
           "yaxis": {
            "backgroundcolor": "#E5ECF6",
            "gridcolor": "white",
            "gridwidth": 2,
            "linecolor": "white",
            "showbackground": true,
            "ticks": "",
            "zerolinecolor": "white"
           },
           "zaxis": {
            "backgroundcolor": "#E5ECF6",
            "gridcolor": "white",
            "gridwidth": 2,
            "linecolor": "white",
            "showbackground": true,
            "ticks": "",
            "zerolinecolor": "white"
           }
          },
          "shapedefaults": {
           "line": {
            "color": "#2a3f5f"
           }
          },
          "ternary": {
           "aaxis": {
            "gridcolor": "white",
            "linecolor": "white",
            "ticks": ""
           },
           "baxis": {
            "gridcolor": "white",
            "linecolor": "white",
            "ticks": ""
           },
           "bgcolor": "#E5ECF6",
           "caxis": {
            "gridcolor": "white",
            "linecolor": "white",
            "ticks": ""
           }
          },
          "title": {
           "x": 0.05
          },
          "xaxis": {
           "automargin": true,
           "gridcolor": "white",
           "linecolor": "white",
           "ticks": "",
           "title": {
            "standoff": 15
           },
           "zerolinecolor": "white",
           "zerolinewidth": 2
          },
          "yaxis": {
           "automargin": true,
           "gridcolor": "white",
           "linecolor": "white",
           "ticks": "",
           "title": {
            "standoff": 15
           },
           "zerolinecolor": "white",
           "zerolinewidth": 2
          }
         }
        },
        "xaxis": {
         "anchor": "y",
         "domain": [
          0,
          1
         ],
         "title": {
          "text": "TIME_PERIOD"
         }
        },
        "yaxis": {
         "anchor": "x",
         "domain": [
          0,
          1
         ],
         "title": {
          "text": "EUR per Kwh Excluding tax"
         }
        }
       }
      }
     },
     "metadata": {},
     "output_type": "display_data"
    }
   ],
   "source": [
    "electricity_prices_hh_df = energy_prices_df[\n",
    "    (energy_prices_df['nrg_bal'] == 'FC_NHH_E') &\n",
    "    (energy_prices_df['siec'] == 'G3000') \n",
    "]\n",
    "\n",
    "fig = px.line(electricity_prices_hh_df, x='TIME_PERIOD', y='EUR per Kwh Excluding tax', color='geo')\n",
    "fig.show()"
   ]
  },
  {
   "cell_type": "markdown",
   "metadata": {},
   "source": [
    "This chart displays energy prices in euros per kilowatt-hour (EUR per kWh) excluding taxes across different European countries from 2007 to 2024.\n",
    "Key observations:\n",
    "\n",
    "- Energy prices remained relatively stable between 0.02-0.05 EUR/kWh for most countries from 2007 to 2019\n",
    "- A dramatic price spike occurred in 2021-2022, with peaks reaching as high as 0.14 EUR/kWh for some countries\n",
    "- All countries experienced this significant price surge, though with varying magnitudes\n",
    "- By 2023-2024, prices began declining but remained higher than pre-2020 levels\n",
    "- The synchronization of this price spike across all countries suggests a common external factor, most likely the energy crisis following Russia's invasion of Ukraine and subsequent disruptions to European energy markets\n",
    "- There's considerable convergence in price movements across countries, though with persistent differences in absolute levels\n",
    "\n",
    "This visualization powerfully illustrates the European energy crisis of 2021-2022 and its impact on consumer energy prices. The unprecedented nature of this price shock is evident when comparing the relatively stable pre-2020 period with the dramatic spike and subsequent partial recovery in the following years.\n",
    "\n",
    "Let's now check the policy reactions to these changes by analysing the taxes to gas:"
   ]
  },
  {
   "cell_type": "code",
   "execution_count": 14,
   "metadata": {},
   "outputs": [
    {
     "data": {
      "application/vnd.plotly.v1+json": {
       "config": {
        "plotlyServerURL": "https://plot.ly"
       },
       "data": [
        {
         "hovertemplate": "geo=AT<br>TIME_PERIOD=%{x}<br>Percentage of taxes applied to energy=%{y}<extra></extra>",
         "legendgroup": "AT",
         "line": {
          "color": "#636efa",
          "dash": "solid"
         },
         "marker": {
          "symbol": "circle"
         },
         "mode": "lines",
         "name": "AT",
         "orientation": "v",
         "showlegend": true,
         "type": "scatter",
         "x": {
          "bdata": "1wfZB9oH2wfcB90H3gffB+AH4QfiB+MH5AflB+YH5wfoBw==",
          "dtype": "i2"
         },
         "xaxis": "x",
         "y": {
          "bdata": "ZmZmZmZmPEApXI/C9Sg+QJqZmZmZGT5Aw/UoXI8CPUAAAAAAAIA9QLgehetR+D9ApHA9CtcjP0CkcD0K14NBQJqZmZmZWUFA7FG4HoVrP0BI4XoUrkc/QAAAAAAAAEBAmpmZmZlZQEBcj8L1KJw8QGZmZmZmpjRAhetRuB6FNUDsUbgehes0QA==",
          "dtype": "f8"
         },
         "yaxis": "y"
        },
        {
         "hovertemplate": "geo=BE<br>TIME_PERIOD=%{x}<br>Percentage of taxes applied to energy=%{y}<extra></extra>",
         "legendgroup": "BE",
         "line": {
          "color": "#EF553B",
          "dash": "solid"
         },
         "marker": {
          "symbol": "circle"
         },
         "mode": "lines",
         "name": "BE",
         "orientation": "v",
         "showlegend": true,
         "type": "scatter",
         "x": {
          "bdata": "1wfYB9kH2gfbB9wH3QfeB98H4AfhB+IH4wfkB+UH5gfnB+gH",
          "dtype": "i2"
         },
         "xaxis": "x",
         "y": {
          "bdata": "MzMzMzPzMkAK16NwPQozQGZmZmZmZjVAuB6F61G4NEAK16NwPUo0QB+F61G4XjRA4XoUrkchNEApXI/C9eg1QFK4HoXrUTNA4XoUrkchNUD2KFyPwjU1QEjhehSuRzZA4XoUrkchNUDNzMzMzAw2QLgehetR+DNArkfhehQuKkD2KFyPwvUpQArXo3A9CjRA",
          "dtype": "f8"
         },
         "yaxis": "y"
        },
        {
         "hovertemplate": "geo=BG<br>TIME_PERIOD=%{x}<br>Percentage of taxes applied to energy=%{y}<extra></extra>",
         "legendgroup": "BG",
         "line": {
          "color": "#00cc96",
          "dash": "solid"
         },
         "marker": {
          "symbol": "circle"
         },
         "mode": "lines",
         "name": "BG",
         "orientation": "v",
         "showlegend": true,
         "type": "scatter",
         "x": {
          "bdata": "1wfYB9kH2gfbB9wH3QfeB98H4AfhB+IH4wfkB+UH5gfnB+gH",
          "dtype": "i2"
         },
         "xaxis": "x",
         "y": {
          "bdata": "j8L1KFyPMEBmZmZmZqYwQK5H4XoUrjBApHA9CtejMEC4HoXrUbgwQBSuR+F61DBAhetRuB4FMUAzMzMzM7MyQK5H4XoULjNAj8L1KFwPNEBI4XoUrkczQEjhehSuBzNA4XoUrkfhMkDXo3A9CpczQD0K16NwPTJApHA9CtejIkCkcD0K1yMrQGZmZmZm5jFA",
          "dtype": "f8"
         },
         "yaxis": "y"
        },
        {
         "hovertemplate": "geo=CZ<br>TIME_PERIOD=%{x}<br>Percentage of taxes applied to energy=%{y}<extra></extra>",
         "legendgroup": "CZ",
         "line": {
          "color": "#ab63fa",
          "dash": "solid"
         },
         "marker": {
          "symbol": "circle"
         },
         "mode": "lines",
         "name": "CZ",
         "orientation": "v",
         "showlegend": true,
         "type": "scatter",
         "x": {
          "bdata": "1wfYB9kH2gfbB9wH3QfeB98H4AfhB+IH4wfkB+UH5gfnB+gH",
          "dtype": "i2"
         },
         "xaxis": "x",
         "y": {
          "bdata": "hetRuB4FMEDhehSuR+EyQIXrUbgeBTNA9ihcj8K1M0AK16NwPYozQB+F61G4XjNAmpmZmZkZNECuR+F6FC40QGZmZmZmZjRA7FG4HoWrNEBSuB6F6xE1QClcj8L1KDVA9ihcj8L1NEDsUbgehWs1QB+F61G43jFAmpmZmZnZMkAAAAAAAAAzQK5H4XoULjNA",
          "dtype": "f8"
         },
         "yaxis": "y"
        },
        {
         "hovertemplate": "geo=DE<br>TIME_PERIOD=%{x}<br>Percentage of taxes applied to energy=%{y}<extra></extra>",
         "legendgroup": "DE",
         "line": {
          "color": "#FFA15A",
          "dash": "solid"
         },
         "marker": {
          "symbol": "circle"
         },
         "mode": "lines",
         "name": "DE",
         "orientation": "v",
         "showlegend": true,
         "type": "scatter",
         "x": {
          "bdata": "1wfYB9kH2gfbB9wH3QfeB98H4AfhB+IH4wfkB+UH5gfnB+gH",
          "dtype": "i2"
         },
         "xaxis": "x",
         "y": {
          "bdata": "j8L1KFzPN0A9CtejcH03QB+F61G43jhAFK5H4XoUO0B7FK5H4To6QOxRuB6FqzhAcT0K16PwN0D2KFyPwrU4QPYoXI/CdTlAXI/C9SgcO0B7FK5H4bo6QB+F61G4XjpAj8L1KFxPPUA9CtejcH0/QBSuR+F6VEBA4XoUrkdhN0AzMzMzMzM2QDMzMzMzszpA",
          "dtype": "f8"
         },
         "yaxis": "y"
        },
        {
         "hovertemplate": "geo=DK<br>TIME_PERIOD=%{x}<br>Percentage of taxes applied to energy=%{y}<extra></extra>",
         "legendgroup": "DK",
         "line": {
          "color": "#19d3f3",
          "dash": "solid"
         },
         "marker": {
          "symbol": "circle"
         },
         "mode": "lines",
         "name": "DK",
         "orientation": "v",
         "showlegend": true,
         "type": "scatter",
         "x": {
          "bdata": "1wfYB9kH2gfbB9wH3QfeB98H4AfhB+IH4wfkB+UH5gfnB+gH",
          "dtype": "i2"
         },
         "xaxis": "x",
         "y": {
          "bdata": "uB6F61GYTECF61G4HuVKQJqZmZmZOVBArkfhehSOTEAAAAAAAIBLQHE9CtejcExA9ihcj8IVTkAUrkfhegRQQEjhehSuh05AKVyPwvVIUEAfhetRuD5PQHsUrkfh2k1Aj8L1KFzvT0DD9Shcj+JQQI/C9Shcb0lAuB6F61GYQkBmZmZmZoZIQOF6FK5HIUtA",
          "dtype": "f8"
         },
         "yaxis": "y"
        },
        {
         "hovertemplate": "geo=EE<br>TIME_PERIOD=%{x}<br>Percentage of taxes applied to energy=%{y}<extra></extra>",
         "legendgroup": "EE",
         "line": {
          "color": "#FF6692",
          "dash": "solid"
         },
         "marker": {
          "symbol": "circle"
         },
         "mode": "lines",
         "name": "EE",
         "orientation": "v",
         "showlegend": true,
         "type": "scatter",
         "x": {
          "bdata": "1wfYB9kH2gfbB9wH3QfeB98H4AfhB+IH4wfkB+UH5gfnB+gH",
          "dtype": "i2"
         },
         "xaxis": "x",
         "y": {
          "bdata": "AAAAAACALkCuR+F6FK4xQFK4HoXrkTRAuB6F61G4NkCPwvUoXI80QM3MzMzMDDRAH4XrUbheNEBcj8L1KJw0QI/C9ShcDzZA4XoUrkchOkDsUbgehas7QHE9CtejMD1APQrXo3C9PkAK16NwPQo+QM3MzMzMjDZAUrgehesRM0D2KFyPwrUzQKRwPQrXYzdA",
          "dtype": "f8"
         },
         "yaxis": "y"
        },
        {
         "hovertemplate": "geo=EL<br>TIME_PERIOD=%{x}<br>Percentage of taxes applied to energy=%{y}<extra></extra>",
         "legendgroup": "EL",
         "line": {
          "color": "#B6E880",
          "dash": "solid"
         },
         "marker": {
          "symbol": "circle"
         },
         "mode": "lines",
         "name": "EL",
         "orientation": "v",
         "showlegend": true,
         "type": "scatter",
         "x": {
          "bdata": "3AfdB94H3wfgB+EH4gfjB+QH5QfmB+cH6Ac=",
          "dtype": "i2"
         },
         "xaxis": "x",
         "y": {
          "bdata": "UrgehesRM0DsUbgehWs0QAAAAAAAwDRAMzMzMzOzOEB7FK5H4fo7QPYoXI/CNThAhetRuB5FNUC4HoXrUTgxQDMzMzMz8zBAMzMzMzOzKEDsUbgeheshwB+F61G4nilAAAAAAACALUA=",
          "dtype": "f8"
         },
         "yaxis": "y"
        },
        {
         "hovertemplate": "geo=ES<br>TIME_PERIOD=%{x}<br>Percentage of taxes applied to energy=%{y}<extra></extra>",
         "legendgroup": "ES",
         "line": {
          "color": "#FF97FF",
          "dash": "solid"
         },
         "marker": {
          "symbol": "circle"
         },
         "mode": "lines",
         "name": "ES",
         "orientation": "v",
         "showlegend": true,
         "type": "scatter",
         "x": {
          "bdata": "1wfYB9kH2gfbB9wH3QfeB98H4AfhB+IH4wfkB+UH5gfnB+gH",
          "dtype": "i2"
         },
         "xaxis": "x",
         "y": {
          "bdata": "H4XrUbieK0AAAAAAAIArQBSuR+F6lCtAuB6F61E4LUB7FK5H4XouQBSuR+F6lC9AuB6F61F4MkB7FK5H4XoyQOF6FK5HoTJAcT0K16PwMkCuR+F6FO4yQFK4HoXr0TJAXI/C9SjcNkCamZmZmZk3QK5H4XoUbjVAzczMzMwMM0CF61G4HoUfQArXo3A9SjFA",
          "dtype": "f8"
         },
         "yaxis": "y"
        },
        {
         "hovertemplate": "geo=FR<br>TIME_PERIOD=%{x}<br>Percentage of taxes applied to energy=%{y}<extra></extra>",
         "legendgroup": "FR",
         "line": {
          "color": "#FECB52",
          "dash": "solid"
         },
         "marker": {
          "symbol": "circle"
         },
         "mode": "lines",
         "name": "FR",
         "orientation": "v",
         "showlegend": true,
         "type": "scatter",
         "x": {
          "bdata": "1wfYB9kH2gfbB9wH3QfeB98H4AfhB+IH4wfkB+UH5gfnB+gH",
          "dtype": "i2"
         },
         "xaxis": "x",
         "y": {
          "bdata": "rkfhehSuL0CamZmZmRkwQK5H4XoUrjBACtejcD0KMUBcj8L1KBwxQBSuR+F6VDFA4XoUrkfhMEDhehSuR+ExQB+F61G4HjRArkfhehTuNkAAAAAAAAA3QAAAAAAAgDhAPQrXo3C9OUDsUbgehas7QI/C9ShczzdAMzMzMzNzMkD2KFyPwvUyQArXo3A9ijlA",
          "dtype": "f8"
         },
         "yaxis": "y"
        },
        {
         "hovertemplate": "geo=HR<br>TIME_PERIOD=%{x}<br>Percentage of taxes applied to energy=%{y}<extra></extra>",
         "legendgroup": "HR",
         "line": {
          "color": "#636efa",
          "dash": "solid"
         },
         "marker": {
          "symbol": "circle"
         },
         "mode": "lines",
         "name": "HR",
         "orientation": "v",
         "showlegend": true,
         "type": "scatter",
         "x": {
          "bdata": "1wfYB9kH2gfbB9wH3QfeB98H4AfhB+IH4wfkB+UH5gfnB+gH",
          "dtype": "i2"
         },
         "xaxis": "x",
         "y": {
          "bdata": "ZmZmZmbmNECF61G4HkUzQGZmZmZmJjJAuB6F61G4MkApXI/C9agyQAAAAAAAwDNAuB6F61F4NEApXI/C9eg0QK5H4XoU7jRAj8L1KFwPNUDD9Shcj4I1QBSuR+F61DVAcT0K16NwNkAK16NwPQo3QFK4HoXr0TZAZmZmZmZmJUDNzMzMzMwWQFyPwvUoXB5A",
          "dtype": "f8"
         },
         "yaxis": "y"
        },
        {
         "hovertemplate": "geo=HU<br>TIME_PERIOD=%{x}<br>Percentage of taxes applied to energy=%{y}<extra></extra>",
         "legendgroup": "HU",
         "line": {
          "color": "#EF553B",
          "dash": "solid"
         },
         "marker": {
          "symbol": "circle"
         },
         "mode": "lines",
         "name": "HU",
         "orientation": "v",
         "showlegend": true,
         "type": "scatter",
         "x": {
          "bdata": "1wfYB9kH2gfbB9wH3QfeB98H4AfhB+IH4wfkB+UH5gfnB+gH",
          "dtype": "i2"
         },
         "xaxis": "x",
         "y": {
          "bdata": "pHA9CtfjMkDNzMzMzAwzQEjhehSuxzRAMzMzMzOzNkDhehSuR2E2QFyPwvUo3DhArkfhehRuOEBxPQrXo3A4QAAAAAAAQDlAXI/C9SicOkAfhetRuB47QM3MzMzMjDlAPQrXo3B9OkBmZmZmZuY6QHE9CtejMDpAzczMzMzMNUBmZmZmZuY4QDMzMzMzczpA",
          "dtype": "f8"
         },
         "yaxis": "y"
        },
        {
         "hovertemplate": "geo=IE<br>TIME_PERIOD=%{x}<br>Percentage of taxes applied to energy=%{y}<extra></extra>",
         "legendgroup": "IE",
         "line": {
          "color": "#00cc96",
          "dash": "solid"
         },
         "marker": {
          "symbol": "circle"
         },
         "mode": "lines",
         "name": "IE",
         "orientation": "v",
         "showlegend": true,
         "type": "scatter",
         "x": {
          "bdata": "1wfYB9kH2gfbB9wH3QfeB98H4AfhB+IH4wfkB+UH5gfnB+gH",
          "dtype": "i2"
         },
         "xaxis": "x",
         "y": {
          "bdata": "4XoUrkfhJUCF61G4HoUlQOxRuB6F6yRA9ihcj8J1LEB7FK5H4XouQDMzMzMzsy5Aw/UoXI9CMEBcj8L1KJwwQMP1KFyPgjFA4XoUrkdhMUApXI/C9egxQK5H4XoULjFAPQrXo3A9MUD2KFyPwrUyQArXo3A9yjFAw/UoXI/CKUCkcD0K16MqQIXrUbgeBS5A",
          "dtype": "f8"
         },
         "yaxis": "y"
        },
        {
         "hovertemplate": "geo=IT<br>TIME_PERIOD=%{x}<br>Percentage of taxes applied to energy=%{y}<extra></extra>",
         "legendgroup": "IT",
         "line": {
          "color": "#ab63fa",
          "dash": "solid"
         },
         "marker": {
          "symbol": "circle"
         },
         "mode": "lines",
         "name": "IT",
         "orientation": "v",
         "showlegend": true,
         "type": "scatter",
         "x": {
          "bdata": "1wfYB9kH2gfbB9wH3QfeB98H4AfhB+IH4wfkB+UH5gfnB+gH",
          "dtype": "i2"
         },
         "xaxis": "x",
         "y": {
          "bdata": "cT0K16MwMUDhehSuR2EsQFyPwvUo3DBAUrgehetRMUB7FK5H4boyQDMzMzMz8zNAKVyPwvVoNEDD9Shcj0I1QM3MzMzMzDRAw/UoXI9CNUC4HoXrUfg1QI/C9ShcDzRAH4XrUbgeOkBmZmZmZqY7QClcj8L1KDRASOF6FK7HIEBcj8L1KFwdQNejcD0K1zFA",
          "dtype": "f8"
         },
         "yaxis": "y"
        },
        {
         "hovertemplate": "geo=LT<br>TIME_PERIOD=%{x}<br>Percentage of taxes applied to energy=%{y}<extra></extra>",
         "legendgroup": "LT",
         "line": {
          "color": "#FFA15A",
          "dash": "solid"
         },
         "marker": {
          "symbol": "circle"
         },
         "mode": "lines",
         "name": "LT",
         "orientation": "v",
         "showlegend": true,
         "type": "scatter",
         "x": {
          "bdata": "1wfYB9kH2gfbB9wH3QfeB98H4AfhB+IH4wfkB+UH5gfnB+gH",
          "dtype": "i2"
         },
         "xaxis": "x",
         "y": {
          "bdata": "AAAAAACALkB7FK5H4XouQK5H4XoULjBA16NwPQpXMUAUrkfhelQxQFyPwvUoXDFAXI/C9ShcMUBcj8L1KFwxQBSuR+F6VDFA16NwPQpXMUBxPQrXo3A9QK5H4XoULjtAuB6F61E4P0CkcD0K1yM9QIXrUbgehTVAj8L1KFxPMkApXI/C9SgzQClcj8L1KDRA",
          "dtype": "f8"
         },
         "yaxis": "y"
        },
        {
         "hovertemplate": "geo=LU<br>TIME_PERIOD=%{x}<br>Percentage of taxes applied to energy=%{y}<extra></extra>",
         "legendgroup": "LU",
         "line": {
          "color": "#19d3f3",
          "dash": "solid"
         },
         "marker": {
          "symbol": "circle"
         },
         "mode": "lines",
         "name": "LU",
         "orientation": "v",
         "showlegend": true,
         "type": "scatter",
         "x": {
          "bdata": "1wfYB9kH2gfbB9wH3QfeB98H4AfhB+IH4wfkB+UH5gfnB+gH",
          "dtype": "i2"
         },
         "xaxis": "x",
         "y": {
          "bdata": "KVyPwvUoIkBSuB6F61EdQOF6FK5H4R1AAAAAAAAAHUDD9Shcj8IcQKRwPQrXoxtAH4XrUbgeG0CuR+F6FK4cQD0K16NwvSFApHA9CtcjI0DNzMzMzMwhQOF6FK5H4SFAzczMzMzMIUAUrkfhepQiQGZmZmZm5jBAcT0K16NwGUApXI/C9SgawFK4HoXrUR5A",
          "dtype": "f8"
         },
         "yaxis": "y"
        },
        {
         "hovertemplate": "geo=LV<br>TIME_PERIOD=%{x}<br>Percentage of taxes applied to energy=%{y}<extra></extra>",
         "legendgroup": "LV",
         "line": {
          "color": "#FF6692",
          "dash": "solid"
         },
         "marker": {
          "symbol": "circle"
         },
         "mode": "lines",
         "name": "LV",
         "orientation": "v",
         "showlegend": true,
         "type": "scatter",
         "x": {
          "bdata": "1wfYB9kH2gfbB9wH3QfeB98H4AfhB+IH4wfkB+UH5gfnB+gH",
          "dtype": "i2"
         },
         "xaxis": "x",
         "y": {
          "bdata": "SOF6FK7HLkBSuB6F69EuQHE9CtejcDFAexSuR+F6MUCF61G4HkU0QI/C9ShczzRAUrgehesRNUBI4XoUrgc1QKRwPQrXozVAH4XrUbieNkAzMzMzM7M1QPYoXI/CNTVA4XoUrkchNUCuR+F6FO41QClcj8L1KDRAZmZmZmZmMkBmZmZmZmY0QOF6FK5HYTRA",
          "dtype": "f8"
         },
         "yaxis": "y"
        },
        {
         "hovertemplate": "geo=NL<br>TIME_PERIOD=%{x}<br>Percentage of taxes applied to energy=%{y}<extra></extra>",
         "legendgroup": "NL",
         "line": {
          "color": "#B6E880",
          "dash": "solid"
         },
         "marker": {
          "symbol": "circle"
         },
         "mode": "lines",
         "name": "NL",
         "orientation": "v",
         "showlegend": true,
         "type": "scatter",
         "x": {
          "bdata": "1wfYB9kH2gfbB9wH3QfeB98H4AfhB+IH4wfkB+UH5gfnB+gH",
          "dtype": "i2"
         },
         "xaxis": "x",
         "y": {
          "bdata": "4XoUrkdhPkAfhetRuJ49QI/C9Shcjz9A7FG4HoXrQEAAAAAAAMBAQArXo3A9ikBAKVyPwvUoQkDXo3A9CrdCQDMzMzMzs0NAUrgehesxR0D2KFyPwnVGQHE9Ctej0EZApHA9CtcDSUAfhetRuB5MQFyPwvUo/EdAUrgehesRP0C4HoXrUXhCQFK4HoXrcUhA",
          "dtype": "f8"
         },
         "yaxis": "y"
        },
        {
         "hovertemplate": "geo=PL<br>TIME_PERIOD=%{x}<br>Percentage of taxes applied to energy=%{y}<extra></extra>",
         "legendgroup": "PL",
         "line": {
          "color": "#FF97FF",
          "dash": "solid"
         },
         "marker": {
          "symbol": "circle"
         },
         "mode": "lines",
         "name": "PL",
         "orientation": "v",
         "showlegend": true,
         "type": "scatter",
         "x": {
          "bdata": "1wfYB9kH2gfbB9wH3QfeB98H4AfhB+IH4wfkB+UH5gfnB+gH",
          "dtype": "i2"
         },
         "xaxis": "x",
         "y": {
          "bdata": "AAAAAAAAMkBSuB6F6xEyQEjhehSuBzJAw/UoXI8CMkBxPQrXo7AyQHE9CtejsDJA16NwPQrXMkC4HoXrUbgzQFK4HoXr0TNAzczMzMwMNEBmZmZmZiY0QB+F61G4XjRAFK5H4XqUNECuR+F6FO40QClcj8L1aDRAw/UoXI/C9T9xPQrXo3AzQNejcD0K1zNA",
          "dtype": "f8"
         },
         "yaxis": "y"
        },
        {
         "hovertemplate": "geo=PT<br>TIME_PERIOD=%{x}<br>Percentage of taxes applied to energy=%{y}<extra></extra>",
         "legendgroup": "PT",
         "line": {
          "color": "#FECB52",
          "dash": "solid"
         },
         "marker": {
          "symbol": "circle"
         },
         "mode": "lines",
         "name": "PT",
         "orientation": "v",
         "showlegend": true,
         "type": "scatter",
         "x": {
          "bdata": "1wfYB9kH2gfbB9wH3QfeB98H4AfhB+IH4wfkB+UH5gfnB+gH",
          "dtype": "i2"
         },
         "xaxis": "x",
         "y": {
          "bdata": "cT0K16NwE0DsUbgehesSQOxRuB6F6xJAhetRuB6FFUA9CtejcD0jQClcj8L1aDNAmpmZmZmZNECF61G4HkU1QGZmZmZmJjVAZmZmZmYmNUBI4XoUroc3QHsUrkfhujdAH4XrUbjeN0Bcj8L1KNw7QOF6FK5HYTlAj8L1KFyPNUAK16NwPco1QClcj8L16DlA",
          "dtype": "f8"
         },
         "yaxis": "y"
        },
        {
         "hovertemplate": "geo=RO<br>TIME_PERIOD=%{x}<br>Percentage of taxes applied to energy=%{y}<extra></extra>",
         "legendgroup": "RO",
         "line": {
          "color": "#636efa",
          "dash": "solid"
         },
         "marker": {
          "symbol": "circle"
         },
         "mode": "lines",
         "name": "RO",
         "orientation": "v",
         "showlegend": true,
         "type": "scatter",
         "x": {
          "bdata": "1wfYB9kH2gfbB9wH3QfeB98H4AfhB+IH4wfkB+UH5gfnB+gH",
          "dtype": "i2"
         },
         "xaxis": "x",
         "y": {
          "bdata": "zczMzMxMPkAK16NwPUo+QM3MzMzMrENAhetRuB4FRUBmZmZmZiZEQKRwPQrXo0JAUrgehevxQkDXo3A9CpdDQHE9CtejEERA7FG4HoWLREBxPQrXo/AvQHE9Ctej8C9AcT0K16OwMUC4HoXrUfgxQIXrUbgehTFArkfhehRuMEDD9Shcj8IwQFyPwvUoHDFA",
          "dtype": "f8"
         },
         "yaxis": "y"
        },
        {
         "hovertemplate": "geo=SE<br>TIME_PERIOD=%{x}<br>Percentage of taxes applied to energy=%{y}<extra></extra>",
         "legendgroup": "SE",
         "line": {
          "color": "#EF553B",
          "dash": "solid"
         },
         "marker": {
          "symbol": "circle"
         },
         "mode": "lines",
         "name": "SE",
         "orientation": "v",
         "showlegend": true,
         "type": "scatter",
         "x": {
          "bdata": "1wfYB9kH2gfbB9wH3QfeB98H4AfhB+IH4wfkB+UH5gfnB+gH",
          "dtype": "i2"
         },
         "xaxis": "x",
         "y": {
          "bdata": "pHA9CtdDR0AfhetRuF5FQOF6FK5HwUdAXI/C9SicR0AUrkfhelRJQB+F61G4/klAFK5H4Xp0SUAzMzMzM3NKQHsUrkfh2kpA7FG4HoXrS0BxPQrXoxBHQGZmZmZmhkdAPQrXo3D9SUCF61G4HkVHQK5H4XoU7kNAhetRuB6FQEBxPQrXo7BCQMP1KFyPgkVA",
          "dtype": "f8"
         },
         "yaxis": "y"
        },
        {
         "hovertemplate": "geo=SI<br>TIME_PERIOD=%{x}<br>Percentage of taxes applied to energy=%{y}<extra></extra>",
         "legendgroup": "SI",
         "line": {
          "color": "#00cc96",
          "dash": "solid"
         },
         "marker": {
          "symbol": "circle"
         },
         "mode": "lines",
         "name": "SI",
         "orientation": "v",
         "showlegend": true,
         "type": "scatter",
         "x": {
          "bdata": "1wfYB9kH2gfbB9wH3QfeB98H4AfhB+IH4wfkB+UH5gfnB+gH",
          "dtype": "i2"
         },
         "xaxis": "x",
         "y": {
          "bdata": "ZmZmZmZmN0DhehSuR+E1QDMzMzMz8zVAj8L1KFzPN0AfhetRuF43QFK4HoXrETdAKVyPwvUoOUAfhetRuN46QB+F61G4HjtAFK5H4XrUO0DhehSuR2E9QB+F61G4XjxAH4XrUbjePEAK16NwPco9QClcj8L16DxAFK5H4XqUMkA9CtejcL0xQPYoXI/CtTdA",
          "dtype": "f8"
         },
         "yaxis": "y"
        },
        {
         "hovertemplate": "geo=SK<br>TIME_PERIOD=%{x}<br>Percentage of taxes applied to energy=%{y}<extra></extra>",
         "legendgroup": "SK",
         "line": {
          "color": "#ab63fa",
          "dash": "solid"
         },
         "marker": {
          "symbol": "circle"
         },
         "mode": "lines",
         "name": "SK",
         "orientation": "v",
         "showlegend": true,
         "type": "scatter",
         "x": {
          "bdata": "1wfYB9kH2gfbB9wH3QfeB98H4AfhB+IH4wfkB+UH5gfnB+gH",
          "dtype": "i2"
         },
         "xaxis": "x",
         "y": {
          "bdata": "16NwPQrXL0DhehSuR6EwQLgehetReDFAH4XrUbgeM0DXo3A9CpczQM3MzMzMTDNA7FG4HoVrM0AzMzMzM3MzQK5H4XoUrjNAMzMzMzPzM0AK16NwPYo0QGZmZmZmZjRA16NwPQoXNEDhehSuRyE0QPYoXI/CtTNAH4XrUbgeMkDNzMzMzMwxQKRwPQrXIzJA",
          "dtype": "f8"
         },
         "yaxis": "y"
        }
       ],
       "layout": {
        "legend": {
         "title": {
          "text": "geo"
         },
         "tracegroupgap": 0
        },
        "margin": {
         "t": 60
        },
        "template": {
         "data": {
          "bar": [
           {
            "error_x": {
             "color": "#2a3f5f"
            },
            "error_y": {
             "color": "#2a3f5f"
            },
            "marker": {
             "line": {
              "color": "#E5ECF6",
              "width": 0.5
             },
             "pattern": {
              "fillmode": "overlay",
              "size": 10,
              "solidity": 0.2
             }
            },
            "type": "bar"
           }
          ],
          "barpolar": [
           {
            "marker": {
             "line": {
              "color": "#E5ECF6",
              "width": 0.5
             },
             "pattern": {
              "fillmode": "overlay",
              "size": 10,
              "solidity": 0.2
             }
            },
            "type": "barpolar"
           }
          ],
          "carpet": [
           {
            "aaxis": {
             "endlinecolor": "#2a3f5f",
             "gridcolor": "white",
             "linecolor": "white",
             "minorgridcolor": "white",
             "startlinecolor": "#2a3f5f"
            },
            "baxis": {
             "endlinecolor": "#2a3f5f",
             "gridcolor": "white",
             "linecolor": "white",
             "minorgridcolor": "white",
             "startlinecolor": "#2a3f5f"
            },
            "type": "carpet"
           }
          ],
          "choropleth": [
           {
            "colorbar": {
             "outlinewidth": 0,
             "ticks": ""
            },
            "type": "choropleth"
           }
          ],
          "contour": [
           {
            "colorbar": {
             "outlinewidth": 0,
             "ticks": ""
            },
            "colorscale": [
             [
              0,
              "#0d0887"
             ],
             [
              0.1111111111111111,
              "#46039f"
             ],
             [
              0.2222222222222222,
              "#7201a8"
             ],
             [
              0.3333333333333333,
              "#9c179e"
             ],
             [
              0.4444444444444444,
              "#bd3786"
             ],
             [
              0.5555555555555556,
              "#d8576b"
             ],
             [
              0.6666666666666666,
              "#ed7953"
             ],
             [
              0.7777777777777778,
              "#fb9f3a"
             ],
             [
              0.8888888888888888,
              "#fdca26"
             ],
             [
              1,
              "#f0f921"
             ]
            ],
            "type": "contour"
           }
          ],
          "contourcarpet": [
           {
            "colorbar": {
             "outlinewidth": 0,
             "ticks": ""
            },
            "type": "contourcarpet"
           }
          ],
          "heatmap": [
           {
            "colorbar": {
             "outlinewidth": 0,
             "ticks": ""
            },
            "colorscale": [
             [
              0,
              "#0d0887"
             ],
             [
              0.1111111111111111,
              "#46039f"
             ],
             [
              0.2222222222222222,
              "#7201a8"
             ],
             [
              0.3333333333333333,
              "#9c179e"
             ],
             [
              0.4444444444444444,
              "#bd3786"
             ],
             [
              0.5555555555555556,
              "#d8576b"
             ],
             [
              0.6666666666666666,
              "#ed7953"
             ],
             [
              0.7777777777777778,
              "#fb9f3a"
             ],
             [
              0.8888888888888888,
              "#fdca26"
             ],
             [
              1,
              "#f0f921"
             ]
            ],
            "type": "heatmap"
           }
          ],
          "histogram": [
           {
            "marker": {
             "pattern": {
              "fillmode": "overlay",
              "size": 10,
              "solidity": 0.2
             }
            },
            "type": "histogram"
           }
          ],
          "histogram2d": [
           {
            "colorbar": {
             "outlinewidth": 0,
             "ticks": ""
            },
            "colorscale": [
             [
              0,
              "#0d0887"
             ],
             [
              0.1111111111111111,
              "#46039f"
             ],
             [
              0.2222222222222222,
              "#7201a8"
             ],
             [
              0.3333333333333333,
              "#9c179e"
             ],
             [
              0.4444444444444444,
              "#bd3786"
             ],
             [
              0.5555555555555556,
              "#d8576b"
             ],
             [
              0.6666666666666666,
              "#ed7953"
             ],
             [
              0.7777777777777778,
              "#fb9f3a"
             ],
             [
              0.8888888888888888,
              "#fdca26"
             ],
             [
              1,
              "#f0f921"
             ]
            ],
            "type": "histogram2d"
           }
          ],
          "histogram2dcontour": [
           {
            "colorbar": {
             "outlinewidth": 0,
             "ticks": ""
            },
            "colorscale": [
             [
              0,
              "#0d0887"
             ],
             [
              0.1111111111111111,
              "#46039f"
             ],
             [
              0.2222222222222222,
              "#7201a8"
             ],
             [
              0.3333333333333333,
              "#9c179e"
             ],
             [
              0.4444444444444444,
              "#bd3786"
             ],
             [
              0.5555555555555556,
              "#d8576b"
             ],
             [
              0.6666666666666666,
              "#ed7953"
             ],
             [
              0.7777777777777778,
              "#fb9f3a"
             ],
             [
              0.8888888888888888,
              "#fdca26"
             ],
             [
              1,
              "#f0f921"
             ]
            ],
            "type": "histogram2dcontour"
           }
          ],
          "mesh3d": [
           {
            "colorbar": {
             "outlinewidth": 0,
             "ticks": ""
            },
            "type": "mesh3d"
           }
          ],
          "parcoords": [
           {
            "line": {
             "colorbar": {
              "outlinewidth": 0,
              "ticks": ""
             }
            },
            "type": "parcoords"
           }
          ],
          "pie": [
           {
            "automargin": true,
            "type": "pie"
           }
          ],
          "scatter": [
           {
            "fillpattern": {
             "fillmode": "overlay",
             "size": 10,
             "solidity": 0.2
            },
            "type": "scatter"
           }
          ],
          "scatter3d": [
           {
            "line": {
             "colorbar": {
              "outlinewidth": 0,
              "ticks": ""
             }
            },
            "marker": {
             "colorbar": {
              "outlinewidth": 0,
              "ticks": ""
             }
            },
            "type": "scatter3d"
           }
          ],
          "scattercarpet": [
           {
            "marker": {
             "colorbar": {
              "outlinewidth": 0,
              "ticks": ""
             }
            },
            "type": "scattercarpet"
           }
          ],
          "scattergeo": [
           {
            "marker": {
             "colorbar": {
              "outlinewidth": 0,
              "ticks": ""
             }
            },
            "type": "scattergeo"
           }
          ],
          "scattergl": [
           {
            "marker": {
             "colorbar": {
              "outlinewidth": 0,
              "ticks": ""
             }
            },
            "type": "scattergl"
           }
          ],
          "scattermap": [
           {
            "marker": {
             "colorbar": {
              "outlinewidth": 0,
              "ticks": ""
             }
            },
            "type": "scattermap"
           }
          ],
          "scattermapbox": [
           {
            "marker": {
             "colorbar": {
              "outlinewidth": 0,
              "ticks": ""
             }
            },
            "type": "scattermapbox"
           }
          ],
          "scatterpolar": [
           {
            "marker": {
             "colorbar": {
              "outlinewidth": 0,
              "ticks": ""
             }
            },
            "type": "scatterpolar"
           }
          ],
          "scatterpolargl": [
           {
            "marker": {
             "colorbar": {
              "outlinewidth": 0,
              "ticks": ""
             }
            },
            "type": "scatterpolargl"
           }
          ],
          "scatterternary": [
           {
            "marker": {
             "colorbar": {
              "outlinewidth": 0,
              "ticks": ""
             }
            },
            "type": "scatterternary"
           }
          ],
          "surface": [
           {
            "colorbar": {
             "outlinewidth": 0,
             "ticks": ""
            },
            "colorscale": [
             [
              0,
              "#0d0887"
             ],
             [
              0.1111111111111111,
              "#46039f"
             ],
             [
              0.2222222222222222,
              "#7201a8"
             ],
             [
              0.3333333333333333,
              "#9c179e"
             ],
             [
              0.4444444444444444,
              "#bd3786"
             ],
             [
              0.5555555555555556,
              "#d8576b"
             ],
             [
              0.6666666666666666,
              "#ed7953"
             ],
             [
              0.7777777777777778,
              "#fb9f3a"
             ],
             [
              0.8888888888888888,
              "#fdca26"
             ],
             [
              1,
              "#f0f921"
             ]
            ],
            "type": "surface"
           }
          ],
          "table": [
           {
            "cells": {
             "fill": {
              "color": "#EBF0F8"
             },
             "line": {
              "color": "white"
             }
            },
            "header": {
             "fill": {
              "color": "#C8D4E3"
             },
             "line": {
              "color": "white"
             }
            },
            "type": "table"
           }
          ]
         },
         "layout": {
          "annotationdefaults": {
           "arrowcolor": "#2a3f5f",
           "arrowhead": 0,
           "arrowwidth": 1
          },
          "autotypenumbers": "strict",
          "coloraxis": {
           "colorbar": {
            "outlinewidth": 0,
            "ticks": ""
           }
          },
          "colorscale": {
           "diverging": [
            [
             0,
             "#8e0152"
            ],
            [
             0.1,
             "#c51b7d"
            ],
            [
             0.2,
             "#de77ae"
            ],
            [
             0.3,
             "#f1b6da"
            ],
            [
             0.4,
             "#fde0ef"
            ],
            [
             0.5,
             "#f7f7f7"
            ],
            [
             0.6,
             "#e6f5d0"
            ],
            [
             0.7,
             "#b8e186"
            ],
            [
             0.8,
             "#7fbc41"
            ],
            [
             0.9,
             "#4d9221"
            ],
            [
             1,
             "#276419"
            ]
           ],
           "sequential": [
            [
             0,
             "#0d0887"
            ],
            [
             0.1111111111111111,
             "#46039f"
            ],
            [
             0.2222222222222222,
             "#7201a8"
            ],
            [
             0.3333333333333333,
             "#9c179e"
            ],
            [
             0.4444444444444444,
             "#bd3786"
            ],
            [
             0.5555555555555556,
             "#d8576b"
            ],
            [
             0.6666666666666666,
             "#ed7953"
            ],
            [
             0.7777777777777778,
             "#fb9f3a"
            ],
            [
             0.8888888888888888,
             "#fdca26"
            ],
            [
             1,
             "#f0f921"
            ]
           ],
           "sequentialminus": [
            [
             0,
             "#0d0887"
            ],
            [
             0.1111111111111111,
             "#46039f"
            ],
            [
             0.2222222222222222,
             "#7201a8"
            ],
            [
             0.3333333333333333,
             "#9c179e"
            ],
            [
             0.4444444444444444,
             "#bd3786"
            ],
            [
             0.5555555555555556,
             "#d8576b"
            ],
            [
             0.6666666666666666,
             "#ed7953"
            ],
            [
             0.7777777777777778,
             "#fb9f3a"
            ],
            [
             0.8888888888888888,
             "#fdca26"
            ],
            [
             1,
             "#f0f921"
            ]
           ]
          },
          "colorway": [
           "#636efa",
           "#EF553B",
           "#00cc96",
           "#ab63fa",
           "#FFA15A",
           "#19d3f3",
           "#FF6692",
           "#B6E880",
           "#FF97FF",
           "#FECB52"
          ],
          "font": {
           "color": "#2a3f5f"
          },
          "geo": {
           "bgcolor": "white",
           "lakecolor": "white",
           "landcolor": "#E5ECF6",
           "showlakes": true,
           "showland": true,
           "subunitcolor": "white"
          },
          "hoverlabel": {
           "align": "left"
          },
          "hovermode": "closest",
          "mapbox": {
           "style": "light"
          },
          "paper_bgcolor": "white",
          "plot_bgcolor": "#E5ECF6",
          "polar": {
           "angularaxis": {
            "gridcolor": "white",
            "linecolor": "white",
            "ticks": ""
           },
           "bgcolor": "#E5ECF6",
           "radialaxis": {
            "gridcolor": "white",
            "linecolor": "white",
            "ticks": ""
           }
          },
          "scene": {
           "xaxis": {
            "backgroundcolor": "#E5ECF6",
            "gridcolor": "white",
            "gridwidth": 2,
            "linecolor": "white",
            "showbackground": true,
            "ticks": "",
            "zerolinecolor": "white"
           },
           "yaxis": {
            "backgroundcolor": "#E5ECF6",
            "gridcolor": "white",
            "gridwidth": 2,
            "linecolor": "white",
            "showbackground": true,
            "ticks": "",
            "zerolinecolor": "white"
           },
           "zaxis": {
            "backgroundcolor": "#E5ECF6",
            "gridcolor": "white",
            "gridwidth": 2,
            "linecolor": "white",
            "showbackground": true,
            "ticks": "",
            "zerolinecolor": "white"
           }
          },
          "shapedefaults": {
           "line": {
            "color": "#2a3f5f"
           }
          },
          "ternary": {
           "aaxis": {
            "gridcolor": "white",
            "linecolor": "white",
            "ticks": ""
           },
           "baxis": {
            "gridcolor": "white",
            "linecolor": "white",
            "ticks": ""
           },
           "bgcolor": "#E5ECF6",
           "caxis": {
            "gridcolor": "white",
            "linecolor": "white",
            "ticks": ""
           }
          },
          "title": {
           "x": 0.05
          },
          "xaxis": {
           "automargin": true,
           "gridcolor": "white",
           "linecolor": "white",
           "ticks": "",
           "title": {
            "standoff": 15
           },
           "zerolinecolor": "white",
           "zerolinewidth": 2
          },
          "yaxis": {
           "automargin": true,
           "gridcolor": "white",
           "linecolor": "white",
           "ticks": "",
           "title": {
            "standoff": 15
           },
           "zerolinecolor": "white",
           "zerolinewidth": 2
          }
         }
        },
        "xaxis": {
         "anchor": "y",
         "domain": [
          0,
          1
         ],
         "title": {
          "text": "TIME_PERIOD"
         }
        },
        "yaxis": {
         "anchor": "x",
         "domain": [
          0,
          1
         ],
         "title": {
          "text": "Percentage of taxes applied to energy"
         }
        }
       }
      }
     },
     "metadata": {},
     "output_type": "display_data"
    }
   ],
   "source": [
    "electricity_prices_hh_df = energy_prices_df[\n",
    "    (energy_prices_df['nrg_bal'] == 'FC_NHH_E') &\n",
    "    (energy_prices_df['siec'] == 'G3000') \n",
    "]\n",
    "\n",
    "fig = px.line(electricity_prices_hh_df, x='TIME_PERIOD', y='Percentage of taxes applied to energy', color='geo')\n",
    "fig.show()"
   ]
  },
  {
   "cell_type": "markdown",
   "metadata": {},
   "source": [
    "Key observations:\n",
    "\n",
    "- Denmark (DK, light blue line at top) consistently maintains the highest energy tax rates, ranging between 50-65% until 2020\n",
    "- Most countries maintain tax rates in the 15-30% range through most of the period\n",
    "- There's a notable disruption around 2021-2022, with dramatic drops in tax percentages for several countries, including some falling to negative values (particularly visible for Greece and Denmark)\n",
    "- By 2024, most tax rates appear to be recovering toward their pre-2021 levels\n",
    "\n",
    "This chart directly relates to the previous visualization of energy prices excluding taxes. The dramatic drop in tax percentages around 2021-2022 coincides precisely with the spike in energy prices shown in the previous chart. This strongly suggests that many European governments responded to the energy crisis by implementing tax reductions or subsidies to mitigate the impact of skyrocketing energy prices on consumers.\n",
    "The negative tax rates observed for some countries indicate that governments were providing subsidies that exceeded the normal tax amount – essentially paying part of the base energy price to protect consumers from the full impact of the price surge. As energy prices began normalizing in 2023-2024, these emergency tax cuts and subsidies are gradually being phased out, returning toward pre-crisis levels."
   ]
  },
  {
   "cell_type": "markdown",
   "metadata": {},
   "source": [
    "Finally, we are going to calculate the total cost of gas and electricity consumption as a percentage of the GDP, by country. The total cost is calculated by multiplying the consumption by the price of energy."
   ]
  },
  {
   "cell_type": "code",
   "execution_count": 17,
   "metadata": {},
   "outputs": [
    {
     "data": {
      "application/vnd.plotly.v1+json": {
       "config": {
        "plotlyServerURL": "https://plot.ly"
       },
       "data": [
        {
         "hovertemplate": "geo=AT<br>TIME_PERIOD=%{x}<br>Cost of gas consumption over GDP=%{y}<extra></extra>",
         "legendgroup": "AT",
         "line": {
          "color": "#636efa",
          "dash": "solid"
         },
         "marker": {
          "symbol": "circle"
         },
         "mode": "lines",
         "name": "AT",
         "orientation": "v",
         "showlegend": true,
         "type": "scatter",
         "x": {
          "bdata": "1wfYB9kH2gfbB9wH3QfeB98H4AfhB+IH4wfkB+UH5gfnBw==",
          "dtype": "i2"
         },
         "xaxis": "x",
         "y": {
          "bdata": "aIP6dHwgfj8I9U5XbRplP4WMEuDQmns/h+BU/7a7fD8+FQSa8Cd9P+gTXpRnSn4/uxLJ60wsfj9YYLwIg096P+owN73HAHk//a+khuBFdz9M/h9I8jl3P/vxW8V16XQ/EjnrqsQQdD/Tkm3zIcNzP6v818BWD3g/lz5FAGZ8gj8L/XrpxKCAPw==",
          "dtype": "f8"
         },
         "yaxis": "y"
        },
        {
         "hovertemplate": "geo=BE<br>TIME_PERIOD=%{x}<br>Cost of gas consumption over GDP=%{y}<extra></extra>",
         "legendgroup": "BE",
         "line": {
          "color": "#EF553B",
          "dash": "solid"
         },
         "marker": {
          "symbol": "circle"
         },
         "mode": "lines",
         "name": "BE",
         "orientation": "v",
         "showlegend": true,
         "type": "scatter",
         "x": {
          "bdata": "1wfYB9kH2gfbB9wH3QfeB98H4AfhB+IH4wfkB+UH5gfnBw==",
          "dtype": "i2"
         },
         "xaxis": "x",
         "y": {
          "bdata": "cOVpeoiXhj9qZpU7jxuNPyLnSDPUzYc/zkldXzkYiT9NwEIbKb2HP5nB2fOoDYo/ccMKxPhBij+QGZY5JFODP3gaBViFwoI/6qX8/4F0gD9PdZUbn2CAP5ywYOrp+YA/FlTKbBOOfj+fllPb64p5P224iXJDNIM/L+Z38Ju5jT/I5+Fel6mGPw==",
          "dtype": "f8"
         },
         "yaxis": "y"
        },
        {
         "hovertemplate": "geo=BG<br>TIME_PERIOD=%{x}<br>Cost of gas consumption over GDP=%{y}<extra></extra>",
         "legendgroup": "BG",
         "line": {
          "color": "#00cc96",
          "dash": "solid"
         },
         "marker": {
          "symbol": "circle"
         },
         "mode": "lines",
         "name": "BG",
         "orientation": "v",
         "showlegend": true,
         "type": "scatter",
         "x": {
          "bdata": "1wfYB9kH2gfbB9wH3QfeB98H4AfhB+IH4wfkB+UH5gfnBw==",
          "dtype": "i2"
         },
         "xaxis": "x",
         "y": {
          "bdata": "8lXKvYnRhD9IfzD837+GP9A8KApKFIE/vP4zVGXogT8dArFuvH2GPxySMsy5UIk/S+BFtwgYhz/lhSV2TBCGPxHyC4GhUoM/cH5hCVeZeT+BrgrC/xt7P+BpACNkX30/kOHFs6y5eT9ZA6LNWBl0P4uMToviZYE/GU19tM7CjT/GRhObCYt9Pw==",
          "dtype": "f8"
         },
         "yaxis": "y"
        },
        {
         "hovertemplate": "geo=CZ<br>TIME_PERIOD=%{x}<br>Cost of gas consumption over GDP=%{y}<extra></extra>",
         "legendgroup": "CZ",
         "line": {
          "color": "#ab63fa",
          "dash": "solid"
         },
         "marker": {
          "symbol": "circle"
         },
         "mode": "lines",
         "name": "CZ",
         "orientation": "v",
         "showlegend": true,
         "type": "scatter",
         "x": {
          "bdata": "1wfYB9kH2gfbB9wH3QfeB98H4AfhB+IH4wfkB+UH5gfnBw==",
          "dtype": "i2"
         },
         "xaxis": "x",
         "y": {
          "bdata": "YYYu+FPDjD8Ltp4JJ7+QP5M67KRc248/O3MIdoV2kT/OGf+4nKeQP09VsBuw75E/5/WnweI5kT8oGUaH+xKMP5Mirm0kaYs/MeA2Xmxlij/K1fd1B4qIP8KOL2grKYY/K+6LSPQ+hT8Nj59N8oCEPwUUXdT+N4Y///ont7ARjj9n1bj9BVuJPw==",
          "dtype": "f8"
         },
         "yaxis": "y"
        },
        {
         "hovertemplate": "geo=DE<br>TIME_PERIOD=%{x}<br>Cost of gas consumption over GDP=%{y}<extra></extra>",
         "legendgroup": "DE",
         "line": {
          "color": "#FFA15A",
          "dash": "solid"
         },
         "marker": {
          "symbol": "circle"
         },
         "mode": "lines",
         "name": "DE",
         "orientation": "v",
         "showlegend": true,
         "type": "scatter",
         "x": {
          "bdata": "1wfYB9kH2gfbB9wH3QfeB98H4AfhB+IH4wfkB+UH5gfnBw==",
          "dtype": "i2"
         },
         "xaxis": "x",
         "y": {
          "bdata": "pyyLVFNvgz8XggItUYKHP+PmhQgg6IM/iJ+hrW8khD9d32qT5hqCP6QoJPxuJYM/aaAtJ+P6hD95BWzCcuCAP8jIUs4wW4A/OgGX85UIfz9vEcq3dx19P4gXJFBuCX0/rhV9uTMOej9MvfN9+Kd4PxBAH39JWX0/1v2oesT3gz926LEj196EPw==",
          "dtype": "f8"
         },
         "yaxis": "y"
        },
        {
         "hovertemplate": "geo=DK<br>TIME_PERIOD=%{x}<br>Cost of gas consumption over GDP=%{y}<extra></extra>",
         "legendgroup": "DK",
         "line": {
          "color": "#19d3f3",
          "dash": "solid"
         },
         "marker": {
          "symbol": "circle"
         },
         "mode": "lines",
         "name": "DK",
         "orientation": "v",
         "showlegend": true,
         "type": "scatter",
         "x": {
          "bdata": "1wfYB9kH2gfbB9wH3QfeB98H4AfhB+IH4wfkB+UH5gfnBw==",
          "dtype": "i2"
         },
         "xaxis": "x",
         "y": {
          "bdata": "LPLYh9fRZj/Y/562Zo1qP07IvCZZJ2U/YND5owWpaj/C+rvv65FqPzQFxpNjq2c/2vJVEwAlZj+YOkADY39gPyG/9+ilFGI/VDc75xKTXj/KMujq3atgP9+LT6gxrmE/9Ob0ru39XD9IJykKGUhYP5Fkv5cMXmg/P52YZvgUdT8/YC5aeX1mPw==",
          "dtype": "f8"
         },
         "yaxis": "y"
        },
        {
         "hovertemplate": "geo=EE<br>TIME_PERIOD=%{x}<br>Cost of gas consumption over GDP=%{y}<extra></extra>",
         "legendgroup": "EE",
         "line": {
          "color": "#FF6692",
          "dash": "solid"
         },
         "marker": {
          "symbol": "circle"
         },
         "mode": "lines",
         "name": "EE",
         "orientation": "v",
         "showlegend": true,
         "type": "scatter",
         "x": {
          "bdata": "1wfYB9kH2gfbB9wH3QfeB98H4AfhB+IH4wfkB+UH5gfnBw==",
          "dtype": "i2"
         },
         "xaxis": "x",
         "y": {
          "bdata": "j8Ft+MCFbz/5ICrFwcVyPyC1ps+hQnA/o+viXWeWcj8jOmCxnKhxP5+1kBKwenU/pCRSdgPgdj9FdzxdLhZzPybuReHG2G4/u3DgRuFXaD+fjgNNOuZnPyyxSOm5eGk/bE9Pw0pMZj+5H33BG6tiP5FvzvSZn28/sgdLFArJcz/FOfBa5PdnPw==",
          "dtype": "f8"
         },
         "yaxis": "y"
        },
        {
         "hovertemplate": "geo=ES<br>TIME_PERIOD=%{x}<br>Cost of gas consumption over GDP=%{y}<extra></extra>",
         "legendgroup": "ES",
         "line": {
          "color": "#B6E880",
          "dash": "solid"
         },
         "marker": {
          "symbol": "circle"
         },
         "mode": "lines",
         "name": "ES",
         "orientation": "v",
         "showlegend": true,
         "type": "scatter",
         "x": {
          "bdata": "1wfYB9kH2gfbB9wH3QfeB98H4AfhB+IH4wfkB+UH5gfnBw==",
          "dtype": "i2"
         },
         "xaxis": "x",
         "y": {
          "bdata": "hBXb48NUdT8QwBLg1EN2Pyu1wRwDbXQ/XkM1mg3VdT8o8vRjc4N3P3AbzJlq834/dj5UeYzffj+Kr+j366Z9P87+WKJgjHk/aTREIyGldT/qy/DtvMl0P5DoZrtMbXY/Unx3rk4Pdj/i8FLp72x0P0gw7FIo1ng/cVsA+qNrhD/gvW49cqt5Pw==",
          "dtype": "f8"
         },
         "yaxis": "y"
        },
        {
         "hovertemplate": "geo=FR<br>TIME_PERIOD=%{x}<br>Cost of gas consumption over GDP=%{y}<extra></extra>",
         "legendgroup": "FR",
         "line": {
          "color": "#FF97FF",
          "dash": "solid"
         },
         "marker": {
          "symbol": "circle"
         },
         "mode": "lines",
         "name": "FR",
         "orientation": "v",
         "showlegend": true,
         "type": "scatter",
         "x": {
          "bdata": "1wfYB9kH2gfbB9wH3QfeB98H4AfhB+IH4wfkB+UH5gfnBw==",
          "dtype": "i2"
         },
         "xaxis": "x",
         "y": {
          "bdata": "DBhcE8g8fz9ewSVNk42BP+TdCe6POoE/q3RdyznqgD8kfDgzeOeAPxFesQG6Y4M/alMSEraihD/3/lynhYeAPzoRrP59UH8/PHux4Kh5fT9K7sKAIOV6P3yv3F842no/+Uhd+nrMeD9hWnrskYV2P7NoL3b7Rns/ezJbMkIIgD+QH/X1Ayt+Pw==",
          "dtype": "f8"
         },
         "yaxis": "y"
        },
        {
         "hovertemplate": "geo=HR<br>TIME_PERIOD=%{x}<br>Cost of gas consumption over GDP=%{y}<extra></extra>",
         "legendgroup": "HR",
         "line": {
          "color": "#FECB52",
          "dash": "solid"
         },
         "marker": {
          "symbol": "circle"
         },
         "mode": "lines",
         "name": "HR",
         "orientation": "v",
         "showlegend": true,
         "type": "scatter",
         "x": {
          "bdata": "1wfYB9kH2gfbB9wH3QfeB98H4AfhB+IH4wfkB+UH5gfnBw==",
          "dtype": "i2"
         },
         "xaxis": "x",
         "y": {
          "bdata": "7xEuSAH9fD9Vwo/+6KR7P5qlPkWv1YA/A+9bjS+fhj+AQsCpj4WGP6NlhM9xN4Y/Ww7SRtYGhT9xHUumBtqDP7C+4UfOpYM//ZcV4b63gD/oQoDU8EB9P4Ey/6dJlHw/kFVGnd7Aez+t/fopagd/PzhI5MHD234/sNWHnx1wgz/s7HHm7U2APw==",
          "dtype": "f8"
         },
         "yaxis": "y"
        },
        {
         "hovertemplate": "geo=HU<br>TIME_PERIOD=%{x}<br>Cost of gas consumption over GDP=%{y}<extra></extra>",
         "legendgroup": "HU",
         "line": {
          "color": "#636efa",
          "dash": "solid"
         },
         "marker": {
          "symbol": "circle"
         },
         "mode": "lines",
         "name": "HU",
         "orientation": "v",
         "showlegend": true,
         "type": "scatter",
         "x": {
          "bdata": "1wfYB9kH2gfbB9wH3QfeB98H4AfhB+IH4wfkB+UH5gfnBw==",
          "dtype": "i2"
         },
         "xaxis": "x",
         "y": {
          "bdata": "RtYyBh9VlT/ZKomTX5WYP63cuQiP6Zo/2aW/GMuQnD8eHx5EJ6icP7Lql3VrpJg/gYD0v7jFlz//PvI5cjCSPy+I64yzuZA/uX178JBajj+uCZQb5wuMP32hE39DDoo/pLhV9tS+hj/f6CgICFiGP2zXo0x+Yos/aVC3eb7klD8k4KXS1RuOPw==",
          "dtype": "f8"
         },
         "yaxis": "y"
        },
        {
         "hovertemplate": "geo=IE<br>TIME_PERIOD=%{x}<br>Cost of gas consumption over GDP=%{y}<extra></extra>",
         "legendgroup": "IE",
         "line": {
          "color": "#EF553B",
          "dash": "solid"
         },
         "marker": {
          "symbol": "circle"
         },
         "mode": "lines",
         "name": "IE",
         "orientation": "v",
         "showlegend": true,
         "type": "scatter",
         "x": {
          "bdata": "1wfYB9kH2gfbB9wH3QfeB98H4AfhB+IH4wfkB+UH5gfnBw==",
          "dtype": "i2"
         },
         "xaxis": "x",
         "y": {
          "bdata": "660lhAjEcD+5dIjSqHNyP+/ZgHBut3E/39FtkhWHcD/V0q5WdV5wP9GJu4sL53I/Hw+5G+17dD8CEKJehf9xP6g5bA0k1mo/3GrLbjzkaD/17JXgtoxmP8r8dIuasWc/+BQEg0XFZD9JkbMYDjZiPyCvC9jxzmI/642cHkcDbD+VA2EGFSZsPw==",
          "dtype": "f8"
         },
         "yaxis": "y"
        },
        {
         "hovertemplate": "geo=IT<br>TIME_PERIOD=%{x}<br>Cost of gas consumption over GDP=%{y}<extra></extra>",
         "legendgroup": "IT",
         "line": {
          "color": "#00cc96",
          "dash": "solid"
         },
         "marker": {
          "symbol": "circle"
         },
         "mode": "lines",
         "name": "IT",
         "orientation": "v",
         "showlegend": true,
         "type": "scatter",
         "x": {
          "bdata": "1wfYB9kH2gfbB9wH3QfeB98H4AfhB+IH4wfkB+UH5gfnBw==",
          "dtype": "i2"
         },
         "xaxis": "x",
         "y": {
          "bdata": "wJMaY0aogj+oXYsvGrCFP4HGnFGC3IQ/Zp1M8NV5hT8P2M4NoimGP/M3XN/jUoo/y/bC5niKij+tfbTtXWCGP01vSGBLhIY/e/t+Bjo8hD8Kytr9VM+DP+Ys1R3AyYQ/kdnkGEmkhD84858qp6qDP2NY2Fpo4Ig/3HH2OoFylT/EZxyBbY+PPw==",
          "dtype": "f8"
         },
         "yaxis": "y"
        },
        {
         "hovertemplate": "geo=LT<br>TIME_PERIOD=%{x}<br>Cost of gas consumption over GDP=%{y}<extra></extra>",
         "legendgroup": "LT",
         "line": {
          "color": "#ab63fa",
          "dash": "solid"
         },
         "marker": {
          "symbol": "circle"
         },
         "mode": "lines",
         "name": "LT",
         "orientation": "v",
         "showlegend": true,
         "type": "scatter",
         "x": {
          "bdata": "1wfYB9kH2gfbB9wH3QfeB98H4AfhB+IH4wfkB+UH5gfnBw==",
          "dtype": "i2"
         },
         "xaxis": "x",
         "y": {
          "bdata": "zNwbIhJBeD8N6xyHX7R/P71Z1eh/u34/BVpV+7zcgT8B0e3IhLiCP84I7kCLkIU/wWhEJP5pgT/ZZwoy5dR8P6kiQp8tNXU/bG8SV9x3dD9mnZe29i5zP+qKzJVKKXQ/30/2vPltbD85/d4u/f1nPzmrsVECIHg/QOYU9haNhD/iZ9DkRtSAPw==",
          "dtype": "f8"
         },
         "yaxis": "y"
        },
        {
         "hovertemplate": "geo=LU<br>TIME_PERIOD=%{x}<br>Cost of gas consumption over GDP=%{y}<extra></extra>",
         "legendgroup": "LU",
         "line": {
          "color": "#FFA15A",
          "dash": "solid"
         },
         "marker": {
          "symbol": "circle"
         },
         "mode": "lines",
         "name": "LU",
         "orientation": "v",
         "showlegend": true,
         "type": "scatter",
         "x": {
          "bdata": "1wfYB9kH2gfbB9wH3QfeB98H4AfhB+IH4wfkB+UH5gfnBw==",
          "dtype": "i2"
         },
         "xaxis": "x",
         "y": {
          "bdata": "ZES9v7FaeD+mMASAFs9+P7fpTf6G6n4/922SYaS5fT+vdbtAn25+P32VfXAwk38/nP7XcFtifj+ECoIdEf53PyklTKup4nU/VYAGWucycz8WFO/+QK9xP6D/DHvhFnE/7NINh7EScT+dXF0dr9hrP7EN30KGEHA/RB6LX7OGez9lYGYoWcV+Pw==",
          "dtype": "f8"
         },
         "yaxis": "y"
        },
        {
         "hovertemplate": "geo=LV<br>TIME_PERIOD=%{x}<br>Cost of gas consumption over GDP=%{y}<extra></extra>",
         "legendgroup": "LV",
         "line": {
          "color": "#19d3f3",
          "dash": "solid"
         },
         "marker": {
          "symbol": "circle"
         },
         "mode": "lines",
         "name": "LV",
         "orientation": "v",
         "showlegend": true,
         "type": "scatter",
         "x": {
          "bdata": "1wfYB9kH2gfbB9wH3QfeB98H4AfhB+IH4wfkB+UH5gfnBw==",
          "dtype": "i2"
         },
         "xaxis": "x",
         "y": {
          "bdata": "UNls2cJGfz+ZT3B5vmuCP4NFSJwEHIU/27Xzlwd0hT/ZMA3CqvSAP2MQ9Uvyc4I/XYl1iFxMfT9pDD58Oq55P66HhDpxuXY/7s2dsnKecj91dWZ+oEtyP49WFRWvhnM/+i8a5Ynpcj8TrEzfoGtvP3lpdXUzBXY/KhV3xsE8hj87r9+uG3KAPw==",
          "dtype": "f8"
         },
         "yaxis": "y"
        },
        {
         "hovertemplate": "geo=NL<br>TIME_PERIOD=%{x}<br>Cost of gas consumption over GDP=%{y}<extra></extra>",
         "legendgroup": "NL",
         "line": {
          "color": "#FF6692",
          "dash": "solid"
         },
         "marker": {
          "symbol": "circle"
         },
         "mode": "lines",
         "name": "NL",
         "orientation": "v",
         "showlegend": true,
         "type": "scatter",
         "x": {
          "bdata": "1wfYB9kH2gfbB9wH3QfeB98H4AfhB+IH4wfkB+UH5gfnBw==",
          "dtype": "i2"
         },
         "xaxis": "x",
         "y": {
          "bdata": "Gry0Mvy3jD8OT4o/UemPP/u0MMgKJY4/f6PVOAJcjj9IGAZzT1WKP4rXnI0CsI0/K82chPYIjz/QonK982SHPzaP1wof3IY/a82KGOEZhD+xPS9LqdSCP23DTRCdJoI/R9H6b22RgD86DEumZcF+P3U+wm66ZoI/iI64Q6ytjT84MU87b++KPw==",
          "dtype": "f8"
         },
         "yaxis": "y"
        },
        {
         "hovertemplate": "geo=PL<br>TIME_PERIOD=%{x}<br>Cost of gas consumption over GDP=%{y}<extra></extra>",
         "legendgroup": "PL",
         "line": {
          "color": "#B6E880",
          "dash": "solid"
         },
         "marker": {
          "symbol": "circle"
         },
         "mode": "lines",
         "name": "PL",
         "orientation": "v",
         "showlegend": true,
         "type": "scatter",
         "x": {
          "bdata": "1wfYB9kH2gfbB9wH3QfeB98H4AfhB+IH4wfkB+UH5gfnBw==",
          "dtype": "i2"
         },
         "xaxis": "x",
         "y": {
          "bdata": "cN/yFslygj+iAF8akO+CP/dWO2IfjYM/C+jNDbRohD8DFHjlikWDPw9enzDDS4U/kiB833EShT/8jkv2yfiCP73bBB60xYE/3hmW+JpAfz9whDPoz5x8P35pfSoognw/wLFPy/61fD/fKBhDQQF6PxUtbxV+y4A/nCFyucjrhz/kG5MZ6kuFPw==",
          "dtype": "f8"
         },
         "yaxis": "y"
        },
        {
         "hovertemplate": "geo=PT<br>TIME_PERIOD=%{x}<br>Cost of gas consumption over GDP=%{y}<extra></extra>",
         "legendgroup": "PT",
         "line": {
          "color": "#FF97FF",
          "dash": "solid"
         },
         "marker": {
          "symbol": "circle"
         },
         "mode": "lines",
         "name": "PT",
         "orientation": "v",
         "showlegend": true,
         "type": "scatter",
         "x": {
          "bdata": "1wfYB9kH2gfbB9wH3QfeB98H4AfhB+IH4wfkB+UH5gfnBw==",
          "dtype": "i2"
         },
         "xaxis": "x",
         "y": {
          "bdata": "gKCChqkqbD9SuR+4hgpuP0vLEBaLTm4/g2714TsUcD9RQJclwRtzPyLZTSW3EXY/kEn+tCYndj+ZPoDsPth2Pw7VgTh8BXY/FcF2fgIDcT893+F6gvBtPyq0wXlJ+m4/ZpZw7/czbj84l7c/XbVrP/knxL/TsW4/iefeohuBez8uGAFngqB2Pw==",
          "dtype": "f8"
         },
         "yaxis": "y"
        },
        {
         "hovertemplate": "geo=RO<br>TIME_PERIOD=%{x}<br>Cost of gas consumption over GDP=%{y}<extra></extra>",
         "legendgroup": "RO",
         "line": {
          "color": "#FECB52",
          "dash": "solid"
         },
         "marker": {
          "symbol": "circle"
         },
         "mode": "lines",
         "name": "RO",
         "orientation": "v",
         "showlegend": true,
         "type": "scatter",
         "x": {
          "bdata": "1wfYB9kH2gfbB9wH3QfeB98H4AfhB+IH4wfkB+UH5gfnBw==",
          "dtype": "i2"
         },
         "xaxis": "x",
         "y": {
          "bdata": "oSdmR8erij94VT6QlomHP09K7Xqfu4A/G2PvaK2sfz8etH/vAXKAP0KGXdfUgIE/4Kqm03cAgT/LuT4n2DCAP9p7iwSV8nw/2+dBBHYkej9qJ2EpzZ2BPz975VMziIE/YIzfYEHngD9Fr1ODVvl/P5FsO3y68oU/lP1crErWlT+SYLvIWiGCPw==",
          "dtype": "f8"
         },
         "yaxis": "y"
        },
        {
         "hovertemplate": "geo=SE<br>TIME_PERIOD=%{x}<br>Cost of gas consumption over GDP=%{y}<extra></extra>",
         "legendgroup": "SE",
         "line": {
          "color": "#636efa",
          "dash": "solid"
         },
         "marker": {
          "symbol": "circle"
         },
         "mode": "lines",
         "name": "SE",
         "orientation": "v",
         "showlegend": true,
         "type": "scatter",
         "x": {
          "bdata": "1wfYB9kH2gfbB9wH3QfeB98H4AfhB+IH4wfkB+UH5gfnBw==",
          "dtype": "i2"
         },
         "xaxis": "x",
         "y": {
          "bdata": "BJ48ZYLCRz/LXUSE3XhJPwTjxmNUb0Y/ptkebuRrSj+TpFdILlpKP0NJdf/d70o/kOAXHyHGRT9FkTujlBBEPy5OkX++IEQ/2EfjBPnRPD/HB8hyrNc3P0q5Qhs5bUE/Jc+wK1OtOj+2rECO+sxBPzCEx9WxqUg/vU+xspvRUz+2YhvDkZhHPw==",
          "dtype": "f8"
         },
         "yaxis": "y"
        },
        {
         "hovertemplate": "geo=SI<br>TIME_PERIOD=%{x}<br>Cost of gas consumption over GDP=%{y}<extra></extra>",
         "legendgroup": "SI",
         "line": {
          "color": "#EF553B",
          "dash": "solid"
         },
         "marker": {
          "symbol": "circle"
         },
         "mode": "lines",
         "name": "SI",
         "orientation": "v",
         "showlegend": true,
         "type": "scatter",
         "x": {
          "bdata": "1wfYB9kH2gfbB9wH3QfeB98H4AfhB+IH4wfkB+UH5gfnBw==",
          "dtype": "i2"
         },
         "xaxis": "x",
         "y": {
          "bdata": "nGLG+OkEfj/JTvxLoeSBP8OYGHgSnYA/Gj06jMuXgT8syMacxY2DP4tum81CHYQ/62nxiELbgD+z6YZid8J8P1h+T4sCRXs/X9sIr+L/eD9SnUNW8o91P62l3jNcN3U/nkeDtW85dD/vbw6K8rdyP1RefGQqVXQ/o3/ajm6BgD+hDdk/mlR+Pw==",
          "dtype": "f8"
         },
         "yaxis": "y"
        },
        {
         "hovertemplate": "geo=SK<br>TIME_PERIOD=%{x}<br>Cost of gas consumption over GDP=%{y}<extra></extra>",
         "legendgroup": "SK",
         "line": {
          "color": "#00cc96",
          "dash": "solid"
         },
         "marker": {
          "symbol": "circle"
         },
         "mode": "lines",
         "name": "SK",
         "orientation": "v",
         "showlegend": true,
         "type": "scatter",
         "x": {
          "bdata": "1wfYB9kH2gfbB9wH3QfeB98H4AfhB+IH4wfkB+UH5gfnBw==",
          "dtype": "i2"
         },
         "xaxis": "x",
         "y": {
          "bdata": "KEVmr8hZmT9yNTu0ghKcP3O9FjI2PJg/z1hxwKx1mD9y15kGLXaVP2ogC8SE85Q/PBT6t3O8lT8CH13vmbyRP1IQ4x6ja5A/CGFwx/mzjj+xl3UZi86MP6CWVy9mA4s/LCukT9EajD9+S6UGAQ2LP5sXJDr3uYs/f7lHVKNUkj/qQ6s0ZcWSPw==",
          "dtype": "f8"
         },
         "yaxis": "y"
        }
       ],
       "layout": {
        "legend": {
         "title": {
          "text": "geo"
         },
         "tracegroupgap": 0
        },
        "margin": {
         "t": 60
        },
        "template": {
         "data": {
          "bar": [
           {
            "error_x": {
             "color": "#2a3f5f"
            },
            "error_y": {
             "color": "#2a3f5f"
            },
            "marker": {
             "line": {
              "color": "#E5ECF6",
              "width": 0.5
             },
             "pattern": {
              "fillmode": "overlay",
              "size": 10,
              "solidity": 0.2
             }
            },
            "type": "bar"
           }
          ],
          "barpolar": [
           {
            "marker": {
             "line": {
              "color": "#E5ECF6",
              "width": 0.5
             },
             "pattern": {
              "fillmode": "overlay",
              "size": 10,
              "solidity": 0.2
             }
            },
            "type": "barpolar"
           }
          ],
          "carpet": [
           {
            "aaxis": {
             "endlinecolor": "#2a3f5f",
             "gridcolor": "white",
             "linecolor": "white",
             "minorgridcolor": "white",
             "startlinecolor": "#2a3f5f"
            },
            "baxis": {
             "endlinecolor": "#2a3f5f",
             "gridcolor": "white",
             "linecolor": "white",
             "minorgridcolor": "white",
             "startlinecolor": "#2a3f5f"
            },
            "type": "carpet"
           }
          ],
          "choropleth": [
           {
            "colorbar": {
             "outlinewidth": 0,
             "ticks": ""
            },
            "type": "choropleth"
           }
          ],
          "contour": [
           {
            "colorbar": {
             "outlinewidth": 0,
             "ticks": ""
            },
            "colorscale": [
             [
              0,
              "#0d0887"
             ],
             [
              0.1111111111111111,
              "#46039f"
             ],
             [
              0.2222222222222222,
              "#7201a8"
             ],
             [
              0.3333333333333333,
              "#9c179e"
             ],
             [
              0.4444444444444444,
              "#bd3786"
             ],
             [
              0.5555555555555556,
              "#d8576b"
             ],
             [
              0.6666666666666666,
              "#ed7953"
             ],
             [
              0.7777777777777778,
              "#fb9f3a"
             ],
             [
              0.8888888888888888,
              "#fdca26"
             ],
             [
              1,
              "#f0f921"
             ]
            ],
            "type": "contour"
           }
          ],
          "contourcarpet": [
           {
            "colorbar": {
             "outlinewidth": 0,
             "ticks": ""
            },
            "type": "contourcarpet"
           }
          ],
          "heatmap": [
           {
            "colorbar": {
             "outlinewidth": 0,
             "ticks": ""
            },
            "colorscale": [
             [
              0,
              "#0d0887"
             ],
             [
              0.1111111111111111,
              "#46039f"
             ],
             [
              0.2222222222222222,
              "#7201a8"
             ],
             [
              0.3333333333333333,
              "#9c179e"
             ],
             [
              0.4444444444444444,
              "#bd3786"
             ],
             [
              0.5555555555555556,
              "#d8576b"
             ],
             [
              0.6666666666666666,
              "#ed7953"
             ],
             [
              0.7777777777777778,
              "#fb9f3a"
             ],
             [
              0.8888888888888888,
              "#fdca26"
             ],
             [
              1,
              "#f0f921"
             ]
            ],
            "type": "heatmap"
           }
          ],
          "histogram": [
           {
            "marker": {
             "pattern": {
              "fillmode": "overlay",
              "size": 10,
              "solidity": 0.2
             }
            },
            "type": "histogram"
           }
          ],
          "histogram2d": [
           {
            "colorbar": {
             "outlinewidth": 0,
             "ticks": ""
            },
            "colorscale": [
             [
              0,
              "#0d0887"
             ],
             [
              0.1111111111111111,
              "#46039f"
             ],
             [
              0.2222222222222222,
              "#7201a8"
             ],
             [
              0.3333333333333333,
              "#9c179e"
             ],
             [
              0.4444444444444444,
              "#bd3786"
             ],
             [
              0.5555555555555556,
              "#d8576b"
             ],
             [
              0.6666666666666666,
              "#ed7953"
             ],
             [
              0.7777777777777778,
              "#fb9f3a"
             ],
             [
              0.8888888888888888,
              "#fdca26"
             ],
             [
              1,
              "#f0f921"
             ]
            ],
            "type": "histogram2d"
           }
          ],
          "histogram2dcontour": [
           {
            "colorbar": {
             "outlinewidth": 0,
             "ticks": ""
            },
            "colorscale": [
             [
              0,
              "#0d0887"
             ],
             [
              0.1111111111111111,
              "#46039f"
             ],
             [
              0.2222222222222222,
              "#7201a8"
             ],
             [
              0.3333333333333333,
              "#9c179e"
             ],
             [
              0.4444444444444444,
              "#bd3786"
             ],
             [
              0.5555555555555556,
              "#d8576b"
             ],
             [
              0.6666666666666666,
              "#ed7953"
             ],
             [
              0.7777777777777778,
              "#fb9f3a"
             ],
             [
              0.8888888888888888,
              "#fdca26"
             ],
             [
              1,
              "#f0f921"
             ]
            ],
            "type": "histogram2dcontour"
           }
          ],
          "mesh3d": [
           {
            "colorbar": {
             "outlinewidth": 0,
             "ticks": ""
            },
            "type": "mesh3d"
           }
          ],
          "parcoords": [
           {
            "line": {
             "colorbar": {
              "outlinewidth": 0,
              "ticks": ""
             }
            },
            "type": "parcoords"
           }
          ],
          "pie": [
           {
            "automargin": true,
            "type": "pie"
           }
          ],
          "scatter": [
           {
            "fillpattern": {
             "fillmode": "overlay",
             "size": 10,
             "solidity": 0.2
            },
            "type": "scatter"
           }
          ],
          "scatter3d": [
           {
            "line": {
             "colorbar": {
              "outlinewidth": 0,
              "ticks": ""
             }
            },
            "marker": {
             "colorbar": {
              "outlinewidth": 0,
              "ticks": ""
             }
            },
            "type": "scatter3d"
           }
          ],
          "scattercarpet": [
           {
            "marker": {
             "colorbar": {
              "outlinewidth": 0,
              "ticks": ""
             }
            },
            "type": "scattercarpet"
           }
          ],
          "scattergeo": [
           {
            "marker": {
             "colorbar": {
              "outlinewidth": 0,
              "ticks": ""
             }
            },
            "type": "scattergeo"
           }
          ],
          "scattergl": [
           {
            "marker": {
             "colorbar": {
              "outlinewidth": 0,
              "ticks": ""
             }
            },
            "type": "scattergl"
           }
          ],
          "scattermap": [
           {
            "marker": {
             "colorbar": {
              "outlinewidth": 0,
              "ticks": ""
             }
            },
            "type": "scattermap"
           }
          ],
          "scattermapbox": [
           {
            "marker": {
             "colorbar": {
              "outlinewidth": 0,
              "ticks": ""
             }
            },
            "type": "scattermapbox"
           }
          ],
          "scatterpolar": [
           {
            "marker": {
             "colorbar": {
              "outlinewidth": 0,
              "ticks": ""
             }
            },
            "type": "scatterpolar"
           }
          ],
          "scatterpolargl": [
           {
            "marker": {
             "colorbar": {
              "outlinewidth": 0,
              "ticks": ""
             }
            },
            "type": "scatterpolargl"
           }
          ],
          "scatterternary": [
           {
            "marker": {
             "colorbar": {
              "outlinewidth": 0,
              "ticks": ""
             }
            },
            "type": "scatterternary"
           }
          ],
          "surface": [
           {
            "colorbar": {
             "outlinewidth": 0,
             "ticks": ""
            },
            "colorscale": [
             [
              0,
              "#0d0887"
             ],
             [
              0.1111111111111111,
              "#46039f"
             ],
             [
              0.2222222222222222,
              "#7201a8"
             ],
             [
              0.3333333333333333,
              "#9c179e"
             ],
             [
              0.4444444444444444,
              "#bd3786"
             ],
             [
              0.5555555555555556,
              "#d8576b"
             ],
             [
              0.6666666666666666,
              "#ed7953"
             ],
             [
              0.7777777777777778,
              "#fb9f3a"
             ],
             [
              0.8888888888888888,
              "#fdca26"
             ],
             [
              1,
              "#f0f921"
             ]
            ],
            "type": "surface"
           }
          ],
          "table": [
           {
            "cells": {
             "fill": {
              "color": "#EBF0F8"
             },
             "line": {
              "color": "white"
             }
            },
            "header": {
             "fill": {
              "color": "#C8D4E3"
             },
             "line": {
              "color": "white"
             }
            },
            "type": "table"
           }
          ]
         },
         "layout": {
          "annotationdefaults": {
           "arrowcolor": "#2a3f5f",
           "arrowhead": 0,
           "arrowwidth": 1
          },
          "autotypenumbers": "strict",
          "coloraxis": {
           "colorbar": {
            "outlinewidth": 0,
            "ticks": ""
           }
          },
          "colorscale": {
           "diverging": [
            [
             0,
             "#8e0152"
            ],
            [
             0.1,
             "#c51b7d"
            ],
            [
             0.2,
             "#de77ae"
            ],
            [
             0.3,
             "#f1b6da"
            ],
            [
             0.4,
             "#fde0ef"
            ],
            [
             0.5,
             "#f7f7f7"
            ],
            [
             0.6,
             "#e6f5d0"
            ],
            [
             0.7,
             "#b8e186"
            ],
            [
             0.8,
             "#7fbc41"
            ],
            [
             0.9,
             "#4d9221"
            ],
            [
             1,
             "#276419"
            ]
           ],
           "sequential": [
            [
             0,
             "#0d0887"
            ],
            [
             0.1111111111111111,
             "#46039f"
            ],
            [
             0.2222222222222222,
             "#7201a8"
            ],
            [
             0.3333333333333333,
             "#9c179e"
            ],
            [
             0.4444444444444444,
             "#bd3786"
            ],
            [
             0.5555555555555556,
             "#d8576b"
            ],
            [
             0.6666666666666666,
             "#ed7953"
            ],
            [
             0.7777777777777778,
             "#fb9f3a"
            ],
            [
             0.8888888888888888,
             "#fdca26"
            ],
            [
             1,
             "#f0f921"
            ]
           ],
           "sequentialminus": [
            [
             0,
             "#0d0887"
            ],
            [
             0.1111111111111111,
             "#46039f"
            ],
            [
             0.2222222222222222,
             "#7201a8"
            ],
            [
             0.3333333333333333,
             "#9c179e"
            ],
            [
             0.4444444444444444,
             "#bd3786"
            ],
            [
             0.5555555555555556,
             "#d8576b"
            ],
            [
             0.6666666666666666,
             "#ed7953"
            ],
            [
             0.7777777777777778,
             "#fb9f3a"
            ],
            [
             0.8888888888888888,
             "#fdca26"
            ],
            [
             1,
             "#f0f921"
            ]
           ]
          },
          "colorway": [
           "#636efa",
           "#EF553B",
           "#00cc96",
           "#ab63fa",
           "#FFA15A",
           "#19d3f3",
           "#FF6692",
           "#B6E880",
           "#FF97FF",
           "#FECB52"
          ],
          "font": {
           "color": "#2a3f5f"
          },
          "geo": {
           "bgcolor": "white",
           "lakecolor": "white",
           "landcolor": "#E5ECF6",
           "showlakes": true,
           "showland": true,
           "subunitcolor": "white"
          },
          "hoverlabel": {
           "align": "left"
          },
          "hovermode": "closest",
          "mapbox": {
           "style": "light"
          },
          "paper_bgcolor": "white",
          "plot_bgcolor": "#E5ECF6",
          "polar": {
           "angularaxis": {
            "gridcolor": "white",
            "linecolor": "white",
            "ticks": ""
           },
           "bgcolor": "#E5ECF6",
           "radialaxis": {
            "gridcolor": "white",
            "linecolor": "white",
            "ticks": ""
           }
          },
          "scene": {
           "xaxis": {
            "backgroundcolor": "#E5ECF6",
            "gridcolor": "white",
            "gridwidth": 2,
            "linecolor": "white",
            "showbackground": true,
            "ticks": "",
            "zerolinecolor": "white"
           },
           "yaxis": {
            "backgroundcolor": "#E5ECF6",
            "gridcolor": "white",
            "gridwidth": 2,
            "linecolor": "white",
            "showbackground": true,
            "ticks": "",
            "zerolinecolor": "white"
           },
           "zaxis": {
            "backgroundcolor": "#E5ECF6",
            "gridcolor": "white",
            "gridwidth": 2,
            "linecolor": "white",
            "showbackground": true,
            "ticks": "",
            "zerolinecolor": "white"
           }
          },
          "shapedefaults": {
           "line": {
            "color": "#2a3f5f"
           }
          },
          "ternary": {
           "aaxis": {
            "gridcolor": "white",
            "linecolor": "white",
            "ticks": ""
           },
           "baxis": {
            "gridcolor": "white",
            "linecolor": "white",
            "ticks": ""
           },
           "bgcolor": "#E5ECF6",
           "caxis": {
            "gridcolor": "white",
            "linecolor": "white",
            "ticks": ""
           }
          },
          "title": {
           "x": 0.05
          },
          "xaxis": {
           "automargin": true,
           "gridcolor": "white",
           "linecolor": "white",
           "ticks": "",
           "title": {
            "standoff": 15
           },
           "zerolinecolor": "white",
           "zerolinewidth": 2
          },
          "yaxis": {
           "automargin": true,
           "gridcolor": "white",
           "linecolor": "white",
           "ticks": "",
           "title": {
            "standoff": 15
           },
           "zerolinecolor": "white",
           "zerolinewidth": 2
          }
         }
        },
        "xaxis": {
         "anchor": "y",
         "domain": [
          0,
          1
         ],
         "title": {
          "text": "TIME_PERIOD"
         }
        },
        "yaxis": {
         "anchor": "x",
         "domain": [
          0,
          1
         ],
         "title": {
          "text": "Cost of gas consumption over GDP"
         }
        }
       }
      }
     },
     "metadata": {},
     "output_type": "display_data"
    }
   ],
   "source": [
    "prices_and_comsumption = pd.merge(energy_prices_df, nrg_bal_df, on=['geo', 'TIME_PERIOD', 'siec', 'nrg_bal'])\n",
    "prices_and_comsumption['total_consumption'] = prices_and_comsumption['GWh consumption'] * prices_and_comsumption['EUR per Kwh Excluding tax'] * 10**6\n",
    "\n",
    "prices_and_consumption_gas = prices_and_comsumption[prices_and_comsumption['siec'] == 'G3000']\n",
    "cost_of_gas = prices_and_consumption_gas.groupby(['geo', 'TIME_PERIOD'])['total_consumption'].sum().reset_index()\n",
    "\n",
    "gdp_df.rename(columns={\"OBS_VALUE\": \"GDP\", \"REF_AREA\": \"geo\"}, inplace=True)\n",
    "\n",
    "cost_of_gas_over_gdp = pd.merge(cost_of_gas, gdp_df, on=['geo', 'TIME_PERIOD'])\n",
    "cost_of_gas_over_gdp['Cost of gas consumption over GDP'] = cost_of_gas_over_gdp['total_consumption'] / cost_of_gas_over_gdp['GDP']\n",
    "\n",
    "fig = px.line(cost_of_gas_over_gdp, x='TIME_PERIOD', y='Cost of gas consumption over GDP', color='geo')\n",
    "fig.show()"
   ]
  },
  {
   "cell_type": "markdown",
   "metadata": {},
   "source": [
    "Key observations:\n",
    "\n",
    "- Slovakia (SK, green line at top initially) and Hungary (HU, blue line) show the highest gas costs relative to GDP in the earlier years, reaching around 0.025-0.028 (2.5-2.8% of GDP)\n",
    "- Most countries show a general declining trend from 2012 to 2020, suggesting improving energy efficiency or reduced reliance on gas relative to economic output\n",
    "- A significant spike occurs for all countries in 2021-2022, coinciding with the European energy crisis shown in previous charts\n",
    "- By 2023, the ratios begin declining again but remain above pre-crisis levels\n",
    "\n",
    "This chart complements the previous visualizations by showing the economic burden of energy costs. The spike in 2021-2022 aligns perfectly with the price surge seen in the energy prices chart, but this visualization emphasizes the macroeconomic impact of the crisis.\n",
    "The data reveals that despite government interventions through tax reductions and subsidies (as shown in the previous chart), the energy crisis still resulted in gas costs consuming a significantly larger share of GDP across Europe. This suggests that while policy measures helped mitigate the impact on consumers, the overall economic burden of higher energy prices was substantial.\n",
    "The varying heights of lines also highlight differences in gas dependency and energy efficiency across European economies, with some eastern European countries showing persistently higher gas-to-GDP ratios throughout the period."
   ]
  },
  {
   "cell_type": "markdown",
   "metadata": {},
   "source": [
    "And for the electricity consumption:"
   ]
  },
  {
   "cell_type": "code",
   "execution_count": 18,
   "metadata": {},
   "outputs": [
    {
     "data": {
      "application/vnd.plotly.v1+json": {
       "config": {
        "plotlyServerURL": "https://plot.ly"
       },
       "data": [
        {
         "hovertemplate": "geo=AT<br>TIME_PERIOD=%{x}<br>Cost of electricity over GDP=%{y}<extra></extra>",
         "legendgroup": "AT",
         "line": {
          "color": "#636efa",
          "dash": "solid"
         },
         "marker": {
          "symbol": "circle"
         },
         "mode": "lines",
         "name": "AT",
         "orientation": "v",
         "showlegend": true,
         "type": "scatter",
         "x": {
          "bdata": "1wfYB9kH2gfbB9wH3QfeB98H4AfhB+IH4wfkB+UH5gfnBw==",
          "dtype": "i2"
         },
         "xaxis": "x",
         "y": {
          "bdata": "xLxU5uNqlD9AhSdPGfmUP99bPK/4/ZY/do3Tm6CGlj+e45SCws+VPzgCOWCUGpU/O853uRidlD8v9qBzqm2SP0d1Sd7Er5A/akj5z9UfkD+IeVo7mFCOP1a92ynFnY4/yvdvVp5FkD8vcHgLe0eRPw6PC1D3DZM/r1jD8vBgmj+REyaLmvygPw==",
          "dtype": "f8"
         },
         "yaxis": "y"
        },
        {
         "hovertemplate": "geo=BE<br>TIME_PERIOD=%{x}<br>Cost of electricity over GDP=%{y}<extra></extra>",
         "legendgroup": "BE",
         "line": {
          "color": "#EF553B",
          "dash": "solid"
         },
         "marker": {
          "symbol": "circle"
         },
         "mode": "lines",
         "name": "BE",
         "orientation": "v",
         "showlegend": true,
         "type": "scatter",
         "x": {
          "bdata": "1wfYB9kH2gfbB9wH3QfeB98H4AfhB+IH4wfkB+UH5gfnBw==",
          "dtype": "i2"
         },
         "xaxis": "x",
         "y": {
          "bdata": "aMesu8+XmD/GyAf9pqecP7sllpe5Wpo/U1xLtoxKmj+419nBC2+aP5w8K006v5k/8n9SX04OmD9CwawpaA+XP9qp6Qp64pY/22W7Y7JElT/UGBjW5uiTP6QMk41/9ZM/DucSS3fCkz9gPMA+wjSTP1ldge15OZQ/htOPAqyYnj/K/8/xhu+aPw==",
          "dtype": "f8"
         },
         "yaxis": "y"
        },
        {
         "hovertemplate": "geo=BG<br>TIME_PERIOD=%{x}<br>Cost of electricity over GDP=%{y}<extra></extra>",
         "legendgroup": "BG",
         "line": {
          "color": "#00cc96",
          "dash": "solid"
         },
         "marker": {
          "symbol": "circle"
         },
         "mode": "lines",
         "name": "BG",
         "orientation": "v",
         "showlegend": true,
         "type": "scatter",
         "x": {
          "bdata": "1wfYB9kH2gfbB9wH3QfeB98H4AfhB+IH4wfkB+UH5gfnBw==",
          "dtype": "i2"
         },
         "xaxis": "x",
         "y": {
          "bdata": "zdVD1gUdpz+LFczcgMamP8xd0knFG6c/+h9azwvgpj9rpYxLIn+mP9DTZtkc0ac/Qu/kfs1XqD8TZjEEPiinP/ne2u+my6c/+MQGQu7xpz+VKmSMSxumPy0kRXHzsKU/1HFHL1OspD9SnzQUmfCiP6qBKYyJs6g/z2k6dlvUsj+92U29aGekPw==",
          "dtype": "f8"
         },
         "yaxis": "y"
        },
        {
         "hovertemplate": "geo=CZ<br>TIME_PERIOD=%{x}<br>Cost of electricity over GDP=%{y}<extra></extra>",
         "legendgroup": "CZ",
         "line": {
          "color": "#ab63fa",
          "dash": "solid"
         },
         "marker": {
          "symbol": "circle"
         },
         "mode": "lines",
         "name": "CZ",
         "orientation": "v",
         "showlegend": true,
         "type": "scatter",
         "x": {
          "bdata": "1wfYB9kH2gfbB9wH3QfeB98H4AfhB+IH4wfkB+UH5gfnBw==",
          "dtype": "i2"
         },
         "xaxis": "x",
         "y": {
          "bdata": "1jm+NHHCoz8DbLdRqJWkP/2n0vbl2aU/kVQi/AAapT9OrmFoJCClP25EHStiraU/mbmSZcm5pT/v6bNbIVuiP34UHKAJD6E/wCjX50M8oD/vOw914l+eP33wPCMEjp0/Pzf/sh2kmz8Vy14u04OdP7Z3zvHTLJ0/vXUFbjhYpD9Dp2ugW9ukPw==",
          "dtype": "f8"
         },
         "yaxis": "y"
        },
        {
         "hovertemplate": "geo=DE<br>TIME_PERIOD=%{x}<br>Cost of electricity over GDP=%{y}<extra></extra>",
         "legendgroup": "DE",
         "line": {
          "color": "#FFA15A",
          "dash": "solid"
         },
         "marker": {
          "symbol": "circle"
         },
         "mode": "lines",
         "name": "DE",
         "orientation": "v",
         "showlegend": true,
         "type": "scatter",
         "x": {
          "bdata": "1wfYB9kH2gfbB9wH3QfeB98H4AfhB+IH4wfkB+UH5gfnBw==",
          "dtype": "i2"
         },
         "xaxis": "x",
         "y": {
          "bdata": "Xf5i5aXRlj9oOkQkJL2XPwi+SthbAZg/rVM+GlKRlz+90weNfWSWP5WJdysI15U/lFnX1fQ4lT9BBd12SsuSP002g1K1zpE/cXk1kDBrkD/BYlrsoDuPP9C+kubQNY4/1cEs3ps9jD8OVgXba52MP8zNr8vMOI8/kmMZLSjklj/G6Bn14aiYPw==",
          "dtype": "f8"
         },
         "yaxis": "y"
        },
        {
         "hovertemplate": "geo=DK<br>TIME_PERIOD=%{x}<br>Cost of electricity over GDP=%{y}<extra></extra>",
         "legendgroup": "DK",
         "line": {
          "color": "#19d3f3",
          "dash": "solid"
         },
         "marker": {
          "symbol": "circle"
         },
         "mode": "lines",
         "name": "DK",
         "orientation": "v",
         "showlegend": true,
         "type": "scatter",
         "x": {
          "bdata": "1wfYB9kH2gfbB9wH3QfeB98H4AfhB+IH4wfkB+UH5gfnBw==",
          "dtype": "i2"
         },
         "xaxis": "x",
         "y": {
          "bdata": "p8CX9Bw2iT+qx5RwIBuKP4KHyLmspIU/9avuAAlNhz+pkCduHcmHPyBSqvyRXYQ/58/vj/Sugz+ckXaG7paCP0aXe6hnk4A/3XKp+/CYgD/GzweUiGGAP1DXmEkdN4E/YKtzpOw8gT9x3jffVKJ+P/3hTv+xSYY/0zD24TgTlD++TPSN+kqMPw==",
          "dtype": "f8"
         },
         "yaxis": "y"
        },
        {
         "hovertemplate": "geo=EE<br>TIME_PERIOD=%{x}<br>Cost of electricity over GDP=%{y}<extra></extra>",
         "legendgroup": "EE",
         "line": {
          "color": "#FF6692",
          "dash": "solid"
         },
         "marker": {
          "symbol": "circle"
         },
         "mode": "lines",
         "name": "EE",
         "orientation": "v",
         "showlegend": true,
         "type": "scatter",
         "x": {
          "bdata": "1wfYB9kH2gfbB9wH3QfeB98H4AfhB+IH4wfkB+UH5gfnBw==",
          "dtype": "i2"
         },
         "xaxis": "x",
         "y": {
          "bdata": "tMTgXarhlT+RSR4YI+OWPyYqJnG8Jpw/YMuiWiZKnT/QMxrozYaaP1a6gQc+NZs/B1MidtL4nj86DU13eCqcP5+yDMrgX5o/Ww2phm/emT/DbGjezuCWPzl3N/lzwJc/y3wLMTuslT8q3YlFr1WUP1qpc2zHapw/hIMn+xIeoT+wNq6Ziy2YPw==",
          "dtype": "f8"
         },
         "yaxis": "y"
        },
        {
         "hovertemplate": "geo=ES<br>TIME_PERIOD=%{x}<br>Cost of electricity over GDP=%{y}<extra></extra>",
         "legendgroup": "ES",
         "line": {
          "color": "#B6E880",
          "dash": "solid"
         },
         "marker": {
          "symbol": "circle"
         },
         "mode": "lines",
         "name": "ES",
         "orientation": "v",
         "showlegend": true,
         "type": "scatter",
         "x": {
          "bdata": "1wfYB9kH2gfbB9wH3QfeB98H4AfhB+IH4wfkB+UH5gfnBw==",
          "dtype": "i2"
         },
         "xaxis": "x",
         "y": {
          "bdata": "NM6vdMKklz+/nVNYGhyYP9eFVutBWZo/hKHA/x1EnD/1/YbgC6udP5fnLWCcFKA/hbaEdI8HoD+j/fxzEIygP8pH4WfWZ6A/joYlx4ennT8K0B4y2YSdP2TwyDVxpZ4/+G1uPNsnlj94TO3fMrWVP+Fh2+7Wxpg/MqqpMCZDpD/sPRPhPbebPw==",
          "dtype": "f8"
         },
         "yaxis": "y"
        },
        {
         "hovertemplate": "geo=FR<br>TIME_PERIOD=%{x}<br>Cost of electricity over GDP=%{y}<extra></extra>",
         "legendgroup": "FR",
         "line": {
          "color": "#FF97FF",
          "dash": "solid"
         },
         "marker": {
          "symbol": "circle"
         },
         "mode": "lines",
         "name": "FR",
         "orientation": "v",
         "showlegend": true,
         "type": "scatter",
         "x": {
          "bdata": "1wfYB9kH2gfbB9wH3QfeB98H4AfhB+IH4wfkB+UH5gfnBw==",
          "dtype": "i2"
         },
         "xaxis": "x",
         "y": {
          "bdata": "8vpkmxL8kD9n0+5L0bCRPxPskEYOM5I/fdBbPYqOkz85QYarGceSP6iJ8fvQ6pM/dPnGYdSxlD+DnNPlbyuTPz7dGUg7uJM/KJqw+0sVkz8PyBiZle2RPwz/DMD23pI/tJQ+qeegkj/F6uyqK3GUPwDSO/u1uJQ/yOkBP+olmD9cK7V+6eqdPw==",
          "dtype": "f8"
         },
         "yaxis": "y"
        },
        {
         "hovertemplate": "geo=HR<br>TIME_PERIOD=%{x}<br>Cost of electricity over GDP=%{y}<extra></extra>",
         "legendgroup": "HR",
         "line": {
          "color": "#FECB52",
          "dash": "solid"
         },
         "marker": {
          "symbol": "circle"
         },
         "mode": "lines",
         "name": "HR",
         "orientation": "v",
         "showlegend": true,
         "type": "scatter",
         "x": {
          "bdata": "1wfYB9kH2gfbB9wH3QfeB98H4AfhB+IH4wfkB+UH5gfnBw==",
          "dtype": "i2"
         },
         "xaxis": "x",
         "y": {
          "bdata": "fd1LH+0ZmT/krA203p6cPwqLWjR6jZ8/lZOhdd0joD/6QwCOBvmfPzcTwoOHeqE/zt8E21SfoT/PGyMbFpGgPz80hSQ0YKA/75/PT290nz/W30OHqS6eP8aOs31iAJ4/pIb+SfRNnT+PVw2kQrKeP2+00ytUv50/kk3JMy4jpD+7SwyetgKmPw==",
          "dtype": "f8"
         },
         "yaxis": "y"
        },
        {
         "hovertemplate": "geo=HU<br>TIME_PERIOD=%{x}<br>Cost of electricity over GDP=%{y}<extra></extra>",
         "legendgroup": "HU",
         "line": {
          "color": "#636efa",
          "dash": "solid"
         },
         "marker": {
          "symbol": "circle"
         },
         "mode": "lines",
         "name": "HU",
         "orientation": "v",
         "showlegend": true,
         "type": "scatter",
         "x": {
          "bdata": "1wfYB9kH2gfbB9wH3QfeB98H4AfhB+IH4wfkB+UH5gfnBw==",
          "dtype": "i2"
         },
         "xaxis": "x",
         "y": {
          "bdata": "gg6gAVY0nj8LCv5qH52iP9+qrzqfqKQ/z5yOk1rKoj+sARIxixKiP78jGyLp0KI/9oFoH9ULoT8knDNlpFmdP02LN+pewps/1GKxw0HImT8/WbeDeCiXP4yg0tWHI5c/2REev7Sslz9hWxgxPeeXP5W+ZUUG6Zg/994vQS9+pj+T3tQH5e+kPw==",
          "dtype": "f8"
         },
         "yaxis": "y"
        },
        {
         "hovertemplate": "geo=IE<br>TIME_PERIOD=%{x}<br>Cost of electricity over GDP=%{y}<extra></extra>",
         "legendgroup": "IE",
         "line": {
          "color": "#EF553B",
          "dash": "solid"
         },
         "marker": {
          "symbol": "circle"
         },
         "mode": "lines",
         "name": "IE",
         "orientation": "v",
         "showlegend": true,
         "type": "scatter",
         "x": {
          "bdata": "1wfYB9kH2gfbB9wH3QfeB98H4AfhB+IH4wfkB+UH5gfnBw==",
          "dtype": "i2"
         },
         "xaxis": "x",
         "y": {
          "bdata": "RszpteorlD/BrT5dSh2XP88pLwj/cZY/CWuOP8R/lT8Dys4TNAOVPxJJ+ZmAoZc/uyPXq05rlz/fM7TSi+uUPzRJ8+ycYY4/qy6JpNhjiz8jNwWwLf+HP3SPa3GSq4c/429oNxa1hz82aS9taK2GPzjJEo8Fcog/fjU+cesdkD/31FfbOz2UPw==",
          "dtype": "f8"
         },
         "yaxis": "y"
        },
        {
         "hovertemplate": "geo=IT<br>TIME_PERIOD=%{x}<br>Cost of electricity over GDP=%{y}<extra></extra>",
         "legendgroup": "IT",
         "line": {
          "color": "#00cc96",
          "dash": "solid"
         },
         "marker": {
          "symbol": "circle"
         },
         "mode": "lines",
         "name": "IT",
         "orientation": "v",
         "showlegend": true,
         "type": "scatter",
         "x": {
          "bdata": "2AfZB9oH2wfcB90H3gffB+AH4QfiB+MH5AflB+YH5wc=",
          "dtype": "i2"
         },
         "xaxis": "x",
         "y": {
          "bdata": "AAAAAAAAAAAAAAAAAAAAAFW8h4V/EJk/OidhkP6wlz+PLAlUHTOYPyOvQZMeBZc/UcQcV9xRlT97mrc7gHSUPyohIkWqwpE/X12tzshjkT9jSuVYt4yRPxi5rcyvdJM/p80Rcp9dkj/PvVDRICOXP0uLNpKQ+6U/LWf3zWR7nj8=",
          "dtype": "f8"
         },
         "yaxis": "y"
        },
        {
         "hovertemplate": "geo=LT<br>TIME_PERIOD=%{x}<br>Cost of electricity over GDP=%{y}<extra></extra>",
         "legendgroup": "LT",
         "line": {
          "color": "#ab63fa",
          "dash": "solid"
         },
         "marker": {
          "symbol": "circle"
         },
         "mode": "lines",
         "name": "LT",
         "orientation": "v",
         "showlegend": true,
         "type": "scatter",
         "x": {
          "bdata": "1wfYB9kH2gfbB9wH3QfeB98H4AfhB+IH4wfkB+UH5gfnBw==",
          "dtype": "i2"
         },
         "xaxis": "x",
         "y": {
          "bdata": "NWnbd2H2lj9ESHGUomGWPzmJ15ThgZo/zwMc2iWwnj+9VIt5T4ieP00YAqrLDJ8/7twyIOdVmT/BfRJ96meZPw9aYbpaOpU/rkrAainNkz/1JdX3n1mRP3Jg9/VK3ZA/82tx6GpKkT9eBsLAi32SP4KSRn2L45U/92FNZoVroD/X6z3hmxScPw==",
          "dtype": "f8"
         },
         "yaxis": "y"
        },
        {
         "hovertemplate": "geo=LU<br>TIME_PERIOD=%{x}<br>Cost of electricity over GDP=%{y}<extra></extra>",
         "legendgroup": "LU",
         "line": {
          "color": "#FFA15A",
          "dash": "solid"
         },
         "marker": {
          "symbol": "circle"
         },
         "mode": "lines",
         "name": "LU",
         "orientation": "v",
         "showlegend": true,
         "type": "scatter",
         "x": {
          "bdata": "1wfYB9kH2gfbB9wH3QfeB98H4AfhB+IH4wfkB+UH5gfnBw==",
          "dtype": "i2"
         },
         "xaxis": "x",
         "y": {
          "bdata": "EgZlQtSGlz+aiIcWagmUP/lC4QS5uJM/yrBE7aIBkT+37uB/+tSPP79OtLhkFo4/AasgRc+Ciz+JVwkvsVqJP4o5LhT3zIU/5hFhAOTDhD/2FIvGznWCP8i3N3NjbYI/groUck5tgz+FgucQuMqCP19LtuXNLoI/yPn0KJBahz8G+x/q8ICSPw==",
          "dtype": "f8"
         },
         "yaxis": "y"
        },
        {
         "hovertemplate": "geo=LV<br>TIME_PERIOD=%{x}<br>Cost of electricity over GDP=%{y}<extra></extra>",
         "legendgroup": "LV",
         "line": {
          "color": "#19d3f3",
          "dash": "solid"
         },
         "marker": {
          "symbol": "circle"
         },
         "mode": "lines",
         "name": "LV",
         "orientation": "v",
         "showlegend": true,
         "type": "scatter",
         "x": {
          "bdata": "1wfYB9kH2gfbB9wH3QfeB98H4AfhB+IH4wfkB+UH5gfnBw==",
          "dtype": "i2"
         },
         "xaxis": "x",
         "y": {
          "bdata": "Wu0zkr0HlT+9J39ZtnCWP6bTRS0sE58/FuhTIDyioD9VA8AGuy2hPwop1a80bqA/SSxD14UFnD/46ipfKE2aP8YQETfwaZo/0Vd4ixwVmj8tDy51b6WYP3wUTgiv15U/xKCaLpDXlD8aeJ7aPzyTP+vugZiGj5U/qgTqTlBNoj//g/I/jzOePw==",
          "dtype": "f8"
         },
         "yaxis": "y"
        },
        {
         "hovertemplate": "geo=NL<br>TIME_PERIOD=%{x}<br>Cost of electricity over GDP=%{y}<extra></extra>",
         "legendgroup": "NL",
         "line": {
          "color": "#FF6692",
          "dash": "solid"
         },
         "marker": {
          "symbol": "circle"
         },
         "mode": "lines",
         "name": "NL",
         "orientation": "v",
         "showlegend": true,
         "type": "scatter",
         "x": {
          "bdata": "1wfYB9kH2gfbB9wH3QfeB98H4AfhB+IH4wfkB+UH5gfnBw==",
          "dtype": "i2"
         },
         "xaxis": "x",
         "y": {
          "bdata": "OuKKh5uAkj8o+UwoHSaSP5nKgk+gKZM/dqmQtK9kkT9dJP9lLRKRPzO1d+naBJE/X7AghvcwkT9d8IHVGOmPP18J3reRPY4/RYulVjXzij+DRHdVPIqIP2iXnHH0Yok//4KjgUgyiT+IKMGu0JmJP88n822dR4s/WtTIK5w+lT8Q0/Lh9BOZPw==",
          "dtype": "f8"
         },
         "yaxis": "y"
        },
        {
         "hovertemplate": "geo=PL<br>TIME_PERIOD=%{x}<br>Cost of electricity over GDP=%{y}<extra></extra>",
         "legendgroup": "PL",
         "line": {
          "color": "#B6E880",
          "dash": "solid"
         },
         "marker": {
          "symbol": "circle"
         },
         "mode": "lines",
         "name": "PL",
         "orientation": "v",
         "showlegend": true,
         "type": "scatter",
         "x": {
          "bdata": "1wfYB9kH2gfbB9wH3QfeB98H4AfhB+IH4wfkB+UH5gfnBw==",
          "dtype": "i2"
         },
         "xaxis": "x",
         "y": {
          "bdata": "QlBJYvRCnz+DE2U/eHOdP/IkxeElW6A/Zz1gYZejoD+g5r7zmyagP6QG6bHFIKA/iRZ5rayUnj9pdakhvMabP1rFA96osJs/xIZsw/n4mj8xPU+b3ZmWP7YDtnwYE5U/UM11w3YhlT9vPNbRCi2WPwRCtZdHCJQ/R82BTIxZmD+cKyb9m3yaPw==",
          "dtype": "f8"
         },
         "yaxis": "y"
        },
        {
         "hovertemplate": "geo=PT<br>TIME_PERIOD=%{x}<br>Cost of electricity over GDP=%{y}<extra></extra>",
         "legendgroup": "PT",
         "line": {
          "color": "#FF97FF",
          "dash": "solid"
         },
         "marker": {
          "symbol": "circle"
         },
         "mode": "lines",
         "name": "PT",
         "orientation": "v",
         "showlegend": true,
         "type": "scatter",
         "x": {
          "bdata": "1wfYB9kH2gfbB9wH3QfeB98H4AfhB+IH4wfkB+UH5gfnBw==",
          "dtype": "i2"
         },
         "xaxis": "x",
         "y": {
          "bdata": "aUHrjCWVmD9l2Okg5HOZPznjU/sBJp8/pMWtXObMmj95mvVQKU+aP5349MUG/p0/Z4BEf79HnT9igKknSrCePzBHUXdF6Jw/XgJ9X/akmz/o1gdoRwGXP+LA+tzaQZU/LMBumuPWlj+vMe763QGWP708qfBPw5c/IynH8vDnoj+3IQagMe+hPw==",
          "dtype": "f8"
         },
         "yaxis": "y"
        },
        {
         "hovertemplate": "geo=RO<br>TIME_PERIOD=%{x}<br>Cost of electricity over GDP=%{y}<extra></extra>",
         "legendgroup": "RO",
         "line": {
          "color": "#FECB52",
          "dash": "solid"
         },
         "marker": {
          "symbol": "circle"
         },
         "mode": "lines",
         "name": "RO",
         "orientation": "v",
         "showlegend": true,
         "type": "scatter",
         "x": {
          "bdata": "1wfYB9kH2gfbB9wH3QfeB98H4AfhB+IH4wfkB+UH5gfnBw==",
          "dtype": "i2"
         },
         "xaxis": "x",
         "y": {
          "bdata": "sBvHwCoqnT/EmWzsUU+ZPxMRZyNFaJg/fJGEKle1mj9RijW/12iZP3J3HNfsTZg/yBCLa6ntmD8qfpgqJ2OWP6c2XHgE/ZQ/vH8lOQbykj8Vci6EDl6RP3QnlameYpE/Lt1zIN+9kT/dOlwhU0CSP9/GQtLCCpQ/A+OmPU6eoj97s9ecE8eTPw==",
          "dtype": "f8"
         },
         "yaxis": "y"
        },
        {
         "hovertemplate": "geo=SE<br>TIME_PERIOD=%{x}<br>Cost of electricity over GDP=%{y}<extra></extra>",
         "legendgroup": "SE",
         "line": {
          "color": "#636efa",
          "dash": "solid"
         },
         "marker": {
          "symbol": "circle"
         },
         "mode": "lines",
         "name": "SE",
         "orientation": "v",
         "showlegend": true,
         "type": "scatter",
         "x": {
          "bdata": "1wfYB9kH2gfbB9wH3QfeB98H4AfhB+IH4wfkB+UH5gfnBw==",
          "dtype": "i2"
         },
         "xaxis": "x",
         "y": {
          "bdata": "k1LOYMZ8nT/8B9qe7tCgP88F70QELaE/nFnaKVr+oj8FvtwK2huhPyudAo4nZaA/1N0mSm+lnj9Ha3W+e7+bP0NfXSwS2Zk/wVvr+Ubbmj8GIfhF93OaP6S82aYwVJw/jjngY/WWmz/6tkZ7CUuWP4vyKbWKrJs/b8b/fb17oj8hUHqg+8CbPw==",
          "dtype": "f8"
         },
         "yaxis": "y"
        },
        {
         "hovertemplate": "geo=SI<br>TIME_PERIOD=%{x}<br>Cost of electricity over GDP=%{y}<extra></extra>",
         "legendgroup": "SI",
         "line": {
          "color": "#EF553B",
          "dash": "solid"
         },
         "marker": {
          "symbol": "circle"
         },
         "mode": "lines",
         "name": "SI",
         "orientation": "v",
         "showlegend": true,
         "type": "scatter",
         "x": {
          "bdata": "1wfYB9kH2gfbB9wH3QfeB98H4AfhB+IH4wfkB+UH5gfnBw==",
          "dtype": "i2"
         },
         "xaxis": "x",
         "y": {
          "bdata": "3JtOQglNoT/9vW5PtKqgP2Bjto5dE6E/SEMEjleeoD+z4/4XMuegP3NuwLIJg6E/Bg9LPUISoT+ep0Ao8JaeP17/PIL8oJw/Qgw6HErImj+FQ+GOaKWZP8OCt0hnLpo/7DMKK9o1mj+5fVrduEOaP49vexXospk/DKq3LU0Boj/Fto1S7sCiPw==",
          "dtype": "f8"
         },
         "yaxis": "y"
        },
        {
         "hovertemplate": "geo=SK<br>TIME_PERIOD=%{x}<br>Cost of electricity over GDP=%{y}<extra></extra>",
         "legendgroup": "SK",
         "line": {
          "color": "#00cc96",
          "dash": "solid"
         },
         "marker": {
          "symbol": "circle"
         },
         "mode": "lines",
         "name": "SK",
         "orientation": "v",
         "showlegend": true,
         "type": "scatter",
         "x": {
          "bdata": "1wfYB9kH2gfbB9wH3QfeB98H4AfhB+IH4wfkB+UH5gfnBw==",
          "dtype": "i2"
         },
         "xaxis": "x",
         "y": {
          "bdata": "kZCgJ8lYpz+2KxE3Kn2nP196U8qNO6k/45Ik/aIPpj/jMAIBPYKmPwellQUCpaU/j178KRlmpj8VbuEJnPKiPyAicHtlFaI/JPH3Z86goT9a1ZprhFCZP94jF3ZUiJk/mceN7IGmmj8FfW0uVRGbP9BoR58A25s/XttmzUaZpD8k65QKBFWiPw==",
          "dtype": "f8"
         },
         "yaxis": "y"
        }
       ],
       "layout": {
        "legend": {
         "title": {
          "text": "geo"
         },
         "tracegroupgap": 0
        },
        "margin": {
         "t": 60
        },
        "template": {
         "data": {
          "bar": [
           {
            "error_x": {
             "color": "#2a3f5f"
            },
            "error_y": {
             "color": "#2a3f5f"
            },
            "marker": {
             "line": {
              "color": "#E5ECF6",
              "width": 0.5
             },
             "pattern": {
              "fillmode": "overlay",
              "size": 10,
              "solidity": 0.2
             }
            },
            "type": "bar"
           }
          ],
          "barpolar": [
           {
            "marker": {
             "line": {
              "color": "#E5ECF6",
              "width": 0.5
             },
             "pattern": {
              "fillmode": "overlay",
              "size": 10,
              "solidity": 0.2
             }
            },
            "type": "barpolar"
           }
          ],
          "carpet": [
           {
            "aaxis": {
             "endlinecolor": "#2a3f5f",
             "gridcolor": "white",
             "linecolor": "white",
             "minorgridcolor": "white",
             "startlinecolor": "#2a3f5f"
            },
            "baxis": {
             "endlinecolor": "#2a3f5f",
             "gridcolor": "white",
             "linecolor": "white",
             "minorgridcolor": "white",
             "startlinecolor": "#2a3f5f"
            },
            "type": "carpet"
           }
          ],
          "choropleth": [
           {
            "colorbar": {
             "outlinewidth": 0,
             "ticks": ""
            },
            "type": "choropleth"
           }
          ],
          "contour": [
           {
            "colorbar": {
             "outlinewidth": 0,
             "ticks": ""
            },
            "colorscale": [
             [
              0,
              "#0d0887"
             ],
             [
              0.1111111111111111,
              "#46039f"
             ],
             [
              0.2222222222222222,
              "#7201a8"
             ],
             [
              0.3333333333333333,
              "#9c179e"
             ],
             [
              0.4444444444444444,
              "#bd3786"
             ],
             [
              0.5555555555555556,
              "#d8576b"
             ],
             [
              0.6666666666666666,
              "#ed7953"
             ],
             [
              0.7777777777777778,
              "#fb9f3a"
             ],
             [
              0.8888888888888888,
              "#fdca26"
             ],
             [
              1,
              "#f0f921"
             ]
            ],
            "type": "contour"
           }
          ],
          "contourcarpet": [
           {
            "colorbar": {
             "outlinewidth": 0,
             "ticks": ""
            },
            "type": "contourcarpet"
           }
          ],
          "heatmap": [
           {
            "colorbar": {
             "outlinewidth": 0,
             "ticks": ""
            },
            "colorscale": [
             [
              0,
              "#0d0887"
             ],
             [
              0.1111111111111111,
              "#46039f"
             ],
             [
              0.2222222222222222,
              "#7201a8"
             ],
             [
              0.3333333333333333,
              "#9c179e"
             ],
             [
              0.4444444444444444,
              "#bd3786"
             ],
             [
              0.5555555555555556,
              "#d8576b"
             ],
             [
              0.6666666666666666,
              "#ed7953"
             ],
             [
              0.7777777777777778,
              "#fb9f3a"
             ],
             [
              0.8888888888888888,
              "#fdca26"
             ],
             [
              1,
              "#f0f921"
             ]
            ],
            "type": "heatmap"
           }
          ],
          "histogram": [
           {
            "marker": {
             "pattern": {
              "fillmode": "overlay",
              "size": 10,
              "solidity": 0.2
             }
            },
            "type": "histogram"
           }
          ],
          "histogram2d": [
           {
            "colorbar": {
             "outlinewidth": 0,
             "ticks": ""
            },
            "colorscale": [
             [
              0,
              "#0d0887"
             ],
             [
              0.1111111111111111,
              "#46039f"
             ],
             [
              0.2222222222222222,
              "#7201a8"
             ],
             [
              0.3333333333333333,
              "#9c179e"
             ],
             [
              0.4444444444444444,
              "#bd3786"
             ],
             [
              0.5555555555555556,
              "#d8576b"
             ],
             [
              0.6666666666666666,
              "#ed7953"
             ],
             [
              0.7777777777777778,
              "#fb9f3a"
             ],
             [
              0.8888888888888888,
              "#fdca26"
             ],
             [
              1,
              "#f0f921"
             ]
            ],
            "type": "histogram2d"
           }
          ],
          "histogram2dcontour": [
           {
            "colorbar": {
             "outlinewidth": 0,
             "ticks": ""
            },
            "colorscale": [
             [
              0,
              "#0d0887"
             ],
             [
              0.1111111111111111,
              "#46039f"
             ],
             [
              0.2222222222222222,
              "#7201a8"
             ],
             [
              0.3333333333333333,
              "#9c179e"
             ],
             [
              0.4444444444444444,
              "#bd3786"
             ],
             [
              0.5555555555555556,
              "#d8576b"
             ],
             [
              0.6666666666666666,
              "#ed7953"
             ],
             [
              0.7777777777777778,
              "#fb9f3a"
             ],
             [
              0.8888888888888888,
              "#fdca26"
             ],
             [
              1,
              "#f0f921"
             ]
            ],
            "type": "histogram2dcontour"
           }
          ],
          "mesh3d": [
           {
            "colorbar": {
             "outlinewidth": 0,
             "ticks": ""
            },
            "type": "mesh3d"
           }
          ],
          "parcoords": [
           {
            "line": {
             "colorbar": {
              "outlinewidth": 0,
              "ticks": ""
             }
            },
            "type": "parcoords"
           }
          ],
          "pie": [
           {
            "automargin": true,
            "type": "pie"
           }
          ],
          "scatter": [
           {
            "fillpattern": {
             "fillmode": "overlay",
             "size": 10,
             "solidity": 0.2
            },
            "type": "scatter"
           }
          ],
          "scatter3d": [
           {
            "line": {
             "colorbar": {
              "outlinewidth": 0,
              "ticks": ""
             }
            },
            "marker": {
             "colorbar": {
              "outlinewidth": 0,
              "ticks": ""
             }
            },
            "type": "scatter3d"
           }
          ],
          "scattercarpet": [
           {
            "marker": {
             "colorbar": {
              "outlinewidth": 0,
              "ticks": ""
             }
            },
            "type": "scattercarpet"
           }
          ],
          "scattergeo": [
           {
            "marker": {
             "colorbar": {
              "outlinewidth": 0,
              "ticks": ""
             }
            },
            "type": "scattergeo"
           }
          ],
          "scattergl": [
           {
            "marker": {
             "colorbar": {
              "outlinewidth": 0,
              "ticks": ""
             }
            },
            "type": "scattergl"
           }
          ],
          "scattermap": [
           {
            "marker": {
             "colorbar": {
              "outlinewidth": 0,
              "ticks": ""
             }
            },
            "type": "scattermap"
           }
          ],
          "scattermapbox": [
           {
            "marker": {
             "colorbar": {
              "outlinewidth": 0,
              "ticks": ""
             }
            },
            "type": "scattermapbox"
           }
          ],
          "scatterpolar": [
           {
            "marker": {
             "colorbar": {
              "outlinewidth": 0,
              "ticks": ""
             }
            },
            "type": "scatterpolar"
           }
          ],
          "scatterpolargl": [
           {
            "marker": {
             "colorbar": {
              "outlinewidth": 0,
              "ticks": ""
             }
            },
            "type": "scatterpolargl"
           }
          ],
          "scatterternary": [
           {
            "marker": {
             "colorbar": {
              "outlinewidth": 0,
              "ticks": ""
             }
            },
            "type": "scatterternary"
           }
          ],
          "surface": [
           {
            "colorbar": {
             "outlinewidth": 0,
             "ticks": ""
            },
            "colorscale": [
             [
              0,
              "#0d0887"
             ],
             [
              0.1111111111111111,
              "#46039f"
             ],
             [
              0.2222222222222222,
              "#7201a8"
             ],
             [
              0.3333333333333333,
              "#9c179e"
             ],
             [
              0.4444444444444444,
              "#bd3786"
             ],
             [
              0.5555555555555556,
              "#d8576b"
             ],
             [
              0.6666666666666666,
              "#ed7953"
             ],
             [
              0.7777777777777778,
              "#fb9f3a"
             ],
             [
              0.8888888888888888,
              "#fdca26"
             ],
             [
              1,
              "#f0f921"
             ]
            ],
            "type": "surface"
           }
          ],
          "table": [
           {
            "cells": {
             "fill": {
              "color": "#EBF0F8"
             },
             "line": {
              "color": "white"
             }
            },
            "header": {
             "fill": {
              "color": "#C8D4E3"
             },
             "line": {
              "color": "white"
             }
            },
            "type": "table"
           }
          ]
         },
         "layout": {
          "annotationdefaults": {
           "arrowcolor": "#2a3f5f",
           "arrowhead": 0,
           "arrowwidth": 1
          },
          "autotypenumbers": "strict",
          "coloraxis": {
           "colorbar": {
            "outlinewidth": 0,
            "ticks": ""
           }
          },
          "colorscale": {
           "diverging": [
            [
             0,
             "#8e0152"
            ],
            [
             0.1,
             "#c51b7d"
            ],
            [
             0.2,
             "#de77ae"
            ],
            [
             0.3,
             "#f1b6da"
            ],
            [
             0.4,
             "#fde0ef"
            ],
            [
             0.5,
             "#f7f7f7"
            ],
            [
             0.6,
             "#e6f5d0"
            ],
            [
             0.7,
             "#b8e186"
            ],
            [
             0.8,
             "#7fbc41"
            ],
            [
             0.9,
             "#4d9221"
            ],
            [
             1,
             "#276419"
            ]
           ],
           "sequential": [
            [
             0,
             "#0d0887"
            ],
            [
             0.1111111111111111,
             "#46039f"
            ],
            [
             0.2222222222222222,
             "#7201a8"
            ],
            [
             0.3333333333333333,
             "#9c179e"
            ],
            [
             0.4444444444444444,
             "#bd3786"
            ],
            [
             0.5555555555555556,
             "#d8576b"
            ],
            [
             0.6666666666666666,
             "#ed7953"
            ],
            [
             0.7777777777777778,
             "#fb9f3a"
            ],
            [
             0.8888888888888888,
             "#fdca26"
            ],
            [
             1,
             "#f0f921"
            ]
           ],
           "sequentialminus": [
            [
             0,
             "#0d0887"
            ],
            [
             0.1111111111111111,
             "#46039f"
            ],
            [
             0.2222222222222222,
             "#7201a8"
            ],
            [
             0.3333333333333333,
             "#9c179e"
            ],
            [
             0.4444444444444444,
             "#bd3786"
            ],
            [
             0.5555555555555556,
             "#d8576b"
            ],
            [
             0.6666666666666666,
             "#ed7953"
            ],
            [
             0.7777777777777778,
             "#fb9f3a"
            ],
            [
             0.8888888888888888,
             "#fdca26"
            ],
            [
             1,
             "#f0f921"
            ]
           ]
          },
          "colorway": [
           "#636efa",
           "#EF553B",
           "#00cc96",
           "#ab63fa",
           "#FFA15A",
           "#19d3f3",
           "#FF6692",
           "#B6E880",
           "#FF97FF",
           "#FECB52"
          ],
          "font": {
           "color": "#2a3f5f"
          },
          "geo": {
           "bgcolor": "white",
           "lakecolor": "white",
           "landcolor": "#E5ECF6",
           "showlakes": true,
           "showland": true,
           "subunitcolor": "white"
          },
          "hoverlabel": {
           "align": "left"
          },
          "hovermode": "closest",
          "mapbox": {
           "style": "light"
          },
          "paper_bgcolor": "white",
          "plot_bgcolor": "#E5ECF6",
          "polar": {
           "angularaxis": {
            "gridcolor": "white",
            "linecolor": "white",
            "ticks": ""
           },
           "bgcolor": "#E5ECF6",
           "radialaxis": {
            "gridcolor": "white",
            "linecolor": "white",
            "ticks": ""
           }
          },
          "scene": {
           "xaxis": {
            "backgroundcolor": "#E5ECF6",
            "gridcolor": "white",
            "gridwidth": 2,
            "linecolor": "white",
            "showbackground": true,
            "ticks": "",
            "zerolinecolor": "white"
           },
           "yaxis": {
            "backgroundcolor": "#E5ECF6",
            "gridcolor": "white",
            "gridwidth": 2,
            "linecolor": "white",
            "showbackground": true,
            "ticks": "",
            "zerolinecolor": "white"
           },
           "zaxis": {
            "backgroundcolor": "#E5ECF6",
            "gridcolor": "white",
            "gridwidth": 2,
            "linecolor": "white",
            "showbackground": true,
            "ticks": "",
            "zerolinecolor": "white"
           }
          },
          "shapedefaults": {
           "line": {
            "color": "#2a3f5f"
           }
          },
          "ternary": {
           "aaxis": {
            "gridcolor": "white",
            "linecolor": "white",
            "ticks": ""
           },
           "baxis": {
            "gridcolor": "white",
            "linecolor": "white",
            "ticks": ""
           },
           "bgcolor": "#E5ECF6",
           "caxis": {
            "gridcolor": "white",
            "linecolor": "white",
            "ticks": ""
           }
          },
          "title": {
           "x": 0.05
          },
          "xaxis": {
           "automargin": true,
           "gridcolor": "white",
           "linecolor": "white",
           "ticks": "",
           "title": {
            "standoff": 15
           },
           "zerolinecolor": "white",
           "zerolinewidth": 2
          },
          "yaxis": {
           "automargin": true,
           "gridcolor": "white",
           "linecolor": "white",
           "ticks": "",
           "title": {
            "standoff": 15
           },
           "zerolinecolor": "white",
           "zerolinewidth": 2
          }
         }
        },
        "xaxis": {
         "anchor": "y",
         "domain": [
          0,
          1
         ],
         "title": {
          "text": "TIME_PERIOD"
         }
        },
        "yaxis": {
         "anchor": "x",
         "domain": [
          0,
          1
         ],
         "title": {
          "text": "Cost of electricity over GDP"
         }
        }
       }
      }
     },
     "metadata": {},
     "output_type": "display_data"
    }
   ],
   "source": [
    "prices_and_consumption_electricity = prices_and_comsumption[prices_and_comsumption['siec'] == 'E7000']\n",
    "cost_of_electricity = prices_and_consumption_electricity.groupby(['geo', 'TIME_PERIOD'])['total_consumption'].sum().reset_index()\n",
    "\n",
    "cost_of_electricity_over_gdp = pd.merge(cost_of_electricity, gdp_df, on=['geo', 'TIME_PERIOD'])\n",
    "cost_of_electricity_over_gdp['Cost of electricity over GDP'] = cost_of_electricity_over_gdp['total_consumption'] / cost_of_electricity_over_gdp['GDP']\n",
    "\n",
    "fig = px.line(cost_of_electricity_over_gdp, x='TIME_PERIOD', y='Cost of electricity over GDP', color='geo')\n",
    "fig.show()\n"
   ]
  },
  {
   "cell_type": "markdown",
   "metadata": {},
   "source": [
    "Key observations:\n",
    "\n",
    "- Bulgaria (BG, green line) consistently shows the highest electricity costs relative to GDP for most of the period, maintaining levels around 0.04-0.05 (4-5% of GDP)\n",
    "- There's a dramatic spike in Bulgaria's ratio in 2022, reaching approximately 0.072 (7.2% of GDP)\n",
    "- Most countries show relatively stable electricity-to-GDP ratios in the 0.01-0.03 range from 2007 to 2020\n",
    "- Similar to the previous gas consumption chart, there's a significant spike for all countries in 2021-2022 during the European energy crisis\n",
    "- By 2023, the ratios begin declining again but remain above pre-crisis levels for most countries\n",
    "- Denmark (DK, light blue near bottom) consistently maintains among the lowest electricity costs relative to GDP despite having some of the highest tax rates as shown in previous charts\n",
    "\n",
    "This visualization complements the previous charts by showing the economic impact of electricity costs specifically. When viewed alongside the gas consumption chart, it reveals:\n",
    "\n",
    "- The energy crisis affected both gas and electricity costs relative to GDP\n",
    "- The magnitude of the electricity cost spike in 2022 was particularly severe for Bulgaria\n",
    "- The overall pattern of stable costs followed by crisis-driven spikes and partial recovery is consistent across both energy types\n",
    "- Countries show varying degrees of electricity intensity in their economies, suggesting differences in efficiency, industrial structure, and electrification levels"
   ]
  }
 ],
 "metadata": {
  "kernelspec": {
   "display_name": "sdmx4ds-FdWyo-cS",
   "language": "python",
   "name": "python3"
  },
  "language_info": {
   "codemirror_mode": {
    "name": "ipython",
    "version": 3
   },
   "file_extension": ".py",
   "mimetype": "text/x-python",
   "name": "python",
   "nbconvert_exporter": "python",
   "pygments_lexer": "ipython3",
   "version": "3.11.9"
  }
 },
 "nbformat": 4,
 "nbformat_minor": 2
}
