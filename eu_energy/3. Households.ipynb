{
 "cells": [
  {
   "cell_type": "markdown",
   "id": "56ed6b3f",
   "metadata": {},
   "source": [
    "# Household Energy Consumption Patterns\n",
    "\n",
    "This notebook focuses on energy consumption by households across EU countries, leveraging SDMX datasets.\n",
    "\n",
    "We will show the energy consumption per household in each EU country. For that, we will use three datasets from Eurostat. On top of the energy balances and demographics datasets we have already seen, we will add a dataset with the average number of people living in a household. With that, we will be able to determine the number of households in each country, and obtain the per household consumption."
   ]
  },
  {
   "cell_type": "code",
   "execution_count": 1,
   "metadata": {},
   "outputs": [],
   "source": [
    "from utils import utils\n",
    "import json\n",
    "import plotly.express as px\n",
    "\n",
    "\n",
    "with open('utils/sub_codelists.json', 'r') as f:\n",
    "    sub_codelists = json.load(f)"
   ]
  },
  {
   "cell_type": "markdown",
   "metadata": {},
   "source": [
    "Getting the datasets with the required constraints:"
   ]
  },
  {
   "cell_type": "code",
   "execution_count": 16,
   "metadata": {},
   "outputs": [
    {
     "name": "stdout",
     "output_type": "stream",
     "text": [
      "data_url: https://ec.europa.eu/eurostat/api/dissemination/sdmx/2.1/data/ilc_lvph01/A.AVG.BE+BG+CZ+DK+DE+EE+IE+EL+ES+FR+HR+IT+CY+LV+LT+LU+HU+MT+NL+AT+PL+PT+RO+SI+SK+FI+SE?format=SDMX-CSV&startPeriod=2000\n",
      "metadata_url: https://ec.europa.eu/eurostat/api/dissemination/sdmx/2.1/dataflow/all/ilc_lvph01/latest?detail=full&references=descendants\n",
      "data_url: https://ec.europa.eu/eurostat/api/dissemination/sdmx/2.1/data/demo_pjan/A.NR.TOTAL.T.BE+BG+CZ+DK+DE+EE+IE+EL+ES+FR+HR+IT+CY+LV+LT+LU+HU+MT+NL+AT+PL+PT+RO+SI+SK+FI+SE?format=SDMX-CSV&startPeriod=2000\n",
      "metadata_url: https://ec.europa.eu/eurostat/api/dissemination/sdmx/2.1/dataflow/all/demo_pjan/latest?detail=full&references=descendants\n",
      "data_url: https://ec.europa.eu/eurostat/api/dissemination/sdmx/2.1/data/nrg_bal_s/A.FC_OTH_HH_E.TOTAL.GWH.BE+BG+CZ+DK+DE+EE+IE+EL+ES+FR+HR+IT+CY+LV+LT+LU+HU+MT+NL+AT+PL+PT+RO+SI+SK+FI+SE?format=SDMX-CSV&startPeriod=2000\n",
      "metadata_url: https://ec.europa.eu/eurostat/api/dissemination/sdmx/2.1/dataflow/all/nrg_bal_s/latest?detail=full&references=descendants\n"
     ]
    }
   ],
   "source": [
    "average_household_constraints = {\n",
    "    'freq': 'A',\n",
    "    'unit': 'AVG',\n",
    "    'geo': sub_codelists['geo_eu_countries']\n",
    "}\n",
    "\n",
    "nrg_bal_constraints = {\n",
    "    'freq': 'A',\n",
    "    'nrg_bal': 'FC_OTH_HH_E',\n",
    "    'siec': 'TOTAL',\n",
    "    'unit': 'GWH',\n",
    "    'geo': sub_codelists['geo_eu_countries'],\n",
    "}\n",
    "\n",
    "demo_pjan_constraints = {\n",
    "    'freq': 'A',\n",
    "    'unit': 'NR',\n",
    "    'age': 'TOTAL',\n",
    "    'sex': 'T',\n",
    "    'geo': sub_codelists['geo_eu_countries'],\n",
    "    }\n",
    "\n",
    "average_household = utils.get_dataset_with_selection('ilc_lvph01', average_household_constraints, agency='estat')\n",
    "\n",
    "demo_pjan = utils.get_dataset_with_selection('demo_pjan', demo_pjan_constraints, agency='estat')\n",
    "demo_pjan.data.TIME_PERIOD  = demo_pjan.data.TIME_PERIOD  - 1\n",
    "\n",
    "nrg_bal = utils.get_dataset_with_selection('nrg_bal_s', nrg_bal_constraints, agency='estat')"
   ]
  },
  {
   "cell_type": "markdown",
   "metadata": {},
   "source": [
    "From these datasets, we calculate the consumption per household in MWh"
   ]
  },
  {
   "cell_type": "code",
   "execution_count": 13,
   "metadata": {},
   "outputs": [
    {
     "data": {
      "application/vnd.plotly.v1+json": {
       "config": {
        "plotlyServerURL": "https://plot.ly"
       },
       "data": [
        {
         "hovertemplate": "Country=AT<br>Year=%{x}<br>Consumption per household (MWh)=%{y}<extra></extra>",
         "legendgroup": "AT",
         "line": {
          "color": "#636efa",
          "dash": "solid"
         },
         "marker": {
          "symbol": "circle"
         },
         "mode": "lines",
         "name": "AT",
         "orientation": "v",
         "showlegend": true,
         "type": "scatter",
         "x": {
          "bdata": "1QfWB9cH2AfZB9oH2wfcB90H3gffB+AH4QfiB+MH5AflB+YH5wc=",
          "dtype": "i2"
         },
         "xaxis": "x",
         "y": {
          "bdata": "2POhFYVSNUB0jU8uigg1QFX58qv+LDRAuGneeVeDNEBI88MPOsM0QJuqzK44izZAwsl4na3XNEDHwE7pZyI1QIrTJiehujVAli60r9CYMkAEF4eKwIAzQLHRlbnzLTRAgOn3PiAsNEC4RSUt+NwyQBRiZWBjOTNAquuahDDxM0ASZmqJGxc2QPegg7oTXTNAUHSXhRllMkA=",
          "dtype": "f8"
         },
         "yaxis": "y"
        },
        {
         "hovertemplate": "Country=BE<br>Year=%{x}<br>Consumption per household (MWh)=%{y}<extra></extra>",
         "legendgroup": "BE",
         "line": {
          "color": "#EF553B",
          "dash": "solid"
         },
         "marker": {
          "symbol": "circle"
         },
         "mode": "lines",
         "name": "BE",
         "orientation": "v",
         "showlegend": true,
         "type": "scatter",
         "x": {
          "bdata": "1QfWB9cH2AfZB9oH2wfcB90H3gffB+AH4QfiB+MH5AflB+YH5wfoBw==",
          "dtype": "i2"
         },
         "xaxis": "x",
         "y": {
          "bdata": "xQJ7AhlCN0CabmG+dAo2QA9D3XjJQDRAKYn9u8e1NkARmSNEt2A1QF9SrIKjXTdAiZKyQtFSM0B0wiH2klM0QPfztaJhvDVAy2X8OUq5MUBYFzmKeXczQPFiEyu3djNA9pSiEQQVM0DJMAUTGMYyQFNiF2tyazFA+K0SiG2MMUDoJ/ox5+UyQETp19EmDzBARJVh2EeFL0AAAAAAAAD4fw==",
          "dtype": "f8"
         },
         "yaxis": "y"
        },
        {
         "hovertemplate": "Country=BG<br>Year=%{x}<br>Consumption per household (MWh)=%{y}<extra></extra>",
         "legendgroup": "BG",
         "line": {
          "color": "#00cc96",
          "dash": "solid"
         },
         "marker": {
          "symbol": "circle"
         },
         "mode": "lines",
         "name": "BG",
         "orientation": "v",
         "showlegend": true,
         "type": "scatter",
         "x": {
          "bdata": "1QfWB9cH2AfZB9oH2wfcB90H3gffB+AH4QfiB+MH5AflB+YH5wfoBw==",
          "dtype": "i2"
         },
         "xaxis": "x",
         "y": {
          "bdata": "1aRhg7l5IkAJCEKJkjkjQJpJg/B7fyJA/G4ZXYcXI0Btsk6mqzYjQJiJPkqkiCRA/ZKPiITbJUCnemaszEUlQGSVmYkuxiNAmfARGhOgIkCcDk4Uq2AiQG/BfwagHiNAQvdBtr0nI0DpXVhEZ60iQM0jdaTPXyJAmq574t1bJEB5J4T8frMkQB11hWUDvCFArcdRc578IEAAAAAAAAD4fw==",
          "dtype": "f8"
         },
         "yaxis": "y"
        },
        {
         "hovertemplate": "Country=CY<br>Year=%{x}<br>Consumption per household (MWh)=%{y}<extra></extra>",
         "legendgroup": "CY",
         "line": {
          "color": "#ab63fa",
          "dash": "solid"
         },
         "marker": {
          "symbol": "circle"
         },
         "mode": "lines",
         "name": "CY",
         "orientation": "v",
         "showlegend": true,
         "type": "scatter",
         "x": {
          "bdata": "1QfWB9cH2AfZB9oH2wfcB90H3gffB+AH4QfiB+MH5AflB+YH5wfoBw==",
          "dtype": "i2"
         },
         "xaxis": "x",
         "y": {
          "bdata": "8OWoN4y+LUCt/UzB4DkuQICnUajNgi1ADtQxCgRwK0DGUyyw41osQPG1KEDdBSpAKRxeErjUKkAEynU2SlMqQDkvBVI7JidAA6TjrAWqJUBaVBP11vonQN1knSY4gyhAaelhCu3gKEDrS7r6NAQoQNBb+yppcClAcSIvQbeJKEDo/iCBar0nQBzD9t1V+SZAf9ulw1AOJUAAAAAAAAD4fw==",
          "dtype": "f8"
         },
         "yaxis": "y"
        },
        {
         "hovertemplate": "Country=CZ<br>Year=%{x}<br>Consumption per household (MWh)=%{y}<extra></extra>",
         "legendgroup": "CZ",
         "line": {
          "color": "#FFA15A",
          "dash": "solid"
         },
         "marker": {
          "symbol": "circle"
         },
         "mode": "lines",
         "name": "CZ",
         "orientation": "v",
         "showlegend": true,
         "type": "scatter",
         "x": {
          "bdata": "1QfWB9cH2AfZB9oH2wfcB90H3gffB+AH4QfiB+MH5AflB+YH5wfoBw==",
          "dtype": "i2"
         },
         "xaxis": "x",
         "y": {
          "bdata": "+Olg3Mv0MkANMLcbTD4zQHLvo83qBzJAOqtyeykpMkAPikS/yH8yQMyLnYE3oTRAYxsNCgL/MkBMjArk3uIyQEgVPXH0TDNAlDjIxA1cMUBXGom3SucxQBrZLdoPtTJAgUmu4+zyMkCS+G48THUyQK1lj0XtajFAcvWLxAI4MkDCe6FTmAA0QDXf5l7YrjFA7xhFWUd9L0AAAAAAAAD4fw==",
          "dtype": "f8"
         },
         "yaxis": "y"
        },
        {
         "hovertemplate": "Country=DE<br>Year=%{x}<br>Consumption per household (MWh)=%{y}<extra></extra>",
         "legendgroup": "DE",
         "line": {
          "color": "#19d3f3",
          "dash": "solid"
         },
         "marker": {
          "symbol": "circle"
         },
         "mode": "lines",
         "name": "DE",
         "orientation": "v",
         "showlegend": true,
         "type": "scatter",
         "x": {
          "bdata": "1QfWB9cH2AfZB9oH2wfcB90H3gffB+AH4QfiB+MH5AflB+YH5wfoBw==",
          "dtype": "i2"
         },
         "xaxis": "x",
         "y": {
          "bdata": "WinVquXdMkAxpNRkUjAzQPNqzog1iDBAT/jA1MKpMkBEv6jXj+gwQNDLszKFgjJANOq6qa04MEAG37AG1hgxQOYQPYEYATJAaklYK368LkBg4wS97BwvQKPo1ShaDjBA53FuDgHnL0Btj+ESukcvQO6hHENHJjBAyXCJ7M83MEBJH480th0wQCE1e2eYEjBAPT5FXJt4LUAAAAAAAAD4fw==",
          "dtype": "f8"
         },
         "yaxis": "y"
        },
        {
         "hovertemplate": "Country=DK<br>Year=%{x}<br>Consumption per household (MWh)=%{y}<extra></extra>",
         "legendgroup": "DK",
         "line": {
          "color": "#FF6692",
          "dash": "solid"
         },
         "marker": {
          "symbol": "circle"
         },
         "mode": "lines",
         "name": "DK",
         "orientation": "v",
         "showlegend": true,
         "type": "scatter",
         "x": {
          "bdata": "1QfWB9cH2AfZB9oH2wfcB90H3gffB+AH4QfiB+MH5AflB+YH5wfoBw==",
          "dtype": "i2"
         },
         "xaxis": "x",
         "y": {
          "bdata": "QAdFxgFZM0A4urxQV0czQIa5B85CLjNAY46m9gv/MkDlAqWuJvQyQG0jc1y67zRAjR2Ybaa9MkBOKFScpHMyQA29tvH5iDJAM3Y2DkcKMUCxL2BEgRoyQId1HLegjTJAbgWaPVAcMkDeu1+U/tYxQM7mQriTizFAFtAWwiQIMUCthPa6Q+kxQChHNQcyry9AUdUZy+Y0MEAAAAAAAAD4fw==",
          "dtype": "f8"
         },
         "yaxis": "y"
        },
        {
         "hovertemplate": "Country=EE<br>Year=%{x}<br>Consumption per household (MWh)=%{y}<extra></extra>",
         "legendgroup": "EE",
         "line": {
          "color": "#B6E880",
          "dash": "solid"
         },
         "marker": {
          "symbol": "circle"
         },
         "mode": "lines",
         "name": "EE",
         "orientation": "v",
         "showlegend": true,
         "type": "scatter",
         "x": {
          "bdata": "1QfWB9cH2AfZB9oH2wfcB90H3gffB+AH4QfiB+MH5AflB+YH5wfoBw==",
          "dtype": "i2"
         },
         "xaxis": "x",
         "y": {
          "bdata": "7D+fPt5fMkBfJzf0kFAyQN+ASm9VNzNAh6/WODsQM0DWM2UOP3YzQOjsVy5EqDRA4EsqBLPgMkCL3FQmvtAyQI73/LzmJjJASPLfdkdIMUAVKXBo0qswQFhgtEb5GDJAb0ke4AFAMkB8nEMxliwyQC06nzi3ezFAAna7rMtYMUBQIUUthbMxQHW+pDAhPDFAnFxuzvagMEAAAAAAAAD4fw==",
          "dtype": "f8"
         },
         "yaxis": "y"
        },
        {
         "hovertemplate": "Country=EL<br>Year=%{x}<br>Consumption per household (MWh)=%{y}<extra></extra>",
         "legendgroup": "EL",
         "line": {
          "color": "#FF97FF",
          "dash": "solid"
         },
         "marker": {
          "symbol": "circle"
         },
         "mode": "lines",
         "name": "EL",
         "orientation": "v",
         "showlegend": true,
         "type": "scatter",
         "x": {
          "bdata": "1QfWB9cH2AfZB9oH2wfcB90H3gffB+AH4QfiB+MH5AflB+YH5wc=",
          "dtype": "i2"
         },
         "xaxis": "x",
         "y": {
          "bdata": "Pppg2zfPL0CIdE7IG7cvQDvAOAHXxy5AYC7koV3VLUAhVvFL0ZorQPfPXlHDWCpAL/IxMvckLkAxtmxk/AEsQDAyqIVVJiVAqPZOKFiXJEChITJc9wMpQC3D3jQgXChAzrliHH3HKECX8KIcAAMmQJFrfULYISdAcGH9Af05KEAFWRl4x7woQC5Ag45JESlAmP8atxoyJEA=",
          "dtype": "f8"
         },
         "yaxis": "y"
        },
        {
         "hovertemplate": "Country=ES<br>Year=%{x}<br>Consumption per household (MWh)=%{y}<extra></extra>",
         "legendgroup": "ES",
         "line": {
          "color": "#FECB52",
          "dash": "solid"
         },
         "marker": {
          "symbol": "circle"
         },
         "mode": "lines",
         "name": "ES",
         "orientation": "v",
         "showlegend": true,
         "type": "scatter",
         "x": {
          "bdata": "1QfWB9cH2AfZB9oH2wfcB90H3gffB+AH4QfiB+MH5AflB+YH5wfoBw==",
          "dtype": "i2"
         },
         "xaxis": "x",
         "y": {
          "bdata": "htQ9Fy94JkCxMmPtWOklQNT27Ml2iyVAJhhWYmwZJUC9Enkf544lQPRajxPH9yVAhpjXmtExJECWKG9lORskQK62eQrxniJAYJGcX4yFIkBWL0Jg/iAjQEEw0kxf7CFAz1LiJxnxIUB6xDrr7M8iQAW4hZ2KwCFA+/Ko2UrbIUAg2bmB+QEiQPQTUWSfLiFAxRn4OqSUIEAAAAAAAAD4fw==",
          "dtype": "f8"
         },
         "yaxis": "y"
        },
        {
         "hovertemplate": "Country=FI<br>Year=%{x}<br>Consumption per household (MWh)=%{y}<extra></extra>",
         "legendgroup": "FI",
         "line": {
          "color": "#636efa",
          "dash": "solid"
         },
         "marker": {
          "symbol": "circle"
         },
         "mode": "lines",
         "name": "FI",
         "orientation": "v",
         "showlegend": true,
         "type": "scatter",
         "x": {
          "bdata": "1QfWB9cH2AfZB9oH2wfcB90H3gffB+AH4QfiB+MH5AflB+YH5wfoBw==",
          "dtype": "i2"
         },
         "xaxis": "x",
         "y": {
          "bdata": "0TZuTCVUN0BZ8qp9vrQ3QLh+ElYxnDdAlhPMzEfjNkDBS0UN/fE3QDr/TSGCZzpAnfcn3E8FN0BAQvTPp404QGQELMfSLDdA79t0IYTKNUD+6bfUjvw0QE1pRYdKlDZA0ZNzMr9OOEAu8/uedP03QLPi6baEtDdAy1poJqY2NkAYqx3VFL83QFW7WuNLPzZANmcKlnzPNUAAAAAAAAD4fw==",
          "dtype": "f8"
         },
         "yaxis": "y"
        },
        {
         "hovertemplate": "Country=FR<br>Year=%{x}<br>Consumption per household (MWh)=%{y}<extra></extra>",
         "legendgroup": "FR",
         "line": {
          "color": "#EF553B",
          "dash": "solid"
         },
         "marker": {
          "symbol": "circle"
         },
         "mode": "lines",
         "name": "FR",
         "orientation": "v",
         "showlegend": true,
         "type": "scatter",
         "x": {
          "bdata": "1QfWB9cH2AfZB9oH2wfcB90H3gffB+AH4QfiB+MH5AflB+YH5wc=",
          "dtype": "i2"
         },
         "xaxis": "x",
         "y": {
          "bdata": "wSqze9sxMkAaUg9FNdExQJqVKdxp5DBA3ujYFHZcMkCdq3Y/6GYxQFNRE9A34TFAjy3xs/g5L0B1Sa7Lej0xQLoVCp7H7zFAogCmNH/6LECVbHJlu7YuQNomAIKgTjBA+l6XMSzTL0Ag92+/abAuQDYWNnwqIi1A2XIZHgp3LUC3mAvoOQAwQM48Fvv49ytATlf5VeojK0A=",
          "dtype": "f8"
         },
         "yaxis": "y"
        },
        {
         "hovertemplate": "Country=HR<br>Year=%{x}<br>Consumption per household (MWh)=%{y}<extra></extra>",
         "legendgroup": "HR",
         "line": {
          "color": "#00cc96",
          "dash": "solid"
         },
         "marker": {
          "symbol": "circle"
         },
         "mode": "lines",
         "name": "HR",
         "orientation": "v",
         "showlegend": true,
         "type": "scatter",
         "x": {
          "bdata": "1QfWB9cH2AfZB9oH2wfcB90H3gffB+AH4QfiB+MH5AflB+YH5wfoBw==",
          "dtype": "i2"
         },
         "xaxis": "x",
         "y": {
          "bdata": "AAAAAAAA+H8AAAAAAAD4fwAAAAAAAPh/AAAAAAAA+H8AAAAAAAD4f/g5P+yXCDVAQdq88bghNEDFPMYBmqIzQAXKu/JyQDNAax6PVYBbMUChnNrgciczQAbTrPLzOzNAv6eDFNhoM0BV7um77twyQBjFxrnZ3jFAczhriQpeMkAMeLkoStozQAK0TmG5pDJAxtbZuFUWMkAAAAAAAAD4fw==",
          "dtype": "f8"
         },
         "yaxis": "y"
        },
        {
         "hovertemplate": "Country=HU<br>Year=%{x}<br>Consumption per household (MWh)=%{y}<extra></extra>",
         "legendgroup": "HU",
         "line": {
          "color": "#ab63fa",
          "dash": "solid"
         },
         "marker": {
          "symbol": "circle"
         },
         "mode": "lines",
         "name": "HU",
         "orientation": "v",
         "showlegend": true,
         "type": "scatter",
         "x": {
          "bdata": "1QfWB9cH2AfZB9oH2wfcB90H3gffB+AH4QfiB+MH5AflB+YH5wfoBw==",
          "dtype": "i2"
         },
         "xaxis": "x",
         "y": {
          "bdata": "VeTti/IbNEB2vqyGrCo0QC/cn+4wajJAsH/KRfMjMkBm8Th/rQ4zQGZzRWUaIjRAVmDPw3J2MkCLmI1UEvwxQH0HX/SgmDFAM+AnxDM1L0CoTyATFVQwQPJYnwJr6DBAvpxveB5VMUCNkq1SMwswQBM8aXr+Vy9Ac+rp8SyTMEBUrxn9+r0xQIxOIdpnODBAtAxw7RT1LUAAAAAAAAD4fw==",
          "dtype": "f8"
         },
         "yaxis": "y"
        },
        {
         "hovertemplate": "Country=IE<br>Year=%{x}<br>Consumption per household (MWh)=%{y}<extra></extra>",
         "legendgroup": "IE",
         "line": {
          "color": "#FFA15A",
          "dash": "solid"
         },
         "marker": {
          "symbol": "circle"
         },
         "mode": "lines",
         "name": "IE",
         "orientation": "v",
         "showlegend": true,
         "type": "scatter",
         "x": {
          "bdata": "1QfWB9cH2AfZB9oH2wfcB90H3gffB+AH4QfiB+MH5AflB+YH5wc=",
          "dtype": "i2"
         },
         "xaxis": "x",
         "y": {
          "bdata": "LAdluxmMOUB7GlGFB+g4QFxo2yoj7DdAPv9xi03HOUBmNFlnGQI4QKkqL+no+ThAsndG9D7ZNUDcDQJwhrE0QMh9c6FYCTRAwhi62fj1MUAi987fruUyQBXpM3bUQzNASxnxl/d5MkCKDHmZuJ0yQLjSWJtwPzNAj1+If0TwM0Agi6AXTsoyQNmm+g/oIzBAZZ+/EFDYLUA=",
          "dtype": "f8"
         },
         "yaxis": "y"
        },
        {
         "hovertemplate": "Country=IT<br>Year=%{x}<br>Consumption per household (MWh)=%{y}<extra></extra>",
         "legendgroup": "IT",
         "line": {
          "color": "#19d3f3",
          "dash": "solid"
         },
         "marker": {
          "symbol": "circle"
         },
         "mode": "lines",
         "name": "IT",
         "orientation": "v",
         "showlegend": true,
         "type": "scatter",
         "x": {
          "bdata": "1QfWB9cH2AfZB9oH2wfcB90H3gffB+AH4QfiB+MH5AflB+YH5wfoBw==",
          "dtype": "i2"
         },
         "xaxis": "x",
         "y": {
          "bdata": "G++lZJvrMEDbzQ4RpRwwQIda8+lp3y9Ar7uBTcqTL0AmPYwG8tUvQD5NFQGbejBAg/zWkWMSLkDfCeT0h88vQDu50ENlqi9AL6zeBNhaK0CDyxe0jSYuQGwzelxZqixA17bZsi1dLUD47FkHBoksQP+qOXlN7itAK3UpT7SvK0C4Qn4vrkIuQOKCUCvyDipAcDfAHEvwJ0AAAAAAAAD4fw==",
          "dtype": "f8"
         },
         "yaxis": "y"
        },
        {
         "hovertemplate": "Country=LT<br>Year=%{x}<br>Consumption per household (MWh)=%{y}<extra></extra>",
         "legendgroup": "LT",
         "line": {
          "color": "#FF6692",
          "dash": "solid"
         },
         "marker": {
          "symbol": "circle"
         },
         "mode": "lines",
         "name": "LT",
         "orientation": "v",
         "showlegend": true,
         "type": "scatter",
         "x": {
          "bdata": "1QfWB9cH2AfZB9oH2wfcB90H3gffB+AH4QfiB+MH5AflB+YH5wc=",
          "dtype": "i2"
         },
         "xaxis": "x",
         "y": {
          "bdata": "9rU9kEahKkDa9xapMjItQCed6hjbTSxAoxcRxpdXLEDVYy76HAgtQF63eFbFIi1AIfaQcAx6LECnSWuFV5orQNzWfP52oCpAJ5Ur6aKbKUCDFJwjbBwpQBVy77rXpilAZqhaivZZKkDrLdbgfoErQMDUSVKyWipAhtKAEGwYKkBkUxVzhl4sQI9OFNo1XilA9rj1dNFxJ0A=",
          "dtype": "f8"
         },
         "yaxis": "y"
        },
        {
         "hovertemplate": "Country=LU<br>Year=%{x}<br>Consumption per household (MWh)=%{y}<extra></extra>",
         "legendgroup": "LU",
         "line": {
          "color": "#B6E880",
          "dash": "solid"
         },
         "marker": {
          "symbol": "circle"
         },
         "mode": "lines",
         "name": "LU",
         "orientation": "v",
         "showlegend": true,
         "type": "scatter",
         "x": {
          "bdata": "1QfWB9cH2AfZB9oH2wfcB90H3gffB+AH4QfiB+MH5AflB+YH5wfoBw==",
          "dtype": "i2"
         },
         "xaxis": "x",
         "y": {
          "bdata": "9EKr+39IQEB43gXBR4Y/QH7IRc8gLT5AVg/+yFEnPkApCtg4O/89QDrElMOMGz1ARZaFaw50OkAoNu0SUnk5QJQioLopWDpANYaK5IQ0N0AU+MJ666Y4QEhIXl302TlALgQUGufdOUBIyhBSFM81QGnXkrv0yTNA79z0IFYQNED81jnqDv8yQFTdT5pAZTJA89v24jQyMkAAAAAAAAD4fw==",
          "dtype": "f8"
         },
         "yaxis": "y"
        },
        {
         "hovertemplate": "Country=LV<br>Year=%{x}<br>Consumption per household (MWh)=%{y}<extra></extra>",
         "legendgroup": "LV",
         "line": {
          "color": "#FF97FF",
          "dash": "solid"
         },
         "marker": {
          "symbol": "circle"
         },
         "mode": "lines",
         "name": "LV",
         "orientation": "v",
         "showlegend": true,
         "type": "scatter",
         "x": {
          "bdata": "1QfWB9cH2AfZB9oH2wfcB90H3gffB+AH4QfiB+MH5AflB+YH5wfoBw==",
          "dtype": "i2"
         },
         "xaxis": "x",
         "y": {
          "bdata": "Oo0QBJNpNEBnppgI90Q0QKUlNDBBHDRAdtkmBClLNEDCFGY3kAo1QMqQSU4RdzNACOCA2XoeMkDzyVXYDvsyQAEDElUzrDFAS4pd/rRnMUBvC080dFgvQMCLTrrdXTBAnzAwcHaIMEDqUpVCgiYxQLEFaNlLqDBAvAsbJ4KEL0Cw628olCcxQBu5wEYtSS5A4lmZTyp4LUAAAAAAAAD4fw==",
          "dtype": "f8"
         },
         "yaxis": "y"
        },
        {
         "hovertemplate": "Country=MT<br>Year=%{x}<br>Consumption per household (MWh)=%{y}<extra></extra>",
         "legendgroup": "MT",
         "line": {
          "color": "#FECB52",
          "dash": "solid"
         },
         "marker": {
          "symbol": "circle"
         },
         "mode": "lines",
         "name": "MT",
         "orientation": "v",
         "showlegend": true,
         "type": "scatter",
         "x": {
          "bdata": "1QfWB9cH2AfZB9oH2wfcB90H3gffB+AH4QfiB+MH5AflB+YH5wc=",
          "dtype": "i2"
         },
         "xaxis": "x",
         "y": {
          "bdata": "eWgdhl8DGEBIfwZF9UoYQF4s32J9nRZALv7Ni1lwFkCgLl2aK0IUQGp6dGta9RRAHVxaxRqvFECjKrU+rIIVQMUyBBWN5xRAREBvvfReFED2mpaO2XsVQCeJs6W8oxNATzAS28xPFkD8ERvcv/IVQEGpI2gg7xZA1+fwX1zqFkDAVkFekKkXQFSFGbvMsBdAGLlCvkqCFkA=",
          "dtype": "f8"
         },
         "yaxis": "y"
        },
        {
         "hovertemplate": "Country=NL<br>Year=%{x}<br>Consumption per household (MWh)=%{y}<extra></extra>",
         "legendgroup": "NL",
         "line": {
          "color": "#636efa",
          "dash": "solid"
         },
         "marker": {
          "symbol": "circle"
         },
         "mode": "lines",
         "name": "NL",
         "orientation": "v",
         "showlegend": true,
         "type": "scatter",
         "x": {
          "bdata": "1QfWB9cH2AfZB9oH2wfcB90H3gffB+AH4QfiB+MH5AflB+YH5wfoBw==",
          "dtype": "i2"
         },
         "xaxis": "x",
         "y": {
          "bdata": "xcni7o+VMUBeV1YX17sxQIAsXihxQjBAfCMV8DLhMUBZ4yp68gUxQNb+ApzoKzNAqzS0hRxyL0BrllzA65EwQItt3W7NWTFAFffxs7OaK0BUyUFADMAsQP0tb4iMaS1AOC5WdSOQLEAjEn01+EssQPR8hT+SMSpAWGW9I+h5KUBelw6iuAUsQIdYybbVhSdAG0GBlhn9JEAAAAAAAAD4fw==",
          "dtype": "f8"
         },
         "yaxis": "y"
        },
        {
         "hovertemplate": "Country=PL<br>Year=%{x}<br>Consumption per household (MWh)=%{y}<extra></extra>",
         "legendgroup": "PL",
         "line": {
          "color": "#EF553B",
          "dash": "solid"
         },
         "marker": {
          "symbol": "circle"
         },
         "mode": "lines",
         "name": "PL",
         "orientation": "v",
         "showlegend": true,
         "type": "scatter",
         "x": {
          "bdata": "1QfWB9cH2AfZB9oH2wfcB90H3gffB+AH4QfiB+MH5AflB+YH5wfoBw==",
          "dtype": "i2"
         },
         "xaxis": "x",
         "y": {
          "bdata": "VrSISYmdMEDrvnDrxHsxQAWOIyyaizBA5GX2+mPLMEAAV4rgHB8xQIMVmika0zJA2b11h7o4MUA7VrdkaM4xQAjZc891jTFAdhiqPjhPMECB10VY61IwQAmHrdu7DTFAqv1v1CE0MUDI1OU8LFgzQBbGr5+wAjJA+QryYeOIMkA2qTAeI4kzQH7WhGWUyjJAXsMSC39RMkAAAAAAAAD4fw==",
          "dtype": "f8"
         },
         "yaxis": "y"
        },
        {
         "hovertemplate": "Country=PT<br>Year=%{x}<br>Consumption per household (MWh)=%{y}<extra></extra>",
         "legendgroup": "PT",
         "line": {
          "color": "#00cc96",
          "dash": "solid"
         },
         "marker": {
          "symbol": "circle"
         },
         "mode": "lines",
         "name": "PT",
         "orientation": "v",
         "showlegend": true,
         "type": "scatter",
         "x": {
          "bdata": "1QfWB9cH2AfZB9oH2wfcB90H3gffB+AH4QfiB+MH5AflB+YH5wfoBw==",
          "dtype": "i2"
         },
         "xaxis": "x",
         "y": {
          "bdata": "tNgXZozxI0CNpQvuj98jQFJJoOdJ4CNA0HV3kUmJIkCOqgQDaP4iQMqWJKJIpSFAgVdh/tLPH0CU375NSQgfQKRjgLNxgx5Am6zIOW8nIEB00Eo6g90eQKC9fJ3ash9Af0hjibWGH0CiHjZ1sDEgQLHaCxhyNCBA3n7t8dTcIEBEgrTKoN0gQNBk7mdQZiBA+eG0WOqAIEAAAAAAAAD4fw==",
          "dtype": "f8"
         },
         "yaxis": "y"
        },
        {
         "hovertemplate": "Country=RO<br>Year=%{x}<br>Consumption per household (MWh)=%{y}<extra></extra>",
         "legendgroup": "RO",
         "line": {
          "color": "#ab63fa",
          "dash": "solid"
         },
         "marker": {
          "symbol": "circle"
         },
         "mode": "lines",
         "name": "RO",
         "orientation": "v",
         "showlegend": true,
         "type": "scatter",
         "x": {
          "bdata": "1QfWB9cH2AfZB9oH2wfcB90H3gffB+AH4QfiB+MH5AflB+YH5wfoBw==",
          "dtype": "i2"
         },
         "xaxis": "x",
         "y": {
          "bdata": "AAAAAAAA+H8AAAAAAAD4f7wlxBBJlChAdINhnLm2KUD+z+eAvbgpQJhQfPO9MClAI9mxq/GPKEBsO7uKIEkpQAD9zp7STyhA3b04jylrJ0CUMXGKfHAnQKSqoNmitCdAQ78/N0PwJ0BdsivnJzgoQG2f01YpQihAWcTu6TM4KUASMB1w68MqQJy/KYK/FyhAt5+UQx4IJ0AAAAAAAAD4fw==",
          "dtype": "f8"
         },
         "yaxis": "y"
        },
        {
         "hovertemplate": "Country=SE<br>Year=%{x}<br>Consumption per household (MWh)=%{y}<extra></extra>",
         "legendgroup": "SE",
         "line": {
          "color": "#FFA15A",
          "dash": "solid"
         },
         "marker": {
          "symbol": "circle"
         },
         "mode": "lines",
         "name": "SE",
         "orientation": "v",
         "showlegend": true,
         "type": "scatter",
         "x": {
          "bdata": "1QfWB9cH2AfZB9oH2wfcB90H3gffB+AH4QfiB+MH5AflB+YH5wfoBw==",
          "dtype": "i2"
         },
         "xaxis": "x",
         "y": {
          "bdata": "L+quEsmfNEDC0Wzqv5szQJw+XZwWwjJAKFLQKL5UMkBYtjUnpwIyQFrQlp0CfDVAgEWGOtDIM0CDjTe1ZJU0QOWCSm1LjjJAN80qbVNAMUDgTH4xxX8xQMx0CZvl0jFAlhmEWhqTMkCB4IzCzwcxQCxwCJrMlTBAaa1ilF4YMEBhkckUcIgxQCbO0l1AOS9AAUoVqfcUL0AAAAAAAAD4fw==",
          "dtype": "f8"
         },
         "yaxis": "y"
        },
        {
         "hovertemplate": "Country=SI<br>Year=%{x}<br>Consumption per household (MWh)=%{y}<extra></extra>",
         "legendgroup": "SI",
         "line": {
          "color": "#19d3f3",
          "dash": "solid"
         },
         "marker": {
          "symbol": "circle"
         },
         "mode": "lines",
         "name": "SI",
         "orientation": "v",
         "showlegend": true,
         "type": "scatter",
         "x": {
          "bdata": "1QfWB9cH2AfZB9oH2wfcB90H3gffB+AH4QfiB+MH5AflB+YH5wfoBw==",
          "dtype": "i2"
         },
         "xaxis": "x",
         "y": {
          "bdata": "fxk2a7M5N0DJu/LFMpw1QKl99x42FTVAObiVuAyyNUCZhLWTiwA1QDGBNoyRHTRA3hVRBWMcM0AS/jWqdq0xQLjxhYBheDFA1HzgiNTjLUCSZDl9zIMwQJAAUHo61jBAbz22fll6MECphrCJLMcuQG7M21mqrixAdmnNkUQXLkB+R199bhEwQAEAy64s1CtAf7R7SN9VK0AAAAAAAAD4fw==",
          "dtype": "f8"
         },
         "yaxis": "y"
        },
        {
         "hovertemplate": "Country=SK<br>Year=%{x}<br>Consumption per household (MWh)=%{y}<extra></extra>",
         "legendgroup": "SK",
         "line": {
          "color": "#FF6692",
          "dash": "solid"
         },
         "marker": {
          "symbol": "circle"
         },
         "mode": "lines",
         "name": "SK",
         "orientation": "v",
         "showlegend": true,
         "type": "scatter",
         "x": {
          "bdata": "1QfWB9cH2AfZB9oH2wfcB90H3gffB+AH4QfiB+MH5AflB+YH5wc=",
          "dtype": "i2"
         },
         "xaxis": "x",
         "y": {
          "bdata": "lkbaLd/kL0BnbZf3TAAtQJT9UvrfNClAXt0I89SzKkAGMYyKSfIpQB6by6x3STJAk28fj/TQMEAVRrepofkwQINQaFLkszFALjVDo2XuK0CI2p42t+IuQBdpKqS+GzBACD56185qMECvyhMaWoIvQP2oY/ewTDBAFrZNaUX0MEC151Vak2gyQLaGXAxh1zFAJMu9hrEeMEA=",
          "dtype": "f8"
         },
         "yaxis": "y"
        }
       ],
       "layout": {
        "legend": {
         "title": {
          "text": "Country"
         },
         "tracegroupgap": 0
        },
        "margin": {
         "t": 60
        },
        "template": {
         "data": {
          "bar": [
           {
            "error_x": {
             "color": "#2a3f5f"
            },
            "error_y": {
             "color": "#2a3f5f"
            },
            "marker": {
             "line": {
              "color": "#E5ECF6",
              "width": 0.5
             },
             "pattern": {
              "fillmode": "overlay",
              "size": 10,
              "solidity": 0.2
             }
            },
            "type": "bar"
           }
          ],
          "barpolar": [
           {
            "marker": {
             "line": {
              "color": "#E5ECF6",
              "width": 0.5
             },
             "pattern": {
              "fillmode": "overlay",
              "size": 10,
              "solidity": 0.2
             }
            },
            "type": "barpolar"
           }
          ],
          "carpet": [
           {
            "aaxis": {
             "endlinecolor": "#2a3f5f",
             "gridcolor": "white",
             "linecolor": "white",
             "minorgridcolor": "white",
             "startlinecolor": "#2a3f5f"
            },
            "baxis": {
             "endlinecolor": "#2a3f5f",
             "gridcolor": "white",
             "linecolor": "white",
             "minorgridcolor": "white",
             "startlinecolor": "#2a3f5f"
            },
            "type": "carpet"
           }
          ],
          "choropleth": [
           {
            "colorbar": {
             "outlinewidth": 0,
             "ticks": ""
            },
            "type": "choropleth"
           }
          ],
          "contour": [
           {
            "colorbar": {
             "outlinewidth": 0,
             "ticks": ""
            },
            "colorscale": [
             [
              0,
              "#0d0887"
             ],
             [
              0.1111111111111111,
              "#46039f"
             ],
             [
              0.2222222222222222,
              "#7201a8"
             ],
             [
              0.3333333333333333,
              "#9c179e"
             ],
             [
              0.4444444444444444,
              "#bd3786"
             ],
             [
              0.5555555555555556,
              "#d8576b"
             ],
             [
              0.6666666666666666,
              "#ed7953"
             ],
             [
              0.7777777777777778,
              "#fb9f3a"
             ],
             [
              0.8888888888888888,
              "#fdca26"
             ],
             [
              1,
              "#f0f921"
             ]
            ],
            "type": "contour"
           }
          ],
          "contourcarpet": [
           {
            "colorbar": {
             "outlinewidth": 0,
             "ticks": ""
            },
            "type": "contourcarpet"
           }
          ],
          "heatmap": [
           {
            "colorbar": {
             "outlinewidth": 0,
             "ticks": ""
            },
            "colorscale": [
             [
              0,
              "#0d0887"
             ],
             [
              0.1111111111111111,
              "#46039f"
             ],
             [
              0.2222222222222222,
              "#7201a8"
             ],
             [
              0.3333333333333333,
              "#9c179e"
             ],
             [
              0.4444444444444444,
              "#bd3786"
             ],
             [
              0.5555555555555556,
              "#d8576b"
             ],
             [
              0.6666666666666666,
              "#ed7953"
             ],
             [
              0.7777777777777778,
              "#fb9f3a"
             ],
             [
              0.8888888888888888,
              "#fdca26"
             ],
             [
              1,
              "#f0f921"
             ]
            ],
            "type": "heatmap"
           }
          ],
          "histogram": [
           {
            "marker": {
             "pattern": {
              "fillmode": "overlay",
              "size": 10,
              "solidity": 0.2
             }
            },
            "type": "histogram"
           }
          ],
          "histogram2d": [
           {
            "colorbar": {
             "outlinewidth": 0,
             "ticks": ""
            },
            "colorscale": [
             [
              0,
              "#0d0887"
             ],
             [
              0.1111111111111111,
              "#46039f"
             ],
             [
              0.2222222222222222,
              "#7201a8"
             ],
             [
              0.3333333333333333,
              "#9c179e"
             ],
             [
              0.4444444444444444,
              "#bd3786"
             ],
             [
              0.5555555555555556,
              "#d8576b"
             ],
             [
              0.6666666666666666,
              "#ed7953"
             ],
             [
              0.7777777777777778,
              "#fb9f3a"
             ],
             [
              0.8888888888888888,
              "#fdca26"
             ],
             [
              1,
              "#f0f921"
             ]
            ],
            "type": "histogram2d"
           }
          ],
          "histogram2dcontour": [
           {
            "colorbar": {
             "outlinewidth": 0,
             "ticks": ""
            },
            "colorscale": [
             [
              0,
              "#0d0887"
             ],
             [
              0.1111111111111111,
              "#46039f"
             ],
             [
              0.2222222222222222,
              "#7201a8"
             ],
             [
              0.3333333333333333,
              "#9c179e"
             ],
             [
              0.4444444444444444,
              "#bd3786"
             ],
             [
              0.5555555555555556,
              "#d8576b"
             ],
             [
              0.6666666666666666,
              "#ed7953"
             ],
             [
              0.7777777777777778,
              "#fb9f3a"
             ],
             [
              0.8888888888888888,
              "#fdca26"
             ],
             [
              1,
              "#f0f921"
             ]
            ],
            "type": "histogram2dcontour"
           }
          ],
          "mesh3d": [
           {
            "colorbar": {
             "outlinewidth": 0,
             "ticks": ""
            },
            "type": "mesh3d"
           }
          ],
          "parcoords": [
           {
            "line": {
             "colorbar": {
              "outlinewidth": 0,
              "ticks": ""
             }
            },
            "type": "parcoords"
           }
          ],
          "pie": [
           {
            "automargin": true,
            "type": "pie"
           }
          ],
          "scatter": [
           {
            "fillpattern": {
             "fillmode": "overlay",
             "size": 10,
             "solidity": 0.2
            },
            "type": "scatter"
           }
          ],
          "scatter3d": [
           {
            "line": {
             "colorbar": {
              "outlinewidth": 0,
              "ticks": ""
             }
            },
            "marker": {
             "colorbar": {
              "outlinewidth": 0,
              "ticks": ""
             }
            },
            "type": "scatter3d"
           }
          ],
          "scattercarpet": [
           {
            "marker": {
             "colorbar": {
              "outlinewidth": 0,
              "ticks": ""
             }
            },
            "type": "scattercarpet"
           }
          ],
          "scattergeo": [
           {
            "marker": {
             "colorbar": {
              "outlinewidth": 0,
              "ticks": ""
             }
            },
            "type": "scattergeo"
           }
          ],
          "scattergl": [
           {
            "marker": {
             "colorbar": {
              "outlinewidth": 0,
              "ticks": ""
             }
            },
            "type": "scattergl"
           }
          ],
          "scattermap": [
           {
            "marker": {
             "colorbar": {
              "outlinewidth": 0,
              "ticks": ""
             }
            },
            "type": "scattermap"
           }
          ],
          "scattermapbox": [
           {
            "marker": {
             "colorbar": {
              "outlinewidth": 0,
              "ticks": ""
             }
            },
            "type": "scattermapbox"
           }
          ],
          "scatterpolar": [
           {
            "marker": {
             "colorbar": {
              "outlinewidth": 0,
              "ticks": ""
             }
            },
            "type": "scatterpolar"
           }
          ],
          "scatterpolargl": [
           {
            "marker": {
             "colorbar": {
              "outlinewidth": 0,
              "ticks": ""
             }
            },
            "type": "scatterpolargl"
           }
          ],
          "scatterternary": [
           {
            "marker": {
             "colorbar": {
              "outlinewidth": 0,
              "ticks": ""
             }
            },
            "type": "scatterternary"
           }
          ],
          "surface": [
           {
            "colorbar": {
             "outlinewidth": 0,
             "ticks": ""
            },
            "colorscale": [
             [
              0,
              "#0d0887"
             ],
             [
              0.1111111111111111,
              "#46039f"
             ],
             [
              0.2222222222222222,
              "#7201a8"
             ],
             [
              0.3333333333333333,
              "#9c179e"
             ],
             [
              0.4444444444444444,
              "#bd3786"
             ],
             [
              0.5555555555555556,
              "#d8576b"
             ],
             [
              0.6666666666666666,
              "#ed7953"
             ],
             [
              0.7777777777777778,
              "#fb9f3a"
             ],
             [
              0.8888888888888888,
              "#fdca26"
             ],
             [
              1,
              "#f0f921"
             ]
            ],
            "type": "surface"
           }
          ],
          "table": [
           {
            "cells": {
             "fill": {
              "color": "#EBF0F8"
             },
             "line": {
              "color": "white"
             }
            },
            "header": {
             "fill": {
              "color": "#C8D4E3"
             },
             "line": {
              "color": "white"
             }
            },
            "type": "table"
           }
          ]
         },
         "layout": {
          "annotationdefaults": {
           "arrowcolor": "#2a3f5f",
           "arrowhead": 0,
           "arrowwidth": 1
          },
          "autotypenumbers": "strict",
          "coloraxis": {
           "colorbar": {
            "outlinewidth": 0,
            "ticks": ""
           }
          },
          "colorscale": {
           "diverging": [
            [
             0,
             "#8e0152"
            ],
            [
             0.1,
             "#c51b7d"
            ],
            [
             0.2,
             "#de77ae"
            ],
            [
             0.3,
             "#f1b6da"
            ],
            [
             0.4,
             "#fde0ef"
            ],
            [
             0.5,
             "#f7f7f7"
            ],
            [
             0.6,
             "#e6f5d0"
            ],
            [
             0.7,
             "#b8e186"
            ],
            [
             0.8,
             "#7fbc41"
            ],
            [
             0.9,
             "#4d9221"
            ],
            [
             1,
             "#276419"
            ]
           ],
           "sequential": [
            [
             0,
             "#0d0887"
            ],
            [
             0.1111111111111111,
             "#46039f"
            ],
            [
             0.2222222222222222,
             "#7201a8"
            ],
            [
             0.3333333333333333,
             "#9c179e"
            ],
            [
             0.4444444444444444,
             "#bd3786"
            ],
            [
             0.5555555555555556,
             "#d8576b"
            ],
            [
             0.6666666666666666,
             "#ed7953"
            ],
            [
             0.7777777777777778,
             "#fb9f3a"
            ],
            [
             0.8888888888888888,
             "#fdca26"
            ],
            [
             1,
             "#f0f921"
            ]
           ],
           "sequentialminus": [
            [
             0,
             "#0d0887"
            ],
            [
             0.1111111111111111,
             "#46039f"
            ],
            [
             0.2222222222222222,
             "#7201a8"
            ],
            [
             0.3333333333333333,
             "#9c179e"
            ],
            [
             0.4444444444444444,
             "#bd3786"
            ],
            [
             0.5555555555555556,
             "#d8576b"
            ],
            [
             0.6666666666666666,
             "#ed7953"
            ],
            [
             0.7777777777777778,
             "#fb9f3a"
            ],
            [
             0.8888888888888888,
             "#fdca26"
            ],
            [
             1,
             "#f0f921"
            ]
           ]
          },
          "colorway": [
           "#636efa",
           "#EF553B",
           "#00cc96",
           "#ab63fa",
           "#FFA15A",
           "#19d3f3",
           "#FF6692",
           "#B6E880",
           "#FF97FF",
           "#FECB52"
          ],
          "font": {
           "color": "#2a3f5f"
          },
          "geo": {
           "bgcolor": "white",
           "lakecolor": "white",
           "landcolor": "#E5ECF6",
           "showlakes": true,
           "showland": true,
           "subunitcolor": "white"
          },
          "hoverlabel": {
           "align": "left"
          },
          "hovermode": "closest",
          "mapbox": {
           "style": "light"
          },
          "paper_bgcolor": "white",
          "plot_bgcolor": "#E5ECF6",
          "polar": {
           "angularaxis": {
            "gridcolor": "white",
            "linecolor": "white",
            "ticks": ""
           },
           "bgcolor": "#E5ECF6",
           "radialaxis": {
            "gridcolor": "white",
            "linecolor": "white",
            "ticks": ""
           }
          },
          "scene": {
           "xaxis": {
            "backgroundcolor": "#E5ECF6",
            "gridcolor": "white",
            "gridwidth": 2,
            "linecolor": "white",
            "showbackground": true,
            "ticks": "",
            "zerolinecolor": "white"
           },
           "yaxis": {
            "backgroundcolor": "#E5ECF6",
            "gridcolor": "white",
            "gridwidth": 2,
            "linecolor": "white",
            "showbackground": true,
            "ticks": "",
            "zerolinecolor": "white"
           },
           "zaxis": {
            "backgroundcolor": "#E5ECF6",
            "gridcolor": "white",
            "gridwidth": 2,
            "linecolor": "white",
            "showbackground": true,
            "ticks": "",
            "zerolinecolor": "white"
           }
          },
          "shapedefaults": {
           "line": {
            "color": "#2a3f5f"
           }
          },
          "ternary": {
           "aaxis": {
            "gridcolor": "white",
            "linecolor": "white",
            "ticks": ""
           },
           "baxis": {
            "gridcolor": "white",
            "linecolor": "white",
            "ticks": ""
           },
           "bgcolor": "#E5ECF6",
           "caxis": {
            "gridcolor": "white",
            "linecolor": "white",
            "ticks": ""
           }
          },
          "title": {
           "x": 0.05
          },
          "xaxis": {
           "automargin": true,
           "gridcolor": "white",
           "linecolor": "white",
           "ticks": "",
           "title": {
            "standoff": 15
           },
           "zerolinecolor": "white",
           "zerolinewidth": 2
          },
          "yaxis": {
           "automargin": true,
           "gridcolor": "white",
           "linecolor": "white",
           "ticks": "",
           "title": {
            "standoff": 15
           },
           "zerolinecolor": "white",
           "zerolinewidth": 2
          }
         }
        },
        "xaxis": {
         "anchor": "y",
         "domain": [
          0,
          1
         ],
         "title": {
          "text": "Year"
         }
        },
        "yaxis": {
         "anchor": "x",
         "domain": [
          0,
          1
         ],
         "title": {
          "text": "Consumption per household (MWh)"
         }
        }
       }
      }
     },
     "metadata": {},
     "output_type": "display_data"
    }
   ],
   "source": [
    "#The demo_pjan dataset has the total population per country and year\n",
    "demo_pjan_df = demo_pjan.data[['geo', 'TIME_PERIOD', 'OBS_VALUE']]\n",
    "demo_pjan_df.set_index(['geo', 'TIME_PERIOD'], inplace=True)\n",
    "\n",
    "#The average_household dataset has the average number of people per household per country and year\n",
    "average_household_df = average_household.data[['geo', 'TIME_PERIOD', 'OBS_VALUE']]\n",
    "average_household_df.set_index(['geo', 'TIME_PERIOD'], inplace=True)\n",
    "\n",
    "#The number of households is the total population divided by the average number of people per household\n",
    "number_of_households_df = demo_pjan_df.div(average_household_df)\n",
    "\n",
    "#The nrg_bal dataset has the total energy consumption per country and year\n",
    "nrg_bal_df = nrg_bal.data.set_index(['geo', 'TIME_PERIOD'])\n",
    "\n",
    "#The consumption per household is the total energy consumption divided by the number of households\n",
    "consumption_per_household = nrg_bal_df.div(number_of_households_df)\n",
    "consumption_per_household.reset_index(inplace=True)\n",
    "#Convert to MWh\n",
    "consumption_per_household['OBS_VALUE'] = consumption_per_household['OBS_VALUE'] * 1000\n",
    "consumption_per_household = consumption_per_household[consumption_per_household['TIME_PERIOD'] >= 2005]\n",
    "consumption_per_household.rename(columns={\n",
    "    'OBS_VALUE': 'Consumption per household (MWh)',\n",
    "    'geo': 'Country',\n",
    "    'TIME_PERIOD': 'Year'\n",
    "    }, inplace=True)\n",
    "fig = px.line(consumption_per_household, x='Year', y='Consumption per household (MWh)', color='Country')\n",
    "fig.show()\n"
   ]
  },
  {
   "cell_type": "markdown",
   "metadata": {},
   "source": [
    "This chart displays household energy consumption in megawatt-hours (MWh) across different European countries from 2005 to 2023.\n",
    "Key observations:\n",
    "\n",
    "- Luxembourg (LU, light green line at top)shows the highest household energy consumption in the beginning of the series, starting at around 32 MWh per household in 2005, but declines sharply converging to the mean.\n",
    "- Finland (FI, blue line) demonstrates significant fluctuations but maintains relatively high consumption between 20-26 MWh per household\n",
    "Most countries cluster in the 10-20 MWh range with varying trajectories.\n",
    "- There's a general downward trend across most countries, particularly after 2010\n",
    "- Several countries show temporary increases around 2009-2010 before declining\n",
    "- The lowest-consuming countries (bottom of chart) maintain relatively stable patterns around 5-10 MWh per household\n",
    "\n",
    "The visualization illustrates the significant differences in household energy consumption between European nations, likely reflecting variations in climate conditions, housing efficiency, heating/cooling needs, appliance usage, and energy conservation policies. The overall downward trend suggests improvements in energy efficiency across European households over this period."
   ]
  },
  {
   "cell_type": "markdown",
   "metadata": {},
   "source": [
    "## Testing the climate conditions hypothesis\n",
    "\n",
    "In order to test that hypothesis, we are going to get a dataset that includes the cooling and heating degree days indexes (see: https://ec.europa.eu/eurostat/cache/metadata/en/nrg_chdd_esms.htm)"
   ]
  },
  {
   "cell_type": "code",
   "execution_count": 14,
   "metadata": {},
   "outputs": [
    {
     "name": "stdout",
     "output_type": "stream",
     "text": [
      "data_url: https://ec.europa.eu/eurostat/api/dissemination/sdmx/2.1/data/nrg_chdd_a/A.NR.CDD+HDD.BE+BG+CZ+DK+DE+EE+IE+EL+ES+FR+HR+IT+CY+LV+LT+LU+HU+MT+NL+AT+PL+PT+RO+SI+SK+FI+SE?format=SDMX-CSV&startPeriod=2000\n",
      "metadata_url: https://ec.europa.eu/eurostat/api/dissemination/sdmx/2.1/dataflow/all/nrg_chdd_a/latest?detail=full&references=descendants\n"
     ]
    }
   ],
   "source": [
    "nrg_chdd_a_constraints = {\n",
    "    'freq': 'A',\n",
    "    'unit': 'NR',\n",
    "    'indic_nrg': ['CDD', 'HDD'],\n",
    "    'geo': sub_codelists['geo_eu_countries'],\n",
    "    }\n",
    "\n",
    "nrg_chdd_a_constraints = utils.get_dataset_with_selection('nrg_chdd_a', nrg_chdd_a_constraints, agency='estat')\n",
    "nrg_chdd_a_constraints_df = nrg_chdd_a_constraints.data[['geo', 'TIME_PERIOD', 'indic_nrg', 'OBS_VALUE']]\n"
   ]
  },
  {
   "cell_type": "code",
   "execution_count": 36,
   "metadata": {},
   "outputs": [
    {
     "data": {
      "application/vnd.plotly.v1+json": {
       "config": {
        "plotlyServerURL": "https://plot.ly"
       },
       "data": [
        {
         "hovertemplate": "Country=AT<br>Temperature energy index=%{x}<br>Consumption per household (MWh)=%{y}<extra></extra>",
         "legendgroup": "AT",
         "marker": {
          "color": "#636efa",
          "symbol": "circle"
         },
         "mode": "markers",
         "name": "AT",
         "orientation": "v",
         "showlegend": true,
         "type": "scatter",
         "x": {
          "bdata": "zczMzJTq0kAusp3vx27RQOXQItux1dFAz/dT42Um0kCe76fGmz3UQL10kxi0qdFApHA9Cm9r0kAEVg4tmtzSQFYOLbJ9MdBAJAaBlSM70UAAAAAAsLXRQIGVQ4v0I9JA16NwPcKP0EA9CtejYAPRQICVQ4ukNNFAxSCwcnjU0kBCYOXQar3QQEkMAivnU9BAwMqhRXaOz0A=",
          "dtype": "f8"
         },
         "xaxis": "x",
         "y": {
          "bdata": "2POhFYVSNUB0jU8uigg1QFX58qv+LDRAuGneeVeDNEBI88MPOsM0QJuqzK44izZAwsl4na3XNEDHwE7pZyI1QIrTJiehujVAli60r9CYMkAEF4eKwIAzQLHRlbnzLTRAgOn3PiAsNEC4RSUt+NwyQBRiZWBjOTNAquuahDDxM0ASZmqJGxc2QPegg7oTXTNAUHSXhRllMkA=",
          "dtype": "f8"
         },
         "yaxis": "y"
        },
        {
         "hovertemplate": "Country=BE<br>Temperature energy index=%{x}<br>Consumption per household (MWh)=%{y}<extra></extra>",
         "legendgroup": "BE",
         "marker": {
          "color": "#EF553B",
          "symbol": "circle"
         },
         "mode": "markers",
         "name": "BE",
         "orientation": "v",
         "showlegend": true,
         "type": "scatter",
         "x": {
          "bdata": "m8QgsELhykCCwMqhJUHJQESLbOcb78tA9P3UePnhy0BJDAIrF43QQHjpJjGo6MhA5dAi2/mpzEB6FK5H4U/PQAaBlUObEMhA91PjpXtPy0BU46WbBPPLQH0/NV4qyMpAAAAAAHAQykBmZmZmlkrKQBgEVg7dUMhASgwCKwexzEAaL90k9snIQJ7vp8a7fMhAnMQgsOKyyEB0kxgExhvKQA==",
          "dtype": "f8"
         },
         "xaxis": "x",
         "y": {
          "bdata": "xQJ7AhlCN0CabmG+dAo2QA9D3XjJQDRAKYn9u8e1NkARmSNEt2A1QF9SrIKjXTdAiZKyQtFSM0B0wiH2klM0QPfztaJhvDVAy2X8OUq5MUBYFzmKeXczQPFiEyu3djNA9pSiEQQVM0DJMAUTGMYyQFNiF2tyazFA+K0SiG2MMUDoJ/ox5+UyQETp19EmDzBARJVh2EeFL0AAAAAAAAD4fw==",
          "dtype": "f8"
         },
         "yaxis": "y"
        },
        {
         "hovertemplate": "Country=BG<br>Temperature energy index=%{x}<br>Consumption per household (MWh)=%{y}<extra></extra>",
         "legendgroup": "BG",
         "marker": {
          "color": "#00cc96",
          "symbol": "circle"
         },
         "mode": "markers",
         "name": "BG",
         "orientation": "v",
         "showlegend": true,
         "type": "scatter",
         "x": {
          "bdata": "ne+nxrtByUCwcmiRjd/JQGzn+6lhdclAAiuHFrlnykBg5dAiizjNQHoUrkeBmMtAlUOLbEf6yEBoke18v67IQC/dJAZx7shAke18PwVqyUC9dJMYlJLKQDMzMzPzmMhA3SQGgTWaxkAAAAAAcJbHQDZeukm8VcpAFtnO98NFyEAK16Nw3QbGQJvEILDChMZAtvP91DjStED0/dR4KcqvQA==",
          "dtype": "f8"
         },
         "xaxis": "x",
         "y": {
          "bdata": "1aRhg7l5IkAJCEKJkjkjQJpJg/B7fyJA/G4ZXYcXI0Btsk6mqzYjQJiJPkqkiCRA/ZKPiITbJUCnemaszEUlQGSVmYkuxiNAmfARGhOgIkCcDk4Uq2AiQG/BfwagHiNAQvdBtr0nI0DpXVhEZ60iQM0jdaTPXyJAmq574t1bJEB5J4T8frMkQB11hWUDvCFArcdRc578IEAAAAAAAAD4fw==",
          "dtype": "f8"
         },
         "yaxis": "y"
        },
        {
         "hovertemplate": "Country=CY<br>Temperature energy index=%{x}<br>Consumption per household (MWh)=%{y}<extra></extra>",
         "legendgroup": "CY",
         "marker": {
          "color": "#ab63fa",
          "symbol": "circle"
         },
         "mode": "markers",
         "name": "CY",
         "orientation": "v",
         "showlegend": true,
         "type": "scatter",
         "x": {
          "bdata": "FtnO99MWskCkcD0Kt4SxQCLb+X7qeapAoBov3WQSs0B56SYxCPGzQOOlm8QAU7FAPQrXo7CdqkBg5dAiGyuyQM73U+OF77BAlUOLbMezsUDC9ShcT9apQIYW2c43S7FAWDm0yJYasEBOYhBYOfmuQJLtfD+1IrFAmG4Sg4AIrECVQ4tsZwWtQFuPwvVADNBAhxbZzq9u0kCp8dJNSvTQQA==",
          "dtype": "f8"
         },
         "xaxis": "x",
         "y": {
          "bdata": "8OWoN4y+LUCt/UzB4DkuQICnUajNgi1ADtQxCgRwK0DGUyyw41osQPG1KEDdBSpAKRxeErjUKkAEynU2SlMqQDkvBVI7JidAA6TjrAWqJUBaVBP11vonQN1knSY4gyhAaelhCu3gKEDrS7r6NAQoQNBb+yppcClAcSIvQbeJKEDo/iCBar0nQBzD9t1V+SZAf9ulw1AOJUAAAAAAAAD4fw==",
          "dtype": "f8"
         },
         "yaxis": "y"
        },
        {
         "hovertemplate": "Country=CZ<br>Temperature energy index=%{x}<br>Consumption per household (MWh)=%{y}<extra></extra>",
         "legendgroup": "CZ",
         "marker": {
          "color": "#FFA15A",
          "symbol": "circle"
         },
         "mode": "markers",
         "name": "CZ",
         "orientation": "v",
         "showlegend": true,
         "type": "scatter",
         "x": {
          "bdata": "vHSTGARC0UAYBFYO/dfTQEfhehQuwdBA1XjpJnme0UBNYhBYWTzSQH0/NV5qPs5AL90kBmEX0EDn+6nxytHQQArXo3BdKdFAQGDl0GIZz0CwcmiR/RzPQGq8dJM44s9A2M73Uxvh0UByaJHtHPjPQAErhxYJT85AQmDl0KLczEAqhxbZnm/NQBbZzvczqdBAUI2XbjKhz0CwcmiR3bnQQA==",
          "dtype": "f8"
         },
         "xaxis": "x",
         "y": {
          "bdata": "+Olg3Mv0MkANMLcbTD4zQHLvo83qBzJAOqtyeykpMkAPikS/yH8yQMyLnYE3oTRAYxsNCgL/MkBMjArk3uIyQEgVPXH0TDNAlDjIxA1cMUBXGom3SucxQBrZLdoPtTJAgUmu4+zyMkCS+G48THUyQK1lj0XtajFAcvWLxAI4MkDCe6FTmAA0QDXf5l7YrjFA7xhFWUd9L0AAAAAAAAD4fw==",
          "dtype": "f8"
         },
         "yaxis": "y"
        },
        {
         "hovertemplate": "Country=DE<br>Temperature energy index=%{x}<br>Consumption per household (MWh)=%{y}<extra></extra>",
         "legendgroup": "DE",
         "marker": {
          "color": "#19d3f3",
          "symbol": "circle"
         },
         "mode": "markers",
         "name": "DE",
         "orientation": "v",
         "showlegend": true,
         "type": "scatter",
         "x": {
          "bdata": "FK5H4frY0kCHFtnO18HNQEw3iUF4ONBA/tR46RYN0UBmZmZmpovLQHNoke0cN85ASQwCK+ctz0CsHFpkC7jOQBSuR+HK08xAQ4ts5ysVzUAdWmQ7b2zMQEkMAisvIdBAGy/dJBZlzEBvEoPAqpfLQGZmZmbWoMpAtch2vqcb0EDRItv5NhbSQOOlm8QQgtBAHVpkO3c20UCVQ4tstyDRQA==",
          "dtype": "f8"
         },
         "xaxis": "x",
         "y": {
          "bdata": "WinVquXdMkAxpNRkUjAzQPNqzog1iDBAT/jA1MKpMkBEv6jXj+gwQNDLszKFgjJANOq6qa04MEAG37AG1hgxQOYQPYEYATJAaklYK368LkBg4wS97BwvQKPo1ShaDjBA53FuDgHnL0Btj+ESukcvQO6hHENHJjBAyXCJ7M83MEBJH480th0wQCE1e2eYEjBAPT5FXJt4LUAAAAAAAAD4fw==",
          "dtype": "f8"
         },
         "yaxis": "y"
        },
        {
         "hovertemplate": "Country=DK<br>Temperature energy index=%{x}<br>Consumption per household (MWh)=%{y}<extra></extra>",
         "legendgroup": "DK",
         "marker": {
          "color": "#FF6692",
          "symbol": "circle"
         },
         "mode": "markers",
         "name": "DK",
         "orientation": "v",
         "showlegend": true,
         "type": "scatter",
         "x": {
          "bdata": "16NwPbJL0EBSuB6FE7nRQDeJQWA1lNFARrbz/XRZzUBH4XoURh7QQGU730+NQtBAy6FFtosb0EAi2/l+ypXPQAvXo3AdVs9AAAAAAAA+zkBYObTIruTQQJ3vp8ZrQs9AwvUoXC9pz0ALAiuHdujNQDVeukn8NNRADi2ynXeO1kD1KFyPUiXWQDMzMzMr+tZACtejcB101kALAiuH1mvWQA==",
          "dtype": "f8"
         },
         "xaxis": "x",
         "y": {
          "bdata": "QAdFxgFZM0A4urxQV0czQIa5B85CLjNAY46m9gv/MkDlAqWuJvQyQG0jc1y67zRAjR2Ybaa9MkBOKFScpHMyQA29tvH5iDJAM3Y2DkcKMUCxL2BEgRoyQId1HLegjTJAbgWaPVAcMkDeu1+U/tYxQM7mQriTizFAFtAWwiQIMUCthPa6Q+kxQChHNQcyry9AUdUZy+Y0MEAAAAAAAAD4fw==",
          "dtype": "f8"
         },
         "yaxis": "y"
        },
        {
         "hovertemplate": "Country=EE<br>Temperature energy index=%{x}<br>Consumption per household (MWh)=%{y}<extra></extra>",
         "legendgroup": "EE",
         "marker": {
          "color": "#B6E880",
          "symbol": "circle"
         },
         "mode": "markers",
         "name": "EE",
         "orientation": "v",
         "showlegend": true,
         "type": "scatter",
         "x": {
          "bdata": "Q4ts55u110Bs5/upUYHVQIts5/sBdNVAokW28x2l00BSuB6Fk8jVQBov3SSuydVAaJHtfA8Q1UDiehSuXxnUQA4tsp0HZtJAuB6F66E01kCwcmiRzVLVQKnx0k0yotRAO99PjU/80kDO91PjZb7BQOkmMQicJMFA3SQGgQWXwED0/dR4WcjCQMHKoUVG+8BADi2yna//wUDVeOkmwazCQA==",
          "dtype": "f8"
         },
         "xaxis": "x",
         "y": {
          "bdata": "7D+fPt5fMkBfJzf0kFAyQN+ASm9VNzNAh6/WODsQM0DWM2UOP3YzQOjsVy5EqDRA4EsqBLPgMkCL3FQmvtAyQI73/LzmJjJASPLfdkdIMUAVKXBo0qswQFhgtEb5GDJAb0ke4AFAMkB8nEMxliwyQC06nzi3ezFAAna7rMtYMUBQIUUthbMxQHW+pDAhPDFAnFxuzvagMEAAAAAAAAD4fw==",
          "dtype": "f8"
         },
         "yaxis": "y"
        },
        {
         "hovertemplate": "Country=EL<br>Temperature energy index=%{x}<br>Consumption per household (MWh)=%{y}<extra></extra>",
         "legendgroup": "EL",
         "marker": {
          "color": "#FF97FF",
          "symbol": "circle"
         },
         "mode": "markers",
         "name": "EL",
         "orientation": "v",
         "showlegend": true,
         "type": "scatter",
         "x": {
          "bdata": "76fGS1cQv0DHSzeJYf+9QHsUrkfx7cBAZ5HtfD+Tv0DLoUW2A2HBQN9PjZeunr1AJzEIrLx0v0ASg8DKMRzAQPHSTWKgt8BAwvUoXH+kwEC4HoXrEf+9QH9qvHSTWL1AFK5H4Zoiw0C28/3UuObCQOF6FK7nr8FAukkMAvvwwkAlBoGVw3PEQMHKoUVmxMRA0SLb+U7wwUA=",
          "dtype": "f8"
         },
         "xaxis": "x",
         "y": {
          "bdata": "Pppg2zfPL0CIdE7IG7cvQDvAOAHXxy5AYC7koV3VLUAhVvFL0ZorQPfPXlHDWCpAL/IxMvckLkAxtmxk/AEsQDAyqIVVJiVAqPZOKFiXJEChITJc9wMpQC3D3jQgXChAzrliHH3HKECX8KIcAAMmQJFrfULYISdAcGH9Af05KEAFWRl4x7woQC5Ag45JESlAmP8atxoyJEA=",
          "dtype": "f8"
         },
         "yaxis": "y"
        },
        {
         "hovertemplate": "Country=ES<br>Temperature energy index=%{x}<br>Consumption per household (MWh)=%{y}<extra></extra>",
         "legendgroup": "ES",
         "marker": {
          "color": "#FECB52",
          "symbol": "circle"
         },
         "mode": "markers",
         "name": "ES",
         "orientation": "v",
         "showlegend": true,
         "type": "scatter",
         "x": {
          "bdata": "9ihcj5JMxECAlUOLLHDAQDIzMzOTO8FAke18P2VnwkAmMQisXDzBQI6XbhLTEMNA+FPjpTvHwUACK4cWmaPAQK9yaJF9rsFAZmZmZlYNwEDqJjEI7P6/QAAAAADAwb5AxCCwcrD52kAhsHJo4djdQKfGSzfZsN1AKVyPwiVU3UAwCKwcIsncQMZLN4lhaNtAE4PAypEr3EC28/3UmIvbQA==",
          "dtype": "f8"
         },
         "xaxis": "x",
         "y": {
          "bdata": "htQ9Fy94JkCxMmPtWOklQNT27Ml2iyVAJhhWYmwZJUC9Enkf544lQPRajxPH9yVAhpjXmtExJECWKG9lORskQK62eQrxniJAYJGcX4yFIkBWL0Jg/iAjQEEw0kxf7CFAz1LiJxnxIUB6xDrr7M8iQAW4hZ2KwCFA+/Ko2UrbIUAg2bmB+QEiQPQTUWSfLiFAxRn4OqSUIEAAAAAAAAD4fw==",
          "dtype": "f8"
         },
         "yaxis": "y"
        },
        {
         "hovertemplate": "Country=FI<br>Temperature energy index=%{x}<br>Consumption per household (MWh)=%{y}<extra></extra>",
         "legendgroup": "FI",
         "marker": {
          "color": "#636efa",
          "symbol": "circle"
         },
         "mode": "markers",
         "name": "FI",
         "orientation": "v",
         "showlegend": true,
         "type": "scatter",
         "x": {
          "bdata": "c2iR7cwb20CHFtnOh/TZQHoUrkfRkNtADS2ynWeC3EC7SQwCg7LbQKAaL90sYdxAvp8aL3U52UBs5/up+RzdQDiJQWAlUdtAwMqhRW4k3ECPwvUobJnaQP7UeOmWi8dAFa5H4aoMyUBs5/upgevGQFCNl25S3shAy6FFtrP4yUDhehSu9wzKQOB6FK5XIMhA+n5qvLR3x0CuR+F6hFPJQA==",
          "dtype": "f8"
         },
         "xaxis": "x",
         "y": {
          "bdata": "0TZuTCVUN0BZ8qp9vrQ3QLh+ElYxnDdAlhPMzEfjNkDBS0UN/fE3QDr/TSGCZzpAnfcn3E8FN0BAQvTPp404QGQELMfSLDdA79t0IYTKNUD+6bfUjvw0QE1pRYdKlDZA0ZNzMr9OOEAu8/uedP03QLPi6baEtDdAy1poJqY2NkAYqx3VFL83QFW7WuNLPzZANmcKlnzPNUAAAAAAAAD4fw==",
          "dtype": "f8"
         },
         "yaxis": "y"
        },
        {
         "hovertemplate": "Country=FR<br>Temperature energy index=%{x}<br>Consumption per household (MWh)=%{y}<extra></extra>",
         "legendgroup": "FR",
         "marker": {
          "color": "#EF553B",
          "symbol": "circle"
         },
         "mode": "markers",
         "name": "FR",
         "orientation": "v",
         "showlegend": true,
         "type": "scatter",
         "x": {
          "bdata": "XI/C9SiAx0BnZmZmBuvIQI/C9ShcUMhAFtnO9xO3xkAzMzMzY27HQIGVQ4v8P8VAI9v5fvoIyUAoXI/C1UzFQCLb+X4aV8VAvp8aL62ZxUAMAiuHpjTGQO18PzVeochASQwCKye+xkDP91PjhRfLQLpJDAJbrMlABoGVQ1vzy0Assp3vVzTJQA4tsp0PKcdAItv5fgozx0A=",
          "dtype": "f8"
         },
         "xaxis": "x",
         "y": {
          "bdata": "wSqze9sxMkAaUg9FNdExQJqVKdxp5DBA3ujYFHZcMkCdq3Y/6GYxQFNRE9A34TFAjy3xs/g5L0B1Sa7Lej0xQLoVCp7H7zFAogCmNH/6LECVbHJlu7YuQNomAIKgTjBA+l6XMSzTL0Ag92+/abAuQDYWNnwqIi1A2XIZHgp3LUC3mAvoOQAwQM48Fvv49ytATlf5VeojK0A=",
          "dtype": "f8"
         },
         "yaxis": "y"
        },
        {
         "hovertemplate": "Country=HR<br>Temperature energy index=%{x}<br>Consumption per household (MWh)=%{y}<extra></extra>",
         "legendgroup": "HR",
         "marker": {
          "color": "#00cc96",
          "symbol": "circle"
         },
         "mode": "markers",
         "name": "HR",
         "orientation": "v",
         "showlegend": true,
         "type": "scatter",
         "x": {
          "bdata": "oBov3RSxx0AfhetRiKvHQJHtfD/VdMhA46WbxGBxxkBeukkMct7FQAIrhxb5YMZAMQisHPrgyEAfhetR6EvGQDEIrBxKnsRA7nw/NV5uxEDC9ShcXx/KQM/3U+Mlsc1Av8qhRdady0BYObTI/j3QQMQgsHLIBc5AdJMYBCaTz0B7FK5HoXLNQHA9CtdD5cpAJjEIrOyQykDTTWIQ+D/LQA==",
          "dtype": "f8"
         },
         "xaxis": "x",
         "y": {
          "bdata": "AAAAAAAA+H8AAAAAAAD4fwAAAAAAAPh/AAAAAAAA+H8AAAAAAAD4f/g5P+yXCDVAQdq88bghNEDFPMYBmqIzQAXKu/JyQDNAax6PVYBbMUChnNrgciczQAbTrPLzOzNAv6eDFNhoM0BV7um77twyQBjFxrnZ3jFAczhriQpeMkAMeLkoStozQAK0TmG5pDJAxtbZuFUWMkAAAAAAAAD4fw==",
          "dtype": "f8"
         },
         "yaxis": "y"
        },
        {
         "hovertemplate": "Country=HU<br>Temperature energy index=%{x}<br>Consumption per household (MWh)=%{y}<extra></extra>",
         "legendgroup": "HU",
         "marker": {
          "color": "#ab63fa",
          "symbol": "circle"
         },
         "mode": "markers",
         "name": "HU",
         "orientation": "v",
         "showlegend": true,
         "type": "scatter",
         "x": {
          "bdata": "46WbxGAlzEBZZDvff6zMQChcj8K1zMlA46WbxCDxyECnxks3uYDKQNR46SZhWM1AexSuR8G2ykC0yHa+X0vIQJDC9ShMOshAObTIdq7ozECWQ4tsR/7MQDVeuknc8ctAsp3vp2Y6y0DEILBy6PTLQIXrUbj+/8pA2c73U8PtykA9Ctej4B7KQMZLN4lhBc1AKVyPwsUqzUBg5dAiY2PQQA==",
          "dtype": "f8"
         },
         "xaxis": "x",
         "y": {
          "bdata": "VeTti/IbNEB2vqyGrCo0QC/cn+4wajJAsH/KRfMjMkBm8Th/rQ4zQGZzRWUaIjRAVmDPw3J2MkCLmI1UEvwxQH0HX/SgmDFAM+AnxDM1L0CoTyATFVQwQPJYnwJr6DBAvpxveB5VMUCNkq1SMwswQBM8aXr+Vy9Ac+rp8SyTMEBUrxn9+r0xQIxOIdpnODBAtAxw7RT1LUAAAAAAAAD4fw==",
          "dtype": "f8"
         },
         "yaxis": "y"
        },
        {
         "hovertemplate": "Country=IE<br>Temperature energy index=%{x}<br>Consumption per household (MWh)=%{y}<extra></extra>",
         "legendgroup": "IE",
         "marker": {
          "color": "#FFA15A",
          "symbol": "circle"
         },
         "mode": "markers",
         "name": "IE",
         "orientation": "v",
         "showlegend": true,
         "type": "scatter",
         "x": {
          "bdata": "2c73U6Ogy0BMN4lBAIPMQFpkO99vBMxA8tJNYqBnzEDdJAaBFV7LQEFg5dCSYspAMzMzM2PPyEDy0k1iEOTKQFyPwvXId8NALbKd7/fXw0DEILBy2PrCQGq8dJOYlcVACtejcK0axUCyne+nprrGQOtRuB7ln8RA5/up8ZJrw0Bs5/up8RrEQGzn+6mxpMRALbKd76fbxUA=",
          "dtype": "f8"
         },
         "xaxis": "x",
         "y": {
          "bdata": "LAdluxmMOUB7GlGFB+g4QFxo2yoj7DdAPv9xi03HOUBmNFlnGQI4QKkqL+no+ThAsndG9D7ZNUDcDQJwhrE0QMh9c6FYCTRAwhi62fj1MUAi987fruUyQBXpM3bUQzNASxnxl/d5MkCKDHmZuJ0yQLjSWJtwPzNAj1+If0TwM0Agi6AXTsoyQNmm+g/oIzBAZZ+/EFDYLUA=",
          "dtype": "f8"
         },
         "yaxis": "y"
        },
        {
         "hovertemplate": "Country=IT<br>Temperature energy index=%{x}<br>Consumption per household (MWh)=%{y}<extra></extra>",
         "legendgroup": "IT",
         "marker": {
          "color": "#19d3f3",
          "symbol": "circle"
         },
         "mode": "markers",
         "name": "IT",
         "orientation": "v",
         "showlegend": true,
         "type": "scatter",
         "x": {
          "bdata": "/Knx0s0MxEAYBFYO7YzCQFg5tMjGX8NAuB6F64GTwkDFILByOGfEQM/3U+OVsMJAAAAAAFARwkDn+6nxsnLBQJVDi2znddJAJAaBlcPG1EBmZmZmdt7TQFyPwvVQJtVA2s73UzsS1UD1KFyPGs/UQLByaJHVKtRAcT0K1wNd00CcxCCw8mfSQEW28/0MctRArkfhejTo1kDAyqFFtoHTQA==",
          "dtype": "f8"
         },
         "xaxis": "x",
         "y": {
          "bdata": "G++lZJvrMEDbzQ4RpRwwQIda8+lp3y9Ar7uBTcqTL0AmPYwG8tUvQD5NFQGbejBAg/zWkWMSLkDfCeT0h88vQDu50ENlqi9AL6zeBNhaK0CDyxe0jSYuQGwzelxZqixA17bZsi1dLUD47FkHBoksQP+qOXlN7itAK3UpT7SvK0C4Qn4vrkIuQOKCUCvyDipAcDfAHEvwJ0AAAAAAAAD4fw==",
          "dtype": "f8"
         },
         "yaxis": "y"
        },
        {
         "hovertemplate": "Country=LT<br>Temperature energy index=%{x}<br>Consumption per household (MWh)=%{y}<extra></extra>",
         "legendgroup": "LT",
         "marker": {
          "color": "#FF6692",
          "symbol": "circle"
         },
         "mode": "markers",
         "name": "LT",
         "orientation": "v",
         "showlegend": true,
         "type": "scatter",
         "x": {
          "bdata": "YhBYOUwc00BaZDvfb5DRQJ7vp8b7GtFAQ4ts57vV1EA5tMh2rovTQN0kBoE179FArkfheuyz0EAi2/l+akbMQEFg5dCC+c5AyXa+nyrezECfGi/d9CLOQMZLN4lh6s9ABoGVQ/uqzkDvp8ZLB3bNQA8tsp2vYstAYhBYOeQnzkBoke18H7vNQKJFtvM9WNFAJQaBlTNIy0A=",
          "dtype": "f8"
         },
         "xaxis": "x",
         "y": {
          "bdata": "9rU9kEahKkDa9xapMjItQCed6hjbTSxAoxcRxpdXLEDVYy76HAgtQF63eFbFIi1AIfaQcAx6LECnSWuFV5orQNzWfP52oCpAJ5Ur6aKbKUCDFJwjbBwpQBVy77rXpilAZqhaivZZKkDrLdbgfoErQMDUSVKyWipAhtKAEGwYKkBkUxVzhl4sQI9OFNo1XilA9rj1dNFxJ0A=",
          "dtype": "f8"
         },
         "yaxis": "y"
        },
        {
         "hovertemplate": "Country=LU<br>Temperature energy index=%{x}<br>Consumption per household (MWh)=%{y}<extra></extra>",
         "legendgroup": "LU",
         "marker": {
          "color": "#B6E880",
          "symbol": "circle"
         },
         "mode": "markers",
         "name": "LU",
         "orientation": "v",
         "showlegend": true,
         "type": "scatter",
         "x": {
          "bdata": "/9R46ea0y0AAAAAAwJ7MQESLbOcLpMpABoGVQztt0EBcj8L16NvMQL/KoUV2SsxAoUW28/1mzEDGSzeJAVHTQEFg5dBqpdVAMjMzM/sD1UCJQWDl0PrVQNAi2/mmxdVAMzMzM0Ok1UB1kxgE9snUQBov3SQuMdRAR+F6FNZL00DO91PjZXvVQNr5fmrsCthAlUOLbMdj1EAHgZVDC2HWQA==",
          "dtype": "f8"
         },
         "xaxis": "x",
         "y": {
          "bdata": "9EKr+39IQEB43gXBR4Y/QH7IRc8gLT5AVg/+yFEnPkApCtg4O/89QDrElMOMGz1ARZaFaw50OkAoNu0SUnk5QJQioLopWDpANYaK5IQ0N0AU+MJ666Y4QEhIXl302TlALgQUGufdOUBIyhBSFM81QGnXkrv0yTNA79z0IFYQNED81jnqDv8yQFTdT5pAZTJA89v24jQyMkAAAAAAAAD4fw==",
          "dtype": "f8"
         },
         "yaxis": "y"
        },
        {
         "hovertemplate": "Country=LV<br>Temperature energy index=%{x}<br>Consumption per household (MWh)=%{y}<extra></extra>",
         "legendgroup": "LV",
         "marker": {
          "color": "#FF97FF",
          "symbol": "circle"
         },
         "mode": "markers",
         "name": "LV",
         "orientation": "v",
         "showlegend": true,
         "type": "scatter",
         "x": {
          "bdata": "vp8aLy3B0kCVQ4tsB53RQK1H4XoEfdVADi2ynb/G1ECDwMqhpXHTQIXrUbiWy9FAlUOLbCf9qUBg5dAiG4imQNAi2/n+/qZAm8QgsBJEsEDZzvdT44iqQH0/NV66oLBAuB6F65GpqUAnMQisXAakQFTjpZuEkqJA4HoUrgecqkDhehSuh5WkQBFYObSI6qpAK4cW2c7DsEA9CtejMP6nQA==",
          "dtype": "f8"
         },
         "xaxis": "x",
         "y": {
          "bdata": "Oo0QBJNpNEBnppgI90Q0QKUlNDBBHDRAdtkmBClLNEDCFGY3kAo1QMqQSU4RdzNACOCA2XoeMkDzyVXYDvsyQAEDElUzrDFAS4pd/rRnMUBvC080dFgvQMCLTrrdXTBAnzAwcHaIMEDqUpVCgiYxQLEFaNlLqDBAvAsbJ4KEL0Cw628olCcxQBu5wEYtSS5A4lmZTyp4LUAAAAAAAAD4fw==",
          "dtype": "f8"
         },
         "yaxis": "y"
        },
        {
         "hovertemplate": "Country=MT<br>Temperature energy index=%{x}<br>Consumption per household (MWh)=%{y}<extra></extra>",
         "legendgroup": "MT",
         "marker": {
          "color": "#FECB52",
          "symbol": "circle"
         },
         "mode": "markers",
         "name": "MT",
         "orientation": "v",
         "showlegend": true,
         "type": "scatter",
         "x": {
          "bdata": "aJHtfP/kpUDVeOkm8XypQFpkO9/PFa1AEoPAyqEfpkC6SQwC62aiQKFFtvM928lABVYOLXJGzEDRItv5DuLKQFTjpZu0pcxA+FPjpau3zECMl24S43HLQN4kBoEFnspANV66SVwbyUDP91Pjhe3LQOXQItv5PcxAtvP91CAo0UAhsHJooQ/KQJhuEoPQLc1AWDm0yDY2z0A=",
          "dtype": "f8"
         },
         "xaxis": "x",
         "y": {
          "bdata": "eWgdhl8DGEBIfwZF9UoYQF4s32J9nRZALv7Ni1lwFkCgLl2aK0IUQGp6dGta9RRAHVxaxRqvFECjKrU+rIIVQMUyBBWN5xRAREBvvfReFED2mpaO2XsVQCeJs6W8oxNATzAS28xPFkD8ERvcv/IVQEGpI2gg7xZA1+fwX1zqFkDAVkFekKkXQFSFGbvMsBdAGLlCvkqCFkA=",
          "dtype": "f8"
         },
         "yaxis": "y"
        },
        {
         "hovertemplate": "Country=NL<br>Temperature energy index=%{x}<br>Consumption per household (MWh)=%{y}<extra></extra>",
         "legendgroup": "NL",
         "marker": {
          "color": "#636efa",
          "symbol": "circle"
         },
         "mode": "markers",
         "name": "NL",
         "orientation": "v",
         "showlegend": true,
         "type": "scatter",
         "x": {
          "bdata": "9P3UeFnIyEAtsp3v1y/MQJVDi2z31chAEVg5tGgGyEDQItv5nozHQFg5tMiWE9BA/tR46UaW0kAZBFYODVXRQIPAyqEVodJAPzVeupEy0kBcj8L10FrSQO18PzUm9NFAqMZLN0G/0EAGgZVDI2/QQKwcWmQr29FAQmDl0Apa1EBeukkMUivRQKscWmSraNJARbbz/Xwo0kCwcmiR7QnQQA==",
          "dtype": "f8"
         },
         "xaxis": "x",
         "y": {
          "bdata": "xcni7o+VMUBeV1YX17sxQIAsXihxQjBAfCMV8DLhMUBZ4yp68gUxQNb+ApzoKzNAqzS0hRxyL0BrllzA65EwQItt3W7NWTFAFffxs7OaK0BUyUFADMAsQP0tb4iMaS1AOC5WdSOQLEAjEn01+EssQPR8hT+SMSpAWGW9I+h5KUBelw6iuAUsQIdYybbVhSdAG0GBlhn9JEAAAAAAAAD4fw==",
          "dtype": "f8"
         },
         "yaxis": "y"
        },
        {
         "hovertemplate": "Country=PL<br>Temperature energy index=%{x}<br>Consumption per household (MWh)=%{y}<extra></extra>",
         "legendgroup": "PL",
         "marker": {
          "color": "#EF553B",
          "symbol": "circle"
         },
         "mode": "markers",
         "name": "PL",
         "orientation": "v",
         "showlegend": true,
         "type": "scatter",
         "x": {
          "bdata": "hhbZzn8Z0kCLbOf72ZrQQHA9CtfT0s5AxCCwcqhrzEBSuB6FS8i6QIYW2c43aLpA3CQGgTXqt0Bcj8L16C+6QNNNYhBYibxALLKd76eNvEDrUbgehZ65QHoUrkdhB7pAGi/dJGadukAehetRmKK4QDm0yHb+57tAyqFFtpMct0CLbOf7CY+8QJMYBFaum7xApZvEILD0t0AGgZVDyxK3QA==",
          "dtype": "f8"
         },
         "xaxis": "x",
         "y": {
          "bdata": "VrSISYmdMEDrvnDrxHsxQAWOIyyaizBA5GX2+mPLMEAAV4rgHB8xQIMVmika0zJA2b11h7o4MUA7VrdkaM4xQAjZc891jTFAdhiqPjhPMECB10VY61IwQAmHrdu7DTFAqv1v1CE0MUDI1OU8LFgzQBbGr5+wAjJA+QryYeOIMkA2qTAeI4kzQH7WhGWUyjJAXsMSC39RMkAAAAAAAAD4fw==",
          "dtype": "f8"
         },
         "yaxis": "y"
        },
        {
         "hovertemplate": "Country=PT<br>Temperature energy index=%{x}<br>Consumption per household (MWh)=%{y}<extra></extra>",
         "legendgroup": "PT",
         "marker": {
          "color": "#00cc96",
          "symbol": "circle"
         },
         "mode": "markers",
         "name": "PT",
         "orientation": "v",
         "showlegend": true,
         "type": "scatter",
         "x": {
          "bdata": "5dAi2zkptUBwPQrXw5a2QF66SQxiJ7VA1HjpJgGXzkDEILByuJPPQFK4HoVLi85AfT81Xnqq0UAAAAAAyB/QQDEIrBxS29BAxks3iUl10EBOYhBYabLNQIPAyqHV6c1AcT0K18OmzUAQWDm0uObPQBSuR+FqgdBAFK5H4QIy0EDx0k1iYNfNQLlJDAJ7ZMxAcT0K15MszUBkO99PPXHOQA==",
          "dtype": "f8"
         },
         "xaxis": "x",
         "y": {
          "bdata": "tNgXZozxI0CNpQvuj98jQFJJoOdJ4CNA0HV3kUmJIkCOqgQDaP4iQMqWJKJIpSFAgVdh/tLPH0CU375NSQgfQKRjgLNxgx5Am6zIOW8nIEB00Eo6g90eQKC9fJ3ash9Af0hjibWGH0CiHjZ1sDEgQLHaCxhyNCBA3n7t8dTcIEBEgrTKoN0gQNBk7mdQZiBA+eG0WOqAIEAAAAAAAAD4fw==",
          "dtype": "f8"
         },
         "yaxis": "y"
        },
        {
         "hovertemplate": "Country=RO<br>Temperature energy index=%{x}<br>Consumption per household (MWh)=%{y}<extra></extra>",
         "legendgroup": "RO",
         "marker": {
          "color": "#ab63fa",
          "symbol": "circle"
         },
         "mode": "markers",
         "name": "RO",
         "orientation": "v",
         "showlegend": true,
         "type": "scatter",
         "x": {
          "bdata": "okW28y0/ykCAarx0AzrKQBBYObR4ftlA+FPjpWMR3ECZmZmZefjaQCPb+X6yCttAZDvfT61V20C38/3UuFHaQBgEVg4NztlAXI/C9Tg92kBrvHSTOETaQDVeukmcZttAGQRWDg383kAxCKwc0lbZQP3UeOmeUdxA2M73U7Ou2kBpvHSToBrZQGDl0CILPNlAX+XQIotb2kDwp8ZL/9DaQA==",
          "dtype": "f8"
         },
         "xaxis": "x",
         "y": {
          "bdata": "AAAAAAAA+H8AAAAAAAD4f7wlxBBJlChAdINhnLm2KUD+z+eAvbgpQJhQfPO9MClAI9mxq/GPKEBsO7uKIEkpQAD9zp7STyhA3b04jylrJ0CUMXGKfHAnQKSqoNmitCdAQ78/N0PwJ0BdsivnJzgoQG2f01YpQihAWcTu6TM4KUASMB1w68MqQJy/KYK/FyhAt5+UQx4IJ0AAAAAAAAD4fw==",
          "dtype": "f8"
         },
         "yaxis": "y"
        },
        {
         "hovertemplate": "Country=SE<br>Temperature energy index=%{x}<br>Consumption per household (MWh)=%{y}<extra></extra>",
         "legendgroup": "SE",
         "marker": {
          "color": "#FFA15A",
          "symbol": "circle"
         },
         "mode": "markers",
         "name": "SE",
         "orientation": "v",
         "showlegend": true,
         "type": "scatter",
         "x": {
          "bdata": "yqFFtvvU2EBvEoPAyuzKQOtRuB5F1s1ARrbz/eS6y0CUGARW7u/PQCHb+X5K1c9ABoGVQ8uL0ED8qfHSPe/OQAVWDi1S4MtAukkMAlv4zEBH4XoUTvzMQJHtfD9NR9BAtvP91DhZzUBYObTIRoTNQHJoke3M4s1ANV66SQxOyECp8dJNIjDMQBSuR+FqocxAUI2XbpKEzUAHgZVDe87KQA==",
          "dtype": "f8"
         },
         "xaxis": "x",
         "y": {
          "bdata": "L+quEsmfNEDC0Wzqv5szQJw+XZwWwjJAKFLQKL5UMkBYtjUnpwIyQFrQlp0CfDVAgEWGOtDIM0CDjTe1ZJU0QOWCSm1LjjJAN80qbVNAMUDgTH4xxX8xQMx0CZvl0jFAlhmEWhqTMkCB4IzCzwcxQCxwCJrMlTBAaa1ilF4YMEBhkckUcIgxQCbO0l1AOS9AAUoVqfcUL0AAAAAAAAD4fw==",
          "dtype": "f8"
         },
         "yaxis": "y"
        },
        {
         "hovertemplate": "Country=SI<br>Temperature energy index=%{x}<br>Consumption per household (MWh)=%{y}<extra></extra>",
         "legendgroup": "SI",
         "marker": {
          "color": "#19d3f3",
          "symbol": "circle"
         },
         "mode": "markers",
         "name": "SI",
         "orientation": "v",
         "showlegend": true,
         "type": "scatter",
         "x": {
          "bdata": "4XoUrte5z0C9dJMYTLjRQOxRuB6lwtBAHVpkO+cE0kBFtvP9NMzRQK5H4XpkW9JAukkMAkuN0UAehetRmBbQQOkmMQgsjM9AZDvfT61+0ED1KFyPeh3SQMDKoUXO0tBARbbz/eQj0UAv3SQGIdHQQD81XrrZH8xACdejcA3lz0D8qfHSdXfQQNnO91MjFtFAoUW2861ezkCkcD0KByPOQA==",
          "dtype": "f8"
         },
         "xaxis": "x",
         "y": {
          "bdata": "fxk2a7M5N0DJu/LFMpw1QKl99x42FTVAObiVuAyyNUCZhLWTiwA1QDGBNoyRHTRA3hVRBWMcM0AS/jWqdq0xQLjxhYBheDFA1HzgiNTjLUCSZDl9zIMwQJAAUHo61jBAbz22fll6MECphrCJLMcuQG7M21mqrixAdmnNkUQXLkB+R199bhEwQAEAy64s1CtAf7R7SN9VK0AAAAAAAAD4fw==",
          "dtype": "f8"
         },
         "yaxis": "y"
        }
       ],
       "layout": {
        "legend": {
         "title": {
          "text": "Country"
         },
         "tracegroupgap": 0
        },
        "margin": {
         "t": 60
        },
        "template": {
         "data": {
          "bar": [
           {
            "error_x": {
             "color": "#2a3f5f"
            },
            "error_y": {
             "color": "#2a3f5f"
            },
            "marker": {
             "line": {
              "color": "#E5ECF6",
              "width": 0.5
             },
             "pattern": {
              "fillmode": "overlay",
              "size": 10,
              "solidity": 0.2
             }
            },
            "type": "bar"
           }
          ],
          "barpolar": [
           {
            "marker": {
             "line": {
              "color": "#E5ECF6",
              "width": 0.5
             },
             "pattern": {
              "fillmode": "overlay",
              "size": 10,
              "solidity": 0.2
             }
            },
            "type": "barpolar"
           }
          ],
          "carpet": [
           {
            "aaxis": {
             "endlinecolor": "#2a3f5f",
             "gridcolor": "white",
             "linecolor": "white",
             "minorgridcolor": "white",
             "startlinecolor": "#2a3f5f"
            },
            "baxis": {
             "endlinecolor": "#2a3f5f",
             "gridcolor": "white",
             "linecolor": "white",
             "minorgridcolor": "white",
             "startlinecolor": "#2a3f5f"
            },
            "type": "carpet"
           }
          ],
          "choropleth": [
           {
            "colorbar": {
             "outlinewidth": 0,
             "ticks": ""
            },
            "type": "choropleth"
           }
          ],
          "contour": [
           {
            "colorbar": {
             "outlinewidth": 0,
             "ticks": ""
            },
            "colorscale": [
             [
              0,
              "#0d0887"
             ],
             [
              0.1111111111111111,
              "#46039f"
             ],
             [
              0.2222222222222222,
              "#7201a8"
             ],
             [
              0.3333333333333333,
              "#9c179e"
             ],
             [
              0.4444444444444444,
              "#bd3786"
             ],
             [
              0.5555555555555556,
              "#d8576b"
             ],
             [
              0.6666666666666666,
              "#ed7953"
             ],
             [
              0.7777777777777778,
              "#fb9f3a"
             ],
             [
              0.8888888888888888,
              "#fdca26"
             ],
             [
              1,
              "#f0f921"
             ]
            ],
            "type": "contour"
           }
          ],
          "contourcarpet": [
           {
            "colorbar": {
             "outlinewidth": 0,
             "ticks": ""
            },
            "type": "contourcarpet"
           }
          ],
          "heatmap": [
           {
            "colorbar": {
             "outlinewidth": 0,
             "ticks": ""
            },
            "colorscale": [
             [
              0,
              "#0d0887"
             ],
             [
              0.1111111111111111,
              "#46039f"
             ],
             [
              0.2222222222222222,
              "#7201a8"
             ],
             [
              0.3333333333333333,
              "#9c179e"
             ],
             [
              0.4444444444444444,
              "#bd3786"
             ],
             [
              0.5555555555555556,
              "#d8576b"
             ],
             [
              0.6666666666666666,
              "#ed7953"
             ],
             [
              0.7777777777777778,
              "#fb9f3a"
             ],
             [
              0.8888888888888888,
              "#fdca26"
             ],
             [
              1,
              "#f0f921"
             ]
            ],
            "type": "heatmap"
           }
          ],
          "histogram": [
           {
            "marker": {
             "pattern": {
              "fillmode": "overlay",
              "size": 10,
              "solidity": 0.2
             }
            },
            "type": "histogram"
           }
          ],
          "histogram2d": [
           {
            "colorbar": {
             "outlinewidth": 0,
             "ticks": ""
            },
            "colorscale": [
             [
              0,
              "#0d0887"
             ],
             [
              0.1111111111111111,
              "#46039f"
             ],
             [
              0.2222222222222222,
              "#7201a8"
             ],
             [
              0.3333333333333333,
              "#9c179e"
             ],
             [
              0.4444444444444444,
              "#bd3786"
             ],
             [
              0.5555555555555556,
              "#d8576b"
             ],
             [
              0.6666666666666666,
              "#ed7953"
             ],
             [
              0.7777777777777778,
              "#fb9f3a"
             ],
             [
              0.8888888888888888,
              "#fdca26"
             ],
             [
              1,
              "#f0f921"
             ]
            ],
            "type": "histogram2d"
           }
          ],
          "histogram2dcontour": [
           {
            "colorbar": {
             "outlinewidth": 0,
             "ticks": ""
            },
            "colorscale": [
             [
              0,
              "#0d0887"
             ],
             [
              0.1111111111111111,
              "#46039f"
             ],
             [
              0.2222222222222222,
              "#7201a8"
             ],
             [
              0.3333333333333333,
              "#9c179e"
             ],
             [
              0.4444444444444444,
              "#bd3786"
             ],
             [
              0.5555555555555556,
              "#d8576b"
             ],
             [
              0.6666666666666666,
              "#ed7953"
             ],
             [
              0.7777777777777778,
              "#fb9f3a"
             ],
             [
              0.8888888888888888,
              "#fdca26"
             ],
             [
              1,
              "#f0f921"
             ]
            ],
            "type": "histogram2dcontour"
           }
          ],
          "mesh3d": [
           {
            "colorbar": {
             "outlinewidth": 0,
             "ticks": ""
            },
            "type": "mesh3d"
           }
          ],
          "parcoords": [
           {
            "line": {
             "colorbar": {
              "outlinewidth": 0,
              "ticks": ""
             }
            },
            "type": "parcoords"
           }
          ],
          "pie": [
           {
            "automargin": true,
            "type": "pie"
           }
          ],
          "scatter": [
           {
            "fillpattern": {
             "fillmode": "overlay",
             "size": 10,
             "solidity": 0.2
            },
            "type": "scatter"
           }
          ],
          "scatter3d": [
           {
            "line": {
             "colorbar": {
              "outlinewidth": 0,
              "ticks": ""
             }
            },
            "marker": {
             "colorbar": {
              "outlinewidth": 0,
              "ticks": ""
             }
            },
            "type": "scatter3d"
           }
          ],
          "scattercarpet": [
           {
            "marker": {
             "colorbar": {
              "outlinewidth": 0,
              "ticks": ""
             }
            },
            "type": "scattercarpet"
           }
          ],
          "scattergeo": [
           {
            "marker": {
             "colorbar": {
              "outlinewidth": 0,
              "ticks": ""
             }
            },
            "type": "scattergeo"
           }
          ],
          "scattergl": [
           {
            "marker": {
             "colorbar": {
              "outlinewidth": 0,
              "ticks": ""
             }
            },
            "type": "scattergl"
           }
          ],
          "scattermap": [
           {
            "marker": {
             "colorbar": {
              "outlinewidth": 0,
              "ticks": ""
             }
            },
            "type": "scattermap"
           }
          ],
          "scattermapbox": [
           {
            "marker": {
             "colorbar": {
              "outlinewidth": 0,
              "ticks": ""
             }
            },
            "type": "scattermapbox"
           }
          ],
          "scatterpolar": [
           {
            "marker": {
             "colorbar": {
              "outlinewidth": 0,
              "ticks": ""
             }
            },
            "type": "scatterpolar"
           }
          ],
          "scatterpolargl": [
           {
            "marker": {
             "colorbar": {
              "outlinewidth": 0,
              "ticks": ""
             }
            },
            "type": "scatterpolargl"
           }
          ],
          "scatterternary": [
           {
            "marker": {
             "colorbar": {
              "outlinewidth": 0,
              "ticks": ""
             }
            },
            "type": "scatterternary"
           }
          ],
          "surface": [
           {
            "colorbar": {
             "outlinewidth": 0,
             "ticks": ""
            },
            "colorscale": [
             [
              0,
              "#0d0887"
             ],
             [
              0.1111111111111111,
              "#46039f"
             ],
             [
              0.2222222222222222,
              "#7201a8"
             ],
             [
              0.3333333333333333,
              "#9c179e"
             ],
             [
              0.4444444444444444,
              "#bd3786"
             ],
             [
              0.5555555555555556,
              "#d8576b"
             ],
             [
              0.6666666666666666,
              "#ed7953"
             ],
             [
              0.7777777777777778,
              "#fb9f3a"
             ],
             [
              0.8888888888888888,
              "#fdca26"
             ],
             [
              1,
              "#f0f921"
             ]
            ],
            "type": "surface"
           }
          ],
          "table": [
           {
            "cells": {
             "fill": {
              "color": "#EBF0F8"
             },
             "line": {
              "color": "white"
             }
            },
            "header": {
             "fill": {
              "color": "#C8D4E3"
             },
             "line": {
              "color": "white"
             }
            },
            "type": "table"
           }
          ]
         },
         "layout": {
          "annotationdefaults": {
           "arrowcolor": "#2a3f5f",
           "arrowhead": 0,
           "arrowwidth": 1
          },
          "autotypenumbers": "strict",
          "coloraxis": {
           "colorbar": {
            "outlinewidth": 0,
            "ticks": ""
           }
          },
          "colorscale": {
           "diverging": [
            [
             0,
             "#8e0152"
            ],
            [
             0.1,
             "#c51b7d"
            ],
            [
             0.2,
             "#de77ae"
            ],
            [
             0.3,
             "#f1b6da"
            ],
            [
             0.4,
             "#fde0ef"
            ],
            [
             0.5,
             "#f7f7f7"
            ],
            [
             0.6,
             "#e6f5d0"
            ],
            [
             0.7,
             "#b8e186"
            ],
            [
             0.8,
             "#7fbc41"
            ],
            [
             0.9,
             "#4d9221"
            ],
            [
             1,
             "#276419"
            ]
           ],
           "sequential": [
            [
             0,
             "#0d0887"
            ],
            [
             0.1111111111111111,
             "#46039f"
            ],
            [
             0.2222222222222222,
             "#7201a8"
            ],
            [
             0.3333333333333333,
             "#9c179e"
            ],
            [
             0.4444444444444444,
             "#bd3786"
            ],
            [
             0.5555555555555556,
             "#d8576b"
            ],
            [
             0.6666666666666666,
             "#ed7953"
            ],
            [
             0.7777777777777778,
             "#fb9f3a"
            ],
            [
             0.8888888888888888,
             "#fdca26"
            ],
            [
             1,
             "#f0f921"
            ]
           ],
           "sequentialminus": [
            [
             0,
             "#0d0887"
            ],
            [
             0.1111111111111111,
             "#46039f"
            ],
            [
             0.2222222222222222,
             "#7201a8"
            ],
            [
             0.3333333333333333,
             "#9c179e"
            ],
            [
             0.4444444444444444,
             "#bd3786"
            ],
            [
             0.5555555555555556,
             "#d8576b"
            ],
            [
             0.6666666666666666,
             "#ed7953"
            ],
            [
             0.7777777777777778,
             "#fb9f3a"
            ],
            [
             0.8888888888888888,
             "#fdca26"
            ],
            [
             1,
             "#f0f921"
            ]
           ]
          },
          "colorway": [
           "#636efa",
           "#EF553B",
           "#00cc96",
           "#ab63fa",
           "#FFA15A",
           "#19d3f3",
           "#FF6692",
           "#B6E880",
           "#FF97FF",
           "#FECB52"
          ],
          "font": {
           "color": "#2a3f5f"
          },
          "geo": {
           "bgcolor": "white",
           "lakecolor": "white",
           "landcolor": "#E5ECF6",
           "showlakes": true,
           "showland": true,
           "subunitcolor": "white"
          },
          "hoverlabel": {
           "align": "left"
          },
          "hovermode": "closest",
          "mapbox": {
           "style": "light"
          },
          "paper_bgcolor": "white",
          "plot_bgcolor": "#E5ECF6",
          "polar": {
           "angularaxis": {
            "gridcolor": "white",
            "linecolor": "white",
            "ticks": ""
           },
           "bgcolor": "#E5ECF6",
           "radialaxis": {
            "gridcolor": "white",
            "linecolor": "white",
            "ticks": ""
           }
          },
          "scene": {
           "xaxis": {
            "backgroundcolor": "#E5ECF6",
            "gridcolor": "white",
            "gridwidth": 2,
            "linecolor": "white",
            "showbackground": true,
            "ticks": "",
            "zerolinecolor": "white"
           },
           "yaxis": {
            "backgroundcolor": "#E5ECF6",
            "gridcolor": "white",
            "gridwidth": 2,
            "linecolor": "white",
            "showbackground": true,
            "ticks": "",
            "zerolinecolor": "white"
           },
           "zaxis": {
            "backgroundcolor": "#E5ECF6",
            "gridcolor": "white",
            "gridwidth": 2,
            "linecolor": "white",
            "showbackground": true,
            "ticks": "",
            "zerolinecolor": "white"
           }
          },
          "shapedefaults": {
           "line": {
            "color": "#2a3f5f"
           }
          },
          "ternary": {
           "aaxis": {
            "gridcolor": "white",
            "linecolor": "white",
            "ticks": ""
           },
           "baxis": {
            "gridcolor": "white",
            "linecolor": "white",
            "ticks": ""
           },
           "bgcolor": "#E5ECF6",
           "caxis": {
            "gridcolor": "white",
            "linecolor": "white",
            "ticks": ""
           }
          },
          "title": {
           "x": 0.05
          },
          "xaxis": {
           "automargin": true,
           "gridcolor": "white",
           "linecolor": "white",
           "ticks": "",
           "title": {
            "standoff": 15
           },
           "zerolinecolor": "white",
           "zerolinewidth": 2
          },
          "yaxis": {
           "automargin": true,
           "gridcolor": "white",
           "linecolor": "white",
           "ticks": "",
           "title": {
            "standoff": 15
           },
           "zerolinecolor": "white",
           "zerolinewidth": 2
          }
         }
        },
        "xaxis": {
         "anchor": "y",
         "domain": [
          0,
          1
         ],
         "title": {
          "text": "Temperature energy index"
         }
        },
        "yaxis": {
         "anchor": "x",
         "domain": [
          0,
          1
         ],
         "title": {
          "text": "Consumption per household (MWh)"
         }
        }
       }
      }
     },
     "metadata": {},
     "output_type": "display_data"
    }
   ],
   "source": [
    "# nrg_chdd_a_constraints_df.set_index(['geo', 'TIME_PERIOD', 'indic_nrg'], inplace=True)\n",
    "nrg_chdd_a_constraints_df = nrg_chdd_a_constraints.data[['geo', 'TIME_PERIOD', 'indic_nrg', 'OBS_VALUE']]\n",
    "nrg_chdd_a_constraints_df = nrg_chdd_a_constraints_df.pivot(columns=['indic_nrg'], index=['geo', 'TIME_PERIOD'], values='OBS_VALUE')\n",
    "\n",
    "#We are calculating a single index for each country and year, which is the sum of the cooling and heating degree days indexes\n",
    "#multiplied by a factor, because heating is more energy intensive than cooling. We are using a factor\n",
    "#Taken form https://www.construction-physics.com/p/energy-cheat-sheet, US Residential Energy Consumption table\n",
    "#There we can see that heating is (5.74 - 0.91) / 0.91 = 5.3 times more energy intensive than cooling\n",
    "nrg_chdd_a_constraints_df['Temperature energy index'] = nrg_chdd_a_constraints_df['CDD']  + nrg_chdd_a_constraints_df['HDD'] * 5.3\n",
    "nrg_chdd_a_constraints_df = nrg_chdd_a_constraints_df.reset_index()\n",
    "\n",
    "#And now we merge the consumption per household with the total degree days\n",
    "consumption_per_household_chdd = consumption_per_household.merge(nrg_chdd_a_constraints_df, left_index=True, right_index=True)\n",
    "\n",
    "# #We can now plot the consumption per household against the total degree days\n",
    "fig = px.scatter(consumption_per_household_chdd, x='Temperature energy index', y='Consumption per household (MWh)', color='Country')\n",
    "fig.show()\n"
   ]
  },
  {
   "cell_type": "markdown",
   "metadata": {},
   "source": [
    "With this plot we can see the expected relationship in the extremes. Malta (MT) and Finland (FI) shows a good correlation betwee the variables. \n",
    "\n",
    "There are, however several outlier that deserve attention. For instance, Spain (ES) shows a relatively low consumption for the temperature energy index. The high temeperature energy index for Spain (the highest in the EU? it is counterintuitive) may suggest that the extreme temperatures in the country are taken. Spain is a big country, with very cold and very warm areas. So, if the coldest areas are used for calculating the index, this may provide a distorted immage at country level.\n",
    "\n",
    "It is worth noting that, given each individual country, the correlation betwween the temperature energy index and the comsumption per household is clearly positive, except in relatively warm countries (like Malta and Portugal), which suggests that households may not have heating systems because they are normally not necessary."
   ]
  }
 ],
 "metadata": {
  "kernelspec": {
   "display_name": "sdmx4ds-FdWyo-cS",
   "language": "python",
   "name": "python3"
  },
  "language_info": {
   "codemirror_mode": {
    "name": "ipython",
    "version": 3
   },
   "file_extension": ".py",
   "mimetype": "text/x-python",
   "name": "python",
   "nbconvert_exporter": "python",
   "pygments_lexer": "ipython3",
   "version": "3.11.9"
  }
 },
 "nbformat": 4,
 "nbformat_minor": 2
}
