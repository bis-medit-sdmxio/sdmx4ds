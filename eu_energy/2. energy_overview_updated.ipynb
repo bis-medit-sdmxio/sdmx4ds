{
 "cells": [
  {
   "cell_type": "markdown",
   "id": "e03fa3a7",
   "metadata": {},
   "source": [
    "# Overview of Energy consumption in the European Union\n"
   ]
  },
  {
   "cell_type": "markdown",
   "metadata": {},
   "source": [
    "In this chapter we intend to provide a basic overview of energy consumption evolution in the EU.\n",
    "\n",
    "We will see:\n",
    "\n",
    "1. The evolution of total EU consumption per capita brokendown by energy source\n",
    "2. The evolution of total EU consumption per capita brokendown by consuming sector\n",
    "3. The evolution of consumption per capita by country\n",
    "4. For the last year, the relationship between consumer sector and energy source\n"
   ]
  },
  {
   "cell_type": "markdown",
   "metadata": {},
   "source": [
    "We first import the libraries we are using, and a json file that contains the subsets of codelist we are going to use with the datasets."
   ]
  },
  {
   "cell_type": "code",
   "execution_count": 1,
   "metadata": {},
   "outputs": [],
   "source": [
    "from utils import utils\n",
    "import json\n",
    "import plotly.express as px\n",
    "import plotly.graph_objects as go\n",
    "\n",
    "\n",
    "with open('utils/sub_codelists.json', 'r') as f:\n",
    "    sub_codelists = json.load(f)"
   ]
  },
  {
   "cell_type": "markdown",
   "metadata": {},
   "source": [
    "The data required data are stored in the Eurostat SDMX Repository.\n",
    "\n",
    "We need to get two datasets:\n",
    "- The Energy Balances (simplified is enough for this analysis); and\n",
    "- The population by country.\n",
    "\n",
    "For each dataset, we need to provide the list of values required, since for this analysis we are not using all of them.\n",
    "\n",
    "We have created a method that gets automatically the SDMX data from a repository into a pysdmx Dataset, which includes a Pandas DataFrame with the data. For this, we need to provide as arguments the name of the dataset, a dictionary with the constraints and the agency.\n",
    "\n",
    "We will also take advantage of a method we created to add the labels to the dataframe (in addition to the codes). Doing this is possible because with pysdmx we get both data and metadata in the same Dataset object."
   ]
  },
  {
   "cell_type": "code",
   "execution_count": 4,
   "metadata": {},
   "outputs": [
    {
     "name": "stdout",
     "output_type": "stream",
     "text": [
      "data_url: https://ec.europa.eu/eurostat/api/dissemination/sdmx/2.1/data/nrg_bal_s/A.FC_IND_E+FC_TRA_E+FC_OTH_AF_E+FC_OTH_CP_E+FC_OTH_FISH_E+FC_OTH_HH_E+FC_OTH_NSP_E.C0000X0350-0370+C0350-0370+P1000+S2000+G3000+O4000XBIO+RA000+W6100_6220+N900H+E7000+H8000.GWH.BE+BG+CZ+DK+DE+EE+IE+EL+ES+FR+HR+IT+CY+LV+LT+LU+HU+MT+NL+AT+PL+PT+RO+SI+SK+FI+SE?format=SDMX-CSV&startPeriod=2000\n",
      "metadata_url: https://ec.europa.eu/eurostat/api/dissemination/sdmx/2.1/dataflow/all/nrg_bal_s/latest?detail=full&references=descendants\n",
      "data_url: https://ec.europa.eu/eurostat/api/dissemination/sdmx/2.1/data/demo_pjan/A.NR.TOTAL.T.BE+BG+CZ+DK+DE+EE+IE+EL+ES+FR+HR+IT+CY+LV+LT+LU+HU+MT+NL+AT+PL+PT+RO+SI+SK+FI+SE?format=SDMX-CSV&startPeriod=2000\n",
      "metadata_url: https://ec.europa.eu/eurostat/api/dissemination/sdmx/2.1/dataflow/all/demo_pjan/latest?detail=full&references=descendants\n"
     ]
    }
   ],
   "source": [
    "\n",
    "#Defining the constraints for the datasets\n",
    "nrg_bal_constraints = {\n",
    "    'freq': 'A',\n",
    "    'nrg_bal': sub_codelists['nrg_bal_consumption_basic_plus_other'],\n",
    "    'siec': sub_codelists['nrg_bal_siec_breakdown'],\n",
    "    'unit': 'GWH',\n",
    "    'geo': sub_codelists['geo_eu_countries'],\n",
    "}\n",
    "\n",
    "demo_pjan_constraints = {\n",
    "    'freq': 'A',\n",
    "    'unit': 'NR',\n",
    "    'age': 'TOTAL',\n",
    "    'sex': 'T',\n",
    "    'geo': sub_codelists['geo_eu_countries'],\n",
    "    }\n",
    "\n",
    "#Getting the data\n",
    "nrg_bal = utils.get_dataset_with_selection('nrg_bal_s', nrg_bal_constraints, agency='estat')\n",
    "#Adding labels to the dataframe\n",
    "nrg_bal = utils.add_labels(nrg_bal, 'siec')\n",
    "nrg_bal = utils.add_labels(nrg_bal, 'nrg_bal')\n",
    "\n",
    "\n",
    "demo_pjan = utils.get_dataset_with_selection('demo_pjan', demo_pjan_constraints, agency='estat')\n",
    "# We have to subtract 1 year to the TIME_PERIOD to match the nrg_bal_s_total data\n",
    "demo_pjan.data.TIME_PERIOD  = demo_pjan.data.TIME_PERIOD  - 1\n"
   ]
  },
  {
   "cell_type": "markdown",
   "metadata": {},
   "source": [
    "We are calculating and displaying the total energy consumed (in GW/H) by the European Union, brokend down by type of energy."
   ]
  },
  {
   "cell_type": "code",
   "execution_count": 5,
   "metadata": {},
   "outputs": [
    {
     "data": {
      "application/vnd.plotly.v1+json": {
       "config": {
        "plotlyServerURL": "https://plot.ly"
       },
       "data": [
        {
         "fillpattern": {
          "shape": ""
         },
         "hovertemplate": "Energy source=Electricity<br>Year=%{x}<br>Energy consumption in GW/H=%{y}<extra></extra>",
         "legendgroup": "Electricity",
         "line": {
          "color": "#636efa"
         },
         "marker": {
          "symbol": "circle"
         },
         "mode": "lines",
         "name": "Electricity",
         "orientation": "v",
         "showlegend": true,
         "stackgroup": "1",
         "type": "scatter",
         "x": {
          "bdata": "0AfRB9IH0wfUB9UH1gfXB9gH2QfaB9sH3AfdB94H3wfgB+EH4gfjB+QH5QfmB+cH",
          "dtype": "i2"
         },
         "xaxis": "x",
         "y": {
          "bdata": "eekmsfbEQEHJdr7PeT1BQYcW2R6adEFB1XjpJkDuQUGsHFpEklpCQaRwPdoslUJBMzMzo077QkEbL93EqCFDQYlBYNXrO0NBBFYOTYBBQkE9CtdDbSdDQcl2vo9c4kJBtvP9FKfyQkF1kxjEu8VCQWDl0CJjYEJBdZMY1OWvQkHl0CJLWuxCQVCNl+4DHENBgZVDO/gbQ0G4HoX70OZCQQRWDj0qLkJBi2zn6/X+QkG6SQxyDF1CQfYoXG8KxUFB",
          "dtype": "f8"
         },
         "yaxis": "y"
        },
        {
         "fillpattern": {
          "shape": ""
         },
         "hovertemplate": "Energy source=Heat<br>Year=%{x}<br>Energy consumption in GW/H=%{y}<extra></extra>",
         "legendgroup": "Heat",
         "line": {
          "color": "#EF553B"
         },
         "marker": {
          "symbol": "circle"
         },
         "mode": "lines",
         "name": "Heat",
         "orientation": "v",
         "showlegend": true,
         "stackgroup": "1",
         "type": "scatter",
         "x": {
          "bdata": "0AfRB9IH0wfUB9UH1gfXB9gH2QfaB9sH3AfdB94H3wfgB+EH4gfjB+QH5QfmB+cH",
          "dtype": "i2"
         },
         "xaxis": "x",
         "y": {
          "bdata": "Rrbz/bByHkGwcmgRz0cgQZduEgPr7x9BGQRWjrFdIUGq8dLNG0YiQdNNYtC7NyJB9P3U+F/bIUHfT43XzAAhQcP1KJx3JyFBCKwcmg/RIEEMAitH+00iQSuHFpn2tyBBVg4tsl0qIUGuR+H6+SYhQYts53t8lR9BJQaB1VsCIEEbL93ktaEgQRkEVk7qtiBBke18PytXIEHn+6nxAU8gQQIrhxarJx9BfT813k0vIEG+nxovyu8dQTm0yPZEhhxB",
          "dtype": "f8"
         },
         "yaxis": "y"
        },
        {
         "fillpattern": {
          "shape": ""
         },
         "hovertemplate": "Energy source=Manufactured gases<br>Year=%{x}<br>Energy consumption in GW/H=%{y}<extra></extra>",
         "legendgroup": "Manufactured gases",
         "line": {
          "color": "#00cc96"
         },
         "marker": {
          "symbol": "circle"
         },
         "mode": "lines",
         "name": "Manufactured gases",
         "orientation": "v",
         "showlegend": true,
         "stackgroup": "1",
         "type": "scatter",
         "x": {
          "bdata": "0AfRB9IH0wfUB9UH1gfXB9gH2QfaB9sH3AfdB94H3wfgB+EH4gfjB+QH5QfmB+cH",
          "dtype": "i2"
         },
         "xaxis": "x",
         "y": {
          "bdata": "y6FFtofk9kAOLbKdY8P0QNNNYhBK5/NAhetRuEwS80AZBFYOF6DzQCPb+X5yS/JAppvEIFCH8kD6fmq8Dq3xQAwCK4ccsfBA3SQGgZ2050Dwp8ZL2xntQFyPwvVMEe1AFtnO98uu7UDNzMzM1A7sQB1aZDtva+xAZmZmZuIS7EBs5/upoQrrQB+F61FUf+pAObTIdlrS60BMN4lBrHbpQO58PzUCYOdADQIrh6Jj6UAOLbKds+joQKrx0k3eGuhA",
          "dtype": "f8"
         },
         "yaxis": "y"
        },
        {
         "fillpattern": {
          "shape": ""
         },
         "hovertemplate": "Energy source=Natural gas<br>Year=%{x}<br>Energy consumption in GW/H=%{y}<extra></extra>",
         "legendgroup": "Natural gas",
         "line": {
          "color": "#ab63fa"
         },
         "marker": {
          "symbol": "circle"
         },
         "mode": "lines",
         "name": "Natural gas",
         "orientation": "v",
         "showlegend": true,
         "stackgroup": "1",
         "type": "scatter",
         "x": {
          "bdata": "0AfRB9IH0wfUB9UH1gfXB9gH2QfaB9sH3AfdB94H3wfgB+EH4gfjB+QH5QfmB+cH",
          "dtype": "i2"
         },
         "xaxis": "x",
         "y": {
          "bdata": "Di2y/e8yQkGoxksXMudCQcP1KNzbvEJBvp8ar1Z2Q0G6SQxCOHhDQQaBlUMbxENB+FPjhTVUQ0GF61EoDXBCQRSuR9GmxUJB7nw/tVWuQUFaZDvfYFFDQW3n+3kXv0FBtvP9RNYuQkFoke28cZtCQXE9CjeMh0BBtvP99JMiQUHP91OjN9RBQfCnxmsU90FBObTIhnr2QUH8qfGCgbpBQYPAymHMSkFBRItsR68MQ0GVQ4tMx1pAQWiR7Tw6hj5B",
          "dtype": "f8"
         },
         "yaxis": "y"
        },
        {
         "fillpattern": {
          "shape": ""
         },
         "hovertemplate": "Energy source=Non-renewable waste<br>Year=%{x}<br>Energy consumption in GW/H=%{y}<extra></extra>",
         "legendgroup": "Non-renewable waste",
         "line": {
          "color": "#FFA15A"
         },
         "marker": {
          "symbol": "circle"
         },
         "mode": "lines",
         "name": "Non-renewable waste",
         "orientation": "v",
         "showlegend": true,
         "stackgroup": "1",
         "type": "scatter",
         "x": {
          "bdata": "0AfRB9IH0wfUB9UH1gfXB9gH2QfaB9sH3AfdB94H3wfgB+EH4gfjB+QH5QfmB+cH",
          "dtype": "i2"
         },
         "xaxis": "x",
         "y": {
          "bdata": "2c73U3OVxkC8dJMYRMvFQDeJQWCl5MZAVg4tsh39zkC8dJMYHDLRQAwCK4eW/s1AiUFg5aDx0EDRItv5Do7SQJHtfD/NaNdAWDm0yL5H20DGSzeJ+UnfQKjGSzc5+uFASgwCK9us4UCLbOf7SarjQFg5tMjCyORArkfhetwf5UD4U+OlY7vnQFg5tMg2yudA4noUrocw6kBaZDvfO/TqQNEi2/m6HOxAj8L1KJB97EDJdr6fwsjsQOxRuB7NXetA",
          "dtype": "f8"
         },
         "yaxis": "y"
        },
        {
         "fillpattern": {
          "shape": ""
         },
         "hovertemplate": "Energy source=Nuclear heat<br>Year=%{x}<br>Energy consumption in GW/H=%{y}<extra></extra>",
         "legendgroup": "Nuclear heat",
         "line": {
          "color": "#19d3f3"
         },
         "marker": {
          "symbol": "circle"
         },
         "mode": "lines",
         "name": "Nuclear heat",
         "orientation": "v",
         "showlegend": true,
         "stackgroup": "1",
         "type": "scatter",
         "x": {
          "bdata": "0AfRB9IH0wfUB9UH1gfXB9gH2QfaB9sH3AfdB94H3wfgB+EH4gfjB+QH5QfmB+cH",
          "dtype": "i2"
         },
         "xaxis": "x",
         "y": {
          "bdata": "AAAAAAAAAAAAAAAAAAAAAAAAAAAAAAAAAAAAAAAAAAAAAAAAAAAAAAAAAAAAAAAAAAAAAAAAAAAAAAAAAAAAAAAAAAAAAAAAAAAAAAAAAAAAAAAAAAAAAAAAAAAAAAAAAAAAAAAAAAAAAAAAAAAAAAAAAAAAAAAAAAAAAAAAAAAAAAAAAAAAAAAAAAAAAAAAAAAAAAAAAAAAAAAAAAAAAAAAAAAAAAAAAAAAAAAAAAAAAAAAAAAAAAAAAAAAAAAA",
          "dtype": "f8"
         },
         "yaxis": "y"
        },
        {
         "fillpattern": {
          "shape": ""
         },
         "hovertemplate": "Energy source=Oil and petroleum products (excluding biofuel portion)<br>Year=%{x}<br>Energy consumption in GW/H=%{y}<extra></extra>",
         "legendgroup": "Oil and petroleum products (excluding biofuel portion)",
         "line": {
          "color": "#FF6692"
         },
         "marker": {
          "symbol": "circle"
         },
         "mode": "lines",
         "name": "Oil and petroleum products (excluding biofuel portion)",
         "orientation": "v",
         "showlegend": true,
         "stackgroup": "1",
         "type": "scatter",
         "x": {
          "bdata": "0AfRB9IH0wfUB9UH1gfXB9gH2QfaB9sH3AfdB94H3wfgB+EH4gfjB+QH5QfmB+cH",
          "dtype": "i2"
         },
         "xaxis": "x",
         "y": {
          "bdata": "RrbzpX6dUUGNl25qwRNSQWiR7Qwq31FBsHJocWYYUkFU46WjUiJSQb6fGq+Q/VFBuB6FmwDtUUE5tMgutVVRQfhT40WkUVFBuB6F4yd2UEGe76cm60JQQRSuR7Fpnk9BfT81vlRxTkEhsHJoChpOQVYOLULMoE1BEFg5pEQaTkFzaJHtXX5OQQrXo1Anvk5B+FPjhf6cTkE1XrqptLpOQWQ7348QhktBPQrXk1D6TEHNzMxs6IdNQWq8dFPE+UxB",
          "dtype": "f8"
         },
         "yaxis": "y"
        },
        {
         "fillpattern": {
          "shape": ""
         },
         "hovertemplate": "Energy source=Oil shale and oil sands<br>Year=%{x}<br>Energy consumption in GW/H=%{y}<extra></extra>",
         "legendgroup": "Oil shale and oil sands",
         "line": {
          "color": "#B6E880"
         },
         "marker": {
          "symbol": "circle"
         },
         "mode": "lines",
         "name": "Oil shale and oil sands",
         "orientation": "v",
         "showlegend": true,
         "stackgroup": "1",
         "type": "scatter",
         "x": {
          "bdata": "0AfRB9IH0wfUB9UH1gfXB9gH2QfaB9sH3AfdB94H3wfgB+EH4gfjB+QH5QfmB+cH",
          "dtype": "i2"
         },
         "xaxis": "x",
         "y": {
          "bdata": "XI/C9SjrhUCsHFpkO3SFQC2yne+nY4JARrbz/dTIf0B9PzVeuheBQB+F61G4bYhAvp8aL93qgkAAAAAAABCLQFCNl24Se4lAkxgEVg6Vd0BxPQrXowOAQFg5tMh2+oJAXI/C9SgufkDn+6nx0l16QOOlm8QgpnhAeekmMQjAZUC4HoXrUVBcQHnpJjEIDG1AZmZmZmZMcEDl0CLb+eZsQCUGgZVDCzBAAAAAAAAAAAAAAAAAAAAAAAAAAAAAAAAA",
          "dtype": "f8"
         },
         "yaxis": "y"
        },
        {
         "fillpattern": {
          "shape": ""
         },
         "hovertemplate": "Energy source=Peat and peat products<br>Year=%{x}<br>Energy consumption in GW/H=%{y}<extra></extra>",
         "legendgroup": "Peat and peat products",
         "line": {
          "color": "#FF97FF"
         },
         "marker": {
          "symbol": "circle"
         },
         "mode": "lines",
         "name": "Peat and peat products",
         "orientation": "v",
         "showlegend": true,
         "stackgroup": "1",
         "type": "scatter",
         "x": {
          "bdata": "0AfRB9IH0wfUB9UH1gfXB9gH2QfaB9sH3AfdB94H3wfgB+EH4gfjB+QH5QfmB+cH",
          "dtype": "i2"
         },
         "xaxis": "x",
         "y": {
          "bdata": "AAAAACD1vUBH4XoULlu+QGiR7Xx/P71AhxbZzregvEDtfD81Hu65QM3MzMwM+rlALbKd76dnvUCQwvUoPFi9QFYOLbIdUr1AppvEILAEukAGgZVDS2i7QFYOLbLdIbpA0SLb+T47t0CR7Xw/FUy2QFTjpZsE+bVAbOf7qTHetEBaZDvfD0W0QARWDi3Sp7NA7Xw/NV7+tEDrUbge5cazQO58PzU+ObFArBxaZLtEsECkcD0Kl7OrQEjhehQu+qZA",
          "dtype": "f8"
         },
         "yaxis": "y"
        },
        {
         "fillpattern": {
          "shape": ""
         },
         "hovertemplate": "Energy source=Renewables and biofuels<br>Year=%{x}<br>Energy consumption in GW/H=%{y}<extra></extra>",
         "legendgroup": "Renewables and biofuels",
         "line": {
          "color": "#FECB52"
         },
         "marker": {
          "symbol": "circle"
         },
         "mode": "lines",
         "name": "Renewables and biofuels",
         "orientation": "v",
         "showlegend": true,
         "stackgroup": "1",
         "type": "scatter",
         "x": {
          "bdata": "0AfRB9IH0wfUB9UH1gfXB9gH2QfaB9sH3AfdB94H3wfgB+EH4gfjB+QH5QfmB+cH",
          "dtype": "i2"
         },
         "xaxis": "x",
         "y": {
          "bdata": "nu+nRnJSIUEMAisHEGEhQfyp8dL6ySFBzczMzNe4I0G4HoXrFQckQZ7vp8ajiSVBexSuR6QpJ0GPwvUoAmIpQcdLN0m8HitBhetROKAOLEFkO9+PSLAuQTMzM7OlpC1ByXa+H536L0HjpZtkMBYwQSuHFhnT3i5BsHJoMboTMEHJdr6f11EwQd9PjVfPaDFBsHJoUaVHMkGuR+FaAo4yQaAaL90mbjJBy6FF1hO4M0GsHFrk844zQX9qvDQnmTNB",
          "dtype": "f8"
         },
         "yaxis": "y"
        },
        {
         "fillpattern": {
          "shape": ""
         },
         "hovertemplate": "Energy source=Solid fossil fuels<br>Year=%{x}<br>Energy consumption in GW/H=%{y}<extra></extra>",
         "legendgroup": "Solid fossil fuels",
         "line": {
          "color": "#636efa"
         },
         "marker": {
          "symbol": "circle"
         },
         "mode": "lines",
         "name": "Solid fossil fuels",
         "orientation": "v",
         "showlegend": true,
         "stackgroup": "1",
         "type": "scatter",
         "x": {
          "bdata": "0AfRB9IH0wfUB9UH1gfXB9gH2QfaB9sH3AfdB94H3wfgB+EH4gfjB+QH5QfmB+cH",
          "dtype": "i2"
         },
         "xaxis": "x",
         "y": {
          "bdata": "nu+nRiG/F0GYbhKDNZcWQTq0yHaGXRVBQDVeuiGnFUFSuB6FNe0UQef7qXG8QRRBbOf7qZItFUF56SYxMbQUQaRwPQo8RBRBVg4tMuYcEkGcxCAwoVETQbByaBGvGhNB001ikCpuEkG9dJMY9ZsRQYPAyiHifhBB16NwvcauEEEnMQisjtoQQfCnxsuM+hBBN4lBYHsQEEGYbhKD5x4MQS2yne+JKQtBWDm0yPmxCkEpXI/C0s8HQS/dJAZMtQRB",
          "dtype": "f8"
         },
         "yaxis": "y"
        }
       ],
       "layout": {
        "legend": {
         "title": {
          "text": "Energy source"
         },
         "tracegroupgap": 0
        },
        "margin": {
         "t": 60
        },
        "template": {
         "data": {
          "bar": [
           {
            "error_x": {
             "color": "#2a3f5f"
            },
            "error_y": {
             "color": "#2a3f5f"
            },
            "marker": {
             "line": {
              "color": "#E5ECF6",
              "width": 0.5
             },
             "pattern": {
              "fillmode": "overlay",
              "size": 10,
              "solidity": 0.2
             }
            },
            "type": "bar"
           }
          ],
          "barpolar": [
           {
            "marker": {
             "line": {
              "color": "#E5ECF6",
              "width": 0.5
             },
             "pattern": {
              "fillmode": "overlay",
              "size": 10,
              "solidity": 0.2
             }
            },
            "type": "barpolar"
           }
          ],
          "carpet": [
           {
            "aaxis": {
             "endlinecolor": "#2a3f5f",
             "gridcolor": "white",
             "linecolor": "white",
             "minorgridcolor": "white",
             "startlinecolor": "#2a3f5f"
            },
            "baxis": {
             "endlinecolor": "#2a3f5f",
             "gridcolor": "white",
             "linecolor": "white",
             "minorgridcolor": "white",
             "startlinecolor": "#2a3f5f"
            },
            "type": "carpet"
           }
          ],
          "choropleth": [
           {
            "colorbar": {
             "outlinewidth": 0,
             "ticks": ""
            },
            "type": "choropleth"
           }
          ],
          "contour": [
           {
            "colorbar": {
             "outlinewidth": 0,
             "ticks": ""
            },
            "colorscale": [
             [
              0,
              "#0d0887"
             ],
             [
              0.1111111111111111,
              "#46039f"
             ],
             [
              0.2222222222222222,
              "#7201a8"
             ],
             [
              0.3333333333333333,
              "#9c179e"
             ],
             [
              0.4444444444444444,
              "#bd3786"
             ],
             [
              0.5555555555555556,
              "#d8576b"
             ],
             [
              0.6666666666666666,
              "#ed7953"
             ],
             [
              0.7777777777777778,
              "#fb9f3a"
             ],
             [
              0.8888888888888888,
              "#fdca26"
             ],
             [
              1,
              "#f0f921"
             ]
            ],
            "type": "contour"
           }
          ],
          "contourcarpet": [
           {
            "colorbar": {
             "outlinewidth": 0,
             "ticks": ""
            },
            "type": "contourcarpet"
           }
          ],
          "heatmap": [
           {
            "colorbar": {
             "outlinewidth": 0,
             "ticks": ""
            },
            "colorscale": [
             [
              0,
              "#0d0887"
             ],
             [
              0.1111111111111111,
              "#46039f"
             ],
             [
              0.2222222222222222,
              "#7201a8"
             ],
             [
              0.3333333333333333,
              "#9c179e"
             ],
             [
              0.4444444444444444,
              "#bd3786"
             ],
             [
              0.5555555555555556,
              "#d8576b"
             ],
             [
              0.6666666666666666,
              "#ed7953"
             ],
             [
              0.7777777777777778,
              "#fb9f3a"
             ],
             [
              0.8888888888888888,
              "#fdca26"
             ],
             [
              1,
              "#f0f921"
             ]
            ],
            "type": "heatmap"
           }
          ],
          "histogram": [
           {
            "marker": {
             "pattern": {
              "fillmode": "overlay",
              "size": 10,
              "solidity": 0.2
             }
            },
            "type": "histogram"
           }
          ],
          "histogram2d": [
           {
            "colorbar": {
             "outlinewidth": 0,
             "ticks": ""
            },
            "colorscale": [
             [
              0,
              "#0d0887"
             ],
             [
              0.1111111111111111,
              "#46039f"
             ],
             [
              0.2222222222222222,
              "#7201a8"
             ],
             [
              0.3333333333333333,
              "#9c179e"
             ],
             [
              0.4444444444444444,
              "#bd3786"
             ],
             [
              0.5555555555555556,
              "#d8576b"
             ],
             [
              0.6666666666666666,
              "#ed7953"
             ],
             [
              0.7777777777777778,
              "#fb9f3a"
             ],
             [
              0.8888888888888888,
              "#fdca26"
             ],
             [
              1,
              "#f0f921"
             ]
            ],
            "type": "histogram2d"
           }
          ],
          "histogram2dcontour": [
           {
            "colorbar": {
             "outlinewidth": 0,
             "ticks": ""
            },
            "colorscale": [
             [
              0,
              "#0d0887"
             ],
             [
              0.1111111111111111,
              "#46039f"
             ],
             [
              0.2222222222222222,
              "#7201a8"
             ],
             [
              0.3333333333333333,
              "#9c179e"
             ],
             [
              0.4444444444444444,
              "#bd3786"
             ],
             [
              0.5555555555555556,
              "#d8576b"
             ],
             [
              0.6666666666666666,
              "#ed7953"
             ],
             [
              0.7777777777777778,
              "#fb9f3a"
             ],
             [
              0.8888888888888888,
              "#fdca26"
             ],
             [
              1,
              "#f0f921"
             ]
            ],
            "type": "histogram2dcontour"
           }
          ],
          "mesh3d": [
           {
            "colorbar": {
             "outlinewidth": 0,
             "ticks": ""
            },
            "type": "mesh3d"
           }
          ],
          "parcoords": [
           {
            "line": {
             "colorbar": {
              "outlinewidth": 0,
              "ticks": ""
             }
            },
            "type": "parcoords"
           }
          ],
          "pie": [
           {
            "automargin": true,
            "type": "pie"
           }
          ],
          "scatter": [
           {
            "fillpattern": {
             "fillmode": "overlay",
             "size": 10,
             "solidity": 0.2
            },
            "type": "scatter"
           }
          ],
          "scatter3d": [
           {
            "line": {
             "colorbar": {
              "outlinewidth": 0,
              "ticks": ""
             }
            },
            "marker": {
             "colorbar": {
              "outlinewidth": 0,
              "ticks": ""
             }
            },
            "type": "scatter3d"
           }
          ],
          "scattercarpet": [
           {
            "marker": {
             "colorbar": {
              "outlinewidth": 0,
              "ticks": ""
             }
            },
            "type": "scattercarpet"
           }
          ],
          "scattergeo": [
           {
            "marker": {
             "colorbar": {
              "outlinewidth": 0,
              "ticks": ""
             }
            },
            "type": "scattergeo"
           }
          ],
          "scattergl": [
           {
            "marker": {
             "colorbar": {
              "outlinewidth": 0,
              "ticks": ""
             }
            },
            "type": "scattergl"
           }
          ],
          "scattermap": [
           {
            "marker": {
             "colorbar": {
              "outlinewidth": 0,
              "ticks": ""
             }
            },
            "type": "scattermap"
           }
          ],
          "scattermapbox": [
           {
            "marker": {
             "colorbar": {
              "outlinewidth": 0,
              "ticks": ""
             }
            },
            "type": "scattermapbox"
           }
          ],
          "scatterpolar": [
           {
            "marker": {
             "colorbar": {
              "outlinewidth": 0,
              "ticks": ""
             }
            },
            "type": "scatterpolar"
           }
          ],
          "scatterpolargl": [
           {
            "marker": {
             "colorbar": {
              "outlinewidth": 0,
              "ticks": ""
             }
            },
            "type": "scatterpolargl"
           }
          ],
          "scatterternary": [
           {
            "marker": {
             "colorbar": {
              "outlinewidth": 0,
              "ticks": ""
             }
            },
            "type": "scatterternary"
           }
          ],
          "surface": [
           {
            "colorbar": {
             "outlinewidth": 0,
             "ticks": ""
            },
            "colorscale": [
             [
              0,
              "#0d0887"
             ],
             [
              0.1111111111111111,
              "#46039f"
             ],
             [
              0.2222222222222222,
              "#7201a8"
             ],
             [
              0.3333333333333333,
              "#9c179e"
             ],
             [
              0.4444444444444444,
              "#bd3786"
             ],
             [
              0.5555555555555556,
              "#d8576b"
             ],
             [
              0.6666666666666666,
              "#ed7953"
             ],
             [
              0.7777777777777778,
              "#fb9f3a"
             ],
             [
              0.8888888888888888,
              "#fdca26"
             ],
             [
              1,
              "#f0f921"
             ]
            ],
            "type": "surface"
           }
          ],
          "table": [
           {
            "cells": {
             "fill": {
              "color": "#EBF0F8"
             },
             "line": {
              "color": "white"
             }
            },
            "header": {
             "fill": {
              "color": "#C8D4E3"
             },
             "line": {
              "color": "white"
             }
            },
            "type": "table"
           }
          ]
         },
         "layout": {
          "annotationdefaults": {
           "arrowcolor": "#2a3f5f",
           "arrowhead": 0,
           "arrowwidth": 1
          },
          "autotypenumbers": "strict",
          "coloraxis": {
           "colorbar": {
            "outlinewidth": 0,
            "ticks": ""
           }
          },
          "colorscale": {
           "diverging": [
            [
             0,
             "#8e0152"
            ],
            [
             0.1,
             "#c51b7d"
            ],
            [
             0.2,
             "#de77ae"
            ],
            [
             0.3,
             "#f1b6da"
            ],
            [
             0.4,
             "#fde0ef"
            ],
            [
             0.5,
             "#f7f7f7"
            ],
            [
             0.6,
             "#e6f5d0"
            ],
            [
             0.7,
             "#b8e186"
            ],
            [
             0.8,
             "#7fbc41"
            ],
            [
             0.9,
             "#4d9221"
            ],
            [
             1,
             "#276419"
            ]
           ],
           "sequential": [
            [
             0,
             "#0d0887"
            ],
            [
             0.1111111111111111,
             "#46039f"
            ],
            [
             0.2222222222222222,
             "#7201a8"
            ],
            [
             0.3333333333333333,
             "#9c179e"
            ],
            [
             0.4444444444444444,
             "#bd3786"
            ],
            [
             0.5555555555555556,
             "#d8576b"
            ],
            [
             0.6666666666666666,
             "#ed7953"
            ],
            [
             0.7777777777777778,
             "#fb9f3a"
            ],
            [
             0.8888888888888888,
             "#fdca26"
            ],
            [
             1,
             "#f0f921"
            ]
           ],
           "sequentialminus": [
            [
             0,
             "#0d0887"
            ],
            [
             0.1111111111111111,
             "#46039f"
            ],
            [
             0.2222222222222222,
             "#7201a8"
            ],
            [
             0.3333333333333333,
             "#9c179e"
            ],
            [
             0.4444444444444444,
             "#bd3786"
            ],
            [
             0.5555555555555556,
             "#d8576b"
            ],
            [
             0.6666666666666666,
             "#ed7953"
            ],
            [
             0.7777777777777778,
             "#fb9f3a"
            ],
            [
             0.8888888888888888,
             "#fdca26"
            ],
            [
             1,
             "#f0f921"
            ]
           ]
          },
          "colorway": [
           "#636efa",
           "#EF553B",
           "#00cc96",
           "#ab63fa",
           "#FFA15A",
           "#19d3f3",
           "#FF6692",
           "#B6E880",
           "#FF97FF",
           "#FECB52"
          ],
          "font": {
           "color": "#2a3f5f"
          },
          "geo": {
           "bgcolor": "white",
           "lakecolor": "white",
           "landcolor": "#E5ECF6",
           "showlakes": true,
           "showland": true,
           "subunitcolor": "white"
          },
          "hoverlabel": {
           "align": "left"
          },
          "hovermode": "closest",
          "mapbox": {
           "style": "light"
          },
          "paper_bgcolor": "white",
          "plot_bgcolor": "#E5ECF6",
          "polar": {
           "angularaxis": {
            "gridcolor": "white",
            "linecolor": "white",
            "ticks": ""
           },
           "bgcolor": "#E5ECF6",
           "radialaxis": {
            "gridcolor": "white",
            "linecolor": "white",
            "ticks": ""
           }
          },
          "scene": {
           "xaxis": {
            "backgroundcolor": "#E5ECF6",
            "gridcolor": "white",
            "gridwidth": 2,
            "linecolor": "white",
            "showbackground": true,
            "ticks": "",
            "zerolinecolor": "white"
           },
           "yaxis": {
            "backgroundcolor": "#E5ECF6",
            "gridcolor": "white",
            "gridwidth": 2,
            "linecolor": "white",
            "showbackground": true,
            "ticks": "",
            "zerolinecolor": "white"
           },
           "zaxis": {
            "backgroundcolor": "#E5ECF6",
            "gridcolor": "white",
            "gridwidth": 2,
            "linecolor": "white",
            "showbackground": true,
            "ticks": "",
            "zerolinecolor": "white"
           }
          },
          "shapedefaults": {
           "line": {
            "color": "#2a3f5f"
           }
          },
          "ternary": {
           "aaxis": {
            "gridcolor": "white",
            "linecolor": "white",
            "ticks": ""
           },
           "baxis": {
            "gridcolor": "white",
            "linecolor": "white",
            "ticks": ""
           },
           "bgcolor": "#E5ECF6",
           "caxis": {
            "gridcolor": "white",
            "linecolor": "white",
            "ticks": ""
           }
          },
          "title": {
           "x": 0.05
          },
          "xaxis": {
           "automargin": true,
           "gridcolor": "white",
           "linecolor": "white",
           "ticks": "",
           "title": {
            "standoff": 15
           },
           "zerolinecolor": "white",
           "zerolinewidth": 2
          },
          "yaxis": {
           "automargin": true,
           "gridcolor": "white",
           "linecolor": "white",
           "ticks": "",
           "title": {
            "standoff": 15
           },
           "zerolinecolor": "white",
           "zerolinewidth": 2
          }
         }
        },
        "xaxis": {
         "anchor": "y",
         "domain": [
          0,
          1
         ],
         "title": {
          "text": "Year"
         }
        },
        "yaxis": {
         "anchor": "x",
         "domain": [
          0,
          1
         ],
         "title": {
          "text": "Energy consumption in GW/H"
         }
        }
       }
      }
     },
     "metadata": {},
     "output_type": "display_data"
    }
   ],
   "source": [
    "data_by_energy_source = nrg_bal.data.groupby(['TIME_PERIOD', 'siec_label'])['OBS_VALUE'].sum().reset_index()\n",
    "\n",
    "data_by_energy_source.rename(columns={\n",
    "    'OBS_VALUE': 'Energy consumption in GW/H',\n",
    "    'TIME_PERIOD': 'Year',\n",
    "    'siec_label': 'Energy source'\n",
    "    }, inplace=True)\n",
    "\n",
    "fig = px.area(data_by_energy_source, x='Year', y='Energy consumption in GW/H', color='Energy source')\n",
    "fig.show()"
   ]
  },
  {
   "cell_type": "markdown",
   "metadata": {},
   "source": [
    "The visualization reveals:\n",
    "\n",
    "- Oil and petroleum products (pink) dominate the energy mix throughout the period, accounting for roughly 40% of total consumption\n",
    "- Electricity (light blue at bottom) and natural gas (purple) are the next largest contributors\n",
    "- Renewables and biofuels (yellow) show modest growth over time but remain a relatively small portion of the overall mix\n",
    "- Most energy sources maintain relatively stable consumption patterns with some slight fluctuations\n",
    "- There appears to be a small decline in total energy consumption during 2020, possibly related to the pandemic\n",
    "- Solid fossil fuels (dark blue at top) show a gradual decline toward the end of the period"
   ]
  },
  {
   "cell_type": "markdown",
   "metadata": {},
   "source": [
    "We are calculating and displaying the total energy consumed (in GW/H) by the European Union, brokend down by consuming sector."
   ]
  },
  {
   "cell_type": "code",
   "execution_count": 6,
   "metadata": {},
   "outputs": [
    {
     "data": {
      "application/vnd.plotly.v1+json": {
       "config": {
        "plotlyServerURL": "https://plot.ly"
       },
       "data": [
        {
         "fillpattern": {
          "shape": ""
         },
         "hovertemplate": "Consuming sector=Final consumption - industry sector - energy use<br>Year=%{x}<br>Energy consumption in GW/H=%{y}<extra></extra>",
         "legendgroup": "Final consumption - industry sector - energy use",
         "line": {
          "color": "#636efa"
         },
         "marker": {
          "symbol": "circle"
         },
         "mode": "lines",
         "name": "Final consumption - industry sector - energy use",
         "orientation": "v",
         "showlegend": true,
         "stackgroup": "1",
         "type": "scatter",
         "x": {
          "bdata": "0AfRB9IH0wfUB9UH1gfXB9gH2QfaB9sH3AfdB94H3wfgB+EH4gfjB+QH5QfmB+cH",
          "dtype": "i2"
         },
         "xaxis": "x",
         "y": {
          "bdata": "f2q8VBoLSEFzaJHtRwFIQfLSTdK950dB/KnxUnh1SEHjpZt0tWVIQZqZmQmIaUhBqvHSbanrR0FCYOVQ41ZIQWDl0DKnhkdBWDm06GNWREHy0k2iUKNFQd0kBhGos0VB+n5qHOJHRUFEi2w3IQdFQaabxDDVuERBrBxaxPbJREHdJAbRrStFQTeJQbCqXkVB/KnxEp2MRUHNzMz82lNFQcHKoQXVkERBbxKDQKyGRUHFILACGyFEQcP1KFyQDUNB",
          "dtype": "f8"
         },
         "yaxis": "y"
        },
        {
         "fillpattern": {
          "shape": ""
         },
         "hovertemplate": "Consuming sector=Final consumption - other sectors - agriculture and forestry - energy use<br>Year=%{x}<br>Energy consumption in GW/H=%{y}<extra></extra>",
         "legendgroup": "Final consumption - other sectors - agriculture and forestry - energy use",
         "line": {
          "color": "#EF553B"
         },
         "marker": {
          "symbol": "circle"
         },
         "mode": "lines",
         "name": "Final consumption - other sectors - agriculture and forestry - energy use",
         "orientation": "v",
         "showlegend": true,
         "stackgroup": "1",
         "type": "scatter",
         "x": {
          "bdata": "0AfRB9IH0wfUB9UH1gfXB9gH2QfaB9sH3AfdB94H3wfgB+EH4gfjB+QH5QfmB+cH",
          "dtype": "i2"
         },
         "xaxis": "x",
         "y": {
          "bdata": "hetROG4aE0HP91PjDKQSQTvfT40XDRJB6PupccdlEkHjpZtE1ysTQeOlm0RuKBNBLbKd7yT+EUElBoGVtqIRQXsUrscgjBFBGy/dpFYcEUEOLbKdyRwSQeXQIlsSuxFBnMQgMD2LEUGTGARWbNQRQQIrhxYWbhFBoBov3atyEUGamZkZjcIRQe58PzXeAhJBne+nxuKuE0F56SYxvu8TQRBYOTSCKRRBXI/C9WJlFEHhehQuNPoSQfLSTeI8xBJB",
          "dtype": "f8"
         },
         "yaxis": "y"
        },
        {
         "fillpattern": {
          "shape": ""
         },
         "hovertemplate": "Consuming sector=Final consumption - other sectors - commercial and public services - energy use<br>Year=%{x}<br>Energy consumption in GW/H=%{y}<extra></extra>",
         "legendgroup": "Final consumption - other sectors - commercial and public services - energy use",
         "line": {
          "color": "#00cc96"
         },
         "marker": {
          "symbol": "circle"
         },
         "mode": "lines",
         "name": "Final consumption - other sectors - commercial and public services - energy use",
         "orientation": "v",
         "showlegend": true,
         "stackgroup": "1",
         "type": "scatter",
         "x": {
          "bdata": "0AfRB9IH0wfUB9UH1gfXB9gH2QfaB9sH3AfdB94H3wfgB+EH4gfjB+QH5QfmB+cH",
          "dtype": "i2"
         },
         "xaxis": "x",
         "y": {
          "bdata": "+n5q/OKWMkEK16OQobozQRbZzte2hTNBg8DKYVXbNUHjpZsEfG42QaAaL93ftTZBqvHSzSuaN0E3iUHAPWk2QaRwPeo5zzdBCtej8LHWN0FrvHSTvtY4QS2ynS8luDZBBoGV4385N0EnMQgsIXw3QTm0yJZy8DVB16NwvVbYNkFvEoOAngs3QebQIhuDvTdBTmIQWF9bN0G+nxpPccY2QbpJDKL8gTVB5/upcTUAN0F7FK6Hb3s1QW3n+8nt6zRB",
          "dtype": "f8"
         },
         "yaxis": "y"
        },
        {
         "fillpattern": {
          "shape": ""
         },
         "hovertemplate": "Consuming sector=Final consumption - other sectors - fishing - energy use<br>Year=%{x}<br>Energy consumption in GW/H=%{y}<extra></extra>",
         "legendgroup": "Final consumption - other sectors - fishing - energy use",
         "line": {
          "color": "#ab63fa"
         },
         "marker": {
          "symbol": "circle"
         },
         "mode": "lines",
         "name": "Final consumption - other sectors - fishing - energy use",
         "orientation": "v",
         "showlegend": true,
         "stackgroup": "1",
         "type": "scatter",
         "x": {
          "bdata": "0AfRB9IH0wfUB9UH1gfXB9gH2QfaB9sH3AfdB94H3wfgB+EH4gfjB+QH5QfmB+cH",
          "dtype": "i2"
         },
         "xaxis": "x",
         "y": {
          "bdata": "tMh2vt9E0UD2KFyPavDRQLpJDALbrNBAw/UoXLeW0ECgGi/dzKvQQGmR7XwXkNBAtch2vh9Fz0CHFtnOl9bNQDm0yHbuv8tA0SLb+e7izECsHFpkG+zLQHNoke3c28pAWmQ73y/5ykDVeOkmUfPLQDvfT41XAMxAz/dT47UYzkB9PzVeeuvNQDMzMzPTxc1AHVpkO7+jz0A+Ctej8HbOQIts5/uZqc5ApHA9Cse1z0ApXI/CxRfPQJHtfD8lRM9A",
          "dtype": "f8"
         },
         "yaxis": "y"
        },
        {
         "fillpattern": {
          "shape": ""
         },
         "hovertemplate": "Consuming sector=Final consumption - other sectors - households - energy use<br>Year=%{x}<br>Energy consumption in GW/H=%{y}<extra></extra>",
         "legendgroup": "Final consumption - other sectors - households - energy use",
         "line": {
          "color": "#FFA15A"
         },
         "marker": {
          "symbol": "circle"
         },
         "mode": "lines",
         "name": "Final consumption - other sectors - households - energy use",
         "orientation": "v",
         "showlegend": true,
         "stackgroup": "1",
         "type": "scatter",
         "x": {
          "bdata": "0AfRB9IH0wfUB9UH1gfXB9gH2QfaB9sH3AfdB94H3wfgB+EH4gfjB+QH5QfmB+cH",
          "dtype": "i2"
         },
         "xaxis": "x",
         "y": {
          "bdata": "nu+nFgcORkGTGATmeDtHQajGS/fRvkZBRItsp5OIR0EEVg4dFF5HQTMzM3NkoUdBMQisDEmMR0Fcj8IlRx1GQWiR7XydckdBCKwcCvJHR0EIrBza889IQY2XbvLda0ZB16NwrWJxR0Ge76fmkbZHQZhuEnN11kRBd76fGtfNRUEv3SQWmmJGQVTjpQtCcUZB7FG4LotBRkEW2c43igtGQZqZmTnvB0ZBFK5H4WM/R0Hl0CKr2H9FQUa2840EWkRB",
          "dtype": "f8"
         },
         "yaxis": "y"
        },
        {
         "fillpattern": {
          "shape": ""
         },
         "hovertemplate": "Consuming sector=Final consumption - other sectors - not elsewhere specified - energy use<br>Year=%{x}<br>Energy consumption in GW/H=%{y}<extra></extra>",
         "legendgroup": "Final consumption - other sectors - not elsewhere specified - energy use",
         "line": {
          "color": "#19d3f3"
         },
         "marker": {
          "symbol": "circle"
         },
         "mode": "lines",
         "name": "Final consumption - other sectors - not elsewhere specified - energy use",
         "orientation": "v",
         "showlegend": true,
         "stackgroup": "1",
         "type": "scatter",
         "x": {
          "bdata": "0AfRB9IH0wfUB9UH1gfXB9gH2QfaB9sH3AfdB94H3wfgB+EH4gfjB+QH5QfmB+cH",
          "dtype": "i2"
         },
         "xaxis": "x",
         "y": {
          "bdata": "iUFg5YC6/UA1XrpJKBQAQXe+nxoVNwBBZmZmZpyh9ECmm8Qgxjf0QLpJDAJDePRAK4cW2QDK9kAfhetRdNnjQLByaJE5i+JAl24Sg7yD4kAxCKwc/gXlQN0kBoHh0OdAqvHSTRoA6ECF61G4fhnnQPyp8dI9FOdAL90kBu1u5EDl0CLbKSXjQCUGgZVrNuNAvHSTGMyP40BeukkMGlDjQDvfT43DgeRAlUOLbCdJ5UBNYhBYoUXnQOF6FK7DAOhA",
          "dtype": "f8"
         },
         "yaxis": "y"
        },
        {
         "fillpattern": {
          "shape": ""
         },
         "hovertemplate": "Consuming sector=Final consumption - transport sector - energy use<br>Year=%{x}<br>Energy consumption in GW/H=%{y}<extra></extra>",
         "legendgroup": "Final consumption - transport sector - energy use",
         "line": {
          "color": "#FF6692"
         },
         "marker": {
          "symbol": "circle"
         },
         "mode": "lines",
         "name": "Final consumption - transport sector - energy use",
         "orientation": "v",
         "showlegend": true,
         "stackgroup": "1",
         "type": "scatter",
         "x": {
          "bdata": "0AfRB9IH0wfUB9UH1gfXB9gH2QfaB9sH3AfdB94H3wfgB+EH4gfjB+QH5QfmB+cH",
          "dtype": "i2"
         },
         "xaxis": "x",
         "y": {
          "bdata": "Fa5HUY9TR0HD9SjcAcJHQQisHLoCAkhBTDeJgR5YSEGmm8QgOPJIQbByaIEK/EhBEFg55BZ8SUHTTWJQ3+RJQcdLN1k4i0lB30+N16PmSEFQjZc+2NdIQcHKoRWv10hBFK5H0W3xR0FxPQonwJ9HQW4Sg7D25UdBEFg5RHk6SEEnMQhMJcpIQRbZzjd4TElBFK5HEZRuSUHhehT+bKhJQZmZmbmcVEZBppvEUOgwSEHwp8YLv+VIQX9qvHTjyEhB",
          "dtype": "f8"
         },
         "yaxis": "y"
        }
       ],
       "layout": {
        "legend": {
         "title": {
          "text": "Consuming sector"
         },
         "tracegroupgap": 0
        },
        "margin": {
         "t": 60
        },
        "template": {
         "data": {
          "bar": [
           {
            "error_x": {
             "color": "#2a3f5f"
            },
            "error_y": {
             "color": "#2a3f5f"
            },
            "marker": {
             "line": {
              "color": "#E5ECF6",
              "width": 0.5
             },
             "pattern": {
              "fillmode": "overlay",
              "size": 10,
              "solidity": 0.2
             }
            },
            "type": "bar"
           }
          ],
          "barpolar": [
           {
            "marker": {
             "line": {
              "color": "#E5ECF6",
              "width": 0.5
             },
             "pattern": {
              "fillmode": "overlay",
              "size": 10,
              "solidity": 0.2
             }
            },
            "type": "barpolar"
           }
          ],
          "carpet": [
           {
            "aaxis": {
             "endlinecolor": "#2a3f5f",
             "gridcolor": "white",
             "linecolor": "white",
             "minorgridcolor": "white",
             "startlinecolor": "#2a3f5f"
            },
            "baxis": {
             "endlinecolor": "#2a3f5f",
             "gridcolor": "white",
             "linecolor": "white",
             "minorgridcolor": "white",
             "startlinecolor": "#2a3f5f"
            },
            "type": "carpet"
           }
          ],
          "choropleth": [
           {
            "colorbar": {
             "outlinewidth": 0,
             "ticks": ""
            },
            "type": "choropleth"
           }
          ],
          "contour": [
           {
            "colorbar": {
             "outlinewidth": 0,
             "ticks": ""
            },
            "colorscale": [
             [
              0,
              "#0d0887"
             ],
             [
              0.1111111111111111,
              "#46039f"
             ],
             [
              0.2222222222222222,
              "#7201a8"
             ],
             [
              0.3333333333333333,
              "#9c179e"
             ],
             [
              0.4444444444444444,
              "#bd3786"
             ],
             [
              0.5555555555555556,
              "#d8576b"
             ],
             [
              0.6666666666666666,
              "#ed7953"
             ],
             [
              0.7777777777777778,
              "#fb9f3a"
             ],
             [
              0.8888888888888888,
              "#fdca26"
             ],
             [
              1,
              "#f0f921"
             ]
            ],
            "type": "contour"
           }
          ],
          "contourcarpet": [
           {
            "colorbar": {
             "outlinewidth": 0,
             "ticks": ""
            },
            "type": "contourcarpet"
           }
          ],
          "heatmap": [
           {
            "colorbar": {
             "outlinewidth": 0,
             "ticks": ""
            },
            "colorscale": [
             [
              0,
              "#0d0887"
             ],
             [
              0.1111111111111111,
              "#46039f"
             ],
             [
              0.2222222222222222,
              "#7201a8"
             ],
             [
              0.3333333333333333,
              "#9c179e"
             ],
             [
              0.4444444444444444,
              "#bd3786"
             ],
             [
              0.5555555555555556,
              "#d8576b"
             ],
             [
              0.6666666666666666,
              "#ed7953"
             ],
             [
              0.7777777777777778,
              "#fb9f3a"
             ],
             [
              0.8888888888888888,
              "#fdca26"
             ],
             [
              1,
              "#f0f921"
             ]
            ],
            "type": "heatmap"
           }
          ],
          "histogram": [
           {
            "marker": {
             "pattern": {
              "fillmode": "overlay",
              "size": 10,
              "solidity": 0.2
             }
            },
            "type": "histogram"
           }
          ],
          "histogram2d": [
           {
            "colorbar": {
             "outlinewidth": 0,
             "ticks": ""
            },
            "colorscale": [
             [
              0,
              "#0d0887"
             ],
             [
              0.1111111111111111,
              "#46039f"
             ],
             [
              0.2222222222222222,
              "#7201a8"
             ],
             [
              0.3333333333333333,
              "#9c179e"
             ],
             [
              0.4444444444444444,
              "#bd3786"
             ],
             [
              0.5555555555555556,
              "#d8576b"
             ],
             [
              0.6666666666666666,
              "#ed7953"
             ],
             [
              0.7777777777777778,
              "#fb9f3a"
             ],
             [
              0.8888888888888888,
              "#fdca26"
             ],
             [
              1,
              "#f0f921"
             ]
            ],
            "type": "histogram2d"
           }
          ],
          "histogram2dcontour": [
           {
            "colorbar": {
             "outlinewidth": 0,
             "ticks": ""
            },
            "colorscale": [
             [
              0,
              "#0d0887"
             ],
             [
              0.1111111111111111,
              "#46039f"
             ],
             [
              0.2222222222222222,
              "#7201a8"
             ],
             [
              0.3333333333333333,
              "#9c179e"
             ],
             [
              0.4444444444444444,
              "#bd3786"
             ],
             [
              0.5555555555555556,
              "#d8576b"
             ],
             [
              0.6666666666666666,
              "#ed7953"
             ],
             [
              0.7777777777777778,
              "#fb9f3a"
             ],
             [
              0.8888888888888888,
              "#fdca26"
             ],
             [
              1,
              "#f0f921"
             ]
            ],
            "type": "histogram2dcontour"
           }
          ],
          "mesh3d": [
           {
            "colorbar": {
             "outlinewidth": 0,
             "ticks": ""
            },
            "type": "mesh3d"
           }
          ],
          "parcoords": [
           {
            "line": {
             "colorbar": {
              "outlinewidth": 0,
              "ticks": ""
             }
            },
            "type": "parcoords"
           }
          ],
          "pie": [
           {
            "automargin": true,
            "type": "pie"
           }
          ],
          "scatter": [
           {
            "fillpattern": {
             "fillmode": "overlay",
             "size": 10,
             "solidity": 0.2
            },
            "type": "scatter"
           }
          ],
          "scatter3d": [
           {
            "line": {
             "colorbar": {
              "outlinewidth": 0,
              "ticks": ""
             }
            },
            "marker": {
             "colorbar": {
              "outlinewidth": 0,
              "ticks": ""
             }
            },
            "type": "scatter3d"
           }
          ],
          "scattercarpet": [
           {
            "marker": {
             "colorbar": {
              "outlinewidth": 0,
              "ticks": ""
             }
            },
            "type": "scattercarpet"
           }
          ],
          "scattergeo": [
           {
            "marker": {
             "colorbar": {
              "outlinewidth": 0,
              "ticks": ""
             }
            },
            "type": "scattergeo"
           }
          ],
          "scattergl": [
           {
            "marker": {
             "colorbar": {
              "outlinewidth": 0,
              "ticks": ""
             }
            },
            "type": "scattergl"
           }
          ],
          "scattermap": [
           {
            "marker": {
             "colorbar": {
              "outlinewidth": 0,
              "ticks": ""
             }
            },
            "type": "scattermap"
           }
          ],
          "scattermapbox": [
           {
            "marker": {
             "colorbar": {
              "outlinewidth": 0,
              "ticks": ""
             }
            },
            "type": "scattermapbox"
           }
          ],
          "scatterpolar": [
           {
            "marker": {
             "colorbar": {
              "outlinewidth": 0,
              "ticks": ""
             }
            },
            "type": "scatterpolar"
           }
          ],
          "scatterpolargl": [
           {
            "marker": {
             "colorbar": {
              "outlinewidth": 0,
              "ticks": ""
             }
            },
            "type": "scatterpolargl"
           }
          ],
          "scatterternary": [
           {
            "marker": {
             "colorbar": {
              "outlinewidth": 0,
              "ticks": ""
             }
            },
            "type": "scatterternary"
           }
          ],
          "surface": [
           {
            "colorbar": {
             "outlinewidth": 0,
             "ticks": ""
            },
            "colorscale": [
             [
              0,
              "#0d0887"
             ],
             [
              0.1111111111111111,
              "#46039f"
             ],
             [
              0.2222222222222222,
              "#7201a8"
             ],
             [
              0.3333333333333333,
              "#9c179e"
             ],
             [
              0.4444444444444444,
              "#bd3786"
             ],
             [
              0.5555555555555556,
              "#d8576b"
             ],
             [
              0.6666666666666666,
              "#ed7953"
             ],
             [
              0.7777777777777778,
              "#fb9f3a"
             ],
             [
              0.8888888888888888,
              "#fdca26"
             ],
             [
              1,
              "#f0f921"
             ]
            ],
            "type": "surface"
           }
          ],
          "table": [
           {
            "cells": {
             "fill": {
              "color": "#EBF0F8"
             },
             "line": {
              "color": "white"
             }
            },
            "header": {
             "fill": {
              "color": "#C8D4E3"
             },
             "line": {
              "color": "white"
             }
            },
            "type": "table"
           }
          ]
         },
         "layout": {
          "annotationdefaults": {
           "arrowcolor": "#2a3f5f",
           "arrowhead": 0,
           "arrowwidth": 1
          },
          "autotypenumbers": "strict",
          "coloraxis": {
           "colorbar": {
            "outlinewidth": 0,
            "ticks": ""
           }
          },
          "colorscale": {
           "diverging": [
            [
             0,
             "#8e0152"
            ],
            [
             0.1,
             "#c51b7d"
            ],
            [
             0.2,
             "#de77ae"
            ],
            [
             0.3,
             "#f1b6da"
            ],
            [
             0.4,
             "#fde0ef"
            ],
            [
             0.5,
             "#f7f7f7"
            ],
            [
             0.6,
             "#e6f5d0"
            ],
            [
             0.7,
             "#b8e186"
            ],
            [
             0.8,
             "#7fbc41"
            ],
            [
             0.9,
             "#4d9221"
            ],
            [
             1,
             "#276419"
            ]
           ],
           "sequential": [
            [
             0,
             "#0d0887"
            ],
            [
             0.1111111111111111,
             "#46039f"
            ],
            [
             0.2222222222222222,
             "#7201a8"
            ],
            [
             0.3333333333333333,
             "#9c179e"
            ],
            [
             0.4444444444444444,
             "#bd3786"
            ],
            [
             0.5555555555555556,
             "#d8576b"
            ],
            [
             0.6666666666666666,
             "#ed7953"
            ],
            [
             0.7777777777777778,
             "#fb9f3a"
            ],
            [
             0.8888888888888888,
             "#fdca26"
            ],
            [
             1,
             "#f0f921"
            ]
           ],
           "sequentialminus": [
            [
             0,
             "#0d0887"
            ],
            [
             0.1111111111111111,
             "#46039f"
            ],
            [
             0.2222222222222222,
             "#7201a8"
            ],
            [
             0.3333333333333333,
             "#9c179e"
            ],
            [
             0.4444444444444444,
             "#bd3786"
            ],
            [
             0.5555555555555556,
             "#d8576b"
            ],
            [
             0.6666666666666666,
             "#ed7953"
            ],
            [
             0.7777777777777778,
             "#fb9f3a"
            ],
            [
             0.8888888888888888,
             "#fdca26"
            ],
            [
             1,
             "#f0f921"
            ]
           ]
          },
          "colorway": [
           "#636efa",
           "#EF553B",
           "#00cc96",
           "#ab63fa",
           "#FFA15A",
           "#19d3f3",
           "#FF6692",
           "#B6E880",
           "#FF97FF",
           "#FECB52"
          ],
          "font": {
           "color": "#2a3f5f"
          },
          "geo": {
           "bgcolor": "white",
           "lakecolor": "white",
           "landcolor": "#E5ECF6",
           "showlakes": true,
           "showland": true,
           "subunitcolor": "white"
          },
          "hoverlabel": {
           "align": "left"
          },
          "hovermode": "closest",
          "mapbox": {
           "style": "light"
          },
          "paper_bgcolor": "white",
          "plot_bgcolor": "#E5ECF6",
          "polar": {
           "angularaxis": {
            "gridcolor": "white",
            "linecolor": "white",
            "ticks": ""
           },
           "bgcolor": "#E5ECF6",
           "radialaxis": {
            "gridcolor": "white",
            "linecolor": "white",
            "ticks": ""
           }
          },
          "scene": {
           "xaxis": {
            "backgroundcolor": "#E5ECF6",
            "gridcolor": "white",
            "gridwidth": 2,
            "linecolor": "white",
            "showbackground": true,
            "ticks": "",
            "zerolinecolor": "white"
           },
           "yaxis": {
            "backgroundcolor": "#E5ECF6",
            "gridcolor": "white",
            "gridwidth": 2,
            "linecolor": "white",
            "showbackground": true,
            "ticks": "",
            "zerolinecolor": "white"
           },
           "zaxis": {
            "backgroundcolor": "#E5ECF6",
            "gridcolor": "white",
            "gridwidth": 2,
            "linecolor": "white",
            "showbackground": true,
            "ticks": "",
            "zerolinecolor": "white"
           }
          },
          "shapedefaults": {
           "line": {
            "color": "#2a3f5f"
           }
          },
          "ternary": {
           "aaxis": {
            "gridcolor": "white",
            "linecolor": "white",
            "ticks": ""
           },
           "baxis": {
            "gridcolor": "white",
            "linecolor": "white",
            "ticks": ""
           },
           "bgcolor": "#E5ECF6",
           "caxis": {
            "gridcolor": "white",
            "linecolor": "white",
            "ticks": ""
           }
          },
          "title": {
           "x": 0.05
          },
          "xaxis": {
           "automargin": true,
           "gridcolor": "white",
           "linecolor": "white",
           "ticks": "",
           "title": {
            "standoff": 15
           },
           "zerolinecolor": "white",
           "zerolinewidth": 2
          },
          "yaxis": {
           "automargin": true,
           "gridcolor": "white",
           "linecolor": "white",
           "ticks": "",
           "title": {
            "standoff": 15
           },
           "zerolinecolor": "white",
           "zerolinewidth": 2
          }
         }
        },
        "xaxis": {
         "anchor": "y",
         "domain": [
          0,
          1
         ],
         "title": {
          "text": "Year"
         }
        },
        "yaxis": {
         "anchor": "x",
         "domain": [
          0,
          1
         ],
         "title": {
          "text": "Energy consumption in GW/H"
         }
        }
       }
      }
     },
     "metadata": {},
     "output_type": "display_data"
    }
   ],
   "source": [
    "dataset_by_sector = nrg_bal.data.groupby(['TIME_PERIOD', 'nrg_bal_label'])['OBS_VALUE'].sum().reset_index()\n",
    "dataset_by_sector.rename(columns={\n",
    "    'OBS_VALUE': 'Energy consumption in GW/H',\n",
    "    'TIME_PERIOD': 'Year',\n",
    "    'nrg_bal_label': 'Consuming sector'\n",
    "    }, inplace=True)\n",
    "fig = px.area(dataset_by_sector, x='Year', y='Energy consumption in GW/H', color='Consuming sector')\n",
    "fig.show()"
   ]
  },
  {
   "cell_type": "markdown",
   "metadata": {},
   "source": [
    "The visualization reveals:\n",
    "\n",
    "- Transport sector (pink at the top) is the largest consumer of energy throughout the period, representing roughly 30-35% of total consumption\n",
    "- Households (peach/tan in the middle) form the second largest consuming sector\n",
    "- Commercial and public services (green) and industry (blue at bottom) also constitute significant portions of energy consumption\n",
    "- Most sectors show relatively stable consumption patterns until around 2010, after which there's a slight downward trend visible across sectors\n",
    "- Agriculture and forestry, fishing, and \"not elsewhere specified\" sectors represent smaller proportions of energy consumption"
   ]
  },
  {
   "cell_type": "markdown",
   "metadata": {},
   "source": [
    "We are then calculating and displaying the per capita energy comsumption (in KW/H) per European Union country "
   ]
  },
  {
   "cell_type": "code",
   "execution_count": 7,
   "metadata": {},
   "outputs": [
    {
     "data": {
      "application/vnd.plotly.v1+json": {
       "config": {
        "plotlyServerURL": "https://plot.ly"
       },
       "data": [
        {
         "hovertemplate": "geo=AT<br>TIME_PERIOD=%{x}<br>energy_consumption_PC_kwh=%{y}<extra></extra>",
         "legendgroup": "AT",
         "line": {
          "color": "#636efa",
          "dash": "solid"
         },
         "marker": {
          "symbol": "circle"
         },
         "mode": "lines",
         "name": "AT",
         "orientation": "v",
         "showlegend": true,
         "type": "scatter",
         "x": {
          "bdata": "0AfRB9IH0wfUB9UH1gfXB9gH2QfaB9sH3AfdB94H3wfgB+EH4gfjB+QH5QfmB+cH",
          "dtype": "i2"
         },
         "xaxis": "x",
         "y": {
          "bdata": "HSHl8PDh3kAntRUWt1rgQA04zoQwcOBAzBbO4dxL4UCBbyG4D2PhQJmAF4ujsuFA5XlH6ESt4UAdWWMIUVHhQLabW+lWS+FA58UwHXzI4EC1bFWV5ZnhQC60XmaD8uBAtrAG3Lfu4EA7IDjVxTjhQH8P2Tz3YOBAxHP4vpWg4EAt3x5n8OTgQJi/AMAtD+FAzVxTLaOx4ED3OPInmbrgQG/TjjXpn99A+IGxuge04EBxi9Mk0yzfQB4ESX1VmN1A",
          "dtype": "f8"
         },
         "yaxis": "y"
        },
        {
         "hovertemplate": "geo=BE<br>TIME_PERIOD=%{x}<br>energy_consumption_PC_kwh=%{y}<extra></extra>",
         "legendgroup": "BE",
         "line": {
          "color": "#EF553B",
          "dash": "solid"
         },
         "marker": {
          "symbol": "circle"
         },
         "mode": "lines",
         "name": "BE",
         "orientation": "v",
         "showlegend": true,
         "type": "scatter",
         "x": {
          "bdata": "0AfRB9IH0wfUB9UH1gfXB9gH2QfaB9sH3AfdB94H3wfgB+EH4gfjB+QH5QfmB+cH",
          "dtype": "i2"
         },
         "xaxis": "x",
         "y": {
          "bdata": "Q56Mb0uc4kBwH4PbkXDjQLftGHZibuJA0Y8qB28B40BT5r20aMfiQILaf8vMeeJAwyT7g20Y4kA2ApD0NFDhQNlO6Y645OFAToyfAzQ+4UCCvPM7LEfiQMXkJC7OseBAi63s3ZrQ4EBri9xYPkbhQC2u5A1l499Alfmj18Ch4EASeK2S37PgQA9IJdunZ+BAkPTh5JRt4EAKhrib/fjfQNb6fIppWd5AjwaJNksm4EB1LNfAiWHdQE7pFhhqrNxA",
          "dtype": "f8"
         },
         "yaxis": "y"
        },
        {
         "hovertemplate": "geo=BG<br>TIME_PERIOD=%{x}<br>energy_consumption_PC_kwh=%{y}<extra></extra>",
         "legendgroup": "BG",
         "line": {
          "color": "#00cc96",
          "dash": "solid"
         },
         "marker": {
          "symbol": "circle"
         },
         "mode": "lines",
         "name": "BG",
         "orientation": "v",
         "showlegend": true,
         "type": "scatter",
         "x": {
          "bdata": "0AfRB9IH0wfUB9UH1gfXB9gH2QfaB9sH3AfdB94H3wfgB+EH4gfjB+QH5QfmB+cH",
          "dtype": "i2"
         },
         "xaxis": "x",
         "y": {
          "bdata": "qEvVmbT0x0AZisEiS9LIQELaGkXX+shAb/NlWE/TykBiA/gqLQzLQIJdGaF4lsxAHgtsGvDazUAGp70Uaq/NQG3we5fLRM1Anmj6ndLtyUD7iBrNbtDKQL8frIjTScxAjWwCGqC1zEBrbXODOrTLQOjCGQzUssxAj2N2Qwq8zkDZCW2RZ5DPQEVG6WhZYdBAu3doZyeh0EDs9J79zc3QQAVmWqhghNBAZ1RViIPP0UA3Flc801zRQMInn/psxtBA",
          "dtype": "f8"
         },
         "yaxis": "y"
        },
        {
         "hovertemplate": "geo=CY<br>TIME_PERIOD=%{x}<br>energy_consumption_PC_kwh=%{y}<extra></extra>",
         "legendgroup": "CY",
         "line": {
          "color": "#ab63fa",
          "dash": "solid"
         },
         "marker": {
          "symbol": "circle"
         },
         "mode": "lines",
         "name": "CY",
         "orientation": "v",
         "showlegend": true,
         "type": "scatter",
         "x": {
          "bdata": "0AfRB9IH0wfUB9UH1gfXB9gH2QfaB9sH3AfdB94H3wfgB+EH4gfjB+QH5QfmB+cH",
          "dtype": "i2"
         },
         "xaxis": "x",
         "y": {
          "bdata": "Ka5Km5FD1kDdG67ekS/WQK0o38osWdZAqJebtsBK10ANRaXlwJvXQBi6fAo1UddAUxoTMyM310DuzK9sCsnXQCqbFaID3NdAJ8GSPakK10CXDDXARULWQGGmLsWeRNVA/zmgkp2U00CZANv11CrSQCngq3H7d9JAw/ZnPk4Q00C8To9vG87TQLgeqNrGY9RAUnSIjPOA1EDeU/lU+c3UQGd9OPSTV9NARsq31bDl00A+6GnX9kLTQMw+ddM7B9NA",
          "dtype": "f8"
         },
         "yaxis": "y"
        },
        {
         "hovertemplate": "geo=CZ<br>TIME_PERIOD=%{x}<br>energy_consumption_PC_kwh=%{y}<extra></extra>",
         "legendgroup": "CZ",
         "line": {
          "color": "#FFA15A",
          "dash": "solid"
         },
         "marker": {
          "symbol": "circle"
         },
         "mode": "lines",
         "name": "CZ",
         "orientation": "v",
         "showlegend": true,
         "type": "scatter",
         "x": {
          "bdata": "0AfRB9IH0wfUB9UH1gfXB9gH2QfaB9sH3AfdB94H3wfgB+EH4gfjB+QH5QfmB+cH",
          "dtype": "i2"
         },
         "xaxis": "x",
         "y": {
          "bdata": "O/hUvDeh2kCP+fIDa0TbQMEUgZjvnNpAXJpc1nPJ20CQGo8OVPXbQAMeXmQ9pttAm6hn9D/c20AfIMbipgbbQHSKlxG1y9pA59HPvOrU2UBMC0QKth/aQEpQwxvLOtlA9Eu+Vz0x2UBUvT0an/3YQIbucLq3MNhA/IJ0iOTb2EBxtNwVYXDZQJD/hU7VKtpAsBpQ6l7M2UBIlFZ/DLvZQHJT6Gfit9lANGOePLZR20DWl6D1MFPZQDqf4aKTrddA",
          "dtype": "f8"
         },
         "yaxis": "y"
        },
        {
         "hovertemplate": "geo=DE<br>TIME_PERIOD=%{x}<br>energy_consumption_PC_kwh=%{y}<extra></extra>",
         "legendgroup": "DE",
         "line": {
          "color": "#19d3f3",
          "dash": "solid"
         },
         "marker": {
          "symbol": "circle"
         },
         "mode": "lines",
         "name": "DE",
         "orientation": "v",
         "showlegend": true,
         "type": "scatter",
         "x": {
          "bdata": "0AfRB9IH0wfUB9UH1gfXB9gH2QfaB9sH3AfdB94H3wfgB+EH4gfjB+QH5QfmB+cH",
          "dtype": "i2"
         },
         "xaxis": "x",
         "y": {
          "bdata": "wrbORYOa3ECIvQHj7xjdQEO27JnNnNxAIgJk5gQy3UCExSP3rP/cQKaUYk/TjtxANNtCgwFb3UDySFrlCZLbQCk8e7iM3NxADb3/flJQ20DC8AjuRbjdQDr1u9B4LdxAPHiMA5yV3EDt0GdWvEHdQH0xPyFTlttAG6XW6Wil20AF68a01QfcQHNf0esODtxAGNnz52B020B6g+2WGWzbQMcf3L7Yh9pAznuuMCn12kAv4hBEr+vZQCtYv+IjddhA",
          "dtype": "f8"
         },
         "yaxis": "y"
        },
        {
         "hovertemplate": "geo=DK<br>TIME_PERIOD=%{x}<br>energy_consumption_PC_kwh=%{y}<extra></extra>",
         "legendgroup": "DK",
         "line": {
          "color": "#FF6692",
          "dash": "solid"
         },
         "marker": {
          "symbol": "circle"
         },
         "mode": "lines",
         "name": "DK",
         "orientation": "v",
         "showlegend": true,
         "type": "scatter",
         "x": {
          "bdata": "0AfRB9IH0wfUB9UH1gfXB9gH2QfaB9sH3AfdB94H3wfgB+EH4gfjB+QH5QfmB+cH",
          "dtype": "i2"
         },
         "xaxis": "x",
         "y": {
          "bdata": "4pMpcwbD3UAqfGHXNn3eQLizdImc7t1Az5m8MqiA3kDTDR7+vrLeQL1s6Hjy0N5A2tbUAVYQ30DPP7ejOvzeQH/GJkMjaN5Aqx8UzuMG3UD++aA9nVTeQMqzlUS4utxA8VPwAuGX20CUL1rS1yrbQLI8AY5489lAwCpm8kXK2kAKevUXWDHbQLiooQfiJNtAqHTUwHn62kB4Gd6CaWjaQKsW4leGatlAO5J7szam2kAdzCLk5O7YQFhiiXcGxNhA",
          "dtype": "f8"
         },
         "yaxis": "y"
        },
        {
         "hovertemplate": "geo=EE<br>TIME_PERIOD=%{x}<br>energy_consumption_PC_kwh=%{y}<extra></extra>",
         "legendgroup": "EE",
         "line": {
          "color": "#B6E880",
          "dash": "solid"
         },
         "marker": {
          "symbol": "circle"
         },
         "mode": "lines",
         "name": "EE",
         "orientation": "v",
         "showlegend": true,
         "type": "scatter",
         "x": {
          "bdata": "0AfRB9IH0wfUB9UH1gfXB9gH2QfaB9sH3AfdB94H3wfgB+EH4gfjB+QH5QfmB+cH",
          "dtype": "i2"
         },
         "xaxis": "x",
         "y": {
          "bdata": "jlISIhOk00BK7Z2VOrzVQH1gx/5vftVAIZ8zAjmL1kCYHtBilirXQObHL80SoddA+CDsFeHt10CCucVcGqjZQL6oIwMPbNlAevjtTWU110B3f4a1PpbYQNc/EIv41tdAqrbCPpJS2ED8goXjGoTYQH1nQdnD9tdARZsjZbm810Ar9Ji8eCDYQMO/6V/RK9hA2IhvRFTC2EARkMjWyCbYQDv8jE/gRddAwf73PjjK10C+u36WhZ/WQBoXYgzAMdVA",
          "dtype": "f8"
         },
         "yaxis": "y"
        },
        {
         "hovertemplate": "geo=EL<br>TIME_PERIOD=%{x}<br>energy_consumption_PC_kwh=%{y}<extra></extra>",
         "legendgroup": "EL",
         "line": {
          "color": "#FF97FF",
          "dash": "solid"
         },
         "marker": {
          "symbol": "circle"
         },
         "mode": "lines",
         "name": "EL",
         "orientation": "v",
         "showlegend": true,
         "type": "scatter",
         "x": {
          "bdata": "0AfRB9IH0wfUB9UH1gfXB9gH2QfaB9sH3AfdB94H3wfgB+EH4gfjB+QH5QfmB+cH",
          "dtype": "i2"
         },
         "xaxis": "x",
         "y": {
          "bdata": "9BpnS7LG0kBdMuj7MWHTQN98sxWjs9NAQRlF1ei21ECD+lN3KWfUQMP/Vo2O39RAbX5X/CRG1UBQ/LAO4q/VQN2/3o8b59RABWbWDJ8n1EAOZQDcp8LSQIUBKT9AodJAMb600i7u0EAb9G1hKH7OQNZ5ZJBT+M5AEXK91BKU0ECJpU7bebzQQGL+jzganNBASBwc5/sI0EDxK48K2k3QQMuyi7S3x85AbNhJaxAx0EADnIYqd8vQQJiGxf9TXtBA",
          "dtype": "f8"
         },
         "yaxis": "y"
        },
        {
         "hovertemplate": "geo=ES<br>TIME_PERIOD=%{x}<br>energy_consumption_PC_kwh=%{y}<extra></extra>",
         "legendgroup": "ES",
         "line": {
          "color": "#FECB52",
          "dash": "solid"
         },
         "marker": {
          "symbol": "circle"
         },
         "mode": "lines",
         "name": "ES",
         "orientation": "v",
         "showlegend": true,
         "type": "scatter",
         "x": {
          "bdata": "0AfRB9IH0wfUB9UH1gfXB9gH2QfaB9sH3AfdB94H3wfgB+EH4gfjB+QH5QfmB+cH",
          "dtype": "i2"
         },
         "xaxis": "x",
         "y": {
          "bdata": "jvT6FftR1UAb6K6aYSrWQFUnrhkfIdZABOsVvBYf10BNXr/v17/XQOSw2f8JL9hAB3uGNeIv10CphsnN4FfXQKZ4c6CPONZAJdGAw0OS1EB7uXwp387UQKplDbSb/NNAUoD9uh0100AiqWcZ9JPSQFvK9NsCYtJAHOXREELC0kDmbTJa2STTQBmOlMaulNNANR9eU3zq00Aeh0V3HrvTQFjmOafyhNFAQdt1kA/z0kDh7XxXG5PSQEaSW4RpI9JA",
          "dtype": "f8"
         },
         "yaxis": "y"
        },
        {
         "hovertemplate": "geo=FI<br>TIME_PERIOD=%{x}<br>energy_consumption_PC_kwh=%{y}<extra></extra>",
         "legendgroup": "FI",
         "line": {
          "color": "#636efa",
          "dash": "solid"
         },
         "marker": {
          "symbol": "circle"
         },
         "mode": "lines",
         "name": "FI",
         "orientation": "v",
         "showlegend": true,
         "type": "scatter",
         "x": {
          "bdata": "0AfRB9IH0wfUB9UH1gfXB9gH2QfaB9sH3AfdB94H3wfgB+EH4gfjB+QH5QfmB+cH",
          "dtype": "i2"
         },
         "xaxis": "x",
         "y": {
          "bdata": "B0CPAJmE6UD780BTSwHqQIfiy5HboOpAbSFNt3Xl6kDjTkzibwnrQHhKHjFX8ulALUyLn8wn60CdXfWFpRTrQDRgwJd47ulAjuRZkEYv6EDoVe3EAHXqQEOyU+wL8uhA3Oxa7pAQ6UA/+QIcgIvoQLiT2zl7TehAGIWPGJHa50C9yS1D/8voQI3S16xLa+lArVMlrbHA6UAaNxrcn4TpQGIs1MzX2udAzZVM2Hxj6UAkXu/oWaLnQCHe6tAswOZA",
          "dtype": "f8"
         },
         "yaxis": "y"
        },
        {
         "hovertemplate": "geo=FR<br>TIME_PERIOD=%{x}<br>energy_consumption_PC_kwh=%{y}<extra></extra>",
         "legendgroup": "FR",
         "line": {
          "color": "#EF553B",
          "dash": "solid"
         },
         "marker": {
          "symbol": "circle"
         },
         "mode": "lines",
         "name": "FR",
         "orientation": "v",
         "showlegend": true,
         "type": "scatter",
         "x": {
          "bdata": "0AfRB9IH0wfUB9UH1gfXB9gH2QfaB9sH3AfdB94H3wfgB+EH4gfjB+QH5QfmB+cH",
          "dtype": "i2"
         },
         "xaxis": "x",
         "y": {
          "bdata": "3GueVpkH20AK67+5g97bQPi0rJcrEttAvzellNJM20AoJ6tej2nbQOMU2znZE9tAlIsi1jtr2kC8p1q0cpbZQDyXE1E/49lAgRY5kb782EC73fqUZJDZQH+PUTdGtdhAiuMcGFNu2UBRKGzs+rfZQAKEq6JxoddA7HUC5Icg2EBgqDq/TYfYQAmwDoJcRthAkhU0qgXh10Bqmi5QXZPXQLfzr417hdVAUyjt96Ri10BYlWLQ7kzWQKBmxEZLVNVA",
          "dtype": "f8"
         },
         "yaxis": "y"
        },
        {
         "hovertemplate": "geo=HR<br>TIME_PERIOD=%{x}<br>energy_consumption_PC_kwh=%{y}<extra></extra>",
         "legendgroup": "HR",
         "line": {
          "color": "#00cc96",
          "dash": "solid"
         },
         "marker": {
          "symbol": "circle"
         },
         "mode": "lines",
         "name": "HR",
         "orientation": "v",
         "showlegend": true,
         "type": "scatter",
         "x": {
          "bdata": "0AfRB9IH0wfUB9UH1gfXB9gH2QfaB9sH3AfdB94H3wfgB+EH4gfjB+QH5QfmB+cH",
          "dtype": "i2"
         },
         "xaxis": "x",
         "y": {
          "bdata": "22CO/nZRz0CQ40irwnLQQMe/22+bqNBAhSwnqQvV0UDaWESnoT7SQAgXTKFt3tJAKu+ZmZLk0kAy6jSttPjSQCXylV7NQ9NAheiBSuG90kBQg9PIUODSQBU/0ScRQ9JAJxlELTKJ0UBoXsQ0uWrRQDuIrYdSp9BAnfhXgSjU0UDUKDv2DDHSQLS6u5ENONNAEVOMpvQf00DTKsGtM2zTQNjCf1AQxNJA9uZBffFA1EB+vB1fG9HTQDzefSYmXdRA",
          "dtype": "f8"
         },
         "yaxis": "y"
        },
        {
         "hovertemplate": "geo=HU<br>TIME_PERIOD=%{x}<br>energy_consumption_PC_kwh=%{y}<extra></extra>",
         "legendgroup": "HU",
         "line": {
          "color": "#ab63fa",
          "dash": "solid"
         },
         "marker": {
          "symbol": "circle"
         },
         "mode": "lines",
         "name": "HU",
         "orientation": "v",
         "showlegend": true,
         "type": "scatter",
         "x": {
          "bdata": "0AfRB9IH0wfUB9UH1gfXB9gH2QfaB9sH3AfdB94H3wfgB+EH4gfjB+QH5QfmB+cH",
          "dtype": "i2"
         },
         "xaxis": "x",
         "y": {
          "bdata": "oMUbkmho0UBO+DZrW2DSQPFhG6qMf9JAftY/0fle00CJcN7VByvTQJeOh+Y/edRACBP0H2Mt1EAJSMHUNhfTQF03O6xRGdNAcQDjZ4zI0kA3nIP+wzLTQPCdTHF7WNNAhbOkc0he0kDXICRmIr7SQEmtTmbVQNJANBjT8naL00D8fRNcqiTUQJ2cmSA35tRALBvgYxDm1ECxAokq6g/VQFeJzSX1t9RA0cqOgME11kCeP/un/DrVQNasdNORmNNA",
          "dtype": "f8"
         },
         "yaxis": "y"
        },
        {
         "hovertemplate": "geo=IE<br>TIME_PERIOD=%{x}<br>energy_consumption_PC_kwh=%{y}<extra></extra>",
         "legendgroup": "IE",
         "line": {
          "color": "#FFA15A",
          "dash": "solid"
         },
         "marker": {
          "symbol": "circle"
         },
         "mode": "lines",
         "name": "IE",
         "orientation": "v",
         "showlegend": true,
         "type": "scatter",
         "x": {
          "bdata": "0AfRB9IH0wfUB9UH1gfXB9gH2QfaB9sH3AfdB94H3wfgB+EH4gfjB+QH5QfmB+cH",
          "dtype": "i2"
         },
         "xaxis": "x",
         "y": {
          "bdata": "q/yhdoM33kAkNnnECa/eQAQQ4MRdLd5AhGrjdgms3kBrvdwJGPHeQAn0Nmg53N9AA5rrMtUb4EDLocrkBCHfQGWOJYD+4d5AyiWlkhkM3ECHRbH/cszbQI3JekwbpNlALeDL900P2UDvuchA0RbZQEHUHylzu9hAao8YfOVB2UDW4kSRv9XZQAw6ESD5adlAzrF/vb0K2kCgOOgne57ZQHM3tJbgS9hAxCTzjART2ECQLFfXsK3XQENBzdlFPddA",
          "dtype": "f8"
         },
         "yaxis": "y"
        },
        {
         "hovertemplate": "geo=IT<br>TIME_PERIOD=%{x}<br>energy_consumption_PC_kwh=%{y}<extra></extra>",
         "legendgroup": "IT",
         "line": {
          "color": "#19d3f3",
          "dash": "solid"
         },
         "marker": {
          "symbol": "circle"
         },
         "mode": "lines",
         "name": "IT",
         "orientation": "v",
         "showlegend": true,
         "type": "scatter",
         "x": {
          "bdata": "0AfRB9IH0wfUB9UH1gfXB9gH2QfaB9sH3AfdB94H3wfgB+EH4gfjB+QH5QfmB+cH",
          "dtype": "i2"
         },
         "xaxis": "x",
         "y": {
          "bdata": "HHQY8h3g10C7VY8Y2RzYQHwPODflLNhAJVCbN2M02UC0htEjFRLZQIwhruXFn9lAmL1hYuQw2UDArhR6rdbYQAdENbHaq9hA9Knhnhky10CYXWGVDVDXQHt/aQXDNNZAWaohm0X21UCdEK11K3fVQM0d937CgNRAjwc338op1UBJVNyPvhfVQB+XD0kgh9VA3tRqLJ2z1UBWxDwaiIrVQE4xyZhewtNAIMtQXLUS1kCCLWEQWVPVQEVUcC5PytRA",
          "dtype": "f8"
         },
         "yaxis": "y"
        },
        {
         "hovertemplate": "geo=LT<br>TIME_PERIOD=%{x}<br>energy_consumption_PC_kwh=%{y}<extra></extra>",
         "legendgroup": "LT",
         "line": {
          "color": "#FF6692",
          "dash": "solid"
         },
         "marker": {
          "symbol": "circle"
         },
         "mode": "lines",
         "name": "LT",
         "orientation": "v",
         "showlegend": true,
         "type": "scatter",
         "x": {
          "bdata": "0AfRB9IH0wfUB9UH1gfXB9gH2QfaB9sH3AfdB94H3wfgB+EH4gfjB+QH5QfmB+cH",
          "dtype": "i2"
         },
         "xaxis": "x",
         "y": {
          "bdata": "eWUVNVhgyEDyF3YWbI/JQO0lcXKr28pABHrDpFfuy0DoH2OiAYzNQDHLnnFp6s9AksUm+V8K0UAXAOU8XDHSQKMnemiLB9JAupaxt3Wm0EBrhWUTJrPRQG0wptPm4NFAHbwg8MB50kC6uGjvyCfSQDj9spgiodJAgr/SaDK/0kDZHJ6v89/TQOWQNtTKDdVAE2wQItUT1kAHKxE7hBHWQNdIrIwUWtVAG0KHLi3r1kC3imvtMF/VQME3Sprw89RA",
          "dtype": "f8"
         },
         "yaxis": "y"
        },
        {
         "hovertemplate": "geo=LU<br>TIME_PERIOD=%{x}<br>energy_consumption_PC_kwh=%{y}<extra></extra>",
         "legendgroup": "LU",
         "line": {
          "color": "#B6E880",
          "dash": "solid"
         },
         "marker": {
          "symbol": "circle"
         },
         "mode": "lines",
         "name": "LU",
         "orientation": "v",
         "showlegend": true,
         "type": "scatter",
         "x": {
          "bdata": "0AfRB9IH0wfUB9UH1gfXB9gH2QfaB9sH3AfdB94H3wfgB+EH4gfjB+QH5QfmB+cH",
          "dtype": "i2"
         },
         "xaxis": "x",
         "y": {
          "bdata": "ZjC7OTuZ9EDERjlNWUf1QK07eWcEH/VANIAgQh059kCwg/aGDGH4QD5CEDCTfPhAJMSWBWzi90C1Suqme+72QPkTCaeUsvZAnExsurqx9ED9Vr/XoJv1QG2+3r0rCvVAs+77mjcW9EDN/Tzd+mLzQMvPyn0IJPJAMba3Vslq8UBXQMNu4vzwQIIa7pAtBfFAD7eL4AVK8UAA39wIWzLxQBrrHWapQO1AUUUR/zJD7kBsoLhSoQDqQHV7rrfUquhA",
          "dtype": "f8"
         },
         "yaxis": "y"
        },
        {
         "hovertemplate": "geo=LV<br>TIME_PERIOD=%{x}<br>energy_consumption_PC_kwh=%{y}<extra></extra>",
         "legendgroup": "LV",
         "line": {
          "color": "#FF97FF",
          "dash": "solid"
         },
         "marker": {
          "symbol": "circle"
         },
         "mode": "lines",
         "name": "LV",
         "orientation": "v",
         "showlegend": true,
         "type": "scatter",
         "x": {
          "bdata": "0AfRB9IH0wfUB9UH1gfXB9gH2QfaB9sH3AfdB94H3wfgB+EH4gfjB+QH5QfmB+cH",
          "dtype": "i2"
         },
         "xaxis": "x",
         "y": {
          "bdata": "8tuulz8nz0AcxtVjClrRQItb696qvdFAQO5JDJS+0kD1eBSySXrTQOkfnT1LL9RAcbCEqgo51UCUQiSHgyXWQPyE7VrfTNVA2a4Hi9AW1UArj1+HBenVQC94KHy91dRAn0prOMfu1UDoFFOUxS3VQK7HY5bil9VAPLdohmQ61UAXXFqep4jVQCtENdWswNZApryVVuXO10CrdnddpF3XQC089UwHydZA90ZJgZ0Z2EAtcll0dg3XQBQlfkxR1dZA",
          "dtype": "f8"
         },
         "yaxis": "y"
        },
        {
         "hovertemplate": "geo=MT<br>TIME_PERIOD=%{x}<br>energy_consumption_PC_kwh=%{y}<extra></extra>",
         "legendgroup": "MT",
         "line": {
          "color": "#FECB52",
          "dash": "solid"
         },
         "marker": {
          "symbol": "circle"
         },
         "mode": "lines",
         "name": "MT",
         "orientation": "v",
         "showlegend": true,
         "type": "scatter",
         "x": {
          "bdata": "0AfRB9IH0wfUB9UH1gfXB9gH2QfaB9sH3AfdB94H3wfgB+EH4gfjB+QH5QfmB+cH",
          "dtype": "i2"
         },
         "xaxis": "x",
         "y": {
          "bdata": "bNycwyWIwkD/6vCxvMrBQIoZrvfYd79AUbvIJyb+wUC0huJxI0jDQL7s2nHqFsVAPriti8gbxUAz0t9XF4zFQErnIOjAXcZAE/UGpEDjw0BLXQUo5PfFQLlHAfzxIcVAt7Tu1PzyxUBF0GoVW1fGQBMJuuAQjsZAjCTNblpbx0CL3IZQNK/GQPJhdffWjcdAY7ojyK2zx0DG4ZkoTxDIQIPA/4PPCcZA7OLX3WH7xkBOaETxKNfIQEjCfcmQ5cdA",
          "dtype": "f8"
         },
         "yaxis": "y"
        },
        {
         "hovertemplate": "geo=NL<br>TIME_PERIOD=%{x}<br>energy_consumption_PC_kwh=%{y}<extra></extra>",
         "legendgroup": "NL",
         "line": {
          "color": "#636efa",
          "dash": "solid"
         },
         "marker": {
          "symbol": "circle"
         },
         "mode": "lines",
         "name": "NL",
         "orientation": "v",
         "showlegend": true,
         "type": "scatter",
         "x": {
          "bdata": "0AfRB9IH0wfUB9UH1gfXB9gH2QfaB9sH3AfdB94H3wfgB+EH4gfjB+QH5QfmB+cH",
          "dtype": "i2"
         },
         "xaxis": "x",
         "y": {
          "bdata": "2NfTbJXo4ECLyjCxbxXhQIBtaBpW8+BA4DneFuEk4UAWxn9lE0XhQJ08SXnQCOFA+vFr1Y3x4EC/bGiTvJDgQITPyML6zOBAdprqkyQq4ECrGfnaGk/hQMnw2f8myt9AiCwgIq/U30DVv+D/cKbfQMGZhQEMdtxA7oaJgq8E3UDxK/eDE3zdQGL9a3h2cN1AkPE9JKt63UAwKzKCpcHcQBalSWXDNttAnWQCkz7u20CSuNB8rhrZQFW8X/7nK9hA",
          "dtype": "f8"
         },
         "yaxis": "y"
        },
        {
         "hovertemplate": "geo=PL<br>TIME_PERIOD=%{x}<br>energy_consumption_PC_kwh=%{y}<extra></extra>",
         "legendgroup": "PL",
         "line": {
          "color": "#EF553B",
          "dash": "solid"
         },
         "marker": {
          "symbol": "circle"
         },
         "mode": "lines",
         "name": "PL",
         "orientation": "v",
         "showlegend": true,
         "type": "scatter",
         "x": {
          "bdata": "0AfRB9IH0wfUB9UH1gfXB9gH2QfaB9sH3AfdB94H3wfgB+EH4gfjB+QH5QfmB+cH",
          "dtype": "i2"
         },
         "xaxis": "x",
         "y": {
          "bdata": "bBtpLdDNz0Ck9lk/yhXQQPtJAJ1B8s9AcFQ0c/hw0EDkya6XQuPQQB4+jcMsHNFAbmOl85LY0UBqrYi7EOfRQLBs/iCZMNJAV+RR9ksZ0kBf68RD4HjTQNqOUN/Z+tJA4GvJeiDg0kCAsd0NtY3SQNlCKDyp/dFAijhH/MA00kACSoU8UnvTQMqTsb/fs9RAZtvDpErZ1UDiRD3L4H/VQKdIc+7Ef9VA1iADv6vT1kDvwMm5seTVQHb5T5hZZ9VA",
          "dtype": "f8"
         },
         "yaxis": "y"
        },
        {
         "hovertemplate": "geo=PT<br>TIME_PERIOD=%{x}<br>energy_consumption_PC_kwh=%{y}<extra></extra>",
         "legendgroup": "PT",
         "line": {
          "color": "#00cc96",
          "dash": "solid"
         },
         "marker": {
          "symbol": "circle"
         },
         "mode": "lines",
         "name": "PT",
         "orientation": "v",
         "showlegend": true,
         "type": "scatter",
         "x": {
          "bdata": "0AfRB9IH0wfUB9UH1gfXB9gH2QfaB9sH3AfdB94H3wfgB+EH4gfjB+QH5QfmB+cH",
          "dtype": "i2"
         },
         "xaxis": "x",
         "y": {
          "bdata": "BoQ0JZ/s0kBV6vbRFCrTQO5ZN/PRoNNAhtH4o9l500Bjn0PfbrTTQF/bizfDudNApc7/zKtZ00AihfJC7H7TQEFKEiyl5NJAH6tSKrm10kBWiPs3Io3SQACApIc+r9FAhyqa5utW0EAgqm5eSDbQQLLan8aMz9BA5eI0l7MI0UD08x7PGyzRQIZ0gpvweNFA9AVgtM7A0UCGwA3nFufRQLqgOUGbj9BApSXd92kw0UD7Ab7ysHbRQBMeib8flNFA",
          "dtype": "f8"
         },
         "yaxis": "y"
        },
        {
         "hovertemplate": "geo=RO<br>TIME_PERIOD=%{x}<br>energy_consumption_PC_kwh=%{y}<extra></extra>",
         "legendgroup": "RO",
         "line": {
          "color": "#ab63fa",
          "dash": "solid"
         },
         "marker": {
          "symbol": "circle"
         },
         "mode": "lines",
         "name": "RO",
         "orientation": "v",
         "showlegend": true,
         "type": "scatter",
         "x": {
          "bdata": "0AfRB9IH0wfUB9UH1gfXB9gH2QfaB9sH3AfdB94H3wfgB+EH4gfjB+QH5QfmB+cH",
          "dtype": "i2"
         },
         "xaxis": "x",
         "y": {
          "bdata": "ZIIL44o5xkAkxKEznDTHQJlJFbydTcdAXY1IHpF3yECOf3qpUT3JQM7r4Y5TNMlAmqBa6nWSyUDVOAkQHYHJQK4rT0Nym8pArEkeglVfyEDfXhrvn8jIQMOuXbrXiMlA8nH3UtWsyUASeV2m66HIQHUn04Mli8hA/3lIPlzUyEDvlK5MRV3JQBPfc8kNucpAUhFnWyluy0BISz5D2t3LQH08ulFWxMtAyYNzSK8nzkB8b5Ozz4TMQGfljUWmw8tA",
          "dtype": "f8"
         },
         "yaxis": "y"
        },
        {
         "hovertemplate": "geo=SE<br>TIME_PERIOD=%{x}<br>energy_consumption_PC_kwh=%{y}<extra></extra>",
         "legendgroup": "SE",
         "line": {
          "color": "#FFA15A",
          "dash": "solid"
         },
         "marker": {
          "symbol": "circle"
         },
         "mode": "lines",
         "name": "SE",
         "orientation": "v",
         "showlegend": true,
         "type": "scatter",
         "x": {
          "bdata": "0AfRB9IH0wfUB9UH1gfXB9gH2QfaB9sH3AfdB94H3wfgB+EH4gfjB+QH5QfmB+cH",
          "dtype": "i2"
         },
         "xaxis": "x",
         "y": {
          "bdata": "K8kTY+CF5UDAI06w1AvlQDS20UHJ1+RAGBMdk5ac5EB7yMKBnmHkQP5bu2sh5+NAEFUAUynD40BWbfnQ7qnjQAk5Kpf6FONAxrnG0Cpl4kBOmrdZaJXjQJOXL/WbM+NAYZJGoZkz40A4VZdKyqXiQEeqk4jRBOJAnIo3Fy8q4kAqtWWKvDPiQAiYDrAo3+FAKtltaNic4UB8aa60fTbhQLnqVMCg+OBAf5zkc2V44UCq/gsKncbgQBdJAJh6yeBA",
          "dtype": "f8"
         },
         "yaxis": "y"
        },
        {
         "hovertemplate": "geo=SI<br>TIME_PERIOD=%{x}<br>energy_consumption_PC_kwh=%{y}<extra></extra>",
         "legendgroup": "SI",
         "line": {
          "color": "#19d3f3",
          "dash": "solid"
         },
         "marker": {
          "symbol": "circle"
         },
         "mode": "lines",
         "name": "SI",
         "orientation": "v",
         "showlegend": true,
         "type": "scatter",
         "x": {
          "bdata": "0AfRB9IH0wfUB9UH1gfXB9gH2QfaB9sH3AfdB94H3wfgB+EH4gfjB+QH5QfmB+cH",
          "dtype": "i2"
         },
         "xaxis": "x",
         "y": {
          "bdata": "nkZyC4Ps2UCmD3+GHTzbQAeRNAjPndpA/kPuzu2C20DM2CGbSw3cQMGEk3yD+dxAHa4aEFXO3EAED7luyOfcQAjCR/iGlN5ArlBWQgDe2kCOXuzQl/XbQLFSt9Yi0NtAzXUXc/oP20C5GkNDVXbaQD2+E944XtlAJ+9PLH362UD72h7oFvXaQDhdcPf3VNtAV1wWgJ8f20AOm8gKt3TaQLg3fUEI89dAVAHTSZ+42UDj8szewI7ZQMPGKpLPN9hA",
          "dtype": "f8"
         },
         "yaxis": "y"
        },
        {
         "hovertemplate": "geo=SK<br>TIME_PERIOD=%{x}<br>energy_consumption_PC_kwh=%{y}<extra></extra>",
         "legendgroup": "SK",
         "line": {
          "color": "#FF6692",
          "dash": "solid"
         },
         "marker": {
          "symbol": "circle"
         },
         "mode": "lines",
         "name": "SK",
         "orientation": "v",
         "showlegend": true,
         "type": "scatter",
         "x": {
          "bdata": "0AfRB9IH0wfUB9UH1gfXB9gH2QfaB9sH3AfdB94H3wfgB+EH4gfjB+QH5QfmB+cH",
          "dtype": "i2"
         },
         "xaxis": "x",
         "y": {
          "bdata": "R+kOkiv11EBY0gXiMx3WQAvIWDVQQ9ZARbqFkc0n1UA/PDv9nOLUQBjiGicO/dVAFvsGlh5f1UAFMoP3+ILVQNgni0yPONZAxUl+xJJX1EB33rKeSlrXQNVg+KFh3NVA+iZ9wQ3i1ECXc3KqUTLVQG+A4c6uF9NAbPzJr9vv00DcYtu9T6fUQEass9FG/dVAsEA6c9Sr1UAKpZDKl1DVQHuqNWw4/tNAUTtjINL11UCp8wlsy8LUQEjn8FQsO9NA",
          "dtype": "f8"
         },
         "yaxis": "y"
        }
       ],
       "layout": {
        "legend": {
         "title": {
          "text": "geo"
         },
         "tracegroupgap": 0
        },
        "margin": {
         "t": 60
        },
        "template": {
         "data": {
          "bar": [
           {
            "error_x": {
             "color": "#2a3f5f"
            },
            "error_y": {
             "color": "#2a3f5f"
            },
            "marker": {
             "line": {
              "color": "#E5ECF6",
              "width": 0.5
             },
             "pattern": {
              "fillmode": "overlay",
              "size": 10,
              "solidity": 0.2
             }
            },
            "type": "bar"
           }
          ],
          "barpolar": [
           {
            "marker": {
             "line": {
              "color": "#E5ECF6",
              "width": 0.5
             },
             "pattern": {
              "fillmode": "overlay",
              "size": 10,
              "solidity": 0.2
             }
            },
            "type": "barpolar"
           }
          ],
          "carpet": [
           {
            "aaxis": {
             "endlinecolor": "#2a3f5f",
             "gridcolor": "white",
             "linecolor": "white",
             "minorgridcolor": "white",
             "startlinecolor": "#2a3f5f"
            },
            "baxis": {
             "endlinecolor": "#2a3f5f",
             "gridcolor": "white",
             "linecolor": "white",
             "minorgridcolor": "white",
             "startlinecolor": "#2a3f5f"
            },
            "type": "carpet"
           }
          ],
          "choropleth": [
           {
            "colorbar": {
             "outlinewidth": 0,
             "ticks": ""
            },
            "type": "choropleth"
           }
          ],
          "contour": [
           {
            "colorbar": {
             "outlinewidth": 0,
             "ticks": ""
            },
            "colorscale": [
             [
              0,
              "#0d0887"
             ],
             [
              0.1111111111111111,
              "#46039f"
             ],
             [
              0.2222222222222222,
              "#7201a8"
             ],
             [
              0.3333333333333333,
              "#9c179e"
             ],
             [
              0.4444444444444444,
              "#bd3786"
             ],
             [
              0.5555555555555556,
              "#d8576b"
             ],
             [
              0.6666666666666666,
              "#ed7953"
             ],
             [
              0.7777777777777778,
              "#fb9f3a"
             ],
             [
              0.8888888888888888,
              "#fdca26"
             ],
             [
              1,
              "#f0f921"
             ]
            ],
            "type": "contour"
           }
          ],
          "contourcarpet": [
           {
            "colorbar": {
             "outlinewidth": 0,
             "ticks": ""
            },
            "type": "contourcarpet"
           }
          ],
          "heatmap": [
           {
            "colorbar": {
             "outlinewidth": 0,
             "ticks": ""
            },
            "colorscale": [
             [
              0,
              "#0d0887"
             ],
             [
              0.1111111111111111,
              "#46039f"
             ],
             [
              0.2222222222222222,
              "#7201a8"
             ],
             [
              0.3333333333333333,
              "#9c179e"
             ],
             [
              0.4444444444444444,
              "#bd3786"
             ],
             [
              0.5555555555555556,
              "#d8576b"
             ],
             [
              0.6666666666666666,
              "#ed7953"
             ],
             [
              0.7777777777777778,
              "#fb9f3a"
             ],
             [
              0.8888888888888888,
              "#fdca26"
             ],
             [
              1,
              "#f0f921"
             ]
            ],
            "type": "heatmap"
           }
          ],
          "histogram": [
           {
            "marker": {
             "pattern": {
              "fillmode": "overlay",
              "size": 10,
              "solidity": 0.2
             }
            },
            "type": "histogram"
           }
          ],
          "histogram2d": [
           {
            "colorbar": {
             "outlinewidth": 0,
             "ticks": ""
            },
            "colorscale": [
             [
              0,
              "#0d0887"
             ],
             [
              0.1111111111111111,
              "#46039f"
             ],
             [
              0.2222222222222222,
              "#7201a8"
             ],
             [
              0.3333333333333333,
              "#9c179e"
             ],
             [
              0.4444444444444444,
              "#bd3786"
             ],
             [
              0.5555555555555556,
              "#d8576b"
             ],
             [
              0.6666666666666666,
              "#ed7953"
             ],
             [
              0.7777777777777778,
              "#fb9f3a"
             ],
             [
              0.8888888888888888,
              "#fdca26"
             ],
             [
              1,
              "#f0f921"
             ]
            ],
            "type": "histogram2d"
           }
          ],
          "histogram2dcontour": [
           {
            "colorbar": {
             "outlinewidth": 0,
             "ticks": ""
            },
            "colorscale": [
             [
              0,
              "#0d0887"
             ],
             [
              0.1111111111111111,
              "#46039f"
             ],
             [
              0.2222222222222222,
              "#7201a8"
             ],
             [
              0.3333333333333333,
              "#9c179e"
             ],
             [
              0.4444444444444444,
              "#bd3786"
             ],
             [
              0.5555555555555556,
              "#d8576b"
             ],
             [
              0.6666666666666666,
              "#ed7953"
             ],
             [
              0.7777777777777778,
              "#fb9f3a"
             ],
             [
              0.8888888888888888,
              "#fdca26"
             ],
             [
              1,
              "#f0f921"
             ]
            ],
            "type": "histogram2dcontour"
           }
          ],
          "mesh3d": [
           {
            "colorbar": {
             "outlinewidth": 0,
             "ticks": ""
            },
            "type": "mesh3d"
           }
          ],
          "parcoords": [
           {
            "line": {
             "colorbar": {
              "outlinewidth": 0,
              "ticks": ""
             }
            },
            "type": "parcoords"
           }
          ],
          "pie": [
           {
            "automargin": true,
            "type": "pie"
           }
          ],
          "scatter": [
           {
            "fillpattern": {
             "fillmode": "overlay",
             "size": 10,
             "solidity": 0.2
            },
            "type": "scatter"
           }
          ],
          "scatter3d": [
           {
            "line": {
             "colorbar": {
              "outlinewidth": 0,
              "ticks": ""
             }
            },
            "marker": {
             "colorbar": {
              "outlinewidth": 0,
              "ticks": ""
             }
            },
            "type": "scatter3d"
           }
          ],
          "scattercarpet": [
           {
            "marker": {
             "colorbar": {
              "outlinewidth": 0,
              "ticks": ""
             }
            },
            "type": "scattercarpet"
           }
          ],
          "scattergeo": [
           {
            "marker": {
             "colorbar": {
              "outlinewidth": 0,
              "ticks": ""
             }
            },
            "type": "scattergeo"
           }
          ],
          "scattergl": [
           {
            "marker": {
             "colorbar": {
              "outlinewidth": 0,
              "ticks": ""
             }
            },
            "type": "scattergl"
           }
          ],
          "scattermap": [
           {
            "marker": {
             "colorbar": {
              "outlinewidth": 0,
              "ticks": ""
             }
            },
            "type": "scattermap"
           }
          ],
          "scattermapbox": [
           {
            "marker": {
             "colorbar": {
              "outlinewidth": 0,
              "ticks": ""
             }
            },
            "type": "scattermapbox"
           }
          ],
          "scatterpolar": [
           {
            "marker": {
             "colorbar": {
              "outlinewidth": 0,
              "ticks": ""
             }
            },
            "type": "scatterpolar"
           }
          ],
          "scatterpolargl": [
           {
            "marker": {
             "colorbar": {
              "outlinewidth": 0,
              "ticks": ""
             }
            },
            "type": "scatterpolargl"
           }
          ],
          "scatterternary": [
           {
            "marker": {
             "colorbar": {
              "outlinewidth": 0,
              "ticks": ""
             }
            },
            "type": "scatterternary"
           }
          ],
          "surface": [
           {
            "colorbar": {
             "outlinewidth": 0,
             "ticks": ""
            },
            "colorscale": [
             [
              0,
              "#0d0887"
             ],
             [
              0.1111111111111111,
              "#46039f"
             ],
             [
              0.2222222222222222,
              "#7201a8"
             ],
             [
              0.3333333333333333,
              "#9c179e"
             ],
             [
              0.4444444444444444,
              "#bd3786"
             ],
             [
              0.5555555555555556,
              "#d8576b"
             ],
             [
              0.6666666666666666,
              "#ed7953"
             ],
             [
              0.7777777777777778,
              "#fb9f3a"
             ],
             [
              0.8888888888888888,
              "#fdca26"
             ],
             [
              1,
              "#f0f921"
             ]
            ],
            "type": "surface"
           }
          ],
          "table": [
           {
            "cells": {
             "fill": {
              "color": "#EBF0F8"
             },
             "line": {
              "color": "white"
             }
            },
            "header": {
             "fill": {
              "color": "#C8D4E3"
             },
             "line": {
              "color": "white"
             }
            },
            "type": "table"
           }
          ]
         },
         "layout": {
          "annotationdefaults": {
           "arrowcolor": "#2a3f5f",
           "arrowhead": 0,
           "arrowwidth": 1
          },
          "autotypenumbers": "strict",
          "coloraxis": {
           "colorbar": {
            "outlinewidth": 0,
            "ticks": ""
           }
          },
          "colorscale": {
           "diverging": [
            [
             0,
             "#8e0152"
            ],
            [
             0.1,
             "#c51b7d"
            ],
            [
             0.2,
             "#de77ae"
            ],
            [
             0.3,
             "#f1b6da"
            ],
            [
             0.4,
             "#fde0ef"
            ],
            [
             0.5,
             "#f7f7f7"
            ],
            [
             0.6,
             "#e6f5d0"
            ],
            [
             0.7,
             "#b8e186"
            ],
            [
             0.8,
             "#7fbc41"
            ],
            [
             0.9,
             "#4d9221"
            ],
            [
             1,
             "#276419"
            ]
           ],
           "sequential": [
            [
             0,
             "#0d0887"
            ],
            [
             0.1111111111111111,
             "#46039f"
            ],
            [
             0.2222222222222222,
             "#7201a8"
            ],
            [
             0.3333333333333333,
             "#9c179e"
            ],
            [
             0.4444444444444444,
             "#bd3786"
            ],
            [
             0.5555555555555556,
             "#d8576b"
            ],
            [
             0.6666666666666666,
             "#ed7953"
            ],
            [
             0.7777777777777778,
             "#fb9f3a"
            ],
            [
             0.8888888888888888,
             "#fdca26"
            ],
            [
             1,
             "#f0f921"
            ]
           ],
           "sequentialminus": [
            [
             0,
             "#0d0887"
            ],
            [
             0.1111111111111111,
             "#46039f"
            ],
            [
             0.2222222222222222,
             "#7201a8"
            ],
            [
             0.3333333333333333,
             "#9c179e"
            ],
            [
             0.4444444444444444,
             "#bd3786"
            ],
            [
             0.5555555555555556,
             "#d8576b"
            ],
            [
             0.6666666666666666,
             "#ed7953"
            ],
            [
             0.7777777777777778,
             "#fb9f3a"
            ],
            [
             0.8888888888888888,
             "#fdca26"
            ],
            [
             1,
             "#f0f921"
            ]
           ]
          },
          "colorway": [
           "#636efa",
           "#EF553B",
           "#00cc96",
           "#ab63fa",
           "#FFA15A",
           "#19d3f3",
           "#FF6692",
           "#B6E880",
           "#FF97FF",
           "#FECB52"
          ],
          "font": {
           "color": "#2a3f5f"
          },
          "geo": {
           "bgcolor": "white",
           "lakecolor": "white",
           "landcolor": "#E5ECF6",
           "showlakes": true,
           "showland": true,
           "subunitcolor": "white"
          },
          "hoverlabel": {
           "align": "left"
          },
          "hovermode": "closest",
          "mapbox": {
           "style": "light"
          },
          "paper_bgcolor": "white",
          "plot_bgcolor": "#E5ECF6",
          "polar": {
           "angularaxis": {
            "gridcolor": "white",
            "linecolor": "white",
            "ticks": ""
           },
           "bgcolor": "#E5ECF6",
           "radialaxis": {
            "gridcolor": "white",
            "linecolor": "white",
            "ticks": ""
           }
          },
          "scene": {
           "xaxis": {
            "backgroundcolor": "#E5ECF6",
            "gridcolor": "white",
            "gridwidth": 2,
            "linecolor": "white",
            "showbackground": true,
            "ticks": "",
            "zerolinecolor": "white"
           },
           "yaxis": {
            "backgroundcolor": "#E5ECF6",
            "gridcolor": "white",
            "gridwidth": 2,
            "linecolor": "white",
            "showbackground": true,
            "ticks": "",
            "zerolinecolor": "white"
           },
           "zaxis": {
            "backgroundcolor": "#E5ECF6",
            "gridcolor": "white",
            "gridwidth": 2,
            "linecolor": "white",
            "showbackground": true,
            "ticks": "",
            "zerolinecolor": "white"
           }
          },
          "shapedefaults": {
           "line": {
            "color": "#2a3f5f"
           }
          },
          "ternary": {
           "aaxis": {
            "gridcolor": "white",
            "linecolor": "white",
            "ticks": ""
           },
           "baxis": {
            "gridcolor": "white",
            "linecolor": "white",
            "ticks": ""
           },
           "bgcolor": "#E5ECF6",
           "caxis": {
            "gridcolor": "white",
            "linecolor": "white",
            "ticks": ""
           }
          },
          "title": {
           "x": 0.05
          },
          "xaxis": {
           "automargin": true,
           "gridcolor": "white",
           "linecolor": "white",
           "ticks": "",
           "title": {
            "standoff": 15
           },
           "zerolinecolor": "white",
           "zerolinewidth": 2
          },
          "yaxis": {
           "automargin": true,
           "gridcolor": "white",
           "linecolor": "white",
           "ticks": "",
           "title": {
            "standoff": 15
           },
           "zerolinecolor": "white",
           "zerolinewidth": 2
          }
         }
        },
        "xaxis": {
         "anchor": "y",
         "domain": [
          0,
          1
         ],
         "title": {
          "text": "TIME_PERIOD"
         }
        },
        "yaxis": {
         "anchor": "x",
         "domain": [
          0,
          1
         ],
         "title": {
          "text": "energy_consumption_PC_kwh"
         }
        }
       }
      }
     },
     "metadata": {},
     "output_type": "display_data"
    }
   ],
   "source": [
    "def calculate_energy_consumption_per_capita(df):\n",
    "    df['energy_consumption_PC_kwh'] = df['energy_consumption_gwh'] / df['population'] * 1000000\n",
    "    return df\n",
    "\n",
    "dataset_by_country = nrg_bal.data.groupby(['TIME_PERIOD', 'geo'])['OBS_VALUE'].sum().reset_index()\n",
    "\n",
    "consumption_pc_by_country = dataset_by_country.merge(demo_pjan.data, on=['TIME_PERIOD', 'geo'], how='inner')\n",
    "\n",
    "consumption_pc_by_country.rename(columns={'OBS_VALUE_x': 'energy_consumption_gwh', 'OBS_VALUE_y': 'population'}, inplace=True)\n",
    "\n",
    "consumption_pc_by_country = calculate_energy_consumption_per_capita(consumption_pc_by_country)\n",
    "\n",
    "fig = px.line(consumption_pc_by_country, x='TIME_PERIOD', y='energy_consumption_PC_kwh', color='geo')\n",
    "fig.show()"
   ]
  },
  {
   "cell_type": "markdown",
   "metadata": {},
   "source": [
    "Key observations:\n",
    "\n",
    "- Luxembourg (LU, green line) shows significantly higher per capita energy consumption than the others, peaking around 2005 at nearly 100,000 kWh per person before declining substantially to around 50,000 kWh by 2022\n",
    "- Malta (MT, orange line) shows the lowest consumption eith 12,000 kWh per capita\n",
    "- Most other EU countries cluster in the 15,000-40,000 kWh range\n",
    "- There's a general downward trend in per capita energy consumption across most countries after 2005-2010\n",
    "- A particularly noticeable decline occurs after 2020, likely due to COVID-19 impacts\n",
    "- Countries show varying patterns of efficiency improvement, with the Luxembourg showing the most dramatic reduction"
   ]
  },
  {
   "cell_type": "markdown",
   "metadata": {},
   "source": [
    "Finally, we are generating a Sankey diagram to see what sector consumes what type of energy for the year 2022."
   ]
  },
  {
   "cell_type": "code",
   "execution_count": 8,
   "metadata": {},
   "outputs": [
    {
     "data": {
      "application/vnd.plotly.v1+json": {
       "config": {
        "plotlyServerURL": "https://plot.ly"
       },
       "data": [
        {
         "link": {
          "source": [
           0,
           0,
           0,
           0,
           0,
           0,
           0,
           8,
           8,
           8,
           8,
           8,
           8,
           8,
           9,
           9,
           9,
           9,
           9,
           9,
           9,
           10,
           10,
           10,
           10,
           10,
           10,
           10,
           11,
           11,
           11,
           11,
           11,
           11,
           11,
           12,
           12,
           12,
           12,
           12,
           12,
           12,
           13,
           13,
           13,
           13,
           13,
           13,
           13,
           14,
           14,
           14,
           14,
           14,
           14,
           14,
           15,
           15,
           15,
           15,
           15,
           15,
           15,
           16,
           16,
           16,
           16,
           16,
           16,
           16,
           17,
           17,
           17,
           17,
           17,
           17,
           17
          ],
          "target": [
           1,
           2,
           3,
           4,
           5,
           6,
           7,
           1,
           2,
           3,
           4,
           5,
           6,
           7,
           1,
           2,
           3,
           4,
           5,
           6,
           7,
           1,
           2,
           3,
           4,
           5,
           6,
           7,
           1,
           2,
           3,
           4,
           5,
           6,
           7,
           1,
           2,
           3,
           4,
           5,
           6,
           7,
           1,
           2,
           3,
           4,
           5,
           6,
           7,
           1,
           2,
           3,
           4,
           5,
           6,
           7,
           1,
           2,
           3,
           4,
           5,
           6,
           7,
           1,
           2,
           3,
           4,
           5,
           6,
           7,
           1,
           2,
           3,
           4,
           5,
           6,
           7
          ],
          "value": [
           119448.84500000003,
           6056.6849999999995,
           5008.197,
           0.397,
           63646.38599999999,
           900.513,
           5.322,
           50892.44899999999,
           0,
           121.164,
           0,
           0,
           0,
           0,
           869017.161,
           47147.574,
           714457.6830000001,
           714.619,
           707529.3,
           2651.43,
           65419.123999999996,
           830858.323,
           36227.171,
           370406.248,
           169.85500000000002,
           865896.9600000001,
           1350.999,
           38721.042,
           148627.195,
           2550.2670000000003,
           108062.314,
           0.543,
           230719.05599999998,
           523.1709999999999,
           0,
           0,
           0,
           0,
           0,
           0,
           0,
           0,
           288842.821,
           180570.36399999997,
           95710.673,
           14597.116,
           302969.29900000006,
           23534.713,
           2964447.864,
           838.498,
           524.224,
           114.225,
           0,
           2068.848,
           0,
           0,
           274607.13999999996,
           37847.361,
           110286.98799999998,
           437.015,
           645139.4880000001,
           18697.16,
           194764.74,
           0,
           0,
           0,
           0,
           0,
           0,
           0,
           55257.589,
           1.3989999999999998,
           3688.038,
           0,
           0,
           3.056,
           0
          ]
         },
         "node": {
          "color": "blue",
          "label": [
           "Solid fossil fuels",
           "Final consumption - industry sector - energy use",
           "Final consumption - other sectors - agriculture and forestry - energy use",
           "Final consumption - other sectors - commercial and public services - energy use",
           "Final consumption - other sectors - fishing - energy use",
           "Final consumption - other sectors - households - energy use",
           "Final consumption - other sectors - not elsewhere specified - energy use",
           "Final consumption - transport sector - energy use",
           "Manufactured gases",
           "Electricity",
           "Natural gas",
           "Heat",
           "Nuclear heat",
           "Oil and petroleum products (excluding biofuel portion)",
           "Peat and peat products",
           "Renewables and biofuels",
           "Oil shale and oil sands",
           "Non-renewable waste"
          ],
          "line": {
           "color": "black",
           "width": 0.5
          },
          "pad": 15,
          "thickness": 20
         },
         "type": "sankey"
        }
       ],
       "layout": {
        "font": {
         "size": 10
        },
        "template": {
         "data": {
          "bar": [
           {
            "error_x": {
             "color": "#2a3f5f"
            },
            "error_y": {
             "color": "#2a3f5f"
            },
            "marker": {
             "line": {
              "color": "#E5ECF6",
              "width": 0.5
             },
             "pattern": {
              "fillmode": "overlay",
              "size": 10,
              "solidity": 0.2
             }
            },
            "type": "bar"
           }
          ],
          "barpolar": [
           {
            "marker": {
             "line": {
              "color": "#E5ECF6",
              "width": 0.5
             },
             "pattern": {
              "fillmode": "overlay",
              "size": 10,
              "solidity": 0.2
             }
            },
            "type": "barpolar"
           }
          ],
          "carpet": [
           {
            "aaxis": {
             "endlinecolor": "#2a3f5f",
             "gridcolor": "white",
             "linecolor": "white",
             "minorgridcolor": "white",
             "startlinecolor": "#2a3f5f"
            },
            "baxis": {
             "endlinecolor": "#2a3f5f",
             "gridcolor": "white",
             "linecolor": "white",
             "minorgridcolor": "white",
             "startlinecolor": "#2a3f5f"
            },
            "type": "carpet"
           }
          ],
          "choropleth": [
           {
            "colorbar": {
             "outlinewidth": 0,
             "ticks": ""
            },
            "type": "choropleth"
           }
          ],
          "contour": [
           {
            "colorbar": {
             "outlinewidth": 0,
             "ticks": ""
            },
            "colorscale": [
             [
              0,
              "#0d0887"
             ],
             [
              0.1111111111111111,
              "#46039f"
             ],
             [
              0.2222222222222222,
              "#7201a8"
             ],
             [
              0.3333333333333333,
              "#9c179e"
             ],
             [
              0.4444444444444444,
              "#bd3786"
             ],
             [
              0.5555555555555556,
              "#d8576b"
             ],
             [
              0.6666666666666666,
              "#ed7953"
             ],
             [
              0.7777777777777778,
              "#fb9f3a"
             ],
             [
              0.8888888888888888,
              "#fdca26"
             ],
             [
              1,
              "#f0f921"
             ]
            ],
            "type": "contour"
           }
          ],
          "contourcarpet": [
           {
            "colorbar": {
             "outlinewidth": 0,
             "ticks": ""
            },
            "type": "contourcarpet"
           }
          ],
          "heatmap": [
           {
            "colorbar": {
             "outlinewidth": 0,
             "ticks": ""
            },
            "colorscale": [
             [
              0,
              "#0d0887"
             ],
             [
              0.1111111111111111,
              "#46039f"
             ],
             [
              0.2222222222222222,
              "#7201a8"
             ],
             [
              0.3333333333333333,
              "#9c179e"
             ],
             [
              0.4444444444444444,
              "#bd3786"
             ],
             [
              0.5555555555555556,
              "#d8576b"
             ],
             [
              0.6666666666666666,
              "#ed7953"
             ],
             [
              0.7777777777777778,
              "#fb9f3a"
             ],
             [
              0.8888888888888888,
              "#fdca26"
             ],
             [
              1,
              "#f0f921"
             ]
            ],
            "type": "heatmap"
           }
          ],
          "histogram": [
           {
            "marker": {
             "pattern": {
              "fillmode": "overlay",
              "size": 10,
              "solidity": 0.2
             }
            },
            "type": "histogram"
           }
          ],
          "histogram2d": [
           {
            "colorbar": {
             "outlinewidth": 0,
             "ticks": ""
            },
            "colorscale": [
             [
              0,
              "#0d0887"
             ],
             [
              0.1111111111111111,
              "#46039f"
             ],
             [
              0.2222222222222222,
              "#7201a8"
             ],
             [
              0.3333333333333333,
              "#9c179e"
             ],
             [
              0.4444444444444444,
              "#bd3786"
             ],
             [
              0.5555555555555556,
              "#d8576b"
             ],
             [
              0.6666666666666666,
              "#ed7953"
             ],
             [
              0.7777777777777778,
              "#fb9f3a"
             ],
             [
              0.8888888888888888,
              "#fdca26"
             ],
             [
              1,
              "#f0f921"
             ]
            ],
            "type": "histogram2d"
           }
          ],
          "histogram2dcontour": [
           {
            "colorbar": {
             "outlinewidth": 0,
             "ticks": ""
            },
            "colorscale": [
             [
              0,
              "#0d0887"
             ],
             [
              0.1111111111111111,
              "#46039f"
             ],
             [
              0.2222222222222222,
              "#7201a8"
             ],
             [
              0.3333333333333333,
              "#9c179e"
             ],
             [
              0.4444444444444444,
              "#bd3786"
             ],
             [
              0.5555555555555556,
              "#d8576b"
             ],
             [
              0.6666666666666666,
              "#ed7953"
             ],
             [
              0.7777777777777778,
              "#fb9f3a"
             ],
             [
              0.8888888888888888,
              "#fdca26"
             ],
             [
              1,
              "#f0f921"
             ]
            ],
            "type": "histogram2dcontour"
           }
          ],
          "mesh3d": [
           {
            "colorbar": {
             "outlinewidth": 0,
             "ticks": ""
            },
            "type": "mesh3d"
           }
          ],
          "parcoords": [
           {
            "line": {
             "colorbar": {
              "outlinewidth": 0,
              "ticks": ""
             }
            },
            "type": "parcoords"
           }
          ],
          "pie": [
           {
            "automargin": true,
            "type": "pie"
           }
          ],
          "scatter": [
           {
            "fillpattern": {
             "fillmode": "overlay",
             "size": 10,
             "solidity": 0.2
            },
            "type": "scatter"
           }
          ],
          "scatter3d": [
           {
            "line": {
             "colorbar": {
              "outlinewidth": 0,
              "ticks": ""
             }
            },
            "marker": {
             "colorbar": {
              "outlinewidth": 0,
              "ticks": ""
             }
            },
            "type": "scatter3d"
           }
          ],
          "scattercarpet": [
           {
            "marker": {
             "colorbar": {
              "outlinewidth": 0,
              "ticks": ""
             }
            },
            "type": "scattercarpet"
           }
          ],
          "scattergeo": [
           {
            "marker": {
             "colorbar": {
              "outlinewidth": 0,
              "ticks": ""
             }
            },
            "type": "scattergeo"
           }
          ],
          "scattergl": [
           {
            "marker": {
             "colorbar": {
              "outlinewidth": 0,
              "ticks": ""
             }
            },
            "type": "scattergl"
           }
          ],
          "scattermap": [
           {
            "marker": {
             "colorbar": {
              "outlinewidth": 0,
              "ticks": ""
             }
            },
            "type": "scattermap"
           }
          ],
          "scattermapbox": [
           {
            "marker": {
             "colorbar": {
              "outlinewidth": 0,
              "ticks": ""
             }
            },
            "type": "scattermapbox"
           }
          ],
          "scatterpolar": [
           {
            "marker": {
             "colorbar": {
              "outlinewidth": 0,
              "ticks": ""
             }
            },
            "type": "scatterpolar"
           }
          ],
          "scatterpolargl": [
           {
            "marker": {
             "colorbar": {
              "outlinewidth": 0,
              "ticks": ""
             }
            },
            "type": "scatterpolargl"
           }
          ],
          "scatterternary": [
           {
            "marker": {
             "colorbar": {
              "outlinewidth": 0,
              "ticks": ""
             }
            },
            "type": "scatterternary"
           }
          ],
          "surface": [
           {
            "colorbar": {
             "outlinewidth": 0,
             "ticks": ""
            },
            "colorscale": [
             [
              0,
              "#0d0887"
             ],
             [
              0.1111111111111111,
              "#46039f"
             ],
             [
              0.2222222222222222,
              "#7201a8"
             ],
             [
              0.3333333333333333,
              "#9c179e"
             ],
             [
              0.4444444444444444,
              "#bd3786"
             ],
             [
              0.5555555555555556,
              "#d8576b"
             ],
             [
              0.6666666666666666,
              "#ed7953"
             ],
             [
              0.7777777777777778,
              "#fb9f3a"
             ],
             [
              0.8888888888888888,
              "#fdca26"
             ],
             [
              1,
              "#f0f921"
             ]
            ],
            "type": "surface"
           }
          ],
          "table": [
           {
            "cells": {
             "fill": {
              "color": "#EBF0F8"
             },
             "line": {
              "color": "white"
             }
            },
            "header": {
             "fill": {
              "color": "#C8D4E3"
             },
             "line": {
              "color": "white"
             }
            },
            "type": "table"
           }
          ]
         },
         "layout": {
          "annotationdefaults": {
           "arrowcolor": "#2a3f5f",
           "arrowhead": 0,
           "arrowwidth": 1
          },
          "autotypenumbers": "strict",
          "coloraxis": {
           "colorbar": {
            "outlinewidth": 0,
            "ticks": ""
           }
          },
          "colorscale": {
           "diverging": [
            [
             0,
             "#8e0152"
            ],
            [
             0.1,
             "#c51b7d"
            ],
            [
             0.2,
             "#de77ae"
            ],
            [
             0.3,
             "#f1b6da"
            ],
            [
             0.4,
             "#fde0ef"
            ],
            [
             0.5,
             "#f7f7f7"
            ],
            [
             0.6,
             "#e6f5d0"
            ],
            [
             0.7,
             "#b8e186"
            ],
            [
             0.8,
             "#7fbc41"
            ],
            [
             0.9,
             "#4d9221"
            ],
            [
             1,
             "#276419"
            ]
           ],
           "sequential": [
            [
             0,
             "#0d0887"
            ],
            [
             0.1111111111111111,
             "#46039f"
            ],
            [
             0.2222222222222222,
             "#7201a8"
            ],
            [
             0.3333333333333333,
             "#9c179e"
            ],
            [
             0.4444444444444444,
             "#bd3786"
            ],
            [
             0.5555555555555556,
             "#d8576b"
            ],
            [
             0.6666666666666666,
             "#ed7953"
            ],
            [
             0.7777777777777778,
             "#fb9f3a"
            ],
            [
             0.8888888888888888,
             "#fdca26"
            ],
            [
             1,
             "#f0f921"
            ]
           ],
           "sequentialminus": [
            [
             0,
             "#0d0887"
            ],
            [
             0.1111111111111111,
             "#46039f"
            ],
            [
             0.2222222222222222,
             "#7201a8"
            ],
            [
             0.3333333333333333,
             "#9c179e"
            ],
            [
             0.4444444444444444,
             "#bd3786"
            ],
            [
             0.5555555555555556,
             "#d8576b"
            ],
            [
             0.6666666666666666,
             "#ed7953"
            ],
            [
             0.7777777777777778,
             "#fb9f3a"
            ],
            [
             0.8888888888888888,
             "#fdca26"
            ],
            [
             1,
             "#f0f921"
            ]
           ]
          },
          "colorway": [
           "#636efa",
           "#EF553B",
           "#00cc96",
           "#ab63fa",
           "#FFA15A",
           "#19d3f3",
           "#FF6692",
           "#B6E880",
           "#FF97FF",
           "#FECB52"
          ],
          "font": {
           "color": "#2a3f5f"
          },
          "geo": {
           "bgcolor": "white",
           "lakecolor": "white",
           "landcolor": "#E5ECF6",
           "showlakes": true,
           "showland": true,
           "subunitcolor": "white"
          },
          "hoverlabel": {
           "align": "left"
          },
          "hovermode": "closest",
          "mapbox": {
           "style": "light"
          },
          "paper_bgcolor": "white",
          "plot_bgcolor": "#E5ECF6",
          "polar": {
           "angularaxis": {
            "gridcolor": "white",
            "linecolor": "white",
            "ticks": ""
           },
           "bgcolor": "#E5ECF6",
           "radialaxis": {
            "gridcolor": "white",
            "linecolor": "white",
            "ticks": ""
           }
          },
          "scene": {
           "xaxis": {
            "backgroundcolor": "#E5ECF6",
            "gridcolor": "white",
            "gridwidth": 2,
            "linecolor": "white",
            "showbackground": true,
            "ticks": "",
            "zerolinecolor": "white"
           },
           "yaxis": {
            "backgroundcolor": "#E5ECF6",
            "gridcolor": "white",
            "gridwidth": 2,
            "linecolor": "white",
            "showbackground": true,
            "ticks": "",
            "zerolinecolor": "white"
           },
           "zaxis": {
            "backgroundcolor": "#E5ECF6",
            "gridcolor": "white",
            "gridwidth": 2,
            "linecolor": "white",
            "showbackground": true,
            "ticks": "",
            "zerolinecolor": "white"
           }
          },
          "shapedefaults": {
           "line": {
            "color": "#2a3f5f"
           }
          },
          "ternary": {
           "aaxis": {
            "gridcolor": "white",
            "linecolor": "white",
            "ticks": ""
           },
           "baxis": {
            "gridcolor": "white",
            "linecolor": "white",
            "ticks": ""
           },
           "bgcolor": "#E5ECF6",
           "caxis": {
            "gridcolor": "white",
            "linecolor": "white",
            "ticks": ""
           }
          },
          "title": {
           "x": 0.05
          },
          "xaxis": {
           "automargin": true,
           "gridcolor": "white",
           "linecolor": "white",
           "ticks": "",
           "title": {
            "standoff": 15
           },
           "zerolinecolor": "white",
           "zerolinewidth": 2
          },
          "yaxis": {
           "automargin": true,
           "gridcolor": "white",
           "linecolor": "white",
           "ticks": "",
           "title": {
            "standoff": 15
           },
           "zerolinecolor": "white",
           "zerolinewidth": 2
          }
         }
        },
        "title": {
         "text": "Source of energy by sectors"
        }
       }
      }
     },
     "metadata": {},
     "output_type": "display_data"
    }
   ],
   "source": [
    "df = nrg_bal.data.merge(demo_pjan.data, on=['TIME_PERIOD', 'geo'], how='inner')\n",
    "df.rename(columns={'OBS_VALUE_x': 'energy_consumption_gwh', 'OBS_VALUE_y': 'population'}, inplace=True)\n",
    "df = df[(df['TIME_PERIOD'] == 2022)]\n",
    "\n",
    "sources = df['siec_label'].unique()\n",
    "targets = df['nrg_bal_label'].unique()\n",
    "\n",
    "labels = []\n",
    "source = []\n",
    "target = []\n",
    "value = []\n",
    "\n",
    "index = 0\n",
    "index_dict = {}\n",
    "\n",
    "for s in sources:\n",
    "    labels.append(s)\n",
    "    index_dict[s] = index\n",
    "    index += 1\n",
    "\n",
    "    for t in targets:\n",
    "        if t not in index_dict:\n",
    "            labels.append(t)\n",
    "            index_dict[t] = index\n",
    "            index += 1\n",
    "        source.append(index_dict[s])\n",
    "        target.append(index_dict[t])\n",
    "        value.append(df[(df['siec_label'] == s) & (df['nrg_bal_label'] == t)]['energy_consumption_gwh'].sum())\n",
    "        \n",
    "    \n",
    "\n",
    "\n",
    "fig = go.Figure(data=[go.Sankey(\n",
    "    node = dict(\n",
    "      pad = 15,\n",
    "      thickness = 20,\n",
    "      line = dict(color = \"black\", width = 0.5),\n",
    "      label = labels,\n",
    "      color = \"blue\"\n",
    "    ),\n",
    "    link = dict(\n",
    "      source = source,\n",
    "      target = target,\n",
    "      value = value\n",
    "  ))])\n",
    "\n",
    "fig.update_layout(title_text=\"Source of energy by sectors\", font_size=10)\n",
    "fig.show()"
   ]
  },
  {
   "cell_type": "markdown",
   "metadata": {},
   "source": [
    "The chart shows a Sankey diagram illustrating the flow of energy from different sources (left side) to various consuming sectors (right side).\n",
    "Key observations:\n",
    "\n",
    "- Oil and petroleum products (bottom left) flow primarily to the transport sector, representing the largest single energy flow in the diagram\n",
    "- Electricity (top left) distributes across multiple sectors, with significant flows to commercial/public services, industry, and households\n",
    "- Natural gas shows major flows to households and industry sectors\n",
    "- Renewables and biofuels connect to multiple sectors but appear to have smaller overall volumes\n",
    "- Households receive energy from multiple sources, particularly electricity, natural gas, and heat\n",
    "- The industry sector draws significantly from electricity and natural gas\n",
    "\n",
    "This visualization effectively demonstrates which energy sources power specific sectors of the economy, highlighting the oil-transport relationship and the versatility of electricity and natural gas in serving multiple sectors. It provides a comprehensive view of the energy system's structure and interdependencies that complements the time-series data shown in previous charts."
   ]
  }
 ],
 "metadata": {
  "kernelspec": {
   "display_name": "sdmx4ds-FdWyo-cS",
   "language": "python",
   "name": "python3"
  },
  "language_info": {
   "codemirror_mode": {
    "name": "ipython",
    "version": 3
   },
   "file_extension": ".py",
   "mimetype": "text/x-python",
   "name": "python",
   "nbconvert_exporter": "python",
   "pygments_lexer": "ipython3",
   "version": "3.11.9"
  }
 },
 "nbformat": 4,
 "nbformat_minor": 2
}
